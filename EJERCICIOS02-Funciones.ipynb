{
 "cells": [
  {
   "cell_type": "markdown",
   "metadata": {},
   "source": [
    "<img src=\"images/keepcoding.png\" width=200 align=\"left\">"
   ]
  },
  {
   "cell_type": "markdown",
   "metadata": {},
   "source": [
    "<img src=\"images/me.jpg\" width=150 align=\"right\">\n",
    "\n",
    "# Ejercicios de Funciones\n",
    "\n",
    "Autor: Carlos Moreno Morera\n",
    "\n",
    "Contacto: carlos.moreno@ibm.com\n",
    "\n",
    "Última revisión: 13/Jul/2022"
   ]
  },
  {
   "cell_type": "markdown",
   "metadata": {},
   "source": [
    "### Ejercicio 1:\n",
    "Implementar una función *imagen(f, Domf)* que dada cualquier función *f* y su dominio *Domf*, devuelva su conjunto imagen."
   ]
  },
  {
   "cell_type": "code",
   "execution_count": 1,
   "metadata": {},
   "outputs": [
    {
     "name": "stdout",
     "output_type": "stream",
     "text": [
      "{128, 1, 2, 256, 4, 512, 0.0009765625, 0.001953125, 8, 0.00390625, 0.0078125, 0.015625, 0.03125, 0.0625, 0.25, 0.125, 16, 0.5, 32, 64}\n"
     ]
    }
   ],
   "source": [
    "#1\n",
    "\n",
    "print(imagen(lambda x: 2**x, {n-10 for n in range(20)}))"
   ]
  },
  {
   "cell_type": "markdown",
   "metadata": {},
   "source": [
    "### Ejercicio 2:\n",
    "\n",
    "Implementa una función *igualdadim(f, Df, g, Dg)* que dadas dos funciones *f* y *g* y sus dominios *Df* y *Dg* compare la igualdad de dichas funciones comparando sus dominios y sus conjuntos imagen. Reflexiona sobre si es equivalente a la función *igualdad* implementada en clase y compruébalo (o rebátelo) con algunos ejemplos."
   ]
  },
  {
   "cell_type": "code",
   "execution_count": 1,
   "metadata": {},
   "outputs": [],
   "source": [
    "#2\n"
   ]
  },
  {
   "cell_type": "markdown",
   "metadata": {},
   "source": [
    "### Ejercicio 3:\n",
    "Implementar la función *essobreyectiva(f, Dom, Codm)* que dada una función *f* su dominio *Dom* y su codominio *Codm* verifique si la función es sobreyectiva."
   ]
  },
  {
   "cell_type": "code",
   "execution_count": 2,
   "metadata": {},
   "outputs": [],
   "source": [
    "#3\n"
   ]
  },
  {
   "cell_type": "markdown",
   "metadata": {},
   "source": [
    "### Ejercicio 4:\n",
    "Implementar la función *esbiyectiva(f, Dom, Codm)* que dada una función *f* su dominio *Dom* y su codominio *Codm* verifique si la función es biyectiva"
   ]
  },
  {
   "cell_type": "code",
   "execution_count": 4,
   "metadata": {},
   "outputs": [],
   "source": [
    "#4\n"
   ]
  },
  {
   "cell_type": "markdown",
   "metadata": {},
   "source": [
    "### ♦️Ejercicio 5:\n",
    "Implementar la función *inversa(f, Dom, Codm)* que dada una función *f* su dominio *Dom* y su codominio *Codm* verifique si la función es biyectiva. Si no lo es indique el mensaje \"La función no tiene inversa\". En caso de que sea biyectiva, la función debe devolver la inversa de *f*."
   ]
  },
  {
   "cell_type": "code",
   "execution_count": 5,
   "metadata": {},
   "outputs": [],
   "source": [
    "#5\n"
   ]
  },
  {
   "cell_type": "markdown",
   "metadata": {},
   "source": [
    "### Ejercicio 6:\n",
    "Utilizando la implementación de `set` con funciones hash vista en clase, implementar la función *elimina(e, s)* que dado un conjunto *s* y un elemento *e*, elimine el elemento del conjunto solo cuando pertenezca al mismo. En caso de no pertenecer al mismo, debe mostrarse un mensaje por pantalla indicando que no se puede eliminar porque el elemento no pertenece al conjunto."
   ]
  },
  {
   "cell_type": "code",
   "execution_count": 3,
   "metadata": {},
   "outputs": [],
   "source": [
    "#6\n"
   ]
  },
  {
   "cell_type": "markdown",
   "metadata": {},
   "source": [
    "### Ejercicio 7:\n",
    "Utilizando la implementación de `set` con funciones hash vista en clase, implementar una función *vaciar(s)* que dado un conjunto *s*, elimine todos sus elementos."
   ]
  },
  {
   "cell_type": "code",
   "execution_count": 4,
   "metadata": {},
   "outputs": [],
   "source": [
    "#7\n"
   ]
  },
  {
   "cell_type": "markdown",
   "metadata": {},
   "source": [
    "### Ejercicio 8:\n",
    "Volver a implementar la función *conjunto(datos)* vista en clase, pero en esta ocasión puede recibir un parámetro *datos* (que puede ser una lista, un conjunto o cualquier estructura de datos iterable) que son los elementos con los que debe inicializarse el conjunto."
   ]
  },
  {
   "cell_type": "code",
   "execution_count": 8,
   "metadata": {},
   "outputs": [
    {
     "name": "stdout",
     "output_type": "stream",
     "text": [
      "{0, 1, 2, 3, 4, 5, 6, 7, 8, 9, 10, 11, 12, 13, 14, 15, 16, 17, 18, 19, 20, 21, 22, 23, 24, 25, 26, 27, 28, 29, 30, 31, 32, 33, 34, 35, 36, 37, 38, 39, 40, 41, 42, 43, 44, 45, 46, 47, 48, 49, 50, 51, 52, 53, 54, 55, 56, 57, 58, 59, 60, 61, 62, 63, 64, 65, 66, 67, 68, 69, 70, 71, 72, 73, 74, 75, 76, 77, 78, 79, 80, 81, 82, 83, 84, 85, 86, 87, 88, 89, 90, 91, 92, 93, 94, 95, 96, 97, 98, 99}\n"
     ]
    }
   ],
   "source": [
    "#8\n",
    "\n",
    "\n",
    "print_set(conjunto([n for n in range(100)]))"
   ]
  },
  {
   "cell_type": "markdown",
   "metadata": {},
   "source": [
    "### Ejercicio 9:\n",
    "Utilizando la implementación de `set` con funciones hash vista en clase, implementar la función *cardinal(s)* que dado un conjunto *s* devuelva su cardinal."
   ]
  },
  {
   "cell_type": "code",
   "execution_count": 9,
   "metadata": {},
   "outputs": [
    {
     "name": "stdout",
     "output_type": "stream",
     "text": [
      "100\n"
     ]
    }
   ],
   "source": [
    "#9\n",
    "\n",
    "\n",
    "print(cardinal(conjunto([n for n in range(100)])))"
   ]
  },
  {
   "cell_type": "markdown",
   "metadata": {},
   "source": [
    "### Ejercicio 10:\n",
    "Utilizando la implementación de `set` con funciones hash vista en clase, implementar la función *union(s1, s2)* que dados dos conjuntos *s1* y *s2* devuelva el conjunto unión."
   ]
  },
  {
   "cell_type": "code",
   "execution_count": 10,
   "metadata": {},
   "outputs": [
    {
     "name": "stdout",
     "output_type": "stream",
     "text": [
      "{0, 1, 2, 3, 4, 5, 6, 7, 8, 9, 10, 11, 12, 13, 14, 15, 16, 17, 18, 19, 20, 21, 22, 23, 24, 25, 26, 27, 28, 29, 30, 31, 32, 33, 34, 35, 36, 37, 38, 39, 40, 41, 42, 43, 44, 45, 46, 47, 48, 49, 50, 51, 52, 53, 54, 55, 56, 57, 58, 59, 60, 61, 62, 63, 64, 65, 66, 67, 68, 69, 70, 71, 72, 73, 74, 75, 76, 77, 78, 79, 80, 81, 82, 83, 84, 85, 86, 87, 88, 89, 90, 91, 92, 93, 94, 95, 96, 97, 98, 99, 100, 101, 102, 103, 104, 105, 106, 107, 108, 109}\n"
     ]
    }
   ],
   "source": [
    "#10\n",
    "\n",
    "\n",
    "s1 = conjunto([n for n in range(100)])\n",
    "s2 = conjunto([n for n in range(50, 110)])\n",
    "print_set(union(s1, s2))"
   ]
  }
 ],
 "metadata": {
  "kernelspec": {
   "display_name": "Python 3 (ipykernel)",
   "language": "python",
   "name": "python3"
  },
  "language_info": {
   "codemirror_mode": {
    "name": "ipython",
    "version": 3
   },
   "file_extension": ".py",
   "mimetype": "text/x-python",
   "name": "python",
   "nbconvert_exporter": "python",
   "pygments_lexer": "ipython3",
   "version": "3.8.8"
  }
 },
 "nbformat": 4,
 "nbformat_minor": 4
}
