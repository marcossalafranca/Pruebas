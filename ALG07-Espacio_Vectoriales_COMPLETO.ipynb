{
 "cells": [
  {
   "cell_type": "markdown",
   "metadata": {},
   "source": [
    "# Espacio Vectoriales\n",
    "\n",
    "Una vez que ya hemos hablado de vectores podemos tratar los __espacios vectoriales__. Los espacios vectoriales son probablemente las estructuras matemáticas más comunes que podemos encontrar. Todos los fenómenos calificados como *\"lineales\"* en multitud de contextos están vinculados de algún modo a un espacio vectorial, lo que da una idea de su importancia. \n",
    "\n",
    "## 4.1- La Estructura del Espacio Vectorial\n",
    "\n",
    "Un __espacio vectorial__ es un conjunto no vacío $V$ de objetos, llamados __vectores__, en el que se han definido dos operaciones: la __suma__ y el __producto por un escalar__ (número real) sujetas a diez axiomas aquí [definidos](https://es.wikipedia.org/wiki/Espacio_vectorial#Definición_de_espacio_vectorial)\n",
    "\n",
    "y con las siguientes propiedades: \n",
    "\n",
    "Para la __suma__:\n",
    "+ Propiedad asociativa: \n",
    "<center>$u + (v+w) = (u+v) + w \\;\\;\\;\\; \\forall u, v, w \\in V$</center>\n",
    "\n",
    "+ Propiedad conmutativa: \n",
    "<center>$u + v = v + u \\;\\;\\;\\; \\forall u, v \\in V$</center>\n",
    "\n",
    "+ Existencia del elemento neutro:\n",
    "<center>Existe $u \\in V$ tal que $u + 0 = 0 + u = u \\;\\;\\;\\; \\forall u \\in V  $</center>\n",
    "\n",
    "+ Existencia del elemento opuesto:\n",
    "<center>Existe $u \\in V$ tal que $u + (-u) = 0 \\;\\;\\;\\; \\forall u \\in V  $</center>\n",
    "\n",
    "Para el __producto por un escalar__:\n",
    "+ Propiedad asociativa:\n",
    "<center>$\\alpha \\cdot (\\beta \\cdot u) = (\\alpha\\beta) \\cdot u$</center>\n",
    "    \n",
    "+ Existencia del elemento neutro:\n",
    "<center>$1 \\cdot u = u \\;\\;\\;\\; \\forall u \\in V$</center>\n",
    "\n",
    "+ Propiedad distributiva del producto respecto la suma de vectores:\n",
    "<center>$\\lambda \\cdot (u+v) = \\lambda \\cdot u + \\lambda \\cdot v \\;\\;\\;\\; \\forall u,v \\in V \\;\\;\\; and \\;\\;\\; \\forall \\lambda \\in K$</center>\n",
    "\n",
    "+ Propiedad distributiva del producto respecto la suma de escalares: \n",
    "<center>$(\\lambda + \\mu) \\cdot u = \\lambda \\cdot v + \\mu \\cdot u \\;\\;\\;\\; \\forall u \\in V \\;\\;\\; and \\;\\;\\; \\forall\\lambda,\\mu \\in K$</center>"
   ]
  },
  {
   "cell_type": "markdown",
   "metadata": {},
   "source": [
    "## 4.2- Combinaciones lineales\n",
    "\n",
    "Dados los vectores $v_1, v_2, ... , v_j$ en $\\mathbb{V}$ y los escalares $c_1, c_2, ... , c_j$ en $\\mathbb{K}$, el vector $y$ definido por:<br><br>\n",
    "\n",
    "<center>$y = c_1 v_1 + ··· + c_j v_j$</center>\n",
    "\n",
    "se llama **combinación lineal**. \n",
    "\n",
    "Una __combinación lineal__ no es más que una expresión matemática construida sobre un conjunto de vectores, en el que cada vector es multiplicado por un escalar y los resultados son luego sumados. Matemáticamente lo podemos expresar de la siguiente forma:<br><br>\n",
    "\n",
    "<center>$w = \\alpha_1v_1 + \\alpha_2v_2 + ... \\alpha_nv_n = {\\displaystyle \\sum _{\\begin{smallmatrix}\\alpha \\in A\\\\v\\in V\\end{smallmatrix}}\\alpha b.}$</center>\n",
    "\n",
    "En una combinación lineal, los coeficientes pueden ser cualesquiera números reales, incluso el cero."
   ]
  },
  {
   "cell_type": "markdown",
   "metadata": {},
   "source": [
    "<div class=\"alert alert-success\">\n",
    "    <b>Ejercicio:</b> Dados los vectores <b>$\\vec{x} = (1, 2)$</b> y <b>$\\vec{y} = (1, -1)$</b>, hallar el vector combinación lineal <b>$\\vec{z} = 2\\vec{x} + 3\\vec{y}$</b>\n",
    "</div>"
   ]
  },
  {
   "cell_type": "code",
   "execution_count": 5,
   "metadata": {},
   "outputs": [],
   "source": [
    "import numpy as np\n",
    "\n",
    "v1 = np.array([1, 2])\n",
    "v2 = np.array([1, -1])\n",
    "\n",
    "z = 2*v1 + 3*v2"
   ]
  },
  {
   "cell_type": "code",
   "execution_count": 6,
   "metadata": {},
   "outputs": [
    {
     "data": {
      "text/plain": [
       "array([5, 1])"
      ]
     },
     "execution_count": 6,
     "metadata": {},
     "output_type": "execute_result"
    }
   ],
   "source": [
    "z"
   ]
  },
  {
   "cell_type": "markdown",
   "metadata": {},
   "source": [
    "### Visualización"
   ]
  },
  {
   "cell_type": "markdown",
   "metadata": {},
   "source": [
    "Vamos a tratar de visualizar que está sucediendo cuando estamos realizando calculando un vector que es combinación lineal de otros dos. En este caso vamos a usar los vectores del ejemplo anterior.\n",
    "\n",
    "<center>$\\vec{x} = (1, 2)$</b> y <b>$\\vec{y} = (1, -1)$</center><br>\n",
    "<center>$\\vec{z} = 2\\vec{x} + 3\\vec{y}$</center>"
   ]
  },
  {
   "cell_type": "code",
   "execution_count": 7,
   "metadata": {},
   "outputs": [],
   "source": [
    "%matplotlib inline\n",
    "\n",
    "import matplotlib.pyplot as plt\n",
    "import numpy as np\n",
    "import scipy.sparse as sp\n",
    "import scipy.sparse.linalg\n",
    "import scipy.linalg as la\n",
    "import sympy\n",
    "\n",
    "# imprimir con notación matemática.\n",
    "sympy.init_printing(use_latex='mathjax')"
   ]
  },
  {
   "cell_type": "markdown",
   "metadata": {},
   "source": [
    "Funciones para visualizar los vectores"
   ]
  },
  {
   "cell_type": "code",
   "execution_count": 8,
   "metadata": {},
   "outputs": [],
   "source": [
    "def move_spines():\n",
    "    \"\"\"Crea la figura de pyplot y los ejes. Mueve las lineas de la izquierda \n",
    "    y de abajo para que se intersecten con el origen. Elimina las lineas de\n",
    "    la derecha y la de arriba. Devuelve los ejes.\"\"\"\n",
    "    fix, ax = plt.subplots()\n",
    "    for spine in [\"left\", \"bottom\"]:\n",
    "        ax.spines[spine].set_position(\"zero\")\n",
    "    \n",
    "    for spine in [\"right\", \"top\"]:\n",
    "        ax.spines[spine].set_color(\"none\")\n",
    "    \n",
    "    return ax\n",
    "\n",
    "def vect_fig(vector, color): \n",
    "    \"\"\"Genera el grafico de los vectores en el plano\"\"\"\n",
    "    v = vector\n",
    "    ax.annotate(\" \", xy=v, xytext=[0, 0], color=color,\n",
    "                arrowprops=dict(facecolor=color,\n",
    "                                shrink=0,\n",
    "                                alpha=0.7,\n",
    "                                width=0.5))\n",
    "    ax.text(1.1 * v[0], 1.1 * v[1], v)"
   ]
  },
  {
   "cell_type": "markdown",
   "metadata": {},
   "source": [
    "Para el ejercicio anterior:"
   ]
  },
  {
   "cell_type": "code",
   "execution_count": 9,
   "metadata": {},
   "outputs": [
    {
     "name": "stdout",
     "output_type": "stream",
     "text": [
      "[1 2]\n",
      "[ 1 -1]\n",
      "[5 1]\n"
     ]
    }
   ],
   "source": [
    "print(v1)\n",
    "print(v2)\n",
    "print(z)"
   ]
  },
  {
   "cell_type": "markdown",
   "metadata": {},
   "source": [
    "Ahora, en vez de sumar las componentes directamente vamos a guardar en la variable __z1__ y __z2__ los resultados"
   ]
  },
  {
   "cell_type": "code",
   "execution_count": 10,
   "metadata": {},
   "outputs": [
    {
     "name": "stdout",
     "output_type": "stream",
     "text": [
      "[2 4]\n",
      "[ 3 -3]\n"
     ]
    }
   ],
   "source": [
    "z1 = 2*v1\n",
    "z2 = 3*v2\n",
    "\n",
    "print(z1)\n",
    "print(z2)"
   ]
  },
  {
   "cell_type": "markdown",
   "metadata": {},
   "source": [
    "Graficamos las componentes del resultado anterior"
   ]
  },
  {
   "cell_type": "code",
   "execution_count": 11,
   "metadata": {},
   "outputs": [
    {
     "name": "stderr",
     "output_type": "stream",
     "text": [
      "/Users/alex/.pyenv/versions/3.8.3/lib/python3.8/site-packages/matplotlib/text.py:1215: FutureWarning: elementwise comparison failed; returning scalar instead, but in the future will perform elementwise comparison\n",
      "  if s != self._text:\n"
     ]
    },
    {
     "data": {
      "text/plain": [
       "[<matplotlib.lines.Line2D at 0x145d8cb80>]"
      ]
     },
     "execution_count": 11,
     "metadata": {},
     "output_type": "execute_result"
    },
    {
     "data": {
      "image/png": "[encoded data removed]",
      "text/plain": [
       "<Figure size 432x288 with 1 Axes>"
      ]
     },
     "metadata": {
      "needs_background": "light"
     },
     "output_type": "display_data"
    }
   ],
   "source": [
    "ax = move_spines()\n",
    "ax.set_xlim(-5, 5)\n",
    "ax.set_ylim(-5, 5)\n",
    "ax.grid()\n",
    "\n",
    "vecs = [z1, z2] # lista de vectores\n",
    "for v in vecs:\n",
    "    vect_fig(v, \"blue\")\n",
    "    \n",
    "# Dibujamos el vector resultante\n",
    "v = z1 + z2\n",
    "vect_fig(v, \"red\")\n",
    "\n",
    "ax.plot([z1[0], v[0]], [z1[1], v[1]], linestyle='--')\n",
    "ax.plot([z2[0], v[0]], [z2[1], v[1]], linestyle='--' )"
   ]
  },
  {
   "cell_type": "markdown",
   "metadata": {},
   "source": [
    "Que los vectores no estén centrados es por la función `spines` de matplotlib, hay que adjustar la escala y los límites de los axis para poder visualizarlo correctamente. Para el propósito de visualizar la __combinación lineal__ no es relevante."
   ]
  },
  {
   "cell_type": "markdown",
   "metadata": {},
   "source": [
    "## 4.3- Dependencia lineal de vectores\n",
    "\n",
    "Dado un conjunto finito de vectores $x_1, x_2, ..., x_n$ se dice que los mismos son linealmente independientes, si y solo si, los únicos escalares $α_1, α_2,..., α_n$ que satisfacen la ecuación:\n",
    "\n",
    "<center>$0 = \\alpha_1 x_1 + ··· + \\alpha_n x_n$</center>\n",
    "\n",
    "son todos ceros, $α_1 = α_2 =... = α_n = 0$.\n",
    "\n",
    "En caso de que no se cumpla, es decir, existe una solución a la ecuación anterior en la que no todos los escalares son ceros, a esta solución se llama no trivial y se dice que los vectores son __linealmente dependientes.__"
   ]
  },
  {
   "cell_type": "markdown",
   "metadata": {},
   "source": [
    "<div class=\"alert alert-success\">\n",
    "    <b>Ejercicio:</b> Entonces, teniendo en cuenta lo anterior, supongamos que queremos determinar si los siguientes vectores son linealmente independientes</b>\n",
    "    <p><center>$x_1 = [1.2, 1.1]$</center></p>\n",
    "    <p><center>$x_2 = [-2.2, 1.4]$</center></p>\n",
    "</div>"
   ]
  },
  {
   "cell_type": "markdown",
   "metadata": {},
   "source": [
    "Para calcular si son linealmente independientes, debemos resolver el siguiente sistema de ecuaciones y verificar si la única solución es aquella en que los escalares sean ceros.<br><br>\n",
    "\n",
    "<center>$\\alpha_1[1.2, 1.1] + \\alpha_2 [-2.2, 1.4] = 0$</center>\n",
    "\n",
    "Vamos a ver dos formas de resolverlo.\n",
    "\n",
    "#### Opción 1\n",
    "\n",
    "Usando la librería `sympy`"
   ]
  },
  {
   "cell_type": "code",
   "execution_count": null,
   "metadata": {},
   "outputs": [],
   "source": [
    "!pip install sympy"
   ]
  },
  {
   "cell_type": "code",
   "execution_count": 12,
   "metadata": {},
   "outputs": [
    {
     "data": {
      "text/latex": [
       "$\\displaystyle \\left\\{ \\alpha_{1} : 0.0, \\  \\alpha_{2} : 0.0\\right\\}$"
      ],
      "text/plain": [
       "{α₁: 0.0, α₂: 0.0}"
      ]
     },
     "execution_count": 12,
     "metadata": {},
     "output_type": "execute_result"
    }
   ],
   "source": [
    "import sympy as sp\n",
    "import numpy as np\n",
    "\n",
    "x = sp.Symbol('alpha1')\n",
    "y = sp.Symbol('alpha2')\n",
    "\n",
    "# Primeras componentes juntas, segundas componentes juntas\n",
    "resultado = sp.solve([1.2*x - 2.2*y, 1.1*x + 1.4*y], [x, y])\n",
    "resultado"
   ]
  },
  {
   "cell_type": "markdown",
   "metadata": {},
   "source": [
    "Alpha1 y alpha2 son ceros, por tanto podemos concluir que estos vectores:\n",
    "\n",
    "𝑥1=[1.2,1.1] \n",
    "𝑥2=[−2.2,1.4]\n",
    "\n",
    "Son linealmente INDEPENDIENTES"
   ]
  },
  {
   "cell_type": "markdown",
   "metadata": {},
   "source": [
    "#### Opción 2\n",
    "\n",
    "Usando la función `solve` de `numpy`"
   ]
  },
  {
   "cell_type": "code",
   "execution_count": 14,
   "metadata": {},
   "outputs": [
    {
     "data": {
      "text/plain": [
       "array([0., 0.])"
      ]
     },
     "execution_count": 14,
     "metadata": {},
     "output_type": "execute_result"
    }
   ],
   "source": [
    "A = np.array([[1.2, -2.2], [1.1, 1.4]])\n",
    "A\n",
    "\n",
    "b = np.array([0, 0])\n",
    "\n",
    "x = np.linalg.solve(A, b)\n",
    "x"
   ]
  },
  {
   "cell_type": "code",
   "execution_count": 15,
   "metadata": {},
   "outputs": [],
   "source": [
    "# Ax = b"
   ]
  },
  {
   "cell_type": "markdown",
   "metadata": {},
   "source": [
    "Como podemos ver por la solución numérica, estos vectores son linealmente independientes, ya que __la única solución a dicha ecuación, es aquella en que los escalares son cero.__"
   ]
  },
  {
   "cell_type": "markdown",
   "metadata": {},
   "source": [
    "<div class=\"alert alert-success\">\n",
    "    <b>Ejercicio:</b> Determinemos ahora si por ejemplo, los siguientes vectores son linealmente independientes</b>\n",
    "    <p><center>$x_1 = [3, 2, 2, 3]$</center></p>\n",
    "    <p><center>$x_2 = [3, 2, 1, 2]$</center></p>\n",
    "    <p><center>$x_3 = [3, 2, 0, 1]$</center></p>\n",
    "</div>\n",
    "\n",
    "La ecuación a resolver viene definida por: \n",
    "<center>$\\alpha_1[3, 2, 2, 3] + \\alpha_2 [3, 2, 1, 2] + \\alpha_3 [3, 2, 0, 1] = 0$</center>"
   ]
  },
  {
   "cell_type": "code",
   "execution_count": 16,
   "metadata": {},
   "outputs": [],
   "source": [
    "a1, a2, a3 = sp.symbols(\"a1, a2, a3\")\n",
    "\n",
    "A_matrix = sp.Matrix(((3, 3, 3, 0), (2, 2, 2, 0), (2, 1, 0, 0), (3, 2, 1, 0)))"
   ]
  },
  {
   "cell_type": "code",
   "execution_count": 17,
   "metadata": {},
   "outputs": [
    {
     "data": {
      "text/latex": [
       "$\\displaystyle \\left[\\begin{matrix}3 & 3 & 3 & 0\\\\2 & 2 & 2 & 0\\\\2 & 1 & 0 & 0\\\\3 & 2 & 1 & 0\\end{matrix}\\right]$"
      ],
      "text/plain": [
       "⎡3  3  3  0⎤\n",
       "⎢          ⎥\n",
       "⎢2  2  2  0⎥\n",
       "⎢          ⎥\n",
       "⎢2  1  0  0⎥\n",
       "⎢          ⎥\n",
       "⎣3  2  1  0⎦"
      ]
     },
     "execution_count": 17,
     "metadata": {},
     "output_type": "execute_result"
    }
   ],
   "source": [
    "A_matrix"
   ]
  },
  {
   "cell_type": "code",
   "execution_count": 18,
   "metadata": {},
   "outputs": [
    {
     "data": {
      "text/latex": [
       "$\\displaystyle \\left\\{ a_{1} : a_{3}, \\  a_{2} : - 2 a_{3}\\right\\}$"
      ],
      "text/plain": [
       "{a₁: a₃, a₂: -2⋅a₃}"
      ]
     },
     "execution_count": 18,
     "metadata": {},
     "output_type": "execute_result"
    }
   ],
   "source": [
    "sp.solve_linear_system(A_matrix, a1, a2, a3)"
   ]
  },
  {
   "cell_type": "code",
   "execution_count": 23,
   "metadata": {},
   "outputs": [
    {
     "name": "stdout",
     "output_type": "stream",
     "text": [
      "5 -10 5\n"
     ]
    }
   ],
   "source": [
    "a3 = 5\n",
    "a1 = a3\n",
    "a2 = -2*a3\n",
    "\n",
    "print(a1, a2, a3)"
   ]
  },
  {
   "cell_type": "markdown",
   "metadata": {},
   "source": [
    "Como vemos, esta solución es no trivial, ya que por ejemplo existe la solución $\\alpha_1=1$, $\\alpha_2=−2$, $\\alpha_3=1$ en la que los escalares no son ceros. __Por lo tanto este sistema es linealmente dependiente.__"
   ]
  },
  {
   "cell_type": "markdown",
   "metadata": {},
   "source": [
    "### 4.6- Espacios Vectoriales en Machine Learning\n",
    "\n",
    "Los espacios vectoriales se usan constantemente en Machine Learning, por ejemplo: __Word embeddings__. En ese caso estaríamos mapeando las palabras a vectores en un espacio vectorial/embedding space.\n",
    "\n",
    "Hay que mencionar que no solo se puede mapear palabras/documentos a un espacio vectorial, podemos crear un espacio vectorial de cualquier cosa. \n",
    "\n",
    "Por ejemplo, imaginaos que tenemos una tienda de ropa, podríamos mapear los vestidos a un espacio vectorial de dimensiones __n__ y luego recomendarle a un cliente los vestidos más parecidos a los que a él le gusta (usando cosine similarity por ejemplo).\n",
    "\n",
    "#### ¿A qué nos referimos con un espacio vectorial de dimensiones *n*?\n",
    "\n",
    "Basicamente son features del modelo que estamos creando. Por ejemplo:\n",
    "\n",
    "- Personas: edad, peso, altura, color del pelo, color de ojos, ...\n",
    "- Casas: número de habitaciones, precio de venta, año de construcción, ...\n",
    "- Coches: velocidad máxima, tiempo de aceleración, precio, ...\n",
    "\n",
    "El número de dimensiones lo defines tú cuando estás creando el modelo."
   ]
  },
  {
   "cell_type": "markdown",
   "metadata": {},
   "source": [
    "<div class=\"alert alert-success\">\n",
    "    <b>Ejercicio:</b> Modela los siguientes modelos de coche en un espacio vectorial:\n",
    "    \n",
    "\n",
    "</div>\n",
    "\n",
    "\n",
    "| Modelo | Precio | Velocidad Máxima | Tiempo de Aceleración |\n",
    "| --- | --- | --- | --- |\n",
    "| Porsche Taycan  | €110000 | 280 km/h | 3.8s |\n",
    "| Tesla 3  | €90000 | 260 km/h | 3.5s |\n",
    "| BMW i3  | €60000 | 160 km/h | 7s |"
   ]
  },
  {
   "cell_type": "markdown",
   "metadata": {},
   "source": [
    "Para modelar estos coches a un espacio vectorial debemos crear los vectores correspondientes a cada uno de ellos. ¿Cómo serán dichos vectores si tenemos en cuenta que nuestro espacio vectorial va a ser de 3 dimensiones (precio, velocidad, aceleración)?<br><br>\n",
    "\n",
    "<center>$taycan = (110000, 280, 3.8)$</center>\n",
    "<center>$tesla = (90000, 260, 3.5)$</center>\n",
    "<center>$i3 = (60000, 160, 7)$</center>"
   ]
  },
  {
   "cell_type": "markdown",
   "metadata": {},
   "source": [
    "Vamos a graficar estos vectores en nuestro espacio vectorial y ver que sucede."
   ]
  },
  {
   "cell_type": "code",
   "execution_count": 33,
   "metadata": {},
   "outputs": [
    {
     "data": {
      "text/latex": [
       "$\\displaystyle \\left( 3, \\  3\\right)$"
      ],
      "text/plain": [
       "(3, 3)"
      ]
     },
     "execution_count": 33,
     "metadata": {},
     "output_type": "execute_result"
    }
   ],
   "source": [
    "import numpy as np\n",
    "from matplotlib import pyplot\n",
    "from mpl_toolkits.mplot3d import Axes3D\n",
    "\n",
    "X = np.array([[110000, 280, 3.8],\n",
    "              [90000, 260, 3.5],\n",
    "              [60000, 160, 7]])\n",
    "\n",
    "X.shape"
   ]
  },
  {
   "cell_type": "markdown",
   "metadata": {},
   "source": [
    "Definimos un nombre para cada vector para poder visualizarlos"
   ]
  },
  {
   "cell_type": "code",
   "execution_count": 34,
   "metadata": {},
   "outputs": [
    {
     "name": "stderr",
     "output_type": "stream",
     "text": [
      "/var/folders/zb/r_57byp97tx0mcljd3fd0_640000gn/T/ipykernel_79219/3584985958.py:4: MatplotlibDeprecationWarning: Axes3D(fig) adding itself to the figure is deprecated since 3.4. Pass the keyword argument auto_add_to_figure=False and use fig.add_axes(ax) to suppress this warning. The default value of auto_add_to_figure will change to False in mpl3.5 and True values will no longer work in 3.6.  This is consistent with other Axes classes.\n",
      "  ax = Axes3D(fig)\n"
     ]
    },
    {
     "data": {
      "text/plain": [
       "Text(0.5, 0, 'acc')"
      ]
     },
     "execution_count": 34,
     "metadata": {},
     "output_type": "execute_result"
    },
    {
     "data": {
      "image/png": "[encoded data removed]",
      "text/plain": [
       "<Figure size 432x288 with 1 Axes>"
      ]
     },
     "metadata": {
      "needs_background": "light"
     },
     "output_type": "display_data"
    }
   ],
   "source": [
    "y = [\"Taycan\", \"Tesla\", \"i3\"]\n",
    "\n",
    "fig = plt.figure()\n",
    "ax = Axes3D(fig)\n",
    "\n",
    "for i in range(len(X)):\n",
    "    ax.scatter(X[i, 0], \n",
    "               X[i, 1], \n",
    "               X[i, 2], \n",
    "               color='b')\n",
    "    \n",
    "    ax.text(X[i, 0], \n",
    "            X[i, 1],\n",
    "            X[i, 2], \n",
    "            f'{str(y[i])}', \n",
    "            size=20,\n",
    "            zorder=1, \n",
    "            color='k')\n",
    "    \n",
    "ax.set_xlabel('precio')\n",
    "ax.set_ylabel('vel max')\n",
    "ax.set_zlabel('acc')"
   ]
  },
  {
   "cell_type": "markdown",
   "metadata": {},
   "source": [
    "Ya tenemos modelado nuestros coches a un espacio vectorial, en este caso un espacio vectorial de 3 dimensiones. \n",
    "\n",
    "#### ¿Qué sucede si tenemos más de 3 dimensiones?\n",
    "\n",
    "He elegido modelas estos coches a un espacio vectorial de solo 3 dimensiones para poder representarlo graficamente. Normalmente, solemos tener miles de dimensiones/features, en concreto en NLP.\n",
    "\n",
    "Cuando en el módulo de NLP veáis los __word embeddings__ (si!😄 soy un pesado con esto... pero es una herramienta super potente y que conviene conocer bien) veréis que se trata algunos modelos típicos como __Word2Vec__, __Glove__, __FastText__,... y que se menciona por ejemplo: \"vectores de 100 dimensiones\" o \"vectores de 300 dimensiones\". Dichas dimensiones hacen referencia a lo comentado anteriormente, al número de features que han elegido para modelarlos."
   ]
  },
  {
   "cell_type": "markdown",
   "metadata": {},
   "source": [
    "#### ¿Podemos medir la similaridad entre nuestros coches? Por supuesto!!!\n",
    "\n",
    "Para ello, vamos a hacer uso de la librería de `sklearn` que tiene implementado internamente el `cosine similarity` (que nosotros implementamos en el módulo anterior)."
   ]
  },
  {
   "cell_type": "code",
   "execution_count": 38,
   "metadata": {},
   "outputs": [
    {
     "name": "stdout",
     "output_type": "stream",
     "text": [
      "[[ 1.          0.74666083 -0.96296773]\n",
      " [ 0.74666083  1.         -0.89836063]\n",
      " [-0.96296773 -0.89836063  1.        ]]\n"
     ]
    }
   ],
   "source": [
    "from sklearn.metrics.pairwise import cosine_similarity\n",
    "from sklearn.preprocessing import StandardScaler\n",
    "\n",
    "X = np.array([[110000, 280, 3.8],\n",
    "              [90000, 260, 3.5],\n",
    "              [60000, 160, 7]])\n",
    "\n",
    "scaler = StandardScaler()\n",
    "X_scaler = scaler.fit_transform(X)\n",
    "#print(X_scaler)\n",
    "\n",
    "similarities = cosine_similarity(X_scaler, X_scaler)\n",
    "print(similarities)"
   ]
  },
  {
   "cell_type": "markdown",
   "metadata": {},
   "source": [
    "Vamos a visualizarlo en una tabla\n",
    "\n",
    " Modelos | Taycan | Tesla | i3\n",
    "------ |------|------|------\n",
    "Taycan | 1  | 0.746 | -0.962\n",
    "Tesla | 0.746  | 1 | -0.898\n",
    "i3 | -0.962  | -0.898 | 1\n",
    "\n",
    "Podemos ver que los modelos `Taycan` y `Tesla` son más parecidos entre ellos y que poco tienen de similitud el `Taycan` o `Tesla` con el `i3`."
   ]
  },
  {
   "cell_type": "code",
   "execution_count": null,
   "metadata": {},
   "outputs": [],
   "source": []
  }
 ],
 "metadata": {
  "kernelspec": {
   "display_name": "Python 3 (ipykernel)",
   "language": "python",
   "name": "python3"
  },
  "language_info": {
   "codemirror_mode": {
    "name": "ipython",
    "version": 3
   },
   "file_extension": ".py",
   "mimetype": "text/x-python",
   "name": "python",
   "nbconvert_exporter": "python",
   "pygments_lexer": "ipython3",
   "version": "3.8.8"
  }
 },
 "nbformat": 4,
 "nbformat_minor": 4
}
