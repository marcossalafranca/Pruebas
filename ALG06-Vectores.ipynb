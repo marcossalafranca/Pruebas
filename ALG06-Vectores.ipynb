{
 "cells": [
  {
   "cell_type": "markdown",
   "metadata": {},
   "source": [
    "# Vectores\n",
    "\n",
    "<img src=\"./Images/vectores.jpg\" alt=\"Drawing\" style=\"width: 250px;\"/>\n",
    "\n",
    "Imagina que un avión está volando dirección al este a unos __800 km/h__. De repente, una corriente de aire frío a __35 km/h__ proveniente del sur-este golpea al avión. \n",
    "\n",
    "<img src=\"./Images/plane.jpg\" alt=\"Drawing\" style=\"width: 200px;\"/>\n",
    "\n",
    "El efecto del viento sobre el avión vendrá determinado por su __velocidad__ y su __dirección__. Las magnitudes físicas o variables se pueden clasificar en dos grandes grupos:\n",
    "\n",
    "- __Escalares:__ Son aquellas que quedan definidas exclusivamente por un módulo, es decir, por un número acompañado de una unidad de medida. Es el caso de masa, tiempo, temperatura, distancia. Por ejemplo, 5,5 kg, 2,7 s, 400 °C y 7,8 km, respectivamente.\n",
    "\n",
    "\n",
    "- __Vectoriales:__ Son aquellas que quedan totalmente definidas con un módulo, una dirección y un sentido. Es el caso de la fuerza, la velocidad, el desplazamiento. En estas magnitudes es necesario especificar hacia dónde se dirigen y, en algunos casos  dónde se encuentran aplicadas. Todas las magnitudes vectoriales se representan gráficamente mediante vectores, que sesimbolizan a través de una flecha."
   ]
  },
  {
   "cell_type": "markdown",
   "metadata": {},
   "source": [
    "# 3- Vectores\n",
    "\n",
    "## 3.1- ¿Qué es un vector?\n",
    "\n",
    "Se denomina __vector de dimensión__ $n$, a una tupla de números reales (que se llaman componentes del vector). Así, un vector $v$ perteneciente a un espacio ${R}^{n}$ se representa como:\n",
    "\n",
    "<center>$v = (a_{1}, a_{2}, a_{3}, ... a_{n})$ donde $v \\in {R}^{n}$</center>\n",
    "\n",
    "Un vector también se puede ver desde el punto de vista de la geometría como __vector geométrico__ (usando frecuentemente el espacio tridimensional $R^{3}$ o bidimensional ${R}^{2}$).\n",
    "\n",
    "## 3.2- Notación de vectores geométricos\n",
    "\n",
    "Considerando el siguiente vector de $O$ a $A$, contenido en el espacio bidimensional $R^{2}$:\n",
    "\n",
    "<img src=\"./Images/vector.jpg\" alt=\"Drawing\" style=\"width: 500px;\"/>\n",
    "\n",
    "La __posición__ del vector puede ser representada como $\\overrightarrow{OA}$ o $\\vec{v}$. \n",
    "\n",
    "El __módulo__ puede ser denotado como: $|\\overrightarrow{OA}|$ o $OA$ o $|\\vec{v}|$. Está representado por el tamaño del vector, y hace referencia a la intensidad de la magnitud (número).\n",
    "\n",
    "La __dirección__ corresponde a la inclinación de la recta, y representa al ángulo entre ella y un eje horizontal imaginario.\n",
    "\n",
    "El __sentido__ está indicado por la punta de la flecha (signo positivo que por lo general no se coloca, o un signo negativo).\n",
    "\n",
    "\n",
    "## 3.3- ¿Qué podemos representar con un vector?\n",
    "\n",
    "Considerando que un __vector__ es una tupla de números reales, podemos usarlo para representar:\n",
    "\n",
    "- __Cadenas binarias:__ La clave secreta de un criptosistema 101101011 puede ser representada como:\n",
    "\n",
    "<center>$[1, 0, 1, 1, 0, 1, 0, 1, 1]$</center>\n",
    "\n",
    "- __Palabras:__ Usando ciertos algoritmos (word2vec, glove...), podemos codificar las palabras a vectores únicos que representan dicha palabra.\n",
    "    \n",
    "```\n",
    "king = [ 0.50451 , 0.68607 , -0.59517 , -0.022801, 0.60046 , -0.13498 , -0.08813 , 0.47377 , -0.61798 , -0.31012 ... 0.78321 , -0.91241 , -1.6106 , -0.64426 , -0.51042 ]\n",
    "```\n",
    "    \n",
    "- __Distribuciones de probabilidad:__  La probabilidad de un dado: \n",
    "\n",
    "<center>$[1/6, 1/6, 1/6, 1/6, 1/6, 1/6]$</center>\n",
    "\n",
    "## 3.4- Vectores en Python\n",
    "\n",
    "Para crear un vector en Python usamos la función `array()` de la biblioteca `numpy`."
   ]
  },
  {
   "cell_type": "code",
   "execution_count": null,
   "metadata": {},
   "outputs": [],
   "source": []
  },
  {
   "cell_type": "markdown",
   "metadata": {},
   "source": [
    "### 3.4.1- Suma y resta de Vectores"
   ]
  },
  {
   "cell_type": "markdown",
   "metadata": {},
   "source": [
    "<img src=\"./Images/suma_vectores.png\" style=\"width: 300px;\"/>\n",
    "\n",
    "El __vector suma__ está definido por:\n",
    "\n",
    "\n",
    "<center>$[u_{1}, u_{2}, ..., u_{n}] + [v_{1}, v_{2}, ..., v_{n}] = [u_{1}+v_{1}, u_{2}+v_{2}, ..., u_{n}+v_{n}]$</center>\n",
    "\n",
    "Para cualesquiera vectores **u**, **v**, **w**, se tiene:\n",
    "* Propiedad asociativa: $(u+v)+w=u+(v+w)$\n",
    "* Propiedad conmutativa: $u+v=v+u$"
   ]
  },
  {
   "cell_type": "code",
   "execution_count": null,
   "metadata": {},
   "outputs": [],
   "source": []
  },
  {
   "cell_type": "markdown",
   "metadata": {},
   "source": [
    "¿Qué sucede si no usamos `np.array`?"
   ]
  },
  {
   "cell_type": "code",
   "execution_count": null,
   "metadata": {},
   "outputs": [],
   "source": []
  },
  {
   "cell_type": "markdown",
   "metadata": {},
   "source": [
    "Python considera las variables `x` y `y` como listas, por lo que las concatena al usar el operador `+`."
   ]
  },
  {
   "cell_type": "code",
   "execution_count": null,
   "metadata": {},
   "outputs": [],
   "source": []
  },
  {
   "cell_type": "markdown",
   "metadata": {},
   "source": [
    "Sin embargo, al usar `np.array` es considerado como `array`"
   ]
  },
  {
   "cell_type": "code",
   "execution_count": null,
   "metadata": {},
   "outputs": [],
   "source": []
  },
  {
   "cell_type": "markdown",
   "metadata": {},
   "source": [
    "De forma similar para la `resta`:"
   ]
  },
  {
   "cell_type": "code",
   "execution_count": null,
   "metadata": {},
   "outputs": [],
   "source": []
  },
  {
   "cell_type": "markdown",
   "metadata": {},
   "source": [
    "¿Qué hace internamente numpy cuando sumamos dos arrays?\n",
    "<a id='ex1'></a>\n",
    "<div class=\"alert alert-success\">\n",
    "    <b>Ejercicio:</b> Realizar la suma de estos dos arrays <b>[2, 3, 10]</b> y <b>[10, 20, 30]</b> sin usar numpy. (Usa un bucle para realizarlo).\n",
    "</div>"
   ]
  },
  {
   "cell_type": "code",
   "execution_count": 22,
   "metadata": {},
   "outputs": [
    {
     "name": "stdout",
     "output_type": "stream",
     "text": [
      "[12, 23, 40]\n"
     ]
    }
   ],
   "source": [
    "x=[2,3,10]\n",
    "y=[10,20,30]\n",
    "suma = []\n",
    "\n",
    "for i in range(len(x)):\n",
    "    suma.append(x[i] + y[i])\n",
    "\n",
    "print(suma)\n"
   ]
  },
  {
   "cell_type": "markdown",
   "metadata": {},
   "source": [
    "De una forma más compacta:"
   ]
  },
  {
   "cell_type": "code",
   "execution_count": null,
   "metadata": {},
   "outputs": [],
   "source": []
  },
  {
   "cell_type": "markdown",
   "metadata": {},
   "source": [
    "<hr style=\"height: 2px; background-color: #858585;\">"
   ]
  },
  {
   "cell_type": "markdown",
   "metadata": {},
   "source": [
    "¿Qué sucede si introducimos dos `arrays` de distinta longitud?"
   ]
  },
  {
   "cell_type": "code",
   "execution_count": null,
   "metadata": {},
   "outputs": [],
   "source": []
  },
  {
   "cell_type": "markdown",
   "metadata": {},
   "source": [
    "Podemos imprimir su longitud usando `shape`"
   ]
  },
  {
   "cell_type": "code",
   "execution_count": null,
   "metadata": {},
   "outputs": [],
   "source": []
  },
  {
   "cell_type": "markdown",
   "metadata": {},
   "source": [
    "<div class=\"alert alert-block alert-danger\">\n",
    "    <b>⚠️ ATENCIÓN ⚠️</b> Hay una diferencia entre usar `len` y usar `shape`\n",
    "</div>\n",
    "\n",
    "Por ejemplo, si definimos el siguiente `array`:"
   ]
  },
  {
   "cell_type": "code",
   "execution_count": null,
   "metadata": {},
   "outputs": [],
   "source": []
  },
  {
   "cell_type": "markdown",
   "metadata": {},
   "source": [
    "La longitud del array `z_np` es 3 y la longitud de `w_np` es 2"
   ]
  },
  {
   "cell_type": "code",
   "execution_count": null,
   "metadata": {},
   "outputs": [],
   "source": []
  },
  {
   "cell_type": "markdown",
   "metadata": {},
   "source": [
    "Esto sucede porque `w_np` es una matriz de 2 filas y 3 columnas. Sin embargo, `z_np` es solo un vector de 3 dimensiones."
   ]
  },
  {
   "cell_type": "markdown",
   "metadata": {},
   "source": [
    "#### Un segundo...esto es importante!\n",
    "\n",
    "Al principio puede resultar un poco confuso, pero...¿cómo se representa visualmente un array cuando los creamos de la siguiente forma?"
   ]
  },
  {
   "cell_type": "markdown",
   "metadata": {},
   "source": [
    "Si creamos un `1D array`"
   ]
  },
  {
   "cell_type": "code",
   "execution_count": null,
   "metadata": {},
   "outputs": [],
   "source": []
  },
  {
   "cell_type": "markdown",
   "metadata": {},
   "source": [
    "También lo podemos crear de la siguiente forma:"
   ]
  },
  {
   "cell_type": "code",
   "execution_count": null,
   "metadata": {},
   "outputs": [],
   "source": []
  },
  {
   "cell_type": "markdown",
   "metadata": {},
   "source": [
    "<img src=\"./Images/array1D.PNG\" alt=\"Drawing\" style=\"width: 200px;\"/>"
   ]
  },
  {
   "cell_type": "markdown",
   "metadata": {},
   "source": [
    "Al crear un `2D array`"
   ]
  },
  {
   "cell_type": "code",
   "execution_count": null,
   "metadata": {},
   "outputs": [],
   "source": []
  },
  {
   "cell_type": "markdown",
   "metadata": {},
   "source": [
    "Al igual que antes, lo podemos crear usando `arange()`"
   ]
  },
  {
   "cell_type": "code",
   "execution_count": null,
   "metadata": {},
   "outputs": [],
   "source": []
  },
  {
   "cell_type": "markdown",
   "metadata": {},
   "source": [
    "<img src=\"./Images/array2D.PNG\" alt=\"Drawing\" style=\"width: 200px;\"/>"
   ]
  },
  {
   "cell_type": "markdown",
   "metadata": {},
   "source": [
    "Por último, si creamos un array con 3 dimensiones, `3D array`"
   ]
  },
  {
   "cell_type": "code",
   "execution_count": null,
   "metadata": {},
   "outputs": [],
   "source": []
  },
  {
   "cell_type": "markdown",
   "metadata": {},
   "source": [
    "De una forma más concisa:"
   ]
  },
  {
   "cell_type": "code",
   "execution_count": null,
   "metadata": {},
   "outputs": [],
   "source": []
  },
  {
   "cell_type": "markdown",
   "metadata": {},
   "source": [
    "<img src=\"./Images/array3D.PNG\" alt=\"Drawing\" style=\"width: 200px;\"/>"
   ]
  },
  {
   "cell_type": "markdown",
   "metadata": {},
   "source": [
    "### 3.4.2- Suma de un escalar a un array\n",
    "\n",
    "Dado un escalar $a$ y un vector $v$, la suma viene definida por:\n",
    "<br>\n",
    "<center>$a + (v_{1}, v_{2}, ... v_{n}) = (a + v_{1}, a + v_{2}, ... a + v_{n})$</center>\n",
    "\n",
    "`numpy` nos simplifica mucho las cosas, nos permite sumar un escalar a todos los elementos de un `array` realizando simplemente:"
   ]
  },
  {
   "cell_type": "code",
   "execution_count": null,
   "metadata": {},
   "outputs": [],
   "source": []
  },
  {
   "cell_type": "markdown",
   "metadata": {},
   "source": [
    "Internamente está realizando algo muy parecido a lo realizado en el [ejercicio anterior](#ex1)"
   ]
  },
  {
   "cell_type": "code",
   "execution_count": null,
   "metadata": {},
   "outputs": [],
   "source": []
  },
  {
   "cell_type": "markdown",
   "metadata": {},
   "source": [
    "### 3.4.3- Multiplicación por escalares: Multiplicar un escalar por un vector\n",
    "\n",
    "Dado un número $a$ y un vector $v$, la multiplicación viene definida por:\n",
    "<br>\n",
    "<center>$a \\cdot (v_{1}, v_{2}, ... v_{n}) = (a \\cdot v_{1}, a \\cdot v_{2}, ... a \\cdot v_{n})$</center>\n"
   ]
  },
  {
   "cell_type": "markdown",
   "metadata": {},
   "source": [
    "Si no usaramos `numpy`, `python` considera que queremos duplicar una lista `n` veces:"
   ]
  },
  {
   "cell_type": "code",
   "execution_count": null,
   "metadata": {},
   "outputs": [],
   "source": []
  },
  {
   "cell_type": "markdown",
   "metadata": {},
   "source": [
    "Usando `numpy`:"
   ]
  },
  {
   "cell_type": "code",
   "execution_count": null,
   "metadata": {},
   "outputs": [],
   "source": []
  },
  {
   "cell_type": "markdown",
   "metadata": {},
   "source": [
    "¿Qué hace internamente numpy cuando multiplicamos un escalar por un array?\n",
    "\n",
    "<div class=\"alert alert-success\">\n",
    "    <b>Ejercicio:</b> Realizar la multiplicación de un escalar por un array sin usar numpy. <b>a = 12</b>, <b>v = [3, 5, 6]</b>\n",
    "</div>"
   ]
  },
  {
   "cell_type": "code",
   "execution_count": null,
   "metadata": {},
   "outputs": [],
   "source": []
  },
  {
   "cell_type": "markdown",
   "metadata": {},
   "source": [
    "De una forma más compacta y aplicando buenas prácticas:"
   ]
  },
  {
   "cell_type": "code",
   "execution_count": null,
   "metadata": {},
   "outputs": [],
   "source": []
  },
  {
   "cell_type": "markdown",
   "metadata": {},
   "source": [
    "<hr style=\"height: 2px; background-color: #858585;\">"
   ]
  },
  {
   "cell_type": "markdown",
   "metadata": {},
   "source": [
    "Dado un vector **v** y dos números cualesquiera $\\alpha$, $\\beta \\in \\mathbb{R}$, se tiene:\n",
    "* *Propiedad asociativa*: $\\alpha$($\\beta$**v**)=($\\alpha$$\\beta$)**v**  \n",
    "* *Propiedad distributiva*: $\\alpha$(**u**+**v**)=$\\alpha$**u**+ $\\alpha$**v**\n"
   ]
  },
  {
   "cell_type": "markdown",
   "metadata": {},
   "source": [
    "### 3.4.4- Producto escalar o interior\n",
    "\n",
    "El producto escalar de dos vectores se define como la suma de los productos de sus elementos. Geométricamente se entiende, como el módulo de uno de ellos por la proyección del otro sobre él.\n",
    "\n",
    "<img src=\"Images/producto_escalar.png\" style=\"width: 300px;\"/>\n",
    "\n",
    "Considerando dos vectores $\\overrightarrow{u}$ y $\\overrightarrow{v}$, el producto escalar viene definido por:<br><br>\n",
    "\n",
    "<center>$\\overrightarrow{u} \\cdot \\overrightarrow{v} = \\sum_{i \\in D}\\overrightarrow{u}_{i} \\cdot \\overrightarrow{v}_{i} = u_{1} \\cdot v_{1} + u_{2} \\cdot v_{2} + ... u_{n} \\cdot v_{n}$</center>\n",
    "\n",
    "También puede escribirse de la siguiente forma - interesante para poder calcular la similitud entre 2 vectores, lo haremos más adelante! 😃:<br><br>\n",
    "<center>$\\overrightarrow{u} \\cdot \\overrightarrow{v} = |\\overrightarrow{u}||\\overrightarrow{v}| \\cos \\theta $</center>\n",
    "\n",
    "Lo que genera como resultado un **ESCALAR**\n",
    "\n",
    "Las **propiedades algebraicas del producto escalar**:  \n",
    "* **Propiedad conmutativa**: **u** · **v** = **v** · **u**  \n",
    "* **Homogeneidad**: (α u) · v = α (u · v)  \n",
    "* **Propiedad distributiva**: (v<sub>1</sub> + v<sub>2</sub>) · **x** = v<sub>1</sub> · **x** + v<sub>2</sub> · **x**  "
   ]
  },
  {
   "cell_type": "code",
   "execution_count": null,
   "metadata": {},
   "outputs": [],
   "source": []
  },
  {
   "cell_type": "markdown",
   "metadata": {},
   "source": [
    "El producto `escalar` puede ser calculado usando el operador `@`:"
   ]
  },
  {
   "cell_type": "code",
   "execution_count": null,
   "metadata": {},
   "outputs": [],
   "source": []
  },
  {
   "cell_type": "markdown",
   "metadata": {},
   "source": [
    "<div class=\"alert alert-block alert-danger\">\n",
    "    <b>⚠️ ATENCIÓN ⚠️</b> El operador <b>@</b> es valido para <b>numpy arrays</b>\n",
    "</div>"
   ]
  },
  {
   "cell_type": "code",
   "execution_count": null,
   "metadata": {},
   "outputs": [],
   "source": []
  },
  {
   "cell_type": "markdown",
   "metadata": {},
   "source": [
    "¿Qué sucede si introducimos vectores de distinto tamaño? Echándo un vistazo a la ecuación que define el `producto escalar` podemos determinar el comportamiento que tendrá.\n",
    "\n",
    "$\\overrightarrow{u} \\cdot \\overrightarrow{v}$ = $\\sum_{i \\in D}$ **u**[i]$\\cdot$**v**[i] = u<sub>1</sub> $\\cdot$ v<sub>1</sub> + u<sub>2</sub> $\\cdot$ v<sub>2</sub> + ... + u<sub>n</sub> $\\cdot$ v<sub>n</sub> "
   ]
  },
  {
   "cell_type": "code",
   "execution_count": null,
   "metadata": {},
   "outputs": [],
   "source": []
  },
  {
   "cell_type": "markdown",
   "metadata": {},
   "source": [
    "<div class=\"alert alert-success\">\n",
    "    <b>Ejercicio:</b> Realiza el producto escalar de dos vectores sin usar numpy. <b>u = [1, 3, 5, 7]</b> <b>v = [2, 4, 6, 8]</b>\n",
    "</div>"
   ]
  },
  {
   "cell_type": "code",
   "execution_count": null,
   "metadata": {},
   "outputs": [],
   "source": []
  },
  {
   "cell_type": "markdown",
   "metadata": {},
   "source": [
    "De una forma más compacta:"
   ]
  },
  {
   "cell_type": "code",
   "execution_count": null,
   "metadata": {},
   "outputs": [],
   "source": []
  },
  {
   "cell_type": "markdown",
   "metadata": {},
   "source": [
    "O incluso mejor aún!!"
   ]
  },
  {
   "cell_type": "code",
   "execution_count": null,
   "metadata": {},
   "outputs": [],
   "source": []
  },
  {
   "cell_type": "markdown",
   "metadata": {},
   "source": [
    "Otra más...¿Por qué no?"
   ]
  },
  {
   "cell_type": "code",
   "execution_count": null,
   "metadata": {},
   "outputs": [],
   "source": []
  },
  {
   "cell_type": "markdown",
   "metadata": {},
   "source": [
    "<hr style=\"height: 2px; background-color: #858585;\">"
   ]
  },
  {
   "cell_type": "markdown",
   "metadata": {},
   "source": [
    "#### Norma\n",
    "\n",
    "Se llama `norma` (módulo o longitud) del vector $v$ (asociada al producto escalar anterior) al número real no negativo. \n",
    "\n",
    "<center>$||v|| =+ \\sqrt{v \\cdot v} = (\\sum_{i=1}^{n}x_{i}^2)^\\frac{1}{2}$</center>\n",
    "\n",
    "¿Por qué es interesante esto? Porque en física y geometría interesa conocer la longitud de dicho vector, por ello se difine la `norma`.\n",
    "\n",
    "Por ejemplo, si definimos la **distancia** entre dos vectores **u** y **v** como la longitud de la diferencia **u - v**, debemos definir la longitud de un vector. En lugar de usar el término \"longitud\" para vectores, generalmente usamos el término **norma** y viene denotada por $||v||$\n",
    "\n",
    "<img src=\"Images/norma.jpg\" style=\"width: 300px;\"/>\n",
    "\n",
    "La norma de un vector cumple las siguientes propiedades:  \n",
    "* $\\|v\\|$ es un número real no negativo.  \n",
    "* $\\|v\\|$ = 0 $\\leftrightarrow$ **v**=0.   \n",
    "* Para cualquier escalar $\\alpha$, $\\|\\alpha\\cdot v\\|$ = $| \\alpha | \\cdot$ $\\|v\\|$.  \n",
    "* $\\|u+v\\|$ ≤ $\\|u\\|$ + $\\|v\\|$.  "
   ]
  },
  {
   "cell_type": "markdown",
   "metadata": {},
   "source": [
    "¿Cómo la calculamos?"
   ]
  },
  {
   "cell_type": "code",
   "execution_count": null,
   "metadata": {},
   "outputs": [],
   "source": []
  },
  {
   "cell_type": "markdown",
   "metadata": {},
   "source": [
    "<div class=\"alert alert-success\">\n",
    "    <b>Ejercicio:</b> ¿Se te ocurre otra forma de calcular la norma del vector <b>u</b>?\n",
    "</div>"
   ]
  },
  {
   "cell_type": "markdown",
   "metadata": {},
   "source": [
    "Al final, estamos realizando la raíz cuadrada del producto escalar de dicho vector `u` por él mismo `u`."
   ]
  },
  {
   "cell_type": "code",
   "execution_count": null,
   "metadata": {},
   "outputs": [],
   "source": []
  },
  {
   "cell_type": "markdown",
   "metadata": {},
   "source": [
    "<hr style=\"height: 2px; background-color: #858585;\">"
   ]
  },
  {
   "cell_type": "markdown",
   "metadata": {},
   "source": [
    "#### Vectores Ortogonales\n",
    "\n",
    "Dos vectores son ortogonales o lo que es lo mismo, perpendiculares, cuando su **producto escalar** es nulo."
   ]
  },
  {
   "cell_type": "code",
   "execution_count": null,
   "metadata": {},
   "outputs": [],
   "source": []
  },
  {
   "cell_type": "markdown",
   "metadata": {},
   "source": [
    "Por tanto, los vectores $\\overrightarrow{v_{1}}$ y $\\overrightarrow{v_{2}}$ son ortogonales."
   ]
  },
  {
   "cell_type": "markdown",
   "metadata": {},
   "source": [
    "### 3.4.5- Visualización de vectores\n",
    "\n",
    "Estamos acostumbrados a visualizar los vectores como flechas que parten desde el origen hacia un punto. Pero...¿cómo podemos hacer eso usando Python?\n",
    "\n",
    "<img src=\"./Images/interesting.gif\" alt=\"Drawing\" style=\"width: 300px;\"/>"
   ]
  },
  {
   "cell_type": "markdown",
   "metadata": {},
   "source": [
    "Importamos `matplotlib`"
   ]
  },
  {
   "cell_type": "code",
   "execution_count": null,
   "metadata": {},
   "outputs": [],
   "source": []
  },
  {
   "cell_type": "markdown",
   "metadata": {},
   "source": [
    "Usamos la función `quiver` que nos proporciona `matplotlib` para visualizar vectores. Simplemente debemos definir el punto de inicio de los vectores y su dirección."
   ]
  },
  {
   "cell_type": "code",
   "execution_count": null,
   "metadata": {},
   "outputs": [],
   "source": []
  },
  {
   "cell_type": "markdown",
   "metadata": {},
   "source": [
    "<div class=\"alert alert-success\">\n",
    "    <b>Ejercicio:</b> \n",
    "    <p>Un sensor consta de los siguientes componentes:</p>\n",
    "    <ul>\n",
    "        <li>CPU</li>\n",
    "        <li>Radio</li>\n",
    "        <li>Sensor de temperatura</li>\n",
    "        <li>Memoria</li>\n",
    "        <li>LCD</li>\n",
    "    </ul>\n",
    "    <p>Este sensor va a ser colocado en un lugar donde no hay acceso a energía eléctrica, por lo que usará paneles solares para alimentarse. Por ello, necesitamos conocer el consumo de energía que consume todos los componentes.</p>\n",
    "    <p>Suponiendo que conocemos el consumo eléctrico de cada componente</p><br>\n",
    "    <center><b>consumo = {memoria: 0.06W, radio: 0.06W, sensor: 0.004W, CPU: 0.0025W, LCD: 0.03W}</b></center>\n",
    "    \n",
    "Estos datos fueron tomados experimentalmente y anotamos el tiempo que estuvo trabajando cada componente de forma continuada.<br><br>\n",
    "    <center><b>duracion = {memoria: 1.0s, radio: 0.2s, sensor: 0.05s, CPU: 1.0s, LCD: 1.2s}</b></center><br>\n",
    "\n",
    "Debemos calcular el total de energía consumida en Julios:\n",
    "    <center><b>total_energia = consumo.duración</b></center>\n",
    "</div>"
   ]
  },
  {
   "cell_type": "markdown",
   "metadata": {},
   "source": [
    "Primero debemos escribir y extraer de ambos diccionarios, `consumo` y `duracion` los respectivos valores:"
   ]
  },
  {
   "cell_type": "code",
   "execution_count": null,
   "metadata": {},
   "outputs": [],
   "source": [
    "consumo = {\"memoria\": \"0.06W\", \n",
    "           \"radio\": \"0.06W\", \n",
    "           \"sensor\": \"0.004W\", \n",
    "           \"CPU\": \"0.0025W\",\n",
    "           \"LCD\": \"0.03W\"}\n",
    "\n",
    "duracion = {\"memoria\": \"1.0s\", \n",
    "           \"radio\": \"0.2s\", \n",
    "           \"sensor\": \"0.05s\", \n",
    "           \"CPU\": \"1.0s\",\n",
    "           \"LCD\": \"1.2s\"}"
   ]
  },
  {
   "cell_type": "markdown",
   "metadata": {},
   "source": [
    "Extraemos los valores de ambos diccionarios usando `values()`"
   ]
  },
  {
   "cell_type": "code",
   "execution_count": null,
   "metadata": {},
   "outputs": [],
   "source": []
  },
  {
   "cell_type": "markdown",
   "metadata": {},
   "source": [
    "Si nos fijamos bien, los elementos de ambas lista son de tipo `string` y debemos operar con valores numéricos, para ello debemos eliminar sus unidades `W` o `s` y convertirlos a variables de tipo `float`."
   ]
  },
  {
   "cell_type": "code",
   "execution_count": null,
   "metadata": {},
   "outputs": [],
   "source": []
  },
  {
   "cell_type": "markdown",
   "metadata": {},
   "source": [
    "Podemos simplifcarlo mucho más:"
   ]
  },
  {
   "cell_type": "code",
   "execution_count": null,
   "metadata": {},
   "outputs": [],
   "source": []
  },
  {
   "cell_type": "markdown",
   "metadata": {},
   "source": [
    "Ahora mismo ya tenemos dos listas que podemos convertir a `array`. Si pensamos bien en este problema, simplemente nos están pidiendo que sumemos el resultado de calcular el **producto del consumo de cada componente por su duración**, es decir, que calculemos el producto escalar entre ambos vectores y eso ya lo sabemos hacer! :)"
   ]
  },
  {
   "cell_type": "code",
   "execution_count": null,
   "metadata": {},
   "outputs": [],
   "source": []
  },
  {
   "cell_type": "markdown",
   "metadata": {},
   "source": [
    "<hr style=\"height: 2px; background-color: #858585;\">"
   ]
  },
  {
   "cell_type": "markdown",
   "metadata": {},
   "source": [
    "### 3.4.6- Similitud entre dos vectores ... Importante y guay 😃\n",
    "\n",
    "Como hemos comentado anteriormente, los vectores pueden ser usados para representar palabras o incluso frases:\n",
    "\n",
    "```\n",
    "casa = [ 0.50451 , 0.68607 , -0.59517 , -0.022801, 0.60046 , -0.13498 , -0.08813 , 0.47377 , -0.61798 , -0.31012 ... 0.78321 , -0.91241 , -1.6106 , -0.64426 , -0.51042 ]\n",
    "```\n",
    "\n",
    "Y haciendo uso del `producto escalar`, podemos calcular la similitud entre dos vectores. Por ejemplo, si convertimos nuestras palabras `casa` y `casita` en vectores (usando un determinado algoritmo) y calculamos el `producto escalar`de ambos vectores, el resultado debe ser que dichos vectores son muy similares.\n",
    "\n",
    "En otros módulos veréis esto en profundidad, aquí lo vamos a analizar desde el punto de vista de la algebra lineal para entender como funciona.\n",
    "\n",
    "Partiendo de:\n",
    "\n",
    "<center>$\\overrightarrow{u} \\cdot \\overrightarrow{v} = |\\overrightarrow{u}||\\overrightarrow{v}| \\cos \\theta $</center>\n",
    "\n",
    "Podemos derivar que la ecuación de similaridad viene definida por:<br><br>\n",
    "\n",
    "<center>$\\cos \\theta = \\frac{\\overrightarrow{u} \\cdot \\overrightarrow{v}}{|\\overrightarrow{u}||\\overrightarrow{v}|}$</center>"
   ]
  },
  {
   "cell_type": "markdown",
   "metadata": {},
   "source": [
    "Considerando los siguientes vectores:"
   ]
  },
  {
   "cell_type": "code",
   "execution_count": null,
   "metadata": {},
   "outputs": [],
   "source": []
  },
  {
   "cell_type": "markdown",
   "metadata": {},
   "source": [
    "La similitud viene definida por el `producto escalar` $\\overrightarrow{u} \\cdot \\overrightarrow{v}$ entre el `producto del modulo` de ambos vectores $|\\overrightarrow{u}||\\overrightarrow{v}|$"
   ]
  },
  {
   "cell_type": "code",
   "execution_count": null,
   "metadata": {},
   "outputs": [],
   "source": []
  },
  {
   "cell_type": "markdown",
   "metadata": {},
   "source": [
    "Al ser el vector `u` igual al vector `v` el calculo de la similaridad nos debe decir que son iguales."
   ]
  },
  {
   "cell_type": "code",
   "execution_count": null,
   "metadata": {},
   "outputs": [],
   "source": []
  },
  {
   "cell_type": "markdown",
   "metadata": {},
   "source": [
    "¿Qué sucede si un vector es completamente distinto, es decir va en la dirección opuesta?"
   ]
  },
  {
   "cell_type": "code",
   "execution_count": null,
   "metadata": {},
   "outputs": [],
   "source": []
  },
  {
   "cell_type": "markdown",
   "metadata": {},
   "source": [
    "Son totalmente opuestos"
   ]
  },
  {
   "cell_type": "code",
   "execution_count": null,
   "metadata": {},
   "outputs": [],
   "source": []
  },
  {
   "cell_type": "markdown",
   "metadata": {},
   "source": [
    "#### Similaridad entre dos frases - Cosine Similarity\n",
    "\n",
    "Vamos a intentar calcular la similitud entre dos frases usando el producto escalar.\n",
    "\n",
    "Primero debemos convertir ambas frases a un vector, para ello vamos a hacer uso de la librería `nltk` - típica librería para un data science!😃 y que la conoceréis en profundidad en los siguientes módulos:"
   ]
  },
  {
   "cell_type": "code",
   "execution_count": null,
   "metadata": {},
   "outputs": [],
   "source": [
    "sent_1 =\"Me encantan los perros\"\n",
    "sent_2 =\"Tengo 5 perros porque me encantan\""
   ]
  },
  {
   "cell_type": "markdown",
   "metadata": {},
   "source": [
    "Como vimos en el módulo pasado, vamos a crear un conjunto único de palabras, para ello usamos `set`"
   ]
  },
  {
   "cell_type": "code",
   "execution_count": null,
   "metadata": {},
   "outputs": [],
   "source": []
  },
  {
   "cell_type": "markdown",
   "metadata": {},
   "source": [
    "Ahora vamos a crear un vector en base a si la frase contine una palabra del conjunto o no, por ejemplo:\n",
    "\n",
    "`sent = hola tengo miedo`\n",
    "`conjunto = {'hola', 'miedo'}`\n",
    "\n",
    "Por tanto, el vector quedará definido por:\n",
    "\n",
    "`res = [1, 0, 1]`\n",
    "\n",
    "Porque tanto `hola` como `miedo` están en el conjunto"
   ]
  },
  {
   "cell_type": "code",
   "execution_count": null,
   "metadata": {},
   "outputs": [],
   "source": []
  },
  {
   "cell_type": "markdown",
   "metadata": {},
   "source": [
    "Ahora simplemente convertimos ambas listas a `np.array` y calculamos la similaridad con la ecuación anterior."
   ]
  },
  {
   "cell_type": "code",
   "execution_count": null,
   "metadata": {},
   "outputs": [],
   "source": []
  },
  {
   "cell_type": "markdown",
   "metadata": {},
   "source": [
    "Por tanto, ambas frases son muy parecidas entre ellas. Esto tiene un problema y es que no consideramos el significado de las frases, por ejemplo, `Tengo miedo` y `No tengo miedo` son frases que resultarán muy parecidas pero significan todo lo contrario."
   ]
  },
  {
   "cell_type": "markdown",
   "metadata": {},
   "source": [
    "<div class=\"alert alert-success\">\n",
    "    <b>Ejercicio:</b> Calcula la similaridad entre las siguientes frases:\n",
    "    <ul>\n",
    "            <li><b>Tengo miedo</b></li>\n",
    "            <li><b>No tengo miedo</b></li>\n",
    "     <ul>\n",
    "</div>"
   ]
  },
  {
   "cell_type": "code",
   "execution_count": null,
   "metadata": {},
   "outputs": [],
   "source": []
  },
  {
   "cell_type": "markdown",
   "metadata": {},
   "source": [
    "Creamos los conjuntos de ambas frases y los unimos"
   ]
  },
  {
   "cell_type": "code",
   "execution_count": null,
   "metadata": {},
   "outputs": [],
   "source": []
  },
  {
   "cell_type": "markdown",
   "metadata": {},
   "source": [
    "Construimos los vectores para ambas frases"
   ]
  },
  {
   "cell_type": "code",
   "execution_count": null,
   "metadata": {},
   "outputs": [],
   "source": []
  },
  {
   "cell_type": "markdown",
   "metadata": {},
   "source": [
    "Por último, calculamos la similitud:"
   ]
  },
  {
   "cell_type": "code",
   "execution_count": null,
   "metadata": {},
   "outputs": [],
   "source": []
  },
  {
   "cell_type": "markdown",
   "metadata": {},
   "source": [
    "Como vemos, son frases muy parecidas, pero realmente significan totalmente lo contrario. Normalmente se suele denominar `cosine similarity` al calcular la similaridad entre dos vectores/frases usando este método.\n",
    "\n",
    "Hay formas, que veréis en los siguientes módulos de NLP y Deep Learning, para tener en cuenta el contexto que engloba a la palabra y así determinar una similitud más precisa."
   ]
  },
  {
   "cell_type": "markdown",
   "metadata": {},
   "source": [
    "### 3.4.7- Producto vectorial\n",
    "\n",
    "El **producto vectorial** de dos vectores **u** y **v**, a diferencia del producto interno, el cual produce un escalar, tiene como resultado un **vector**. Una de las características de dicho vector es que resulta ser perpendicular al plano generado por los vectores **u** y **v**.\n",
    "Si ambos vectores son no nulos, la única forma de que **el vector resultante sea nulo** es que tanto **u** como **v** no formen un plano y que por lo tanto sean colineales.\n",
    "\n",
    "La biblioteca `numpy` cuenta con una función que permite obtener el producto vectorial de manera sencilla. La función `cross(u, v)` devuelve un array con el producto vectorial.\n",
    "\n",
    "Además, el **módulo del producto vectorial** es igual al área del paralelogramos de lado asociado a ambos vectores.\n",
    "\n",
    "<img src=\"Images/producto_vectorial.png\" style=\"width: 300px;\"/> \n",
    "\n",
    "\n",
    "<center>$|a\\times b| = |a| \\cdot |b|\\cdot sen(a, b)$</center>\n",
    "\n",
    "En este módulo veremos como se calcula el producto vectorial usando `numpy`. Más adelante veremos en profundidad como numpy lo calcula internamente, ya que hace falta tener conocimientos de determinantes que veremos en detalle en otro módulo."
   ]
  },
  {
   "cell_type": "markdown",
   "metadata": {},
   "source": [
    "Definiendo los vectores **u** y **v**"
   ]
  },
  {
   "cell_type": "code",
   "execution_count": null,
   "metadata": {},
   "outputs": [],
   "source": []
  },
  {
   "cell_type": "markdown",
   "metadata": {},
   "source": [
    "El `producto vectorial` viene definido por:"
   ]
  },
  {
   "cell_type": "code",
   "execution_count": null,
   "metadata": {},
   "outputs": [],
   "source": []
  },
  {
   "cell_type": "markdown",
   "metadata": {},
   "source": [
    "Cuyo resultante es un vector perpendicular a **u** y **v**, además el módulo del **vector C** es el área del paralelogramos de lado asociado a ambos vectores."
   ]
  },
  {
   "cell_type": "code",
   "execution_count": null,
   "metadata": {},
   "outputs": [],
   "source": []
  },
  {
   "cell_type": "markdown",
   "metadata": {},
   "source": [
    "Como hemos mencionado antes, el **producto vectorial** de dos vectores **colineales** es nulo:"
   ]
  },
  {
   "cell_type": "code",
   "execution_count": null,
   "metadata": {},
   "outputs": [],
   "source": []
  },
  {
   "cell_type": "markdown",
   "metadata": {},
   "source": [
    "El resultado es 0 ya que el segundo vector se obtiene del primero multiplicandolo por -4 y por tanto ambos vectores son colineales."
   ]
  },
  {
   "cell_type": "markdown",
   "metadata": {},
   "source": [
    "## 3.5- Numpy Arrays Attributes\n",
    "\n",
    "Manipular datos en Python es sinónimo de usar `Numpy`, incluso `Pandas` está construido sobre `Numpy`. En este apartado vamos a ver algunos ejemplos de como realizar operaciones como **split**, **reshape** y **join** usando `numpy`. La mayor parte de las operaciones realizadas sobre nuestros datos, se pueden englobar en los siguientes bloques:\n",
    "\n",
    "* **Attributes of arrays:** `size`, `shape`, `memory consumption` y `data types`\n",
    "* **Indexing:** Obtener y modificar valores individuales del `array`\n",
    "* **Slicing:** Obtener subconjuntos que pertenecen a un `array`.\n",
    "* **Reshaping:** Modificar la forma del `array`\n",
    "* **Joining and splitting:** Combinar varios `arrays` en uno, o dividir uno en varios."
   ]
  },
  {
   "cell_type": "markdown",
   "metadata": {},
   "source": [
    "#### Attributes of arrays"
   ]
  },
  {
   "cell_type": "code",
   "execution_count": null,
   "metadata": {},
   "outputs": [],
   "source": []
  },
  {
   "cell_type": "markdown",
   "metadata": {},
   "source": [
    "Cada `array` tiene varios atributos:\n",
    "\n",
    "* `ndim`: El número de dimensiones\n",
    "* `shape`: El tamaño de cada dimensión\n",
    "* `size`: El tamaño total del array"
   ]
  },
  {
   "cell_type": "code",
   "execution_count": null,
   "metadata": {},
   "outputs": [],
   "source": []
  },
  {
   "cell_type": "markdown",
   "metadata": {},
   "source": [
    "Podemos mostrar también el tipo de variables que contiene, usando `ndim`."
   ]
  },
  {
   "cell_type": "code",
   "execution_count": null,
   "metadata": {},
   "outputs": [],
   "source": []
  },
  {
   "cell_type": "markdown",
   "metadata": {},
   "source": [
    "O el tamaño en bytes que ocupa dicho `array`"
   ]
  },
  {
   "cell_type": "code",
   "execution_count": null,
   "metadata": {},
   "outputs": [],
   "source": []
  },
  {
   "cell_type": "markdown",
   "metadata": {},
   "source": [
    "Si os fijáis, el vector `x3` tiene `60 elementos` en total y cada elemento ocupa `4 bytes`. El total de bytes que ocupa dicho array viene dado por: `60 x 4 = 240`"
   ]
  },
  {
   "cell_type": "markdown",
   "metadata": {},
   "source": [
    "#### Indexing\n",
    "\n",
    "Es similar a lo que aprendimos en el módulo anterior con el `indexing` para listas en Python. "
   ]
  },
  {
   "cell_type": "code",
   "execution_count": null,
   "metadata": {},
   "outputs": [],
   "source": []
  },
  {
   "cell_type": "markdown",
   "metadata": {},
   "source": [
    "<div class=\"alert alert-block alert-danger\">\n",
    "    <b>⚠️ ATENCIÓN ⚠️</b> Los elementos empiezan en <b>index=0</b>\n",
    "</div>"
   ]
  },
  {
   "cell_type": "code",
   "execution_count": null,
   "metadata": {},
   "outputs": [],
   "source": []
  },
  {
   "cell_type": "markdown",
   "metadata": {},
   "source": [
    "Podemos acceder al último elemento usando `-1`"
   ]
  },
  {
   "cell_type": "code",
   "execution_count": null,
   "metadata": {},
   "outputs": [],
   "source": []
  },
  {
   "cell_type": "markdown",
   "metadata": {},
   "source": [
    "O incluso acceder a elementos desde el final del array usando:"
   ]
  },
  {
   "cell_type": "code",
   "execution_count": null,
   "metadata": {},
   "outputs": [],
   "source": []
  },
  {
   "cell_type": "markdown",
   "metadata": {},
   "source": [
    "En caso de `arrays` con más de una dimensión"
   ]
  },
  {
   "cell_type": "code",
   "execution_count": null,
   "metadata": {},
   "outputs": [],
   "source": []
  },
  {
   "cell_type": "markdown",
   "metadata": {},
   "source": [
    "#### Slicing\n",
    "\n",
    "Podemos extraer `subconjuntos` perteneciente a un `array` usando:\n",
    "\n",
    "`x[start:stop:step]`\n",
    "\n",
    "Si alguno de ellos no los definimos, los valores por defecto son: `start=0`, `stop=size of dimension`, `step=1`"
   ]
  },
  {
   "cell_type": "code",
   "execution_count": null,
   "metadata": {},
   "outputs": [],
   "source": []
  },
  {
   "cell_type": "markdown",
   "metadata": {},
   "source": [
    "Para `arrays` con más de una dimensión"
   ]
  },
  {
   "cell_type": "code",
   "execution_count": null,
   "metadata": {},
   "outputs": [],
   "source": []
  },
  {
   "cell_type": "markdown",
   "metadata": {},
   "source": [
    "Podemos crear copias de los `arrays` usando:"
   ]
  },
  {
   "cell_type": "code",
   "execution_count": null,
   "metadata": {},
   "outputs": [],
   "source": []
  },
  {
   "cell_type": "markdown",
   "metadata": {},
   "source": [
    "E incluso modificar sus elementos:"
   ]
  },
  {
   "cell_type": "code",
   "execution_count": null,
   "metadata": {},
   "outputs": [],
   "source": []
  },
  {
   "cell_type": "markdown",
   "metadata": {},
   "source": [
    "#### Reshaping\n",
    "\n",
    "Otra de las herramientas más usadas es `reshape`. Por ejemplo si queremos transformar:\n",
    "\n",
    "<center>$x = [1, 2, 3, 4, 5, 6, 7, 8, 9]$</center>\n",
    "\n",
    "A una matriz:\n",
    "\n",
    "<center>$x = \\begin{bmatrix}\n",
    "    1 & 2 & 3\\\\\n",
    "    4 & 5 & 6\\\\\n",
    "    7 & 8 & 9\n",
    "\\end{bmatrix}\n",
    "$</center>"
   ]
  },
  {
   "cell_type": "code",
   "execution_count": null,
   "metadata": {},
   "outputs": [],
   "source": []
  },
  {
   "cell_type": "markdown",
   "metadata": {},
   "source": [
    "#### Joining and Splitting"
   ]
  },
  {
   "cell_type": "code",
   "execution_count": null,
   "metadata": {},
   "outputs": [],
   "source": []
  },
  {
   "cell_type": "markdown",
   "metadata": {},
   "source": [
    "Para `arrays` con distinta dimensiones, se suele usar `vstack` (vertical stack) o `hstack` (horizontal)."
   ]
  },
  {
   "cell_type": "code",
   "execution_count": null,
   "metadata": {},
   "outputs": [],
   "source": []
  },
  {
   "cell_type": "markdown",
   "metadata": {},
   "source": [
    "Podemos dividir los `arrays` usando `split`, `hsplit` o `vsplit`:"
   ]
  },
  {
   "cell_type": "code",
   "execution_count": null,
   "metadata": {},
   "outputs": [],
   "source": []
  }
 ],
 "metadata": {
  "kernelspec": {
   "display_name": "Python 3",
   "language": "python",
   "name": "python3"
  },
  "language_info": {
   "codemirror_mode": {
    "name": "ipython",
    "version": 3
   },
   "file_extension": ".py",
   "mimetype": "text/x-python",
   "name": "python",
   "nbconvert_exporter": "python",
   "pygments_lexer": "ipython3",
   "version": "3.11.1"
  }
 },
 "nbformat": 4,
 "nbformat_minor": 4
}
