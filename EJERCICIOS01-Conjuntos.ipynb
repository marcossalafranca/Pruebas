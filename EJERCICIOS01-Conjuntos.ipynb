{
 "cells": [
  {
   "cell_type": "markdown",
   "metadata": {},
   "source": [
    "<img src=\"images/keepcoding.png\" width=200 align=\"left\">"
   ]
  },
  {
   "cell_type": "markdown",
   "metadata": {},
   "source": [
    "<img src=\"images/me.jpg\" width=150 align=\"right\">\n",
    "\n",
    "# Ejercicios de Conjuntos\n",
    "\n",
    "Autor: Carlos Moreno Morera\n",
    "\n",
    "Contacto: carlos.moreno@ibm.com\n",
    "\n",
    "Última revisión: 10/Jul/2022"
   ]
  },
  {
   "cell_type": "markdown",
   "metadata": {},
   "source": [
    "### Ejercicio 1:\n",
    "Definir en Python los siguientes conjuntos:\n",
    "1. El conjunto de los satélites de la Tierra.\n",
    "2. Los posibles resultados al tirar un dado de 6 caras y una moneda.\n",
    "3. Todos los cuadrados perfectos (números naturales elevados al cuadrado) de los números naturales menores que 11."
   ]
  },
  {
   "cell_type": "code",
   "execution_count": 1,
   "metadata": {},
   "outputs": [],
   "source": [
    "#1.1\n"
   ]
  },
  {
   "cell_type": "code",
   "execution_count": 2,
   "metadata": {},
   "outputs": [],
   "source": [
    "#1.2\n"
   ]
  },
  {
   "cell_type": "code",
   "execution_count": 3,
   "metadata": {},
   "outputs": [],
   "source": [
    "#1.3\n"
   ]
  },
  {
   "cell_type": "markdown",
   "metadata": {},
   "source": [
    "### Ejercicio 2:\n",
    "1. Sin utilizar el método `isdisjoint`, implementar una función *sondisjuntos(A, B)* que devuelva verdadero cuando los conjuntos pasados por parámetros sean disjuntos y falso en caso contrario.\n",
    "2. Repetir el apartado anterior sin utilizar el método `intersection` ni el operador `&`."
   ]
  },
  {
   "cell_type": "code",
   "execution_count": 4,
   "metadata": {},
   "outputs": [
    {
     "name": "stdout",
     "output_type": "stream",
     "text": [
      "False\n",
      "True\n",
      "True\n"
     ]
    }
   ],
   "source": [
    "#2.1\n",
    "\n",
    "\n",
    "print(sondisjuntos({1,2,3}, {3,4,5}))\n",
    "print(sondisjuntos(set(), {3,4,5}))\n",
    "print(sondisjuntos({1,2,3}, {4,5}))"
   ]
  },
  {
   "cell_type": "code",
   "execution_count": 5,
   "metadata": {},
   "outputs": [
    {
     "name": "stdout",
     "output_type": "stream",
     "text": [
      "False\n",
      "True\n",
      "True\n"
     ]
    }
   ],
   "source": [
    "#2.2\n",
    "\n",
    "\n",
    "print(sondisjuntos({1,2,3}, {3,4,5}))\n",
    "print(sondisjuntos(set(), {3,4,5}))\n",
    "print(sondisjuntos({1,2,3}, {4,5}))"
   ]
  },
  {
   "cell_type": "markdown",
   "metadata": {},
   "source": [
    "### Ejercicio 3:\n",
    "Sin utilizar el método `issubset` ni el operador `<=`, implementar una función *essubconjunto(A,B)* que devuelva verdadero cuando el primer conjunto pasado por parámetro sea subconjunto del segundo y falso en caso contrario"
   ]
  },
  {
   "cell_type": "code",
   "execution_count": 6,
   "metadata": {},
   "outputs": [
    {
     "name": "stdout",
     "output_type": "stream",
     "text": [
      "True\n",
      "True\n",
      "False\n"
     ]
    }
   ],
   "source": [
    "#3\n",
    "\n",
    "\n",
    "print(essubconjunto({1,2}, {1,2,3}))\n",
    "print(essubconjunto(set(), {1,2,3,4}))\n",
    "print(essubconjunto({0,1}, {1,2,3,4}))"
   ]
  },
  {
   "cell_type": "markdown",
   "metadata": {},
   "source": [
    "### Ejercicio 4:\n",
    "Sin utilizar la función `len`, implementar una función *cardinal(A)* que devuelva el cardinal del conjunto que se le pasa por parámetro:"
   ]
  },
  {
   "cell_type": "code",
   "execution_count": 7,
   "metadata": {},
   "outputs": [
    {
     "name": "stdout",
     "output_type": "stream",
     "text": [
      "0\n",
      "4\n"
     ]
    }
   ],
   "source": [
    "#4\n",
    "\n",
    "\n",
    "print(cardinal(set()))\n",
    "print(cardinal({1,2,3,4}))"
   ]
  },
  {
   "cell_type": "markdown",
   "metadata": {},
   "source": [
    "### Ejercicio 5:\n",
    "Sin utilizar la función `producto` vista en teoría ni la definición por comprensión, implementar una función *productocartesiano(A, B)* que dados dos conjuntos pasados por parámetro devuelva el producto cartesiano de dichos conjuntos."
   ]
  },
  {
   "cell_type": "code",
   "execution_count": 8,
   "metadata": {},
   "outputs": [
    {
     "name": "stdout",
     "output_type": "stream",
     "text": [
      "set()\n",
      "{(3, 4), (4, 3), (3, 1), (5, 4), (4, 6), (5, 1), (2, 2), (1, 6), (2, 5), (1, 3), (6, 2), (6, 5), (4, 2), (4, 5), (3, 3), (5, 6), (3, 6), (5, 3), (2, 4), (1, 2), (2, 1), (1, 5), (6, 1), (6, 4), (3, 2), (4, 1), (3, 5), (5, 2), (4, 4), (5, 5), (1, 1), (1, 4), (2, 3), (2, 6), (6, 6), (6, 3)}\n"
     ]
    }
   ],
   "source": [
    "#5\n",
    "\n",
    "print(productocartesiano(set(), {1,2}))\n",
    "print(productocartesiano({1,2,3,4,5,6}, {1,2,3,4,5,6}))"
   ]
  },
  {
   "cell_type": "markdown",
   "metadata": {},
   "source": [
    "### ♦️Ejercicio 6:\n",
    "Implementar una función *binarios(n)* que devuelva el conjunto de todas las cadenas de caracteres de tamaño *n* (el número natural pasado por parámetro) que se pueden construir con ceros y unos. Por ejemplo:\n",
    "$$\n",
    "\\text{binarios}(3)=\\{000,001,010,100, 110, 101, 011, 111\\}\n",
    "$$"
   ]
  },
  {
   "cell_type": "code",
   "execution_count": 4,
   "metadata": {},
   "outputs": [],
   "source": [
    "#6\n"
   ]
  },
  {
   "cell_type": "markdown",
   "metadata": {},
   "source": [
    "### ♦️Ejercicio 7:\n",
    "Implementar una función *partesde(A)* que devuelva el conjunto potencia (apartado 3.2 de la teoría) del conjunto que se le pasa por parámetro.\n",
    "\n",
    "*Pista: es posible usar la función binarios(n) implementada en el ejercicio 6 interpretando un 0 como coger un elemento y un 1 como no elegirlo. Al final habrá que generar todos los conjuntos posibles al escoger un elemento de A y al no escogerlo.*"
   ]
  },
  {
   "cell_type": "code",
   "execution_count": 6,
   "metadata": {},
   "outputs": [],
   "source": [
    "#7\n"
   ]
  },
  {
   "cell_type": "markdown",
   "metadata": {},
   "source": [
    "### Ejercicio 8:\n",
    "Sin utilizar `in` en ningún lugar (ni siquiera en los bucles) implementar una función *pertenece(elemento, conjunto)* que compruebe si el elemento pasado por parámetro pertenece al conjunto dado. Puede suponerse que todos los elementos del conjunto son del mismo tipo que la variable elemento."
   ]
  },
  {
   "cell_type": "code",
   "execution_count": 7,
   "metadata": {},
   "outputs": [],
   "source": [
    "#8\n"
   ]
  },
  {
   "cell_type": "markdown",
   "metadata": {},
   "source": [
    "### Ejercicio 9:\n",
    "Sin utilizar `in` en ningún lugar (ni siquiera en los bucles) implementar una función *insertar(elemento, conjunto)* que primero compruebe si el elemento recibido por parámetro está en el conjunto dado. A continuación, si lo está, que muestre por pantalla el mensaje \"El elemento ya se encuentra en el conjunto\". En caso contrario, que inserte el elemento sin utilizar los métodos `add` ni `update`."
   ]
  },
  {
   "cell_type": "code",
   "execution_count": 8,
   "metadata": {},
   "outputs": [],
   "source": [
    "#9\n"
   ]
  }
 ],
 "metadata": {
  "kernelspec": {
   "display_name": "Python 3 (ipykernel)",
   "language": "python",
   "name": "python3"
  },
  "language_info": {
   "codemirror_mode": {
    "name": "ipython",
    "version": 3
   },
   "file_extension": ".py",
   "mimetype": "text/x-python",
   "name": "python",
   "nbconvert_exporter": "python",
   "pygments_lexer": "ipython3",
   "version": "3.8.8"
  }
 },
 "nbformat": 4,
 "nbformat_minor": 4
}
