{
 "cells": [
  {
   "cell_type": "markdown",
   "metadata": {},
   "source": [
    "# Determinantes\n",
    "\n",
    "## 6.1-  ¿Qué es un determinante?\n",
    "\n",
    "El **determinante** es un número que puede calcularse sobre las **matrices cuadradas**. Su valor viene dado por la suma de los productos de las diagonales de la matriz en una dirección menos la suma de los productos de las diagonales en la otro dirección. Se epresente con el símbolo $|A|$.<br><br>\n",
    "\n",
    "<center>A= $\\left(\n",
    "\\begin{array}{ll}\n",
    "a_{11} & a_{12} & a_{13} \\\\\n",
    "a_{21} & a_{22}  & a_{23} \\\\\n",
    "a_{31} & a_{32}  & a_{33} \\\\\n",
    "\\end{array}\n",
    "\\right)$</center><br><br>\n",
    "\n",
    "<center>$|A| = (a_{11}a_{22}a_{33} + a_{12}a_{23}a_{31} + a_{13}a_{21}a_{32}) - (a_{31}a_{22}a_{13} + a_{32}a_{23}a_{11} + a_{33}a_{21}a_{12})$</center>\n",
    "\n",
    "#### Matriz Singular\n",
    "\n",
    "Una matriz se considera **matriz singular** si y solo si su determinante es nulo y en ese caso, no existe su matriz inversa."
   ]
  },
  {
   "cell_type": "markdown",
   "metadata": {},
   "source": [
    "## 6.2-  Calcular determinantes en Python\n",
    "\n",
    "Al igual que antes, usamos `Numpy` para ello."
   ]
  },
  {
   "cell_type": "markdown",
   "metadata": {},
   "source": [
    "<div class=\"alert alert-success\">\n",
    "    <b>Calcula el determinante de la siguiente matriz $A$</b><br><br>\n",
    "    \n",
    "<center>A= $\\left(\n",
    "\\begin{array}{ll}\n",
    "9\n",
    "\\end{array}\n",
    "\\right)$</center>\n",
    "</div> "
   ]
  },
  {
   "cell_type": "markdown",
   "metadata": {},
   "source": [
    "Como es lógico, el determinante de dicha **matriz $A$ de orden 1** va a ser el único valor que contiene dicha matriz."
   ]
  },
  {
   "cell_type": "code",
   "execution_count": null,
   "metadata": {},
   "outputs": [],
   "source": []
  },
  {
   "cell_type": "markdown",
   "metadata": {},
   "source": [
    "__**Ese residuo infinitesimal es un redondeo de las operaciones en bytes**__ - [tenéis aquí más información si queréis echarle un ojo](https://docs.python.org/2/tutorial/floatingpoint.html)\n",
    "\n",
    "#### Orden\n",
    "\n",
    "Cuando se habla de orden en una matriz nos referimos al tamaño $mXn$ de la matriz. En las matrices cuadradas $m=n$\n",
    "\n",
    "<div class=\"alert alert-success\">\n",
    "    <b>Calcula el determinante de la matriz de segundo orden $B$</b><br><br>\n",
    "    \n",
    "<center>$\n",
    "  B=\n",
    "  \\left( {\\begin{array}{cc}\n",
    "   4 & -1  \\\\\n",
    "   -2 & 0  \\\\\n",
    "  \\end{array} } \\right) \n",
    "$</center>\n",
    "</div> \n",
    "\n",
    "Aplicando la definición, obtenemos que:<br><br>\n",
    "<center>$|B| = a_{11} \\cdot a_{22} - a_{21} \\cdot a_{12}$</center><br>\n",
    "<center>$|B| = 4 \\cdot 0 - (-2) \\cdot (-1) = -2$</center>  \n",
    "\n",
    "Por tanto:"
   ]
  },
  {
   "cell_type": "code",
   "execution_count": null,
   "metadata": {},
   "outputs": [],
   "source": []
  },
  {
   "cell_type": "markdown",
   "metadata": {},
   "source": [
    "<div class=\"alert alert-success\">\n",
    "    <b>Calcula el determinante de la matriz de tercer orden $C$</b><br><br>\n",
    "    \n",
    "<center>$\n",
    "  C=\n",
    "  \\left[ {\\begin{array}{cc}\n",
    "   5 & 0 & 2\\\\\n",
    "   3 & 1 & 1\\\\\n",
    "   0 & 1 & 2\n",
    "  \\end{array} } \\right]\n",
    "$</center>\n",
    "</div> "
   ]
  },
  {
   "cell_type": "code",
   "execution_count": null,
   "metadata": {},
   "outputs": [],
   "source": []
  },
  {
   "cell_type": "markdown",
   "metadata": {},
   "source": [
    "#### Regla de Sarrus\n",
    "\n",
    "El proceso para calcular el determinante de una matriz de orden 3 se conoce como **regla de Sarrus**. \n",
    "\n",
    "<center>A= $\\left(\n",
    "\\begin{array}{ll}\n",
    "a_{11} & a_{12} & a_{13} \\\\\n",
    "a_{21} & a_{22}  & a_{23} \\\\\n",
    "a_{31} & a_{32}  & a_{33} \\\\\n",
    "\\end{array}\n",
    "\\right)$</center><br><br>\n",
    "\n",
    "<center>$|A| = (a_{11}a_{22}a_{33} + a_{12}a_{23}a_{31} + a_{13}a_{21}a_{32}) - (a_{31}a_{22}a_{13} + a_{32}a_{23}a_{11} + a_{33}a_{21}a_{12})$</center>\n",
    "\n",
    "\n",
    "## 6.4- ¿Cómo lo hace Numpy? - Menor complementario\n",
    "\n",
    "<img src=\"Images/determinante.png\" width=80%/>\n",
    "\n",
    "Dada una matriz cuadrada de orden $n$, $A=(a_{ij})$, se denomina **menor complementario** $\\alpha_{ij}$ de un elemento $a_{ij}$ al determinante de la matriz de orden $n-1$ que resulta de suprimir en la matriz $A$ la fila $i$ y la columna $j$. \n",
    "\n",
    "Considerando la siguiente matriz:<br><br>\n",
    "\n",
    "<center>$\n",
    "  A=\n",
    "  \\left[ {\\begin{array}{cc}\n",
    "   1 & 2 & 3\\\\\n",
    "   4 & 5 & 6\\\\\n",
    "   7 & 8 & 9\\\\\n",
    "  \\end{array} } \\right]\n",
    "$</center>\n",
    "\n",
    "El **menor complementario** al elemento $\\alpha_{11} = 1$ viene dado por:\n",
    "\n",
    "<img src=\"Images/minor.png\" width=10%/><br>\n",
    "\n",
    "<center>$\\left| {\\begin{array}{cc}\n",
    "   5 & 6  \\\\\n",
    "   8 & -9  \\\\\n",
    "  \\end{array} } \\right| = -93\n",
    "$</center>\n",
    "\n",
    "El **menor complementario** al elemento $\\alpha_{22} = 5$ viene dado por:\n",
    "\n",
    "<img src=\"Images/minor2.png\" width=10%/><br>\n",
    "\n",
    "<center>$\\left| {\\begin{array}{cc}\n",
    "   1 & 3  \\\\\n",
    "   7 & 9  \\\\\n",
    "  \\end{array} } \\right| = -12\n",
    "$</center><br><br>\n",
    "\n",
    "`Numpy` internamente no aplica la **regla de Sarrus** porque computacionalmente no es tan eficiente como calcular el determinante aplicando el **menor complemantario**, además de que no es extensible a matrices de mayor orden."
   ]
  },
  {
   "cell_type": "code",
   "execution_count": null,
   "metadata": {},
   "outputs": [],
   "source": [
    "def getMatrixMinor(m,j):\n",
    "    return [row[:j] + row[j+1:] for row in (m[:0]+m[1:])]\n",
    "\n",
    "def getMatrixDeternminant(m):\n",
    "    #base case for 2x2 matrix\n",
    "    if len(m) == 2:\n",
    "        return m[0][0]*m[1][1]-m[0][1]*m[1][0]\n",
    "\n",
    "    determinant = 0\n",
    "    for c in range(len(m)):\n",
    "        minor_matrix = getMatrixMinor(m,c)\n",
    "        determinant += ((-1)**c)*m[0][c]*getMatrixDeternminant(minor_matrix)\n",
    "    return determinant"
   ]
  },
  {
   "cell_type": "code",
   "execution_count": null,
   "metadata": {},
   "outputs": [],
   "source": [
    "D = [[5, 0, 2],[3, 1, 1],[0, 1, 2]]\n",
    "getMatrixDeternminant(D)"
   ]
  },
  {
   "cell_type": "markdown",
   "metadata": {},
   "source": [
    "## 6.5- Propiedades de los determinantes  \n",
    "\n",
    "Veamos algunas propiedades de los determinante, que usadas para desarrollar determinantes de orden superior al cuarto, facilitarán mucho los cálculos.  \n",
    "1. El determinante de cualquier matriz coincide con el de su traspuesta  \n",
    "2. El valor de un determinante es igual a la suma de los productos de los elementos de una línea por sus adjuntos correspondientes\n",
    "3. Si en un determinante cambiamos entre sí dos filas o dos columnas, el valor absoluto del determinante se mantiene pero cambia de signo. \n",
    "4. Si un determinante tiene dos líneas paralelas iguales, vale cero. \n",
    "5. Si un determinante tiene una línea de ceros, vale cero.  \n",
    "6. Si en un determinante se multiplican todos los elementos de una línea por un número $\\lambda$, entonces el valor del determinante queda también multiplicado por $\\lambda$.  \n",
    "7. Si un determinante tiene dos líneas paralelas proporcionales, vale cero.  \n",
    "8. Si dos o más determinantes difieren únicamente en los elementos de una línea, su suma es otro determinante en el que los elementos de esta línea son el resultado de sumar los términos correspondientes de los determinantes dados, siendo el resto de las líneas iguales a las de los sumandos.\n",
    "9. Si una línea es combinación lineas de otras paralelas, entonces el determinante vale cero.\n",
    "10. El valor de un determinante no varía si a una línea se le suma otra paralela multiplicada por un número.\n",
    "11. El determinante de una matriz A, diagonal o triangular, es el producto de los elementos de la diagonal principal.\n",
    "12. |A $\\cdot$ B|= |A| $\\cdot$ |B|\n"
   ]
  },
  {
   "cell_type": "markdown",
   "metadata": {},
   "source": [
    "## 6.6- Matriz invertible  \n",
    "\n",
    "Como hemos mencionado al principio, una **matriz** $A$ es **invertible** si y sólo si $|A|≠0$.  \n",
    "\n",
    "<div class=\"alert alert-success\">\n",
    "    <b>Determina si la siguiente matriz es invertible</b><br><br>\n",
    "    \n",
    "<center>$\n",
    "  E=\n",
    "  \\left[ {\\begin{array}{cc}\n",
    "   2 & 3 & 0\\\\\n",
    "   1 & 3 & 4\\\\\n",
    "   1 & 2 & 1\\\\\n",
    "  \\end{array} } \\right]\n",
    "$</center>\n",
    "</div> "
   ]
  },
  {
   "cell_type": "markdown",
   "metadata": {},
   "source": [
    "Aplicando `np.linalg.inv` podemos resolverlo:"
   ]
  },
  {
   "cell_type": "code",
   "execution_count": null,
   "metadata": {},
   "outputs": [],
   "source": []
  },
  {
   "cell_type": "markdown",
   "metadata": {},
   "source": [
    "¿Qué sucede para la siguiente matriz:\n",
    "\n",
    "<center>$\n",
    "  F=\n",
    "  \\left[ {\\begin{array}{cc}\n",
    "   2 & 0 & 0\\\\\n",
    "   1 & 0 & 1\\\\\n",
    "   0 & 0 & 1\\\\\n",
    "  \\end{array} } \\right]\n",
    "$</center>"
   ]
  },
  {
   "cell_type": "code",
   "execution_count": null,
   "metadata": {},
   "outputs": [],
   "source": []
  },
  {
   "cell_type": "markdown",
   "metadata": {},
   "source": [
    "Nos indica que es una **matriz singular** al ser su determinante 0 y no tener inversa."
   ]
  },
  {
   "cell_type": "markdown",
   "metadata": {},
   "source": [
    "## 6.7- Sistema de ecuaciones - Combinación lineal \n",
    "\n",
    "Si nos acordamos de cuando tratamos las combinaciones lineales de vectores, vamos ahora a intentar resolver un sistema de ecuaciones usando todo lo que sabemos hasta ahora sobre matrices, para poder calcular la combinación lineal de estos vectores:\n",
    "\n",
    "En el siguiente módulo trataremos más a fondo los sistemas de ecuaciones.\n",
    "\n",
    "<div class=\"alert alert-success\">\n",
    "    <b>Escribe cada uno de los siguientes vectores $(v_1, v_2, v_3)$ como combinación lineal de $A$</b><br><br>\n",
    "    \n",
    "<center>\n",
    "    $v_1 = [3, 0, 0]$\n",
    "    $v_2 = [0, 2, 0]$\n",
    "    $v_3 = [0, 0, 1]$\n",
    "</center><br><br>\n",
    "<center>$\n",
    "  A=\n",
    "  \\left[ {\\begin{array}{cc}\n",
    "   2 & 1 & 2\\\\\n",
    "   0 & 0 & 2\\\\\n",
    "   1 & 2 & 2\\\\\n",
    "  \\end{array} } \\right]\n",
    "$</center>\n",
    "</div> "
   ]
  },
  {
   "cell_type": "markdown",
   "metadata": {},
   "source": [
    "Consiste en resolver el siguiente sistema de ecuaciones:\n",
    "    \n",
    "<center>$A \\cdot X = B$</center><br>\n",
    "<center>$X = A^{-1} \\cdot B$</center><br>\n",
    "\n",
    "Donde $A$ viene dado por:\n",
    "\n",
    "<center>$A = \\left[ {\\begin{array}{cc}\n",
    "   2 & 1 & 2\\\\\n",
    "   0 & 0 & 2\\\\\n",
    "   1 & 2 & 2\\\\\n",
    "\\end{array} } \\right]$</center><br>\n",
    "  \n",
    "Y donde $B$ viene conformado por los vectores $v_1, v_2, v_3$:<br>\n",
    "\n",
    "<center>$B_1 = \\left[ {\\begin{array}{cc}\n",
    "   3\\\\\n",
    "   0\\\\\n",
    "   0\\\\\n",
    "\\end{array} } \\right]\n",
    "B_2 = \\left[ {\\begin{array}{cc}\n",
    "   0\\\\\n",
    "   2\\\\\n",
    "   0\\\\\n",
    "\\end{array} } \\right]\n",
    "B_3 = \\left[ {\\begin{array}{cc}\n",
    "   0\\\\\n",
    "   0\\\\\n",
    "   1\\\\\n",
    "\\end{array} } \\right]$\n",
    "</center><br>\n",
    "\n",
    "Por tanto, vamos a resolver dicho este sistema de ecuaciones $X = A^{-1} \\cdot B$, primero para $B_1 = [3, 0, 0]$"
   ]
  },
  {
   "cell_type": "code",
   "execution_count": null,
   "metadata": {},
   "outputs": [],
   "source": []
  },
  {
   "cell_type": "markdown",
   "metadata": {},
   "source": [
    "Para $B_2 = [0, 2, 0]$"
   ]
  },
  {
   "cell_type": "code",
   "execution_count": null,
   "metadata": {},
   "outputs": [],
   "source": []
  },
  {
   "cell_type": "markdown",
   "metadata": {},
   "source": [
    "Para $B_3 = [0, 0, 1]$"
   ]
  },
  {
   "cell_type": "code",
   "execution_count": null,
   "metadata": {},
   "outputs": [],
   "source": []
  },
  {
   "cell_type": "markdown",
   "metadata": {},
   "source": [
    "## 6.8- Producto vectorial\n",
    "\n",
    "Si os acordáis, en el módulo de vectores tratamos el **producto vectorial** de dos vectores **u** y **v** y cuyo resultado es un **vector**. Una de las características de dicho vector es que resulta ser perpendicular al plano generado por los vectores **u** y **v**. Además, el **módulo del producto vectorial** es igual al área del paralelogramos de lado asociado a ambos vectores.\n",
    "\n",
    "<img src=\"Images/producto_vectorial.png\" style=\"width: 300px;\"/> \n",
    "\n",
    "$|u\\times v|$ = $| u | \\cdot$ $|v|$ $\\cdot sen(u,v)$  \n",
    "\n",
    "Una vez entendido los **determinantes** ya podemos proceder a su cálculo en tres dimensiones. Sean dos vectores **u**=$(u_1, u_2, u_3)$ y **v**=$(v_1, v_2, v_3)$, el **producto vectorial** entre **u** y **v** viene dado por:  \n",
    "\n",
    "$|u\\times v| = \n",
    "  \\left| {\\begin{array}{cc}\n",
    "   i & j & k\\\\\n",
    "   u_{1} & u_{2} & u_{3}\\\\\n",
    "   v_{1} & v_{2} & v_{3}\\\\\n",
    "  \\end{array} } \\right| = \\left| {\\begin{array}{cc}\n",
    "   u_{2} & u_{3}\\\\\n",
    "   v_{2} & v_{3}\\\\\n",
    "  \\end{array} } \\right| \\cdot i -  \\left| {\\begin{array}{cc}\n",
    "   u_{1} & u_{3}\\\\\n",
    "   v_{1} & v_{3}\\\\\n",
    "  \\end{array} } \\right| \\cdot j + \\left| {\\begin{array}{cc}\n",
    "   u_{1} & u_{2}\\\\\n",
    "   v_{1} & v_{2}\\\\\n",
    "  \\end{array} } \\right| \\cdot k$\n",
    "  \n",
    "  "
   ]
  },
  {
   "cell_type": "code",
   "execution_count": null,
   "metadata": {},
   "outputs": [],
   "source": []
  }
 ],
 "metadata": {
  "kernelspec": {
   "display_name": "Python 3",
   "language": "python",
   "name": "python3"
  },
  "language_info": {
   "codemirror_mode": {
    "name": "ipython",
    "version": 3
   },
   "file_extension": ".py",
   "mimetype": "text/x-python",
   "name": "python",
   "nbconvert_exporter": "python",
   "pygments_lexer": "ipython3",
   "version": "3.8.8"
  }
 },
 "nbformat": 4,
 "nbformat_minor": 4
}
