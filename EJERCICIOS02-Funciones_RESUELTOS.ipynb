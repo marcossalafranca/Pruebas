{
 "cells": [
  {
   "cell_type": "markdown",
   "metadata": {},
   "source": [
    "<img src=\"images/keepcoding.png\" width=200 align=\"left\">"
   ]
  },
  {
   "cell_type": "markdown",
   "metadata": {},
   "source": [
    "<img src=\"images/me.jpg\" width=150 align=\"right\">\n",
    "\n",
    "# Ejercicios de Funciones\n",
    "\n",
    "Autor: Carlos Moreno Morera\n",
    "\n",
    "Contacto: carlos.moreno@ibm.com\n",
    "\n",
    "Última revisión: 13/Jul/2022"
   ]
  },
  {
   "cell_type": "markdown",
   "metadata": {},
   "source": [
    "### Ejercicio 1:\n",
    "Implementar una función *imagen(f, Domf)* que dada cualquier función *f* y su dominio *Domf*, devuelva su conjunto imagen."
   ]
  },
  {
   "cell_type": "code",
   "execution_count": 1,
   "metadata": {},
   "outputs": [
    {
     "name": "stdout",
     "output_type": "stream",
     "text": [
      "{128, 1, 2, 256, 4, 512, 0.0009765625, 0.001953125, 8, 0.00390625, 0.0078125, 0.015625, 0.03125, 0.0625, 0.25, 0.125, 16, 0.5, 32, 64}\n"
     ]
    }
   ],
   "source": [
    "#1\n",
    "def imagen(f, Domf):\n",
    "    return {f(x) for x in Domf}\n",
    "\n",
    "print(imagen(lambda x: 2**x, {n-10 for n in range(20)}))"
   ]
  },
  {
   "cell_type": "markdown",
   "metadata": {},
   "source": [
    "### Ejercicio 2:\n",
    "\n",
    "Implementa una función *igualdadim(f, Df, g, Dg)* que dadas dos funciones *f* y *g* y sus dominios *Df* y *Dg* compare la igualdad de dichas funciones comparando sus dominios y sus conjuntos imagen. Reflexiona sobre si es equivalente a la función *igualdad* implementada en clase y compruébalo (o rebátelo) con algunos ejemplos."
   ]
  },
  {
   "cell_type": "code",
   "execution_count": 2,
   "metadata": {},
   "outputs": [
    {
     "name": "stdout",
     "output_type": "stream",
     "text": [
      "igualdad: False\n",
      "igualdadim: True\n"
     ]
    }
   ],
   "source": [
    "#2\n",
    "#Esta es la función igualdad vista en clase\n",
    "def igualdad(f, Df, g, Dg):\n",
    "    if Df != Dg:\n",
    "        return False\n",
    "    for x in Df:\n",
    "        if f(x) != g(x):\n",
    "            return False\n",
    "    return True\n",
    "\n",
    "#A continuación la función igualdadim\n",
    "def igualdadim(f, Df, g, Dg):\n",
    "    return Df == Dg and imagen(f, Df) == imagen(g, Dg)\n",
    "\n",
    "#No son equivalentes, ya que que las imágenes sean iguales no es lo mismo que para cualquier punto del dominio\n",
    "#g y f generen la misma imagen. Veamos un ejemplo:\n",
    "f = lambda x: (-1)**x\n",
    "g = lambda x: (-1)**(x+1)\n",
    "\n",
    "Df_g = {n for n in range(20)}\n",
    "print(f'igualdad: {igualdad(f, Df_g, g, Df_g)}')\n",
    "print(f'igualdadim: {igualdadim(f, Df_g, g, Df_g)}')"
   ]
  },
  {
   "cell_type": "markdown",
   "metadata": {},
   "source": [
    "### Ejercicio 3:\n",
    "Implementar la función *essobreyectiva(f, Dom, Codm)* que dada una función *f* su dominio *Dom* y su codominio *Codm* verifique si la función es sobreyectiva."
   ]
  },
  {
   "cell_type": "code",
   "execution_count": 3,
   "metadata": {},
   "outputs": [],
   "source": [
    "#3\n",
    "def essobreyectiva(f, Dom, Codm):\n",
    "    return imagen(f, Dom) == Codm"
   ]
  },
  {
   "cell_type": "markdown",
   "metadata": {},
   "source": [
    "### Ejercicio 4:\n",
    "Implementar la función *esbiyectiva(f, Dom, Codm)* que dada una función *f* su dominio *Dom* y su codominio *Codm* verifique si la función es biyectiva"
   ]
  },
  {
   "cell_type": "code",
   "execution_count": 4,
   "metadata": {},
   "outputs": [],
   "source": [
    "#4\n",
    "def esbiyectiva(f, Dom, Codm):\n",
    "    Im = set()\n",
    "    for e in Dom:\n",
    "        i = f(e)\n",
    "        if i in Im:\n",
    "            return False\n",
    "        Im.add(i)\n",
    "    return Im == Codm"
   ]
  },
  {
   "cell_type": "markdown",
   "metadata": {},
   "source": [
    "### ♦️Ejercicio 5:\n",
    "Implementar la función *inversa(f, Dom, Codm)* que dada una función *f* su dominio *Dom* y su codominio *Codm* verifique si la función es biyectiva. Si no lo es indique el mensaje \"La función no tiene inversa\". En caso de que sea biyectiva, la función debe devolver la inversa de *f*."
   ]
  },
  {
   "cell_type": "code",
   "execution_count": 5,
   "metadata": {},
   "outputs": [
    {
     "name": "stdout",
     "output_type": "stream",
     "text": [
      "7\n",
      "85\n",
      "True\n"
     ]
    }
   ],
   "source": [
    "#5\n",
    "def inversa(f, Dom, Codm):\n",
    "    if not(esbiyectiva(f, Dom, Codm)):\n",
    "        print('La función no tiene inversa')\n",
    "    else:\n",
    "        dict_inversa = {}\n",
    "        for x in Dom:\n",
    "            dict_inversa[f(x)] = x\n",
    "        return lambda x: dict_inversa[x]\n",
    "    \n",
    "f = lambda x: x**2\n",
    "Dom = {n for n in range(100)}\n",
    "Codm = {n**2 for n in range(100)}\n",
    "inv = inversa(f, Dom, Codm)\n",
    "print(inv(49))\n",
    "print(inv(7225))\n",
    "print(Dom == imagen(inv, Codm))"
   ]
  },
  {
   "cell_type": "markdown",
   "metadata": {},
   "source": [
    "### Ejercicio 6:\n",
    "Utilizando la implementación de `set` con funciones hash vista en clase, implementar la función *elimina(e, s)* que dado un conjunto *s* y un elemento *e*, elimine el elemento del conjunto solo cuando pertenezca al mismo. En caso de no pertenecer al mismo, debe mostrarse un mensaje por pantalla indicando que no se puede eliminar porque el elemento no pertenece al conjunto."
   ]
  },
  {
   "cell_type": "code",
   "execution_count": 6,
   "metadata": {},
   "outputs": [
    {
     "name": "stdout",
     "output_type": "stream",
     "text": [
      "{Ejercicios, Funciones, Hash}\n",
      "{Ejercicios, Funciones}\n"
     ]
    }
   ],
   "source": [
    "#6\n",
    "\n",
    "#Nos traemos la implementación vista en clase\n",
    "def conjunto():\n",
    "    return [[] for i in range(2096)]\n",
    "\n",
    "def print_set(s):\n",
    "    cadena = '{'\n",
    "    for l in s:\n",
    "        for e in l:\n",
    "            cadena += f'{e}, '\n",
    "    if len(cadena) > 1:\n",
    "        cadena = cadena[:-2]\n",
    "    print(cadena + '}')\n",
    "    \n",
    "def h(e):\n",
    "    return hash(e) % 2096\n",
    "\n",
    "def inserta(e, s):\n",
    "    posicion = h(e)\n",
    "    if e not in s[posicion]:\n",
    "        s[posicion].append(e)\n",
    "        \n",
    "def pertenece(e, s):\n",
    "    return e in s[h(e)]\n",
    "\n",
    "#Implementamos la función del ejercicio\n",
    "def elimina(e, s):\n",
    "    if not(pertenece(e, s)):\n",
    "        print(f'El elemento {e} no pertenece al conjunto. No se ha podido eliminar')\n",
    "    else:\n",
    "        s[h(e)].remove(e)\n",
    "        \n",
    "s = conjunto()\n",
    "inserta('Ejercicios', s)\n",
    "inserta('Funciones', s)\n",
    "inserta('Hash', s)\n",
    "print_set(s)\n",
    "elimina('Hash', s)\n",
    "print_set(s)"
   ]
  },
  {
   "cell_type": "markdown",
   "metadata": {},
   "source": [
    "### Ejercicio 7:\n",
    "Utilizando la implementación de `set` con funciones hash vista en clase, implementar una función *vaciar(s)* que dado un conjunto *s*, elimine todos sus elementos."
   ]
  },
  {
   "cell_type": "code",
   "execution_count": 7,
   "metadata": {},
   "outputs": [
    {
     "name": "stdout",
     "output_type": "stream",
     "text": [
      "{}\n"
     ]
    }
   ],
   "source": [
    "#7\n",
    "def vaciar(s):\n",
    "    for l in s:\n",
    "        l.clear()\n",
    "        \n",
    "vaciar(s)\n",
    "print_set(s)"
   ]
  },
  {
   "cell_type": "markdown",
   "metadata": {},
   "source": [
    "### Ejercicio 8:\n",
    "Volver a implementar la función *conjunto(datos)* vista en clase, pero en esta ocasión puede recibir un parámetro *datos* (que puede ser una lista, un conjunto o cualquier estructura de datos iterable) que son los elementos con los que debe inicializarse el conjunto."
   ]
  },
  {
   "cell_type": "code",
   "execution_count": 8,
   "metadata": {},
   "outputs": [
    {
     "name": "stdout",
     "output_type": "stream",
     "text": [
      "{0, 1, 2, 3, 4, 5, 6, 7, 8, 9, 10, 11, 12, 13, 14, 15, 16, 17, 18, 19, 20, 21, 22, 23, 24, 25, 26, 27, 28, 29, 30, 31, 32, 33, 34, 35, 36, 37, 38, 39, 40, 41, 42, 43, 44, 45, 46, 47, 48, 49, 50, 51, 52, 53, 54, 55, 56, 57, 58, 59, 60, 61, 62, 63, 64, 65, 66, 67, 68, 69, 70, 71, 72, 73, 74, 75, 76, 77, 78, 79, 80, 81, 82, 83, 84, 85, 86, 87, 88, 89, 90, 91, 92, 93, 94, 95, 96, 97, 98, 99}\n"
     ]
    }
   ],
   "source": [
    "#8\n",
    "def conjunto(datos=[]):\n",
    "    s = [[] for i in range(2096)]\n",
    "    for d in datos:\n",
    "        inserta(d, s)\n",
    "    return s\n",
    "\n",
    "print_set(conjunto([n for n in range(100)]))"
   ]
  },
  {
   "cell_type": "markdown",
   "metadata": {},
   "source": [
    "### Ejercicio 9:\n",
    "Utilizando la implementación de `set` con funciones hash vista en clase, implementar la función *cardinal(s)* que dado un conjunto *s* devuelva su cardinal."
   ]
  },
  {
   "cell_type": "code",
   "execution_count": 9,
   "metadata": {},
   "outputs": [
    {
     "name": "stdout",
     "output_type": "stream",
     "text": [
      "100\n"
     ]
    }
   ],
   "source": [
    "#9\n",
    "def cardinal(s):\n",
    "    c = 0\n",
    "    for l in s:\n",
    "        c += len(l)\n",
    "    return c\n",
    "\n",
    "print(cardinal(conjunto([n for n in range(100)])))"
   ]
  },
  {
   "cell_type": "markdown",
   "metadata": {},
   "source": [
    "### Ejercicio 10:\n",
    "Utilizando la implementación de `set` con funciones hash vista en clase, implementar la función *union(s1, s2)* que dados dos conjuntos *s1* y *s2* devuelva el conjunto unión."
   ]
  },
  {
   "cell_type": "code",
   "execution_count": 10,
   "metadata": {},
   "outputs": [
    {
     "name": "stdout",
     "output_type": "stream",
     "text": [
      "{0, 1, 2, 3, 4, 5, 6, 7, 8, 9, 10, 11, 12, 13, 14, 15, 16, 17, 18, 19, 20, 21, 22, 23, 24, 25, 26, 27, 28, 29, 30, 31, 32, 33, 34, 35, 36, 37, 38, 39, 40, 41, 42, 43, 44, 45, 46, 47, 48, 49, 50, 51, 52, 53, 54, 55, 56, 57, 58, 59, 60, 61, 62, 63, 64, 65, 66, 67, 68, 69, 70, 71, 72, 73, 74, 75, 76, 77, 78, 79, 80, 81, 82, 83, 84, 85, 86, 87, 88, 89, 90, 91, 92, 93, 94, 95, 96, 97, 98, 99, 100, 101, 102, 103, 104, 105, 106, 107, 108, 109}\n"
     ]
    }
   ],
   "source": [
    "#10\n",
    "def union(s1, s2):\n",
    "    resultado = s1.copy()\n",
    "    for l in s2:\n",
    "        for e in l:\n",
    "            inserta(e, resultado)\n",
    "    return resultado\n",
    "\n",
    "s1 = conjunto([n for n in range(100)])\n",
    "s2 = conjunto([n for n in range(50, 110)])\n",
    "print_set(union(s1, s2))"
   ]
  }
 ],
 "metadata": {
  "kernelspec": {
   "display_name": "Python 3",
   "language": "python",
   "name": "python3"
  },
  "language_info": {
   "codemirror_mode": {
    "name": "ipython",
    "version": 3
   },
   "file_extension": ".py",
   "mimetype": "text/x-python",
   "name": "python",
   "nbconvert_exporter": "python",
   "pygments_lexer": "ipython3",
   "version": "3.8.8"
  }
 },
 "nbformat": 4,
 "nbformat_minor": 4
}
