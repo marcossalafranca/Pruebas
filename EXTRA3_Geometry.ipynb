{
 "cells": [
  {
   "cell_type": "markdown",
   "metadata": {},
   "source": [
    "# Geometry"
   ]
  },
  {
   "cell_type": "markdown",
   "metadata": {},
   "source": [
    "## Figuras planas  \n",
    "\n",
    "<div class=\"alert alert-success\">\n",
    "    <b>Dibujemos un círculo centrado en el (0,0) con radio 1.0</b>\n",
    "</div> "
   ]
  },
  {
   "cell_type": "code",
   "execution_count": 3,
   "metadata": {},
   "outputs": [
    {
     "data": {
      "image/png": "[encoded data removed]",
      "text/plain": [
       "<Figure size 432x288 with 1 Axes>"
      ]
     },
     "metadata": {},
     "output_type": "display_data"
    }
   ],
   "source": [
    "import matplotlib.pyplot as plt\n",
    "\n",
    "# Vamos a separar la creación del círculo y el mostrar la figura en dos funciones\n",
    "def crear_circulo():\n",
    "    circulo = plt.Circle((0, 0), radius = 1.0)\n",
    "    return circulo\n",
    "# Con esta funcion creamos un circulo centrado en (0,0) con radio 1\n",
    "# En definitiva lo que devuelve es el círculo creado\n",
    "\n",
    "# Creamos ahora la función para mostrar la figura con un metodo genérico que nos valga en otros casos\n",
    "def mostrar_figura(patch):\n",
    "    # Para devolver los ejes actuales\n",
    "    ax = plt.gca()\n",
    "    # Le agregamos la figura que le pasamos usando la funcion mostrar_figura\n",
    "    ax.add_patch(patch)\n",
    "    # Llamamos a la función axis con el parámetro escalado, para indicarle a matplotlib que ajuste automática\n",
    "    # los límites de los ejes\n",
    "    plt.axis('scaled')\n",
    "    # Mostramos la figura\n",
    "    plt.show()\n",
    "        \n",
    "c = crear_circulo()\n",
    "mostrar_figura(c)"
   ]
  },
  {
   "cell_type": "markdown",
   "metadata": {},
   "source": [
    "<div class=\"alert alert-success\">\n",
    "    <b>Dibujemos ahora una elipse de 0.1 de ancho y 0.4 de alto</b>\n",
    "</div> "
   ]
  },
  {
   "cell_type": "code",
   "execution_count": 4,
   "metadata": {},
   "outputs": [
    {
     "data": {
      "image/png": "[encoded data removed]",
      "text/plain": [
       "<Figure size 432x288 with 1 Axes>"
      ]
     },
     "metadata": {},
     "output_type": "display_data"
    }
   ],
   "source": [
    "import matplotlib.pyplot as plt\n",
    "from matplotlib.patches import Ellipse\n",
    "\n",
    "# Vamos a separar la creación del círculo y el mostrar la figura en dos funciones\n",
    "def crear_elipse():\n",
    "    elipse = Ellipse((0, 0), width=0.1, height=0.4)\n",
    "    return elipse\n",
    "# Con esta funcion creamos un circulo centrado en (0,0) con radio 1\n",
    "# En definitiva lo que devuelve es el círculo creado\n",
    "\n",
    "# Creamos ahora la función para mostrar la figura con un metodo genérico que nos valga en otros casos\n",
    "def mostrar_figura(patch):\n",
    "    # Para devolver los ejes actuales\n",
    "    ax = plt.gca()\n",
    "    # Le agregamos la figura que le pasamos usando la funcion mostrar_figura\n",
    "    ax.add_patch(patch)\n",
    "    # Llamamos a la función axis con el parámetro escalado, para indicarle a matplotlib que ajuste automática\n",
    "    # los límites de los ejes\n",
    "    plt.axis('scaled')\n",
    "    # Mostramos la figura\n",
    "    plt.show()\n",
    "        \n",
    "c = crear_elipse()\n",
    "mostrar_figura(c)"
   ]
  },
  {
   "cell_type": "markdown",
   "metadata": {},
   "source": [
    "<div class=\"alert alert-success\">\n",
    "    <b>Dibujemos ahora una elipse de 0.1 de ancho y 0.4 de alto con un giro de 90º</b>\n",
    "</div> "
   ]
  },
  {
   "cell_type": "code",
   "execution_count": 5,
   "metadata": {},
   "outputs": [
    {
     "data": {
      "image/png": "[encoded data removed]",
      "text/plain": [
       "<Figure size 432x288 with 1 Axes>"
      ]
     },
     "metadata": {},
     "output_type": "display_data"
    }
   ],
   "source": [
    "import matplotlib.pyplot as plt\n",
    "from matplotlib.patches import Ellipse\n",
    "\n",
    "# Vamos a separar la creación del círculo y el mostrar la figura en dos funciones\n",
    "def crear_elipse():\n",
    "    elipse = Ellipse((0, 0), width=0.1, height=0.4, angle=90)\n",
    "    return elipse\n",
    "# Con esta funcion creamos un circulo centrado en (0,0) con radio 1\n",
    "# En definitiva lo que devuelve es el círculo creado\n",
    "\n",
    "# Creamos ahora la función para mostrar la figura con un metodo genérico que nos valga en otros casos\n",
    "def mostrar_figura(patch):\n",
    "    # Para devolver los ejes actuales\n",
    "    ax = plt.gca()\n",
    "    # Le agregamos la figura que le pasamos usando la funcion mostrar_figura\n",
    "    ax.add_patch(patch)\n",
    "    # Llamamos a la función axis con el parámetro escalado, para indicarle a matplotlib que ajuste automática\n",
    "    # los límites de los ejes\n",
    "    plt.axis('scaled')\n",
    "    # Mostramos la figura\n",
    "    plt.show()\n",
    "        \n",
    "c = crear_elipse()\n",
    "mostrar_figura(c)"
   ]
  },
  {
   "cell_type": "markdown",
   "metadata": {},
   "source": [
    "## Fractales\n",
    "\n",
    "Los fractales son patrones geométricos complejos o formas que surgen de fórmulas matemáticas sorprendentemente simples.  \n",
    "\n",
    "En comparación con las formas geométricas, como los círculos y los rectángulos, un fractal parece irregular y sin ningún patrón o descripción obvios, pero si observa detenidamente, veremos que los patrones emergen y la forma completa está compuesta de numerosas copias de sí misma.  \n",
    "\n",
    "<img src=\"Images/1200px-Romanescu.jpg\" style=\"width: 300px;\"/>  \n",
    "\n",
    "Debido a que los fractales implican la aplicación repetitiva de la misma transformación geométrica de puntos en un plano, los programas de computadora son adecuados para crearlos.  \n",
    "\n",
    "Los fractales abundan en la naturaleza: los ejemplos populares incluyen árboles y copos de nieve.  \n",
    "\n",
    "#### Transformaciones de puntos en el plano. \n",
    "\n",
    "Una idea básica en la creación de fractales es la de la transformación de un punto.  \n",
    "\n",
    "Dado un punto, P (x, y), un ejemplo de una transformación es (x, y) $\\rightarrow$ (x + 1, y + 1)  \n",
    "\n",
    "Esta transformación es, por lo tanto, una regla que describe cómo se mueve un punto en el plano XY, comenzando desde una posición inicial y moviéndose a un punto diferente en cada iteración.  \n",
    "\n",
    "Pensemos ahora que en lugar de una regla de transformación, hay dos reglas de este tipo y una de estas transformaciones se selecciona al azar en cada paso. Consideremos estas reglas:\n",
    "* Regla 1: (x, y) $\\rightarrow$ (x + 1, y - 1) \n",
    "* Regla 2: (x, y) $\\rightarrow$ (x + 1, y + 1)  \n",
    "\n",
    "Si tenemos el punto (1,1), podríamos tener, por ejemplo, la siguiente secuencia:  \n",
    "* P1(1,1) $\\rightarrow$ P2(2,0) (Regla 1)  \n",
    "* P2(2,0) $\\rightarrow$ P3(3,1) (Regla 2)  \n",
    "* P3(3,1) $\\rightarrow$ P4(4,2) (Regla 2)  \n",
    "* P4(4,2) $\\rightarrow$ P5(5,1) (Regla 1)\n",
    "* etc.  \n",
    "\n",
    "La regla de transformación se elige al azar, teniendo cada regla una probabilidad igual de ser seleccionado.  \n",
    "\n",
    "No importa cuál se elija, los puntos avanzarán hacia la derecha porque aumentamos la coordenada x en ambos casos.  \n",
    "\n",
    "A medida que los puntos van hacia la derecha, se mueven hacia arriba o hacia abajo, creando así una ruta en zigzag.  "
   ]
  },
  {
   "cell_type": "code",
   "execution_count": 7,
   "metadata": {},
   "outputs": [
    {
     "name": "stdout",
     "output_type": "stream",
     "text": [
      "Numero de iteraciones: 20\n"
     ]
    },
    {
     "data": {
      "image/png": "[encoded data removed]",
      "text/plain": [
       "<Figure size 432x288 with 1 Axes>"
      ]
     },
     "metadata": {},
     "output_type": "display_data"
    }
   ],
   "source": [
    "import matplotlib.pyplot as plt\n",
    "import random\n",
    "\n",
    "def regla1(p):\n",
    "    x = p[0]\n",
    "    y = p[1]\n",
    "    return x + 1, y - 1\n",
    "\n",
    "def regla2(p):\n",
    "    x = p[0]\n",
    "    y = p[1]\n",
    "    return x + 1, y + 1\n",
    "\n",
    "def transformacion(p):\n",
    "    # Incluimos todas las reglas de transformacion\n",
    "    lista_reglas = [regla1, regla2] \n",
    "    # elegimos aleatoriamente una funcion\n",
    "    t = random.choice(lista_reglas)\n",
    "    # Aplicamos la regla elegida\n",
    "    x, y = t(p)\n",
    "    # Devolvemos los nuevos valores\n",
    "    return x, y\n",
    "\n",
    "def trayectoria(p, n):\n",
    "    x = [p[0]]\n",
    "    y = [p[1]]\n",
    "    for i in range(n):\n",
    "        p = transformacion(p)\n",
    "        x.append(p[0])\n",
    "        y.append(p[1])\n",
    "    return x, y\n",
    "\n",
    "# Punto inicial\n",
    "p = (1, 1)\n",
    "n = int(input('Numero de iteraciones: '))\n",
    "x, y = trayectoria(p, n)\n",
    "# Dibujo\n",
    "plt.plot(x, y)\n",
    "plt.xlabel('X')\n",
    "plt.ylabel('Y')\n",
    "plt.show()"
   ]
  },
  {
   "cell_type": "markdown",
   "metadata": {},
   "source": [
    "## El helecho de Barnsley (Barnsley Fern)  \n",
    "\n",
    "El helecho Barnsley es un fractal que lleva el nombre del matemático británico Michael Barnsley, quien lo describió por primera vez en su libro Fractales en todas partes.   \n",
    "\n",
    "<img src=\"Images/barnsley.jpg\" style=\"width: 600px;\"/>  \n",
    "\n",
    "Usando aplicaciones repetidas de una transformación simple en un punto se pueden construir objetos de Barnsley.  \n",
    "\n",
    "Propuso los siguientes pasos para crear estas estructuras:  \n",
    "Comience con el punto (0, 0) y seleccionamos aleatoriamente una de las siguientes transformaciones con la probabilidad asignada:  \n",
    "* Regla 1 (Probabilidad 0.85)  \n",
    "    > x<sub>n+1</sub> = 0.85x<sub>n</sub> + 0.04y<sub>n</sub>  \n",
    "    > y<sub>n+1</sub> = −0.04y<sub>n</sub> + 0.85y<sub>n</sub> + 1.6  \n",
    "* Regla 2 (Probabilidad 0.07) \n",
    "    > x<sub>n+1</sub> =  0.2x<sub>n</sub> − 0.26y<sub>n</sub>  \n",
    "    > y<sub>n+1</sub> = 0.23y<sub>n</sub> + 0.22y<sub>n</sub> + 1.6\n",
    "* Regla 3 (Probabilidad 0.07) \n",
    "    > x<sub>n+1</sub> =  −0.15x<sub>n</sub> − 0.28y<sub>n</sub>  \n",
    "    > y<sub>n+1</sub> = 0.26y<sub>n</sub> + 0.24y<sub>n</sub> + 0.44\n",
    "* Regla 4 (Probabilidad 0.01) \n",
    "    > x<sub>n+1</sub> =  0    \n",
    "    > y<sub>n+1</sub> = 0.16y<sub>n</sub>"
   ]
  },
  {
   "cell_type": "code",
   "execution_count": 9,
   "metadata": {},
   "outputs": [
    {
     "name": "stdout",
     "output_type": "stream",
     "text": [
      "Introduce el número de puntos: 500000\n"
     ]
    },
    {
     "data": {
      "image/png": "[encoded data removed]",
      "text/plain": [
       "<Figure size 432x288 with 1 Axes>"
      ]
     },
     "metadata": {},
     "output_type": "display_data"
    }
   ],
   "source": [
    "import random\n",
    "import matplotlib.pyplot as plt\n",
    "\n",
    "def transformation_1(p):\n",
    "    x = p[0]\n",
    "    y = p[1]\n",
    "    x1 = 0.85*x + 0.04*y\n",
    "    y1 = -0.04*x + 0.85*y + 1.6\n",
    "    return x1, y1\n",
    "\n",
    "def transformation_2(p):\n",
    "    x = p[0]\n",
    "    y = p[1]\n",
    "    x1 = 0.2*x - 0.26*y\n",
    "    y1 = 0.23*x + 0.22*y + 1.6\n",
    "    return x1, y1\n",
    "\n",
    "def transformation_3(p):\n",
    "    x = p[0]\n",
    "    y = p[1]\n",
    "    x1 = -0.15*x + 0.28*y\n",
    "    y1 = 0.26*x  + 0.24*y + 0.44\n",
    "    return x1, y1\n",
    "\n",
    "def transformation_4(p):\n",
    "    x = p[0]\n",
    "    y = p[1]\n",
    "    x1 = 0\n",
    "    y1 = 0.16*y\n",
    "    return x1, y1\n",
    "\n",
    "def get_index(probability):\n",
    "    r = random.random()\n",
    "    c_probability = 0\n",
    "    sum_probability = []\n",
    "    for p in probability:\n",
    "        c_probability += p\n",
    "        sum_probability.append(c_probability)\n",
    "    for item, sp in enumerate(sum_probability):\n",
    "        if r <= sp:\n",
    "            return item\n",
    "    return len(probability)-1\n",
    "\n",
    "def transform(p):\n",
    "    # Lista de las transformaciones\n",
    "    transformations = [transformation_1, transformation_2,transformation_3, transformation_4]\n",
    "    probability = [0.85, 0.07, 0.07, 0.01]\n",
    "    # Elegimos una transformación al azar y la llamamos\n",
    "    tindex = get_index(probability)\n",
    "    t = transformations[tindex]\n",
    "    x, y = t(p)\n",
    "    return x, y\n",
    "\n",
    "def draw_fern(n):\n",
    "    # Empezamos en (0, 0)\n",
    "    x = [0]\n",
    "    y = [0]\n",
    "    x1, y1 = 0, 0\n",
    "    for i in range(n):\n",
    "        x1, y1 = transform((x1, y1))\n",
    "        x.append(x1)\n",
    "        y.append(y1)\n",
    "    return x, y\n",
    "\n",
    "n = int(input('Introduce el número de puntos: '))\n",
    "x, y = draw_fern(n)\n",
    "# Graficamos\n",
    "plt.plot(x, y, 'o')\n",
    "plt.title('Helecho con {0} puntos'.format(n))\n",
    "plt.show()"
   ]
  },
  {
   "cell_type": "code",
   "execution_count": null,
   "metadata": {},
   "outputs": [],
   "source": []
  }
 ],
 "metadata": {
  "kernelspec": {
   "display_name": "Python 3",
   "language": "python",
   "name": "python3"
  },
  "language_info": {
   "codemirror_mode": {
    "name": "ipython",
    "version": 3
   },
   "file_extension": ".py",
   "mimetype": "text/x-python",
   "name": "python",
   "nbconvert_exporter": "python",
   "pygments_lexer": "ipython3",
   "version": "3.8.8"
  }
 },
 "nbformat": 4,
 "nbformat_minor": 2
}
