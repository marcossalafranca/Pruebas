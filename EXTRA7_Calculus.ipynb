{
 "cells": [
  {
   "cell_type": "markdown",
   "metadata": {},
   "source": [
    "# Calculus"
   ]
  },
  {
   "cell_type": "markdown",
   "metadata": {},
   "source": [
    "## Encontrar el Máximo Global usando el Ascenso del Gradiente\n",
    "\n",
    "A veces nos interesa encontrar el máximo global para una función en lugar de todos los máximos y mínimos locales y globales.  \n",
    "\n",
    "Vamos a aprender un nuevo enfoque más práctico para resolver ese problema. Este enfoque utiliza solo la primera derivada, por lo que solo es aplicable a las funciones para las cuales se puede calcular la primera derivada.  \n",
    "Este método se conoce como el **Ascenso del Gradiente**, el cual es una aproximación iterativa para encontrar el máximo global.  \n",
    "Debido a que el método de gradiente de ascenso involucra una gran cantidad de cálculos, es el modo perfecto de resolver de forma programática en lugar de hacerlo a mano.  \n",
    "\n",
    "<span style=\"color:orange\">Probémoslo usando el problema Projectile Motion para encontrar el ángulo de proyección para el cual la bola se desplazará lo máximo posible horizontalmente.  \n",
    "Sabemos que</style>   \n",
    "\n",
    "> <span style=\"color:orange\">t<sub>vuelo</sub>=$2 \\cdot \\frac{u \\cdot sen\\theta}{g}$ </style>  \n",
    "\n",
    "<span style=\"color:orange\"> La distancia recorrida S es la distancia horizontal recorrida por la bola y viene dada por:</style>  \n",
    "\n",
    "> <span style=\"color:orange\"> S=u<sub>x</sub> $\\cdot$ t<sub>vuelo</sub>=u $\\cdot$ cos$\\theta \\cdot \\frac{2 \\cdot u \\cdot sen\\theta}{g} = \\frac{u^2 \\cdot sen 2\\theta}{g}$</style>  \n",
    "\n",
    "<span style=\"color:orange\"> Veamos cómo usar el Ascenso del Gradiente para encontrar este valor de $\\theta$ numéricamente.  \n",
    "El **Ascenso del Gradiente** es un método iterativo:</style>    \n",
    "> <span style=\"color:orange\">0. Empezamos con un valor $\\theta_{0}$=0.001 (en general)</style>   \n",
    "> <span style=\"color:orange\">1. Calculamos el valor $\\theta_{1}=\\theta_{0}+\\lambda \\cdot \\frac{dS}{d\\theta}$.  Normalmente $\\lambda$ toma el valor 10<sup>-3</sup>.</style>   \n",
    "> <span style=\"color:orange\">2. Si $\\theta_{1}-\\theta_{0}$ es mayor que un valor, $\\epsilon$, entonces $\\theta_{0}=\\theta_{1}$ y volvemos al paso 1. En caso contrario, vamos al paso 3. El valor de $\\epsilon$ debe ser un valor lo suficientemente pequeño que nos garantice que el valor ya va a ser poco cambiante, como 10<sup>-5</sup>.</style>   \n",
    "> <span style=\"color:orange\">3. $\\theta_{1}$ es el valor aproximado más cercano de $\\theta$ para el que S es máximo.</style> \n"
   ]
  },
  {
   "cell_type": "code",
   "execution_count": 25,
   "metadata": {},
   "outputs": [],
   "source": [
    "import math\n",
    "from sympy import Derivative, Symbol, sympify, solve\n",
    "\n",
    "def grad_ascent(x0,f1x,x):\n",
    "    # Comprobamos si f1x tiene solucion\n",
    "    if not solve(f1x):\n",
    "        print('No podemos continuar')\n",
    "        return\n",
    "    epsilon=1e-6\n",
    "    lamda=1e-4\n",
    "    x1=x0+lamda*f1x.subs({x:x0}).evalf()\n",
    "    while abs(x0-x1)>epsilon:\n",
    "        x0=x1\n",
    "        x1=x0+lamda*f1x.subs({x:x0}).evalf()\n",
    "    return x1"
   ]
  },
  {
   "cell_type": "code",
   "execution_count": null,
   "metadata": {},
   "outputs": [],
   "source": [
    "grad_ascent(0.001,x**5+30*x**3+50*x,x)"
   ]
  },
  {
   "cell_type": "markdown",
   "metadata": {},
   "source": [
    "NOTA: Esta ejecución es eterna. Si no acaba, daremos acto de fe y seguimos adelante"
   ]
  }
 ],
 "metadata": {
  "kernelspec": {
   "display_name": "Python 3",
   "language": "python",
   "name": "python3"
  },
  "language_info": {
   "codemirror_mode": {
    "name": "ipython",
    "version": 3
   },
   "file_extension": ".py",
   "mimetype": "text/x-python",
   "name": "python",
   "nbconvert_exporter": "python",
   "pygments_lexer": "ipython3",
   "version": "3.8.8"
  }
 },
 "nbformat": 4,
 "nbformat_minor": 2
}
