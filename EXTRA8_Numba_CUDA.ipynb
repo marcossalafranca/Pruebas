{
 "cells": [
  {
   "cell_type": "markdown",
   "metadata": {
    "id": "1scb_lxG2iIg"
   },
   "source": [
    "# Introduction CUDA (python) with Numba\n"
   ]
  },
  {
   "cell_type": "markdown",
   "metadata": {
    "id": "go4UrRwduSRN"
   },
   "source": [
    "Welcome to this notebook about Numba !!\n",
    "\n",
    "Numba is a Python compiler, specifically for numerical functions and allows you to accelerate your applications with high performance functions written directly in Python.\n",
    "\n",
    "Numba generates machine code optimized from pure Python code using LLVM. With a couple of simple changes, our Python code (function-oriented) can be optimized \"just-in-time\" to obtain a performance similar to that of C, C ++, without having to change the language.\n",
    "\n",
    "## What is Numba?\n",
    "Numba is a compiler that allows you to accelerate Python code (numerical functions) for both CPU and GPU:\n",
    "\n",
    "1. **Function Compiler:** Numba compiles Python functions, not whole applications or parts of it. Basically, Numba is another Python module to improve the performance of our functions.\n",
    "\n",
    "2. **Just-in-time:** (Dynamic translation) Numba translates the bytecode (intermediate code more abstract than the machine code) to machine code immediately before its execution to improve the execution speed.\n",
    "\n",
    "3. **Numerically-focused:** Numba is focused on numerical data, such as `int`, `float`, `complex`. For now, there are limitations to use it with string data.\n",
    "\n",
    "Numba is not the only way to program in CUDA, it is usually programmed in C / C ++ directly for it. But Numba allows you to program directly in Python and optimize it for both CPU and GPU with few changes in our code. In relation to Python, there are other alternatives such as pyCUDA, here is a comparison between them:\n",
    "\n",
    "\n",
    "**CUDA C/C++:**\n",
    "1. It is the most common and flexible way to program in CUDA\n",
    "2. Accelerate applications in C, C ++.\n",
    "\n",
    "**pyCUDA**\n",
    "1. It is the most efficient CUDA form for Python\n",
    "2. It requires programming C in our Python code and, in general, many code modifications.\n",
    "\n",
    "<img src=\"https://images.slideplayer.com/16/5007566/slides/slide_50.jpg\" alt=\"drawing\" width=\"500\"/>\n",
    "\n",
    "**Numba**\n",
    "1. Less efficient than pyCUDA\n",
    "2. It allows you to write your code in Python and optimize it with few modifications\n",
    "3. It also optimizes the Python code for CPU\n",
    "\n"
   ]
  },
  {
   "cell_type": "markdown",
   "metadata": {
    "id": "nRMa0IN521Zp"
   },
   "source": [
    "## Goals\n",
    "\n",
    "The objectives of this talk are the following:\n",
    "* Use Numba to compile functions on the CPU\n",
    "* Understand how Numba works\n",
    "* Accelerate Numpy ufuncs in GPU\n",
    "* Write Kernels using Numba (Next Webinar)\n",
    "\n",
    "\n"
   ]
  },
  {
   "cell_type": "code",
   "execution_count": null,
   "metadata": {
    "id": "AyeMg7YtKzOO"
   },
   "outputs": [],
   "source": [
    "import numba\n",
    "from numba import jit\n",
    "import numpy as np\n",
    "import math\n",
    "import random\n",
    "\n",
    "random.seed(42)"
   ]
  },
  {
   "cell_type": "markdown",
   "metadata": {
    "id": "RArZFg9hLOEu"
   },
   "source": [
    "# First steps: Compile for the CPU"
   ]
  },
  {
   "cell_type": "markdown",
   "metadata": {
    "id": "4UENgZmvwBYt"
   },
   "source": [
    "Numba, apart from being able to speed up the functions in the GPU, can be used to optimize functions in the CPU. To do this, Python decorators (function modifiers) are used."
   ]
  },
  {
   "cell_type": "code",
   "execution_count": null,
   "metadata": {
    "id": "H8qzc9bXLFac"
   },
   "outputs": [],
   "source": [
    "@jit\n",
    "def hypot(x, y):\n",
    "  return math.sqrt(x*x + y*y)"
   ]
  },
  {
   "cell_type": "markdown",
   "metadata": {
    "id": "ByJY3cjaLnD8"
   },
   "source": [
    "Evaluate"
   ]
  },
  {
   "cell_type": "code",
   "execution_count": null,
   "metadata": {
    "colab": {
     "base_uri": "https://localhost:8080/"
    },
    "id": "C5FejWESLRZY",
    "outputId": "508478fe-cf92-4ac5-8aac-a0e25ee6a2fe"
   },
   "outputs": [
    {
     "data": {
      "text/plain": [
       "5.0"
      ]
     },
     "execution_count": 8,
     "metadata": {
      "tags": []
     },
     "output_type": "execute_result"
    }
   ],
   "source": [
    "# Numba function\n",
    "hypot(3.0, 4.0)"
   ]
  },
  {
   "cell_type": "markdown",
   "metadata": {
    "id": "pulEHjdHMBOl"
   },
   "source": [
    "Numba saves the original implementation of the function in `.py_func`, we can execute it and see the response times."
   ]
  },
  {
   "cell_type": "code",
   "execution_count": null,
   "metadata": {
    "colab": {
     "base_uri": "https://localhost:8080/"
    },
    "id": "PTp1koUELn_x",
    "outputId": "336398db-2988-4e08-e6d7-96bbc28e5c23"
   },
   "outputs": [
    {
     "data": {
      "text/plain": [
       "5.0"
      ]
     },
     "execution_count": 9,
     "metadata": {
      "tags": []
     },
     "output_type": "execute_result"
    }
   ],
   "source": [
    "# Python function\n",
    "hypot.py_func(3.0, 4.0)"
   ]
  },
  {
   "cell_type": "markdown",
   "metadata": {
    "id": "iumy4ssVMNRW"
   },
   "source": [
    "#### Benchmarking"
   ]
  },
  {
   "cell_type": "markdown",
   "metadata": {
    "id": "en07FhWYMVaI"
   },
   "source": [
    "Naturally, it is important to measure the performance of our code, check if Numba really works well and observe the difference between Python implementation and Numba implementation."
   ]
  },
  {
   "cell_type": "code",
   "execution_count": null,
   "metadata": {
    "colab": {
     "base_uri": "https://localhost:8080/"
    },
    "id": "lxvY52gOMIOv",
    "outputId": "5ffedca3-c1c7-4733-83ca-9b9ae952490b"
   },
   "outputs": [
    {
     "name": "stdout",
     "output_type": "stream",
     "text": [
      "The slowest run took 32.16 times longer than the fastest. This could mean that an intermediate result is being cached.\n",
      "1000000 loops, best of 3: 204 ns per loop\n"
     ]
    }
   ],
   "source": [
    "# Python function\n",
    "%timeit hypot.py_func(3.0, 4.0)"
   ]
  },
  {
   "cell_type": "code",
   "execution_count": null,
   "metadata": {
    "colab": {
     "base_uri": "https://localhost:8080/"
    },
    "id": "Hi4GrMjZMQcM",
    "outputId": "b6751d7d-1aa8-47e7-818c-b49c929b79e0"
   },
   "outputs": [
    {
     "name": "stdout",
     "output_type": "stream",
     "text": [
      "The slowest run took 23.99 times longer than the fastest. This could mean that an intermediate result is being cached.\n",
      "1000000 loops, best of 3: 197 ns per loop\n"
     ]
    }
   ],
   "source": [
    "# Numba function\n",
    "%timeit hypot(3.0, 4.0)"
   ]
  },
  {
   "cell_type": "markdown",
   "metadata": {
    "id": "cam4dsk-Q2rm"
   },
   "source": [
    "The library `math` already includes the `hypot` function\n"
   ]
  },
  {
   "cell_type": "code",
   "execution_count": null,
   "metadata": {
    "colab": {
     "base_uri": "https://localhost:8080/"
    },
    "id": "9IETitbFP2RY",
    "outputId": "27fbe845-d177-4e8e-e98d-f5241d07b03a"
   },
   "outputs": [
    {
     "name": "stdout",
     "output_type": "stream",
     "text": [
      "The slowest run took 106.52 times longer than the fastest. This could mean that an intermediate result is being cached.\n",
      "10000000 loops, best of 3: 109 ns per loop\n"
     ]
    }
   ],
   "source": [
    "# math function\n",
    "%timeit math.hypot(3.0, 4.0)"
   ]
  },
  {
   "cell_type": "markdown",
   "metadata": {
    "id": "4Fx0XS4-RyA-"
   },
   "source": [
    "The `math.hypot` function is even faster than Numba!! This is because Numba introduces a certain overhead to each function call, which is larger than the Python function call overhead, very fast functions (like the previous one) will be affected by this.\n",
    "\n",
    "(However, if you call a Numba function from another, there is very little overhead, sometimes even zero if the compiler integrates the function into the other. In short, check if the functions are really accelerating with Numba).\n",
    "\n",
    "https://numba.pydata.org/numba-doc/dev/user/performance-tips.html#performance-tips\n"
   ]
  },
  {
   "cell_type": "markdown",
   "metadata": {
    "id": "xIS7wkemc2iW"
   },
   "source": [
    "### Numba Specialization by Dtype"
   ]
  },
  {
   "cell_type": "markdown",
   "metadata": {
    "id": "D-cYYpQKdbiY"
   },
   "source": [
    "This function clamps values to zero if they are below a particular threshold."
   ]
  },
  {
   "cell_type": "code",
   "execution_count": null,
   "metadata": {
    "id": "j7jYdx2tc2EP"
   },
   "outputs": [],
   "source": [
    "@jit(nopython=True)\n",
    "def zero_th(x, th):\n",
    "    # Create array copy\n",
    "    out = np.empty_like(x)\n",
    "    for i in range(out.shape[0]):\n",
    "        if np.abs(x[i]) > th:\n",
    "            out[i] = x[i]\n",
    "        else:\n",
    "            out[i] = 0\n",
    "    return out"
   ]
  },
  {
   "cell_type": "code",
   "execution_count": null,
   "metadata": {
    "colab": {
     "base_uri": "https://localhost:8080/"
    },
    "id": "igKG2XmodxH1",
    "outputId": "9c7ba963-7d4f-4153-a9b9-213fe49bd4b0"
   },
   "outputs": [
    {
     "name": "stdout",
     "output_type": "stream",
     "text": [
      "Original: \n",
      " [0.         0.02040816 0.04081633 0.06122449 0.08163265 0.10204082\n",
      " 0.12244898 0.14285714 0.16326531 0.18367347 0.20408163 0.2244898\n",
      " 0.24489796 0.26530612 0.28571429 0.30612245 0.32653061 0.34693878\n",
      " 0.36734694 0.3877551  0.40816327 0.42857143 0.44897959 0.46938776\n",
      " 0.48979592 0.51020408 0.53061224 0.55102041 0.57142857 0.59183673\n",
      " 0.6122449  0.63265306 0.65306122 0.67346939 0.69387755 0.71428571\n",
      " 0.73469388 0.75510204 0.7755102  0.79591837 0.81632653 0.83673469\n",
      " 0.85714286 0.87755102 0.89795918 0.91836735 0.93877551 0.95918367\n",
      " 0.97959184 1.        ]\n",
      "\n",
      "Result: \n",
      " [0.         0.         0.         0.         0.         0.\n",
      " 0.         0.         0.         0.         0.         0.\n",
      " 0.         0.         0.         0.30612245 0.32653061 0.34693878\n",
      " 0.36734694 0.3877551  0.40816327 0.42857143 0.44897959 0.46938776\n",
      " 0.48979592 0.51020408 0.53061224 0.55102041 0.57142857 0.59183673\n",
      " 0.6122449  0.63265306 0.65306122 0.67346939 0.69387755 0.71428571\n",
      " 0.73469388 0.75510204 0.7755102  0.79591837 0.81632653 0.83673469\n",
      " 0.85714286 0.87755102 0.89795918 0.91836735 0.93877551 0.95918367\n",
      " 0.97959184 1.        ]\n"
     ]
    }
   ],
   "source": [
    "array = np.linspace(0, 1, 50)\n",
    "res = zero_th(array, 0.3)\n",
    "\n",
    "print(\"Original: \\n\", array)\n",
    "print(\"\\nResult: \\n\", res)"
   ]
  },
  {
   "cell_type": "markdown",
   "metadata": {
    "id": "aOAJQORJeW_O"
   },
   "source": [
    "Now let's benchmark some different kinds of array inputs:\n",
    "\n",
    "\n",
    "*   int64\n",
    "*   float32\n",
    "*   float32 with a stride (elements not contiguous in memory)\n",
    "\n",
    "\n",
    "#### Wait...One second...Contiguous in memory?\n",
    "Consider the 2D array `arr = np.arange(12).reshape(3,4)`.\n",
    "\n",
    "<img src=\"https://drive.google.com/uc?id=1r1elV7-GqxG2x5L1sTdDrp9-aU-zHvNS\" width=\"120\">\n",
    "\n",
    "In the computer's memory, the values of `arr` are stored like this (contiguous):\n",
    "\n",
    "<img src=\"https://drive.google.com/uc?id=1ZPzwP1zlOzbiRP9QK1VndDRDYX72UAw-\" width=\"300\">\n",
    "\n",
    "For this reason, row-wise operations are usually faster than column-wise operations:\n",
    "\n",
    "```\n",
    "np.sum(arr, axis=1) # sum the rows\n",
    "```\n",
    "is slightly faster than:\n",
    "```\n",
    " np.sum(arr, axis=0) # sum the columns\n",
    "```\n",
    "\n",
    "Take a look:"
   ]
  },
  {
   "cell_type": "code",
   "execution_count": null,
   "metadata": {
    "colab": {
     "base_uri": "https://localhost:8080/"
    },
    "id": "HZY_aTIKnzi2",
    "outputId": "b2a2b966-a908-48c8-ac5d-92d9be732bac"
   },
   "outputs": [
    {
     "name": "stdout",
     "output_type": "stream",
     "text": [
      "The slowest run took 34.81 times longer than the fastest. This could mean that an intermediate result is being cached.\n",
      "100000 loops, best of 3: 4.04 µs per loop\n",
      "The slowest run took 9.26 times longer than the fastest. This could mean that an intermediate result is being cached.\n",
      "100000 loops, best of 3: 4.09 µs per loop\n"
     ]
    }
   ],
   "source": [
    "arr = np.arange(12).reshape(3,4)\n",
    "%timeit np.sum(arr, axis=1)\n",
    "%timeit np.sum(arr, axis=0)"
   ]
  },
  {
   "cell_type": "markdown",
   "metadata": {
    "id": "ClssV16Fn2Nb"
   },
   "source": [
    "In order to get a NON-contiguous array, we have to transpose the rows  `arr.T`:\n",
    "\n",
    "<img src=\"https://drive.google.com/uc?id=1WMjUkus3HkyomYY7Spu8lGyAktww7mAB\" width=\"120\">\n",
    "\n",
    "In the computer's memory, the values of `arr.T` are stored like this (no-contiguous):\n",
    "\n",
    "<img src=\"https://drive.google.com/uc?id=1E4qt7IdUoujzuVtDbdXICMeEw8aDA0hv\" width=\"300\">\n"
   ]
  },
  {
   "cell_type": "code",
   "execution_count": null,
   "metadata": {
    "id": "cQAjo9CleWf0"
   },
   "outputs": [],
   "source": [
    "# Create 3 arrays\n",
    "n = 10000\n",
    "\n",
    "# int16\n",
    "a_int16 = np.arange(n).astype(np.int16)\n",
    "# float32\n",
    "a_float32 = np.linspace(0, 1, n, dtype=np.float32)\n",
    "# float32\n",
    "a_float32_strided = np.linspace(0, 1, 2*n, dtype=np.float32)[::2]  # The transpose of 1d array is the same array, we take the even numbers to create the array"
   ]
  },
  {
   "cell_type": "code",
   "execution_count": null,
   "metadata": {
    "colab": {
     "base_uri": "https://localhost:8080/"
    },
    "id": "RS1Fr-XAoVam",
    "outputId": "634b0cde-4777-4c02-d2b1-a1252f2809f8"
   },
   "outputs": [
    {
     "name": "stdout",
     "output_type": "stream",
     "text": [
      "The slowest run took 21623.95 times longer than the fastest. This could mean that an intermediate result is being cached.\n",
      "100000 loops, best of 3: 5.76 µs per loop\n",
      "The slowest run took 22669.18 times longer than the fastest. This could mean that an intermediate result is being cached.\n",
      "100000 loops, best of 3: 5.26 µs per loop\n",
      "The slowest run took 7433.10 times longer than the fastest. This could mean that an intermediate result is being cached.\n",
      "100000 loops, best of 3: 12.7 µs per loop\n"
     ]
    }
   ],
   "source": [
    "%timeit zero_th(a_int16, 1600)\n",
    "%timeit zero_th(a_float32, 0.3)\n",
    "%timeit zero_th(a_float32_strided, 0.3)"
   ]
  },
  {
   "cell_type": "code",
   "execution_count": null,
   "metadata": {
    "colab": {
     "base_uri": "https://localhost:8080/"
    },
    "id": "_i_LS-D0lxyP",
    "outputId": "b7a4eb2a-2303-42a3-d359-288d7124a1d4"
   },
   "outputs": [
    {
     "name": "stdout",
     "output_type": "stream",
     "text": [
      "False\n",
      "True\n"
     ]
    }
   ],
   "source": [
    "print(a_float32_strided.flags['C_CONTIGUOUS'])\n",
    "\n",
    "# Convert into Contiguous\n",
    "a_float32_strided_cont = np.ascontiguousarray(a_float32_strided, dtype=np.float32)\n",
    "print(a_float32_strided_cont.flags['C_CONTIGUOUS'])"
   ]
  },
  {
   "cell_type": "markdown",
   "metadata": {
    "id": "2GMSCgPxohql"
   },
   "source": [
    "Benchmarking: A pure NumPy implementation - Numba has achieved a speed improvement through a combination of specialization and elimination of temporary arrays"
   ]
  },
  {
   "cell_type": "code",
   "execution_count": null,
   "metadata": {
    "id": "2mT9wljDod_i"
   },
   "outputs": [],
   "source": [
    "def np_zero_th(x, th):\n",
    "    return np.where(np.abs(x) > th, x, 0)"
   ]
  },
  {
   "cell_type": "code",
   "execution_count": null,
   "metadata": {
    "colab": {
     "base_uri": "https://localhost:8080/"
    },
    "id": "53cjovV5ofv4",
    "outputId": "0f957bcf-86cb-45cb-f5d8-e3cbd0fa7157"
   },
   "outputs": [
    {
     "name": "stdout",
     "output_type": "stream",
     "text": [
      "The slowest run took 166.49 times longer than the fastest. This could mean that an intermediate result is being cached.\n",
      "10000 loops, best of 3: 21.4 µs per loop\n",
      "The slowest run took 41.32 times longer than the fastest. This could mean that an intermediate result is being cached.\n",
      "100000 loops, best of 3: 17.1 µs per loop\n",
      "The slowest run took 19.36 times longer than the fastest. This could mean that an intermediate result is being cached.\n",
      "10000 loops, best of 3: 33.5 µs per loop\n"
     ]
    }
   ],
   "source": [
    "%timeit np_zero_th(a_int16, 1600)\n",
    "%timeit np_zero_th(a_float32, 0.3)\n",
    "%timeit np_zero_th(a_float32_strided, 0.3)"
   ]
  },
  {
   "cell_type": "markdown",
   "metadata": {
    "id": "YUggI3DFRcZw"
   },
   "source": [
    "## How does Numba work?\n",
    "\n"
   ]
  },
  {
   "cell_type": "markdown",
   "metadata": {
    "id": "xOTX9QBqRq1s"
   },
   "source": [
    "When we initialize the `hypot` or the `zero_th` function:"
   ]
  },
  {
   "cell_type": "markdown",
   "metadata": {
    "id": "pJ77D2_NR_lb"
   },
   "source": [
    "![Image of Yaktocat](https://github.com/ContinuumIO/gtc2018-numba/raw/99e73d72b5c05e0d469b1e08574ea97d8ceb0800/img/numba_flowchart.png)\n",
    "\n",
    "__IR__ Intermediate Representations\n",
    "\n",
    "__Bytecode Analysis__ Intermediate code more abstract than machine code\n",
    "\n",
    "__LLVM__ Low Level Virtual Machine, infrastructure to develop compilers\n",
    "\n",
    "__NVVM__ It is an IR compiler based on LLVM, it is designed to represent GPU kernels\n",
    "\n",
    "![Image of Yaktocat](https://media.giphy.com/media/3oKIPxVeeVSRDdZqSY/giphy.gif)\n"
   ]
  },
  {
   "cell_type": "markdown",
   "metadata": {
    "id": "3jyU_kUISZGc"
   },
   "source": [
    "We can inspect the process for the `hypot` using `.inspect_types ()`"
   ]
  },
  {
   "cell_type": "markdown",
   "metadata": {
    "id": "mwMCVe2ZHxgC"
   },
   "source": [
    "Each line of python is preceded by several lines of **Numba IR code**. The most useful is to see the type annotations that show us how Numba treats the variables, for example, in \"pyobject\" it is indicating that Numba does not know the `np.sin` function and that he should call it from Python."
   ]
  },
  {
   "cell_type": "code",
   "execution_count": null,
   "metadata": {
    "colab": {
     "base_uri": "https://localhost:8080/"
    },
    "id": "FT4xNrZmKw81",
    "outputId": "850f3f77-7c60-4a4f-f99e-ce2bf26859c0"
   },
   "outputs": [
    {
     "name": "stdout",
     "output_type": "stream",
     "text": [
      "foo_np (int64,)\n",
      "--------------------------------------------------------------------------------\n",
      "# File: <ipython-input-21-02574ac7ba04>\n",
      "# --- LINE 1 --- \n",
      "\n",
      "@jit\n",
      "\n",
      "# --- LINE 2 --- \n",
      "\n",
      "def foo_np(x):\n",
      "\n",
      "  # --- LINE 3 --- \n",
      "  # label 0\n",
      "  #   x = arg(0, name=x)  :: int64\n",
      "  #   $0.1 = global(np: <module 'numpy' from '/usr/local/lib/python3.6/dist-packages/numpy/__init__.py'>)  :: Module(<module 'numpy' from '/usr/local/lib/python3.6/dist-packages/numpy/__init__.py'>)\n",
      "  #   $0.2 = getattr(value=$0.1, attr=sin)  :: Function(<ufunc 'sin'>)\n",
      "  #   del $0.1\n",
      "  #   $0.4 = call $0.2(x, func=$0.2, args=[Var(x, <ipython-input-21-02574ac7ba04>:3)], kws=(), vararg=None)  :: (int64,) -> float64\n",
      "  #   del x\n",
      "  #   del $0.2\n",
      "  #   $0.5 = cast(value=$0.4)  :: float64\n",
      "  #   del $0.4\n",
      "  #   return $0.5\n",
      "\n",
      "  return np.sin(x)\n",
      "\n",
      "\n",
      "================================================================================\n"
     ]
    }
   ],
   "source": [
    "@jit\n",
    "def foo_np(x):\n",
    "  return np.sin(x)\n",
    "\n",
    "foo_np(2)\n",
    "foo_np.inspect_types()"
   ]
  },
  {
   "cell_type": "markdown",
   "metadata": {
    "id": "oEeX8HcBUl8e"
   },
   "source": [
    "#### Example: Creating fractals\n",
    "\n",
    "In simpler words, a fractal is a never-ending pattern. Fractals are infinitely complex patterns that are self-similar across different scales. They are created by repeating a simple process over and over in an ongoing feedback loop.\n",
    "\n",
    "With the following iterative method:\n",
    "\n",
    ">$z_{n+1} = z_{n} + c$\n",
    "\n",
    "<img src=\"https://upload.wikimedia.org/wikipedia/commons/2/21/Mandel_zoom_00_mandelbrot_set.jpg\" height=220>"
   ]
  },
  {
   "cell_type": "code",
   "execution_count": null,
   "metadata": {
    "colab": {
     "base_uri": "https://localhost:8080/",
     "height": 304
    },
    "id": "eCk6YwGhSq0E",
    "outputId": "1cd70b8e-0b82-48a9-d9f3-e3f5d3235952"
   },
   "outputs": [
    {
     "name": "stdout",
     "output_type": "stream",
     "text": [
      "1 loop, best of 3: 4.57 s per loop\n"
     ]
    },
    {
     "data": {
      "text/plain": [
       "<matplotlib.image.AxesImage at 0x7f3d8ab057f0>"
      ]
     },
     "execution_count": 22,
     "metadata": {
      "tags": []
     },
     "output_type": "execute_result"
    },
    {
     "data": {
      "image/png": "[encoded data removed]",
      "text/plain": [
       "<Figure size 432x288 with 1 Axes>"
      ]
     },
     "metadata": {
      "needs_background": "light",
      "tags": []
     },
     "output_type": "display_data"
    }
   ],
   "source": [
    "# Without Numba\n",
    "from matplotlib.pylab import imshow, ion\n",
    "\n",
    "def mandel(x, y, max_iters):\n",
    "    i = 0\n",
    "    c = complex(x,y)\n",
    "    z = 0.0j\n",
    "    for i in range(max_iters):\n",
    "        z = z*z + c\n",
    "        if (z.real*z.real + z.imag*z.imag) >= 4:\n",
    "            return i\n",
    "\n",
    "    return 255\n",
    "\n",
    "def create_fractal(min_x, max_x, min_y, max_y, image, iters):\n",
    "    height = image.shape[0]\n",
    "    width = image.shape[1]\n",
    "\n",
    "    pixel_size_x = (max_x - min_x) / width\n",
    "    pixel_size_y = (max_y - min_y) / height\n",
    "    for x in range(width):\n",
    "        real = min_x + x * pixel_size_x\n",
    "        for y in range(height):\n",
    "            imag = min_y + y * pixel_size_y\n",
    "            color = mandel(real, imag, iters)\n",
    "            image[y, x] = color\n",
    "\n",
    "    return image\n",
    "\n",
    "image = np.zeros((500 * 2, 750 * 2), dtype=np.uint8)\n",
    "%timeit create_fractal(-2.0, 1.0, -1.0, 1.0, image, 20)\n",
    "img = create_fractal(-2.0, 1.0, -1.0, 1.0, image, 20)\n",
    "imshow(img)"
   ]
  },
  {
   "cell_type": "code",
   "execution_count": null,
   "metadata": {
    "colab": {
     "base_uri": "https://localhost:8080/",
     "height": 321
    },
    "id": "mi4mtpQAU-EW",
    "outputId": "3c2e7b26-95bf-41c2-9e2d-383dd2ae9ca8"
   },
   "outputs": [
    {
     "name": "stdout",
     "output_type": "stream",
     "text": [
      "The slowest run took 4.61 times longer than the fastest. This could mean that an intermediate result is being cached.\n",
      "1 loop, best of 3: 57.1 ms per loop\n"
     ]
    },
    {
     "data": {
      "text/plain": [
       "<matplotlib.image.AxesImage at 0x7f3d8a55a588>"
      ]
     },
     "execution_count": 23,
     "metadata": {
      "tags": []
     },
     "output_type": "execute_result"
    },
    {
     "data": {
      "image/png": "[encoded data removed]",
      "text/plain": [
       "<Figure size 432x288 with 1 Axes>"
      ]
     },
     "metadata": {
      "needs_background": "light",
      "tags": []
     },
     "output_type": "display_data"
    }
   ],
   "source": [
    "# With Numba\n",
    "from matplotlib.pylab import imshow, ion\n",
    "\n",
    "@jit\n",
    "def mandel(x, y, max_iters):\n",
    "    \"\"\"\n",
    "    Given the real and imaginary parts of a complex number,\n",
    "    determine if it is a candidate for membership in the Mandelbrot\n",
    "    set given a fixed number of iterations.\n",
    "    \"\"\"\n",
    "    i = 0\n",
    "    c = complex(x,y)\n",
    "    z = 0.0j\n",
    "    for i in range(max_iters):\n",
    "        z = z*z + c\n",
    "        if (z.real*z.real + z.imag*z.imag) >= 4:\n",
    "            return i\n",
    "\n",
    "    return 255\n",
    "\n",
    "@jit\n",
    "def create_fractal(min_x, max_x, min_y, max_y, image, iters):\n",
    "    height = image.shape[0]\n",
    "    width = image.shape[1]\n",
    "\n",
    "    pixel_size_x = (max_x - min_x) / width\n",
    "    pixel_size_y = (max_y - min_y) / height\n",
    "    for x in range(width):\n",
    "        real = min_x + x * pixel_size_x\n",
    "        for y in range(height):\n",
    "            imag = min_y + y * pixel_size_y\n",
    "            color = mandel(real, imag, iters)\n",
    "            image[y, x] = color\n",
    "\n",
    "    return image\n",
    "\n",
    "image = np.zeros((500 * 2, 750 * 2), dtype=np.uint8)\n",
    "%timeit create_fractal(-2.0, 1.0, -1.0, 1.0, image, 20)\n",
    "img = create_fractal(-2.0, 1.0, -1.0, 1.0, image, 20)\n",
    "imshow(img)"
   ]
  },
  {
   "cell_type": "markdown",
   "metadata": {
    "id": "hTk_5CSnAaXx"
   },
   "source": [
    "#### Example: Montecarlo"
   ]
  },
  {
   "cell_type": "code",
   "execution_count": null,
   "metadata": {
    "id": "pCu6yi_7AZLE"
   },
   "outputs": [],
   "source": [
    "import matplotlib.patches as patches\n",
    "import matplotlib.pyplot as plt\n",
    "from random import randint\n",
    "%matplotlib inline"
   ]
  },
  {
   "cell_type": "code",
   "execution_count": null,
   "metadata": {
    "colab": {
     "base_uri": "https://localhost:8080/",
     "height": 430
    },
    "id": "vwwRc0AMAv9N",
    "outputId": "4ae26c0f-bfdd-4226-db96-02996bbc0a9d"
   },
   "outputs": [
    {
     "data": {
      "text/plain": [
       "(-5.0, 45.0)"
      ]
     },
     "execution_count": 25,
     "metadata": {
      "tags": []
     },
     "output_type": "execute_result"
    },
    {
     "data": {
      "image/png": "[encoded data removed]",
      "text/plain": [
       "<Figure size 640x480 with 1 Axes>"
      ]
     },
     "metadata": {
      "needs_background": "light",
      "tags": []
     },
     "output_type": "display_data"
    }
   ],
   "source": [
    "rad = 20\n",
    "center = (rad, rad)\n",
    "\n",
    "width = rad*2\n",
    "height = rad*2\n",
    "lims = (-5, 45)\n",
    "\n",
    "\n",
    "fig1 = plt.figure(figsize=(8, 6), dpi=80)\n",
    "ax1 = fig1.add_subplot(111, aspect='equal')\n",
    "ax1.add_patch(\n",
    "    patches.Rectangle((0,0), width, height, edgecolor ='green', linewidth = 3,\n",
    "                      fill=False))\n",
    "ax1.add_patch(\n",
    "    patches.Circle(center, rad, color = 'skyblue', fill=True))\n",
    "plt.ylim(lims)\n",
    "plt.xlim(lims)"
   ]
  },
  {
   "cell_type": "code",
   "execution_count": null,
   "metadata": {
    "colab": {
     "base_uri": "https://localhost:8080/",
     "height": 430
    },
    "id": "gCVcL2F10Y0Y",
    "outputId": "d5cd6942-91fc-4577-9d07-4a1202df3a09"
   },
   "outputs": [
    {
     "data": {
      "text/plain": [
       "[<matplotlib.lines.Line2D at 0x7f3d8a4839b0>]"
      ]
     },
     "execution_count": 26,
     "metadata": {
      "tags": []
     },
     "output_type": "execute_result"
    },
    {
     "data": {
      "image/png": "[encoded data removed]",
      "text/plain": [
       "<Figure size 640x480 with 1 Axes>"
      ]
     },
     "metadata": {
      "needs_background": "light",
      "tags": []
     },
     "output_type": "display_data"
    }
   ],
   "source": [
    "import random\n",
    "x = random.randrange(rad*2)\n",
    "y = random.randrange(rad*2)\n",
    "\n",
    "fig1 = plt.figure(figsize=(8, 6), dpi=80)\n",
    "ax1 = fig1.add_subplot(111, aspect='equal')\n",
    "ax1.add_patch(\n",
    "    patches.Rectangle((0,0), width, height, edgecolor ='green', linewidth = 3,\n",
    "                      fill=False))\n",
    "ax1.add_patch(\n",
    "    patches.Circle(center, rad, color = 'skyblue', fill=True))\n",
    "plt.ylim(lims)\n",
    "plt.xlim(lims)\n",
    "plt.plot(x, y, 'o')"
   ]
  },
  {
   "cell_type": "code",
   "execution_count": null,
   "metadata": {
    "colab": {
     "base_uri": "https://localhost:8080/"
    },
    "id": "Gs-AGDlpA1sy",
    "outputId": "683ec31d-ec28-4766-fd7a-6e87d56ce460"
   },
   "outputs": [
    {
     "name": "stdout",
     "output_type": "stream",
     "text": [
      "1 loop, best of 3: 2.44 s per loop\n",
      "Inside points:  89999075\n"
     ]
    }
   ],
   "source": [
    "iterations = 100000000\n",
    "\n",
    "# Device function\n",
    "@jit\n",
    "def iteration():\n",
    "  inside = 0\n",
    "\n",
    "  for _ in range(iterations):\n",
    "    x = random.randrange(rad*2)\n",
    "    y = random.randrange(rad*2)\n",
    "\n",
    "    b = (x - center[0])^2 + (y - center[1])^2 < rad^2\n",
    "\n",
    "    if b:\n",
    "      inside += 1\n",
    "  return inside\n",
    "\n",
    "%timeit iteration()\n",
    "pt_inside = iteration()\n",
    "\n",
    "print('Inside points: ', pt_inside)"
   ]
  },
  {
   "cell_type": "markdown",
   "metadata": {
    "id": "AYVGSiDQB5vq"
   },
   "source": [
    "Without Numba:\n",
    "\n",
    "  - iterations = 100000000 -> 175 sg\n",
    "\n",
    "\"Montecarlo in Cuda\" -> https://gist.github.com/akiross/17e722c5bea92bd2c310324eac643df6\n",
    "\n",
    "\n"
   ]
  },
  {
   "cell_type": "code",
   "execution_count": null,
   "metadata": {
    "colab": {
     "base_uri": "https://localhost:8080/"
    },
    "id": "ZBxfyk-wBsmE",
    "outputId": "187591c8-0e72-4cbd-ef97-6560a3760fd4"
   },
   "outputs": [
    {
     "name": "stdout",
     "output_type": "stream",
     "text": [
      "Inside points:  89999075\n",
      "Outside points:  10000925\n"
     ]
    }
   ],
   "source": [
    "print('Inside points: ', pt_inside)\n",
    "print('Outside points: ', iterations - pt_inside)"
   ]
  },
  {
   "cell_type": "markdown",
   "metadata": {
    "id": "pQKdOgt1Buyr"
   },
   "source": [
    "$$SuperficieCuadrado = 4  \\cdot r ^ 2$$\n",
    "\n",
    "$$SuperficieCírculo = \\pi \\cdot r ^ 2$$\n",
    "\n",
    "$$\\frac{SuperficieCirculo}{SuperficieCuadrado}=\\frac{\\pi}{4}$$\n",
    "\n",
    "Therefore, if we have done 100 iterations and 70 are within the circle, we can approximate the value of $ \\pi $ using the following relationship:\n",
    "\n",
    "$$\\frac{70 }{100}=\\frac{\\pi}{4} \\rightarrow  \\pi = 4 \\cdot \\frac{70}{100} \\approx 2.8\t$$"
   ]
  },
  {
   "cell_type": "code",
   "execution_count": null,
   "metadata": {
    "colab": {
     "base_uri": "https://localhost:8080/"
    },
    "id": "VErvVLelBxja",
    "outputId": "9d5a630c-374a-4242-8c80-95cc3e6a8f07"
   },
   "outputs": [
    {
     "name": "stdout",
     "output_type": "stream",
     "text": [
      "3.599963\n"
     ]
    }
   ],
   "source": [
    "pi_value = 4 * pt_inside / iterations\n",
    "print(pi_value)"
   ]
  },
  {
   "cell_type": "markdown",
   "metadata": {
    "id": "m-qM3QzWWEgT"
   },
   "source": [
    "## Errors  "
   ]
  },
  {
   "cell_type": "markdown",
   "metadata": {
    "id": "h1W1fitbWbaN"
   },
   "source": [
    "We have said that Numba only works for numeric functions, although Numba compiles and runs any Python code, there are some types of data that it cannot compile yet (such as dictionaries) and it also makes no sense to compile them."
   ]
  },
  {
   "cell_type": "code",
   "execution_count": null,
   "metadata": {
    "colab": {
     "base_uri": "https://localhost:8080/"
    },
    "id": "it63OfaL7ZS-",
    "outputId": "535f3750-b1a9-4b68-eb09-dd7e7a249415"
   },
   "outputs": [
    {
     "name": "stdout",
     "output_type": "stream",
     "text": [
      "Res 245\n"
     ]
    },
    {
     "name": "stderr",
     "output_type": "stream",
     "text": [
      "<ipython-input-30-f88e7b585a51>:1: NumbaWarning: \n",
      "Compilation is falling back to object mode WITH looplifting enabled because Function \"dictionary\" failed type inference due to: non-precise type pyobject\n",
      "[1] During: typing of argument at <ipython-input-30-f88e7b585a51> (3)\n",
      "\n",
      "File \"<ipython-input-30-f88e7b585a51>\", line 3:\n",
      "def dictionary(dict_test):\n",
      "  return dict_test['house']\n",
      "  ^\n",
      "\n",
      "  @jit\n",
      "/usr/local/lib/python3.6/dist-packages/numba/object_mode_passes.py:178: NumbaWarning: Function \"dictionary\" was compiled in object mode without forceobj=True.\n",
      "\n",
      "File \"<ipython-input-30-f88e7b585a51>\", line 2:\n",
      "@jit\n",
      "def dictionary(dict_test):\n",
      "^\n",
      "\n",
      "  state.func_ir.loc))\n",
      "/usr/local/lib/python3.6/dist-packages/numba/object_mode_passes.py:188: NumbaDeprecationWarning: \n",
      "Fall-back from the nopython compilation path to the object mode compilation path has been detected, this is deprecated behaviour.\n",
      "\n",
      "For more information visit http://numba.pydata.org/numba-doc/latest/reference/deprecation.html#deprecation-of-object-mode-fall-back-behaviour-when-using-jit\n",
      "\n",
      "File \"<ipython-input-30-f88e7b585a51>\", line 2:\n",
      "@jit\n",
      "def dictionary(dict_test):\n",
      "^\n",
      "\n",
      "  state.func_ir.loc))\n"
     ]
    }
   ],
   "source": [
    "@jit\n",
    "def dictionary(dict_test):\n",
    "  return dict_test['house']\n",
    "\n",
    "res = dictionary({'house': 245, 'car': 350})\n",
    "print(\"Res\", res)"
   ]
  },
  {
   "cell_type": "markdown",
   "metadata": {
    "id": "ohbDlv4Jf044"
   },
   "source": [
    "The `njit` function is equivalent to `jit(nopython = True)`"
   ]
  },
  {
   "cell_type": "markdown",
   "metadata": {
    "id": "-j5_ugY3gTb4"
   },
   "source": [
    "# Numba for GPU"
   ]
  },
  {
   "cell_type": "markdown",
   "metadata": {
    "id": "000-ybOwgc3S"
   },
   "source": [
    "There are two ways to program in GPU using Numba:\n",
    "\n",
    "__1.__   ufuncs/gufuncs\n",
    "\n",
    "__2.__  CUDA Python Kernels (Next webinar)\n",
    "\n"
   ]
  },
  {
   "cell_type": "code",
   "execution_count": null,
   "metadata": {
    "colab": {
     "base_uri": "https://localhost:8080/"
    },
    "id": "6xUV88VBkGtq",
    "outputId": "0e477551-9784-4cbf-988d-bc9d25c17510"
   },
   "outputs": [
    {
     "name": "stdout",
     "output_type": "stream",
     "text": [
      "Reading package lists... Done\n",
      "Building dependency tree       \n",
      "Reading state information... Done\n",
      "nvidia-cuda-toolkit is already the newest version (9.1.85-3ubuntu1).\n",
      "You might want to run 'apt --fix-broken install' to correct these.\n",
      "The following packages have unmet dependencies:\n",
      " nvidia-cuda-toolkit : Depends: nvidia-cuda-dev (= 9.1.85-3ubuntu1) but it is not going to be installed\n",
      "E: Unmet dependencies. Try 'apt --fix-broken install' with no packages (or specify a solution).\n",
      "Requirement already satisfied: numba in /usr/local/lib/python3.6/dist-packages (0.48.0)\n",
      "Requirement already satisfied: setuptools in /usr/local/lib/python3.6/dist-packages (from numba) (50.3.2)\n",
      "Requirement already satisfied: llvmlite<0.32.0,>=0.31.0dev0 in /usr/local/lib/python3.6/dist-packages (from numba) (0.31.0)\n",
      "Requirement already satisfied: numpy>=1.15 in /usr/local/lib/python3.6/dist-packages (from numba) (1.18.5)\n"
     ]
    }
   ],
   "source": [
    "# Usar Numba en GPU en Colab\n",
    "!apt-get install nvidia-cuda-toolkit\n",
    "!pip3 install numba\n",
    "\n",
    "import os\n",
    "os.environ['NUMBAPRO_LIBDEVICE'] = \"/usr/lib/nvidia-cuda-toolkit/libdevice\"\n",
    "os.environ['NUMBAPRO_NVVM'] = \"/usr/lib/x86_64-linux-gnu/libnvvm.so\""
   ]
  },
  {
   "cell_type": "markdown",
   "metadata": {
    "id": "nd88KHERJNyQ"
   },
   "source": [
    "## Functions ufunc"
   ]
  },
  {
   "cell_type": "markdown",
   "metadata": {
    "id": "T7Cknt_SKRc_"
   },
   "source": [
    "One of the main design features of the GPU is the ability to handle data in parallel, so the universal functions of numpy (ufunc) are an ideal candidate to implement them in GPU programming.\n",
    "\n",
    "**_Note_**: ufunc are functions that perform the same operation on each element of a numpy array."
   ]
  },
  {
   "cell_type": "code",
   "execution_count": null,
   "metadata": {
    "colab": {
     "base_uri": "https://localhost:8080/"
    },
    "id": "vI8WrSr2JVjk",
    "outputId": "61da0dcc-c99a-4468-86c1-6915cf9ceac8"
   },
   "outputs": [
    {
     "data": {
      "text/plain": [
       "array([ 24, 343,  15,   9])"
      ]
     },
     "execution_count": 31,
     "metadata": {
      "tags": []
     },
     "output_type": "execute_result"
    }
   ],
   "source": [
    "import numpy as np\n",
    "\n",
    "a = np.array([1, 2, 3, 4])\n",
    "b = np.array([23, 341, 12, 5])\n",
    "\n",
    "np.add(a, b)"
   ]
  },
  {
   "cell_type": "markdown",
   "metadata": {
    "id": "4UyLpN2sLbFV"
   },
   "source": [
    "Returns a new array, with the result of having performed the operation of adding to the array `a` the array `b`. It can also be used with scalars."
   ]
  },
  {
   "cell_type": "code",
   "execution_count": null,
   "metadata": {
    "colab": {
     "base_uri": "https://localhost:8080/"
    },
    "id": "yEDStx2wJVYS",
    "outputId": "265a37c8-57e8-4c8d-e24e-656ef35a5190"
   },
   "outputs": [
    {
     "data": {
      "text/plain": [
       "array([223, 541, 212, 205])"
      ]
     },
     "execution_count": 32,
     "metadata": {
      "tags": []
     },
     "output_type": "execute_result"
    }
   ],
   "source": [
    "np.add(b, 200)"
   ]
  },
  {
   "cell_type": "markdown",
   "metadata": {
    "id": "q1TBpdFTL-oU"
   },
   "source": [
    "Arrays of different dimensions can also be operated using a technique called **broadcasting**. The array with the smallest dimension will be copied to match the dimensionality of the array with the largest dimension."
   ]
  },
  {
   "cell_type": "code",
   "execution_count": null,
   "metadata": {
    "colab": {
     "base_uri": "https://localhost:8080/"
    },
    "id": "hb2wkhXkL4Yy",
    "outputId": "698f787b-44fb-46b9-b79e-398d3f247479"
   },
   "outputs": [
    {
     "name": "stdout",
     "output_type": "stream",
     "text": [
      "c array: \n",
      " [ 2  3  7  8 10 34]\n",
      "\n",
      "d array: \n",
      " [[ 0  1  2  3  4  5]\n",
      " [ 6  7  8  9 10 11]\n",
      " [12 13 14 15 16 17]\n",
      " [18 19 20 21 22 23]\n",
      " [24 25 26 27 28 29]\n",
      " [30 31 32 33 34 35]]\n",
      "\n",
      "\n"
     ]
    },
    {
     "data": {
      "text/plain": [
       "array([[ 2,  4,  9, 11, 14, 39],\n",
       "       [ 8, 10, 15, 17, 20, 45],\n",
       "       [14, 16, 21, 23, 26, 51],\n",
       "       [20, 22, 27, 29, 32, 57],\n",
       "       [26, 28, 33, 35, 38, 63],\n",
       "       [32, 34, 39, 41, 44, 69]])"
      ]
     },
     "execution_count": 33,
     "metadata": {
      "tags": []
     },
     "output_type": "execute_result"
    }
   ],
   "source": [
    "c = np.array([2, 3, 7, 8, 10, 34])\n",
    "d = np.arange(6*6).reshape((6,6))\n",
    "\n",
    "print('c array: \\n', c)\n",
    "print('\\nd array: \\n', d)\n",
    "print('\\n')\n",
    "\n",
    "np.add(c, d)"
   ]
  },
  {
   "cell_type": "markdown",
   "metadata": {
    "id": "dtQpz6UgSWxU"
   },
   "source": [
    "### Making functions ufunc for GPU\n",
    "\n",
    "As we have said before, the ufunc functions are an ideal candidate to use them with GPU because of their parallelism. Therefore, Numba has the ability to create compiled ufunc functions without using C. To do this, we must use the decorator `@vectorize`.\n",
    "\n",
    "Let's start with an example using `@vectorize` to compile and optimize a CPU ufunc."
   ]
  },
  {
   "cell_type": "code",
   "execution_count": null,
   "metadata": {
    "id": "qD24rHU3SzxR"
   },
   "outputs": [],
   "source": [
    "from numba import vectorize\n",
    "\n",
    "a = np.array([1, 2, 3, 4])\n",
    "b = np.array([23, 341, 12, 5])\n",
    "\n",
    "@vectorize\n",
    "def add_ufunc_cpu(a, b):\n",
    "  return a + b"
   ]
  },
  {
   "cell_type": "code",
   "execution_count": null,
   "metadata": {
    "colab": {
     "base_uri": "https://localhost:8080/"
    },
    "id": "jB6fCpFrTOZO",
    "outputId": "c5873d0c-c558-4a6b-df56-c2817c99459a"
   },
   "outputs": [
    {
     "data": {
      "text/plain": [
       "array([ 24, 343,  15,   9])"
      ]
     },
     "execution_count": 35,
     "metadata": {
      "tags": []
     },
     "output_type": "execute_result"
    }
   ],
   "source": [
    "# Numba function\n",
    "add_ufunc_cpu(a, b)"
   ]
  },
  {
   "cell_type": "markdown",
   "metadata": {
    "id": "BRIuyhr6TeCb"
   },
   "source": [
    "Instead of using the CPU to compile and execute the previous function, we are going to use CUDA in the GPU and for this we must use a \"target attribute\". We will indicate what type each variable is (arguments and return value).\n",
    "\n",
    "\n",
    "`return_value_type(argument1_value_type, argument2_value_type, ...)`\n",
    "\n",
    "To do this, we will use the previous function that expects 2 int64 values and returns another int64 value. We will designate `target = 'cuda'` to be able to execute it in the GPU."
   ]
  },
  {
   "cell_type": "code",
   "execution_count": null,
   "metadata": {
    "colab": {
     "base_uri": "https://localhost:8080/"
    },
    "id": "np5fvHEKUCCE",
    "outputId": "45b8dd2a-6d0e-4a14-eb4d-dab7391e6c1b"
   },
   "outputs": [
    {
     "name": "stderr",
     "output_type": "stream",
     "text": [
      "/usr/local/lib/python3.6/dist-packages/numba/cuda/envvars.py:17: NumbaWarning: \n",
      "Environment variables with the 'NUMBAPRO' prefix are deprecated and consequently ignored, found use of NUMBAPRO_NVVM=/usr/lib/x86_64-linux-gnu/libnvvm.so.\n",
      "\n",
      "For more information about alternatives visit: ('http://numba.pydata.org/numba-doc/latest/cuda/overview.html', '#cudatoolkit-lookup')\n",
      "  warnings.warn(errors.NumbaWarning(msg))\n",
      "/usr/local/lib/python3.6/dist-packages/numba/cuda/envvars.py:17: NumbaWarning: \n",
      "Environment variables with the 'NUMBAPRO' prefix are deprecated and consequently ignored, found use of NUMBAPRO_LIBDEVICE=/usr/lib/nvidia-cuda-toolkit/libdevice.\n",
      "\n",
      "For more information about alternatives visit: ('http://numba.pydata.org/numba-doc/latest/cuda/overview.html', '#cudatoolkit-lookup')\n",
      "  warnings.warn(errors.NumbaWarning(msg))\n"
     ]
    }
   ],
   "source": [
    "@vectorize(['int64(int64, int64)'], target='cuda') \n",
    "def add_ufunc_gpu(x, y):\n",
    "    return x + y"
   ]
  },
  {
   "cell_type": "code",
   "execution_count": null,
   "metadata": {
    "colab": {
     "base_uri": "https://localhost:8080/"
    },
    "id": "JGJCYwksUeXj",
    "outputId": "05891aa5-010f-44fd-a406-9c0680c7efc6"
   },
   "outputs": [
    {
     "data": {
      "text/plain": [
       "array([ 24, 343,  15,   9])"
      ]
     },
     "execution_count": 37,
     "metadata": {
      "tags": []
     },
     "output_type": "execute_result"
    }
   ],
   "source": [
    "add_ufunc_gpu(a, b)"
   ]
  },
  {
   "cell_type": "markdown",
   "metadata": {
    "id": "z_i5yifNUtYL"
   },
   "source": [
    "We can check the speed of running it on CPU or GPU"
   ]
  },
  {
   "cell_type": "code",
   "execution_count": null,
   "metadata": {
    "colab": {
     "base_uri": "https://localhost:8080/"
    },
    "id": "71DLTwwEVMyM",
    "outputId": "6be8305a-6f86-4ea6-a7e8-11a9855c7a35"
   },
   "outputs": [
    {
     "name": "stdout",
     "output_type": "stream",
     "text": [
      "The slowest run took 33.59 times longer than the fastest. This could mean that an intermediate result is being cached.\n",
      "1000000 loops, best of 3: 574 ns per loop\n"
     ]
    }
   ],
   "source": [
    "%timeit np.add(a, b)   # Numpy en CPU"
   ]
  },
  {
   "cell_type": "code",
   "execution_count": null,
   "metadata": {
    "colab": {
     "base_uri": "https://localhost:8080/"
    },
    "id": "lVoLg2J-sWJH",
    "outputId": "cf5c468d-a1ab-4806-e888-546697191ace"
   },
   "outputs": [
    {
     "name": "stdout",
     "output_type": "stream",
     "text": [
      "1000 loops, best of 3: 1.12 ms per loop\n"
     ]
    }
   ],
   "source": [
    "%timeit add_ufunc_gpu(a, b)   # Numba en GPU"
   ]
  },
  {
   "cell_type": "markdown",
   "metadata": {
    "id": "ElQvxCIpWKH_"
   },
   "source": [
    "GPU is slower than the CPU!!! Quiet, this has an explanation ... But first let's see what happens when we call that function\n",
    "![ChessUrl](https://media.giphy.com/media/9M1ALCAKvXQKSf9Zfo/giphy.gif)\n"
   ]
  },
  {
   "cell_type": "markdown",
   "metadata": {
    "id": "1DZnfO_-WQTz"
   },
   "source": [
    "When we execute this function, Numba produces:\n",
    "\n",
    "\n",
    "\n",
    "1. Compile a CUDA kernel to execute the ufunc function in parallel over all the elements of the input array\n",
    "2. Assign the inputs and outputs to the GPU memory\n",
    "3. Copy the input to the GPU\n",
    "4. Run the CUDA Kernel\n",
    "5. Copy the results back from the GPU to the CPU\n",
    "6. Return the results as a numpy array\n",
    "\n",
    "As compared to the implementation in C, Numba allows you to perform these types of tasks in a more concise way.\n",
    "\n",
    "Why is the GPU slower than the CPU?\n",
    "\n",
    "\n",
    "* Our inputs are too small: The GPU achieves better performance using parallelism operating on thousands of values ​​at once. Our inputs are 4 (int64), \"we need larger arrays to keep the GPU occupied\".\n",
    "\n",
    "* Very simple calculation: Sending the calculation to the GPU requires a lot of \"effort\" compared to calling the CPU function. If our function does not require excessive mathematical computation (this is usually called **arithmetic intensity**), then the GPU could take longer than in the CPU.\n",
    "\n",
    "* Numba copies the data to the GPU\n",
    "\n",
    "* The variable types of our inputs are larger than necessary: ​​Our example uses int64 and we probably do not need them. Practically, in CPU, 32 and 64-bits have the same computing speed, but in GPU, 64-bits have a slight increase in computational speed (it can reach up to 24x slower respectively to 32-bits). So it is important to keep this in mind when executing our function in the GPU.\n",
    "\n",
    "\n",
    "With this in mind, we will try to apply what has been learned in the previous points to see if it is really faster to operate on the GPU than the CPU. We are going to calculate a density function, which is a slightly more complex operation with larger arrays."
   ]
  },
  {
   "cell_type": "markdown",
   "metadata": {
    "id": "CCsVb1O9Q_Li"
   },
   "source": [
    "Let's calculate the value of a Gaussian density function in `x` given the mean and sigma:"
   ]
  },
  {
   "cell_type": "code",
   "execution_count": null,
   "metadata": {
    "id": "tNG-g0SyPWYL"
   },
   "outputs": [],
   "source": [
    "import math\n",
    "\n",
    "sqrt_pi = np.float32((2*math.pi)**0.5) \n",
    "\n",
    "@vectorize(['float32(float32, float32, float32)'], target='cuda')\n",
    "def gaussian_dens_gpu(x, mean, sigma):\n",
    "    return math.exp(-0.5 * ((x - mean) / sigma)**2) / (sigma * sqrt_pi)\n",
    "  \n",
    "x = np.random.uniform(-3, 3, size=1000000).astype(np.float32)\n",
    "mean = np.float32(0.0)\n",
    "sigma = np.float32(1.0)"
   ]
  },
  {
   "cell_type": "code",
   "execution_count": null,
   "metadata": {
    "colab": {
     "base_uri": "https://localhost:8080/"
    },
    "id": "yZdIMOtpQBPk",
    "outputId": "2aedde9e-6938-45be-8681-b7fb1c8f6499"
   },
   "outputs": [
    {
     "name": "stdout",
     "output_type": "stream",
     "text": [
      "10 loops, best of 3: 58.3 ms per loop\n"
     ]
    }
   ],
   "source": [
    "# Same example using scipy (CPU vs GPU)\n",
    "import scipy.stats \n",
    "\n",
    "norm_pdf = scipy.stats.norm\n",
    "\n",
    "%timeit norm_pdf.pdf(x, loc=mean, scale=sigma)  # CPU function"
   ]
  },
  {
   "cell_type": "code",
   "execution_count": null,
   "metadata": {
    "colab": {
     "base_uri": "https://localhost:8080/"
    },
    "id": "XpwiTTYptIFI",
    "outputId": "621ad190-cebe-468d-ddad-333481af01d1"
   },
   "outputs": [
    {
     "name": "stdout",
     "output_type": "stream",
     "text": [
      "The slowest run took 32.99 times longer than the fastest. This could mean that an intermediate result is being cached.\n",
      "100 loops, best of 3: 5.22 ms per loop\n"
     ]
    }
   ],
   "source": [
    "%timeit gaussian_dens_gpu(x, mean, sigma) # GPU function"
   ]
  },
  {
   "cell_type": "markdown",
   "metadata": {
    "id": "41udDlkHRD2N"
   },
   "source": [
    "Yeaah!!\n",
    "\n",
    "![Ricky](https://media.giphy.com/media/3oKIPi2ELEdp4XFtVm/giphy.gif)\n",
    "\n",
    "We can even define our function to be executed in the CPU using Numba."
   ]
  },
  {
   "cell_type": "code",
   "execution_count": null,
   "metadata": {
    "colab": {
     "base_uri": "https://localhost:8080/"
    },
    "id": "Qd3K-QRFRqCr",
    "outputId": "d7387914-9114-4d0e-acc6-5f1500461992"
   },
   "outputs": [
    {
     "name": "stdout",
     "output_type": "stream",
     "text": [
      "The slowest run took 7.66 times longer than the fastest. This could mean that an intermediate result is being cached.\n",
      "10 loops, best of 3: 22.2 ms per loop\n"
     ]
    }
   ],
   "source": [
    "import math \n",
    "\n",
    "sqrt_pi = np.float32((2*math.pi)**0.5)\n",
    "\n",
    "@vectorize\n",
    "def gaussian_dens_cpu(x, mean, sigma):\n",
    "    return math.exp(-0.5 * ((x - mean) / sigma)**2) / (sigma * sqrt_pi)\n",
    "  \n",
    "x = np.random.uniform(-3, 3, size=1000000).astype(np.float32)\n",
    "mean = np.float32(0.0)\n",
    "sigma = np.float32(1.0)\n",
    "\n",
    "%timeit gaussian_dens_cpu(x, mean, sigma) # CPU"
   ]
  },
  {
   "cell_type": "markdown",
   "metadata": {
    "id": "7CEyOflDR1fb"
   },
   "source": [
    "It is even faster than the function written in Python, but slower than the one executed in the GPU."
   ]
  },
  {
   "cell_type": "markdown",
   "metadata": {
    "id": "sSruAoxYao9c"
   },
   "source": [
    "Unfortunately, there are several functions that do not fall within the scope of the definition of ufunc, therefore, to execute functions in the GPU that do not meet that requirement we use `cuda.jit`. We can use \"device functions\" that run on our GPU.\n",
    "\n",
    "__*note*__: \"devices functions\" are functions that can only be called from a kernel or from another \"device\" function."
   ]
  },
  {
   "cell_type": "code",
   "execution_count": null,
   "metadata": {
    "id": "Gcvl1EMEanjh"
   },
   "outputs": [],
   "source": [
    "from numba import cuda\n",
    "\n",
    "# Device function\n",
    "@cuda.jit(device=True)\n",
    "def polar_to_cartesian(rho, theta):\n",
    "    x = rho * math.cos(theta)\n",
    "    y = rho * math.sin(theta)\n",
    "    return x, y\n",
    "\n",
    "@vectorize(['float32(float32, float32, float32, float32)'], target='cuda')\n",
    "def polar_distance(rho1, theta1, rho2, theta2):\n",
    "    x1, y1 = polar_to_cartesian(rho1, theta1)\n",
    "    x2, y2 = polar_to_cartesian(rho2, theta2)\n",
    "    \n",
    "    return ((x1 - x2)**2 + (y1 - y2)**2)**0.5"
   ]
  },
  {
   "cell_type": "code",
   "execution_count": null,
   "metadata": {
    "id": "vlib7BNXbzfI"
   },
   "outputs": [],
   "source": [
    "n = 1000000\n",
    "rho1 = np.random.uniform(0.5, 1.5, size=n).astype(np.float32)\n",
    "theta1 = np.random.uniform(-np.pi, np.pi, size=n).astype(np.float32)\n",
    "rho2 = np.random.uniform(0.5, 1.5, size=n).astype(np.float32)\n",
    "theta2 = np.random.uniform(-np.pi, np.pi, size=n).astype(np.float32)"
   ]
  },
  {
   "cell_type": "code",
   "execution_count": null,
   "metadata": {
    "colab": {
     "base_uri": "https://localhost:8080/"
    },
    "id": "ERUppMswb1O_",
    "outputId": "2d1c1184-78e7-4e54-f7a1-68c50697a3c6"
   },
   "outputs": [
    {
     "name": "stdout",
     "output_type": "stream",
     "text": [
      "The slowest run took 23.49 times longer than the fastest. This could mean that an intermediate result is being cached.\n",
      "1 loop, best of 3: 9.71 ms per loop\n"
     ]
    }
   ],
   "source": [
    "%timeit polar_distance(rho1, theta1, rho2, theta2)"
   ]
  },
  {
   "cell_type": "code",
   "execution_count": null,
   "metadata": {
    "id": "G59Ix_AMG82t"
   },
   "outputs": [],
   "source": []
  }
 ],
 "metadata": {
  "accelerator": "GPU",
  "colab": {
   "collapsed_sections": [],
   "name": "Numba_CUDA.ipynb",
   "provenance": []
  },
  "kernelspec": {
   "display_name": "Python 3",
   "language": "python",
   "name": "python3"
  },
  "language_info": {
   "codemirror_mode": {
    "name": "ipython",
    "version": 3
   },
   "file_extension": ".py",
   "mimetype": "text/x-python",
   "name": "python",
   "nbconvert_exporter": "python",
   "pygments_lexer": "ipython3",
   "version": "3.8.8"
  }
 },
 "nbformat": 4,
 "nbformat_minor": 1
}
