{
 "cells": [
  {
   "cell_type": "markdown",
   "metadata": {},
   "source": [
    "# Autovalores y Autovectores | Eigenvalues, Eigenvectores\n",
    "\n",
    "Ya vimos anteriormente que un sistema de ecuaciones lineales tiene la siguiente forma:<br><br>\n",
    "\n",
    "<center>$Ax=B$</center>\n",
    "\n",
    "¿De dónde proviene los **autovalores** y **autovectores**? Pues provienen de realizarse la siguiente pregunta:\n",
    "\n",
    "<div class=\"alert alert-success\">\n",
    "Suponiendo que tenemos una matriz cuadrada $A$ de $nxn$, ¿existe algún vector $x$ distinto de $0$ para el cual $Ax$ es un escalar múltiplo de $x$? Si escribimos esta pregunta en lenguaje matemático, nos encontramos con la definición de los autovalores y autovectores:<br><br>\n",
    "    \n",
    "<center>$Ax = \\lambda x$</center>\n",
    "</div>\n",
    "\n",
    "Cuando esta ecuación es válida y $x$ no es $0$, decimos que $\\lambda$ es el **Eigenvalue** o **autovalores** de $A$ Y $x$ es su correspondiente **Eigenvector** o **autovector**. Un ejemplo muy simple es el siguiente:<br><br>\n",
    "\n",
    "$Ax = \\lambda x$\n",
    "\n",
    "<center>$A\\left( {\\begin{array}{cc}\n",
    "   1\\\\\n",
    "   1\\\\\n",
    "  \\end{array} } \\right) = \\left( {\\begin{array}{cc}\n",
    "   5\\\\\n",
    "   5\\\\\n",
    "  \\end{array} } \\right) = 5\\left( {\\begin{array}{cc}\n",
    "   1\\\\\n",
    "   1\\\\\n",
    "  \\end{array} } \\right)$ </center><br><br>\n",
    "  \n",
    "En este caso:\n",
    "\n",
    "$\\lambda = 5$<br>\n",
    "$x = \\left( {\\begin{array}{cc}\n",
    "   1\\\\\n",
    "   1\\\\\n",
    "  \\end{array} } \\right)$"
   ]
  },
  {
   "cell_type": "markdown",
   "metadata": {},
   "source": [
    "Vamos a intentar explicar con un ejemplo gráfico que le sucede a los vectores cuando lo multiplicamos por una matriz $A$. Considera que tenemos la siguiente matriz:<br><br>\n",
    "\n",
    "<center>$A = \\left( {\\begin{array}{cc}\n",
    "   3 & 2\\\\\n",
    "   1 & 4\\\\\n",
    "  \\end{array} } \\right)\n",
    "$</center><br>\n",
    "\n",
    "Si la multiplicamos por un vector:<br>\n",
    "\n",
    "<center>$A = \\left( {\\begin{array}{cc}\n",
    "   3 & 2\\\\\n",
    "   1 & 4\\\\\n",
    "  \\end{array} } \\right)\\left( {\\begin{array}{cc}\n",
    "   x\\\\\n",
    "   y\\\\\n",
    "  \\end{array} } \\right) = \\left( {\\begin{array}{cc}\n",
    "   3x + 2y\\\\\n",
    "   x + 4y\\\\\n",
    "  \\end{array} } \\right)\n",
    "$</center><br>\n",
    "\n",
    "Para poder ver el efecto que hace dicha operación vamos a considerar un cuadrado y vamos a resolver dicha ecuación para cada vértice del cuadrado, es decir:"
   ]
  },
  {
   "cell_type": "code",
   "execution_count": 1,
   "metadata": {},
   "outputs": [
    {
     "data": {
      "image/png": "[encoded data removed]",
      "text/plain": [
       "<Figure size 432x288 with 1 Axes>"
      ]
     },
     "metadata": {
      "needs_background": "light"
     },
     "output_type": "display_data"
    }
   ],
   "source": [
    "import matplotlib.pyplot as plt\n",
    "\n",
    "plt.axes()\n",
    "rectangle = plt.Rectangle((0,0), 1, 1)\n",
    "plt.gca().add_patch(rectangle)\n",
    "plt.xlim(-0.25, 1.25)\n",
    "plt.ylim(-0.25, 1.25)\n",
    "plt.grid()\n",
    "plt.show()"
   ]
  },
  {
   "cell_type": "markdown",
   "metadata": {},
   "source": [
    "Los vértices del cuadrado son:\n",
    "\n",
    "<center>$v_1 = \\left( {\\begin{array}{cc}\n",
    "   x\\\\\n",
    "   y\\\\\n",
    "  \\end{array} } \\right) = \\left( {\\begin{array}{cc}\n",
    "   0\\\\\n",
    "   0\\\\\n",
    "  \\end{array} } \\right)\n",
    "$</center><br>\n",
    "<center>$v_2 = \\left( {\\begin{array}{cc}\n",
    "   x\\\\\n",
    "   y\\\\\n",
    "  \\end{array} } \\right) = \\left( {\\begin{array}{cc}\n",
    "   0\\\\\n",
    "   1\\\\\n",
    "  \\end{array} } \\right)\n",
    "$</center><br>\n",
    "<center>$v_3 = \\left( {\\begin{array}{cc}\n",
    "   x\\\\\n",
    "   y\\\\\n",
    "  \\end{array} } \\right) = \\left( {\\begin{array}{cc}\n",
    "   1\\\\\n",
    "   1\\\\\n",
    "  \\end{array} } \\right)\n",
    "$</center><br>\n",
    "<center>$v_4 = \\left( {\\begin{array}{cc}\n",
    "   x\\\\\n",
    "   y\\\\\n",
    "  \\end{array} } \\right) = \\left( {\\begin{array}{cc}\n",
    "   1\\\\\n",
    "   0\\\\\n",
    "  \\end{array} } \\right)\n",
    "$</center><br>\n",
    "\n",
    "Si evaluamos la ecuación anterior en dichos puntos, obtenemos:<br><br>"
   ]
  },
  {
   "cell_type": "code",
   "execution_count": 2,
   "metadata": {},
   "outputs": [],
   "source": [
    "import numpy as np\n",
    "\n",
    "A = np.array([[3, 2],\n",
    "              [1, 4]])\n",
    "\n",
    "v1 = np.array([0, 0])\n",
    "v2 = np.array([0, 1])\n",
    "v3 = np.array([1, 1])\n",
    "v4 = np.array([1, 0])"
   ]
  },
  {
   "cell_type": "code",
   "execution_count": 3,
   "metadata": {},
   "outputs": [
    {
     "name": "stdout",
     "output_type": "stream",
     "text": [
      "[0 0]\n",
      "[2 4]\n",
      "[5 5]\n",
      "[3 1]\n"
     ]
    }
   ],
   "source": [
    "A_v1 = np.dot(A, v1)\n",
    "A_v2 = np.dot(A, v2)\n",
    "A_v3 = np.dot(A, v3)\n",
    "A_v4 = np.dot(A, v4)\n",
    "\n",
    "print(A_v1)\n",
    "print(A_v2)\n",
    "print(A_v3)\n",
    "print(A_v4)"
   ]
  },
  {
   "cell_type": "markdown",
   "metadata": {},
   "source": [
    "En resumen, hemos hecho estas operaciones:\n",
    "\n",
    "<center>$A(v_1) = \\left( {\\begin{array}{cc}\n",
    "   3 & 2\\\\\n",
    "   1 & 4\\\\\n",
    "  \\end{array} } \\right)\\left( {\\begin{array}{cc}\n",
    "   x\\\\\n",
    "   y\\\\\n",
    "  \\end{array} } \\right) = \\left( {\\begin{array}{cc}\n",
    "   3x + 2y\\\\\n",
    "   x + 4y\\\\\n",
    "  \\end{array} } \\right) = \\left( {\\begin{array}{cc}\n",
    "   0\\\\\n",
    "   0\\\\\n",
    "  \\end{array} } \\right)\n",
    "$</center><br>\n",
    "<center>$A(v_2) = \\left( {\\begin{array}{cc}\n",
    "   3 & 2\\\\\n",
    "   1 & 4\\\\\n",
    "  \\end{array} } \\right)\\left( {\\begin{array}{cc}\n",
    "   x\\\\\n",
    "   y\\\\\n",
    "  \\end{array} } \\right) = \\left( {\\begin{array}{cc}\n",
    "   0 + 2\\\\\n",
    "   0 + 4\\\\\n",
    "  \\end{array} } \\right) = \\left( {\\begin{array}{cc}\n",
    "   2\\\\\n",
    "   4\\\\\n",
    "  \\end{array} } \\right)\n",
    "$</center><br>\n",
    "<center>$A(v_3) = \\left( {\\begin{array}{cc}\n",
    "   3 & 2\\\\\n",
    "   1 & 4\\\\\n",
    "  \\end{array} } \\right)\\left( {\\begin{array}{cc}\n",
    "   x\\\\\n",
    "   y\\\\\n",
    "  \\end{array} } \\right) = \\left( {\\begin{array}{cc}\n",
    "   3 + 2\\\\\n",
    "   1 + 4\\\\\n",
    "  \\end{array} } \\right) = \\left( {\\begin{array}{cc}\n",
    "   5\\\\\n",
    "   5\\\\\n",
    "  \\end{array} } \\right)\n",
    "$</center><br>\n",
    "<center>$A(v_4) = \\left( {\\begin{array}{cc}\n",
    "   3 & 2\\\\\n",
    "   1 & 4\\\\\n",
    "  \\end{array} } \\right)\\left( {\\begin{array}{cc}\n",
    "   x\\\\\n",
    "   y\\\\\n",
    "  \\end{array} } \\right) = \\left( {\\begin{array}{cc}\n",
    "   3 + 0\\\\\n",
    "   1 + 0\\\\\n",
    "  \\end{array} } \\right) = \\left( {\\begin{array}{cc}\n",
    "   3\\\\\n",
    "   1\\\\\n",
    "  \\end{array} } \\right)\n",
    "$</center><br>\n",
    "\n",
    "Podemos graficarlo:"
   ]
  },
  {
   "cell_type": "code",
   "execution_count": 4,
   "metadata": {},
   "outputs": [
    {
     "data": {
      "image/png": "[encoded data removed]",
      "text/plain": [
       "<Figure size 432x288 with 1 Axes>"
      ]
     },
     "metadata": {
      "needs_background": "light"
     },
     "output_type": "display_data"
    }
   ],
   "source": [
    "from matplotlib.patches import Polygon\n",
    "\n",
    "pts = np.array([A_v1, A_v2, A_v3, A_v4])\n",
    "p = Polygon(pts, closed=False)\n",
    "ax = plt.gca()\n",
    "ax.add_patch(p)\n",
    "ax.set_xlim(-0.25, 5.25)\n",
    "ax.set_ylim(-0.25, 5.25)\n",
    "ax.grid()\n",
    "plt.show()"
   ]
  },
  {
   "cell_type": "code",
   "execution_count": 5,
   "metadata": {},
   "outputs": [
    {
     "data": {
      "image/png": "[encoded data removed]",
      "text/plain": [
       "<Figure size 432x288 with 1 Axes>"
      ]
     },
     "metadata": {
      "needs_background": "light"
     },
     "output_type": "display_data"
    }
   ],
   "source": [
    "import matplotlib.pyplot as plt\n",
    "\n",
    "plt.axes()\n",
    "rectangle = plt.Rectangle((0,0), 1, 1)\n",
    "plt.gca().add_patch(rectangle)\n",
    "plt.xlim(-0.25, 1.25)\n",
    "plt.ylim(-0.25, 1.25)\n",
    "plt.grid()\n",
    "plt.show()"
   ]
  },
  {
   "cell_type": "markdown",
   "metadata": {},
   "source": [
    "Si recordamos bien, una de las componentes de los vectores (cuando pensamos en ellos geométricamente) es la `dirección`. **¿Se mantiene aquí la dirección de los vectores?**... Vamos a verlo...😄\n",
    "\n",
    "- El punto `v2` ha pasado de $(0, 1)$ a $(2, 4)$\n",
    "- El punto `v4` ha pasado de $(1, 0)$ a $(3, 1)$\n",
    "- El punto `v3` ha pasado de $(1, 1)$ a $(5, 5)$\n",
    "\n",
    "Vemos como el punto `v3` es el único que ha mantenido su dirección, y de hecho se ha dilatado por 5. Este vector que ha mantenido su dirección se denomina **autovector** y el factor de dilatación es el **autovalor** correspondiente.\n",
    "\n",
    "<div class=\"alert alert-success\">\n",
    "Suponiendo que tenemos una matriz cuadrada $A$ de $nxn$, ¿existe algún vector $x$ distinto de $0$ para el cual $Ax$ es un escalar múltiplo de $x$? Si escribimos esta pregunta en lenguaje matemático, nos encontramos con la definición de los autovalores y autovectores:<br><br>\n",
    "    \n",
    "<center>$Ax = \\lambda x$</center>\n",
    "</div>\n",
    "\n",
    "Podemos desarrollarla un poco:\n",
    "\n",
    "<center>$Ax = \\lambda x$</center>\n",
    "\n",
    "Moviendo un miembro al otro lado:\n",
    "\n",
    "<center>$Ax - \\lambda x = 0$</center>\n",
    "\n",
    "Multiplicando por $I$:\n",
    "<center>$(A - \\lambda I)x= 0$</center>\n",
    "\n",
    "Al término $(A - \\lambda I)$ se denomina **matriz de coeficientes**. Queremos obtener los resultados para cuando esta ecuación sea distinto de cero:<br><br>\n",
    "\n",
    "<center>$(A - \\lambda I)x= 0$</center>\n",
    "\n",
    "Un escalar $\\lambda$ es un valor propio de una matriz $A$ de $(nxn)$ si, y sólo si, $\\lambda$ satisface la ecuación característica:<br><br>\n",
    "\n",
    "<center>$det(A - \\lambda I) = 0$</center>"
   ]
  },
  {
   "cell_type": "markdown",
   "metadata": {},
   "source": [
    "<div class=\"alert alert-success\">\n",
    "Considera la siguiente matriz<br><br>\n",
    "    \n",
    "<center>$A = \\left( {\\begin{array}{cc}\n",
    "   3 & 2\\\\\n",
    "   7 & -2\\\\\n",
    "  \\end{array} } \\right)\n",
    "$</center><br>\n",
    "</div>\n",
    "\n",
    "Podemos encontrar los autovalores de la siguiente forma:"
   ]
  },
  {
   "cell_type": "code",
   "execution_count": 7,
   "metadata": {},
   "outputs": [
    {
     "name": "stdout",
     "output_type": "stream",
     "text": [
      "Autovalores:  [ 5. -4.]\n",
      "Autovectores: \n",
      " [[ 0.70710678 -0.27472113]\n",
      " [ 0.70710678  0.96152395]]\n"
     ]
    }
   ],
   "source": [
    "import numpy as np\n",
    "\n",
    "A = np.array([[3, 2],\n",
    "              [7, -2]])\n",
    "\n",
    "x, v = np.linalg.eig(A)\n",
    "print(\"Autovalores: \", x)\n",
    "print(\"Autovectores: \\n\", v)"
   ]
  },
  {
   "cell_type": "markdown",
   "metadata": {},
   "source": [
    "O usando `sympy`:"
   ]
  },
  {
   "cell_type": "code",
   "execution_count": 8,
   "metadata": {},
   "outputs": [
    {
     "name": "stdout",
     "output_type": "stream",
     "text": [
      "Autovalores  {5: 1, -4: 1}\n",
      "Autovectores  [(-4, 1, [Matrix([\n",
      "[-2/7],\n",
      "[   1]])]), (5, 1, [Matrix([\n",
      "[1],\n",
      "[1]])])]\n"
     ]
    }
   ],
   "source": [
    "import sympy\n",
    "\n",
    "A = sympy.Matrix([[3, 2],\n",
    "                  [7, -2]])\n",
    "\n",
    "print(\"Autovalores \", A.eigenvals())\n",
    "print(\"Autovectores \", A.eigenvects())"
   ]
  },
  {
   "cell_type": "markdown",
   "metadata": {},
   "source": [
    "## 9.1-  Eigenvalues y Eigenvectors en ML\n",
    "\n",
    "El cálculo de autovectores y autovalores tiene muchísimas aplicaciones, como puede ser el cálculo de componentes principales en Machine Learning.\n",
    "\n",
    "Veamos un ejemplo sencillo:  es la de obtener los ejes principales de una matriz de dispersión (o de covarianza) de un conjunto de muestras. En otras palabras, ver en qué direcciones tienden a estar alineados un montón de puntos.\n",
    "\n",
    "Un ejemplo en dos dimensiones: si calculamos la matriz de covarianza de los puntos de la figura, sus dos autovectores nos indican las direcciones marcadas por flechas, cuya longitud está dada por los autovalores. Y el autovector del mayor autovalor nos dice la dirección principal en la que se alinean los puntos.  \n",
    "\n",
    "<img src=\"Images/PCA.png\" width=40%/>"
   ]
  },
  {
   "cell_type": "markdown",
   "metadata": {},
   "source": [
    "## 9.2-  Singular Value Decomposition - SVD\n",
    "\n",
    "Dada una matrix $X$ con tamaño $(m,n)$, puede ser expresada como:\n",
    "\n",
    "<img src=\"Images/svd.png\" width=30%/>\n",
    "\n",
    "Donde:\n",
    "\n",
    "- r es el rango de la matrix X\n",
    "- U es una matriz $(m ,r)$ y orthornormal\n",
    "- V es una matriz $(n, r)$ y orthonormal\n",
    "- $\\Sigma$ es una matriz diagonal de $(r, r)$ - cuyos valores se llaman _singular values_\n",
    "\n",
    "1- Podemos usar `SVD` de una forma cualitativa, es decir, que nos sirve para extraer información de nuestros datos.\n",
    "2- O de una forma cuantitativa, que nos permite reducir la dimensionalidad de nuestra matrix $X$ y seguir manteniendo la información importante.\n",
    "\n",
    "<img src=\"Images/svd_movies.png\" width=60%/>\n",
    "\n",
    "Donde:\n",
    "\n",
    "- $U$ es una matriz que relaciona: user-concept\n",
    "- $V$ es una matriz que relaciona: movie-concept\n",
    "- $\\Sigma$: importancia de cada concepto\n",
    "\n",
    "Usando Python:"
   ]
  },
  {
   "cell_type": "code",
   "execution_count": 9,
   "metadata": {},
   "outputs": [],
   "source": [
    "import numpy as np\n",
    "\n",
    "#user vs movie, a 7x5 matrix\n",
    "A = np.array([[1, 1, 1, 0, 0],\\\n",
    "              [3, 3, 3, 0, 0],\\\n",
    "              [4, 4, 4, 0, 0],\\\n",
    "              [5, 5, 5, 0, 0],\\\n",
    "              [0, 2, 0, 4, 4],\\\n",
    "              [0, 0, 0, 5, 5],\\\n",
    "              [0, 1, 0, 2, 2]])"
   ]
  },
  {
   "cell_type": "code",
   "execution_count": 12,
   "metadata": {},
   "outputs": [
    {
     "name": "stdout",
     "output_type": "stream",
     "text": [
      "U : \n",
      " [[-0.14 -0.02 -0.01  0.56 -0.38]\n",
      " [-0.41 -0.07 -0.03  0.21  0.76]\n",
      " [-0.55 -0.09 -0.04 -0.72 -0.18]\n",
      " [-0.69 -0.12 -0.05  0.34 -0.23]\n",
      " [-0.15  0.59  0.65  0.    0.2 ]\n",
      " [-0.07  0.73 -0.68  0.    0.  ]\n",
      " [-0.08  0.3   0.33  0.   -0.4 ]]\n",
      "s : \n",
      " [[12.48  0.    0.    0.    0.  ]\n",
      " [ 0.    9.51  0.    0.    0.  ]\n",
      " [ 0.    0.    1.35  0.    0.  ]\n",
      " [ 0.    0.    0.    0.    0.  ]\n",
      " [ 0.    0.    0.    0.    0.  ]]\n",
      "Vt : \n",
      " [[-0.56 -0.59 -0.56 -0.09 -0.09]\n",
      " [-0.13  0.03 -0.13  0.7   0.7 ]\n",
      " [-0.41  0.8  -0.41 -0.09 -0.09]\n",
      " [-0.71  0.    0.71  0.    0.  ]\n",
      " [ 0.   -0.    0.   -0.71  0.71]]\n"
     ]
    }
   ],
   "source": [
    "U, s, Vt = np.linalg.svd(A, full_matrices=False)\n",
    "S = np.diag(s)\n",
    "\n",
    "print(\"U : \\n\", np.round(U, 2))\n",
    "print(\"s : \\n\", np.round(S, 2))\n",
    "print(\"Vt : \\n\", np.round(Vt, 2))"
   ]
  },
  {
   "cell_type": "code",
   "execution_count": 13,
   "metadata": {},
   "outputs": [
    {
     "name": "stdout",
     "output_type": "stream",
     "text": [
      "[[ 1.  1.  1. -0. -0.]\n",
      " [ 3.  3.  3. -0. -0.]\n",
      " [ 4.  4.  4. -0. -0.]\n",
      " [ 5.  5.  5. -0. -0.]\n",
      " [-0.  2. -0.  4.  4.]\n",
      " [-0.  0. -0.  5.  5.]\n",
      " [-0.  1. -0.  2.  2.]]\n"
     ]
    }
   ],
   "source": [
    "A_reconstruida = U.dot(S.dot(Vt)) # np.dot(U, np.dot(S, Vt))\n",
    "print(np.round(A_reconstruida, 2))"
   ]
  },
  {
   "cell_type": "code",
   "execution_count": 14,
   "metadata": {},
   "outputs": [
    {
     "data": {
      "text/plain": [
       "array([[1, 1, 1, 0, 0],\n",
       "       [3, 3, 3, 0, 0],\n",
       "       [4, 4, 4, 0, 0],\n",
       "       [5, 5, 5, 0, 0],\n",
       "       [0, 2, 0, 4, 4],\n",
       "       [0, 0, 0, 5, 5],\n",
       "       [0, 1, 0, 2, 2]])"
      ]
     },
     "execution_count": 14,
     "metadata": {},
     "output_type": "execute_result"
    }
   ],
   "source": [
    "A"
   ]
  },
  {
   "cell_type": "code",
   "execution_count": 15,
   "metadata": {},
   "outputs": [
    {
     "data": {
      "text/plain": [
       "(7, 5)"
      ]
     },
     "execution_count": 15,
     "metadata": {},
     "output_type": "execute_result"
    }
   ],
   "source": [
    "A.shape"
   ]
  },
  {
   "cell_type": "code",
   "execution_count": 16,
   "metadata": {},
   "outputs": [
    {
     "data": {
      "text/plain": [
       "(7, 5)"
      ]
     },
     "execution_count": 16,
     "metadata": {},
     "output_type": "execute_result"
    }
   ],
   "source": [
    "U.shape"
   ]
  },
  {
   "cell_type": "code",
   "execution_count": 17,
   "metadata": {},
   "outputs": [
    {
     "data": {
      "text/plain": [
       "(5, 5)"
      ]
     },
     "execution_count": 17,
     "metadata": {},
     "output_type": "execute_result"
    }
   ],
   "source": [
    "S.shape"
   ]
  },
  {
   "cell_type": "code",
   "execution_count": 19,
   "metadata": {},
   "outputs": [
    {
     "data": {
      "text/plain": [
       "(5, 5)"
      ]
     },
     "execution_count": 19,
     "metadata": {},
     "output_type": "execute_result"
    }
   ],
   "source": [
    "Vt.shape"
   ]
  },
  {
   "cell_type": "markdown",
   "metadata": {},
   "source": [
    "Otra utilidad que nos proporciona este tipo de descomposiciones, es que podemos aplicar una reducción de dimensionalidad a la matriz original y mantener la información relevante.\n",
    "\n",
    "Para entender este concepto, vamos a usar esta página web: http://timbaumann.info/svd-image-compression-demo/\n",
    "\n",
    "Ahora vamos a hacerlo en Python:"
   ]
  },
  {
   "cell_type": "code",
   "execution_count": 31,
   "metadata": {
    "scrolled": false
   },
   "outputs": [
    {
     "name": "stdout",
     "output_type": "stream",
     "text": [
      "El maximo valor de r es:  5\n",
      "1\n",
      "Numero de components:  1\n",
      "\n",
      " A reconstruida: \n",
      " [[0.97 1.02 0.97 0.15 0.15]\n",
      " [2.9  3.05 2.9  0.46 0.46]\n",
      " [3.86 4.07 3.86 0.62 0.62]\n",
      " [4.83 5.09 4.83 0.77 0.77]\n",
      " [1.07 1.13 1.07 0.17 0.17]\n",
      " [0.51 0.53 0.51 0.08 0.08]\n",
      " [0.54 0.57 0.54 0.09 0.09]]\n",
      "\n",
      " A: \n",
      " [[1 1 1 0 0]\n",
      " [3 3 3 0 0]\n",
      " [4 4 4 0 0]\n",
      " [5 5 5 0 0]\n",
      " [0 2 0 4 4]\n",
      " [0 0 0 5 5]\n",
      " [0 1 0 2 2]]\n",
      "\n",
      " SSE:  92.22427221863023\n",
      "\n",
      " Comp ratio:  0.37142857142857144\n",
      "\n",
      "-------------------------------------------------\n",
      "2\n",
      "Numero de components:  2\n",
      "\n",
      " A reconstruida: \n",
      " [[ 0.99  1.01  0.99 -0.   -0.  ]\n",
      " [ 2.98  3.04  2.98 -0.   -0.  ]\n",
      " [ 3.98  4.05  3.98 -0.01 -0.01]\n",
      " [ 4.97  5.06  4.97 -0.01 -0.01]\n",
      " [ 0.36  1.29  0.36  4.08  4.08]\n",
      " [-0.37  0.73 -0.37  4.92  4.92]\n",
      " [ 0.18  0.65  0.18  2.04  2.04]]\n",
      "\n",
      " A: \n",
      " [[1 1 1 0 0]\n",
      " [3 3 3 0 0]\n",
      " [4 4 4 0 0]\n",
      " [5 5 5 0 0]\n",
      " [0 2 0 4 4]\n",
      " [0 0 0 5 5]\n",
      " [0 1 0 2 2]]\n",
      "\n",
      " SSE:  1.810530940559784\n",
      "\n",
      " Comp ratio:  0.7428571428571429\n",
      "\n",
      "-------------------------------------------------\n",
      "3\n",
      "Numero de components:  3\n",
      "\n",
      " A reconstruida: \n",
      " [[ 1.  1.  1. -0. -0.]\n",
      " [ 3.  3.  3. -0. -0.]\n",
      " [ 4.  4.  4. -0. -0.]\n",
      " [ 5.  5.  5. -0. -0.]\n",
      " [ 0.  2. -0.  4.  4.]\n",
      " [-0.  0. -0.  5.  5.]\n",
      " [ 0.  1. -0.  2.  2.]]\n",
      "\n",
      " A: \n",
      " [[1 1 1 0 0]\n",
      " [3 3 3 0 0]\n",
      " [4 4 4 0 0]\n",
      " [5 5 5 0 0]\n",
      " [0 2 0 4 4]\n",
      " [0 0 0 5 5]\n",
      " [0 1 0 2 2]]\n",
      "\n",
      " SSE:  8.661231396350227e-29\n",
      "\n",
      " Comp ratio:  1.1142857142857143\n",
      "\n",
      "-------------------------------------------------\n",
      "4\n",
      "Numero de components:  4\n",
      "\n",
      " A reconstruida: \n",
      " [[ 1.  1.  1. -0. -0.]\n",
      " [ 3.  3.  3. -0. -0.]\n",
      " [ 4.  4.  4. -0. -0.]\n",
      " [ 5.  5.  5. -0. -0.]\n",
      " [-0.  2. -0.  4.  4.]\n",
      " [-0.  0. -0.  5.  5.]\n",
      " [-0.  1. -0.  2.  2.]]\n",
      "\n",
      " A: \n",
      " [[1 1 1 0 0]\n",
      " [3 3 3 0 0]\n",
      " [4 4 4 0 0]\n",
      " [5 5 5 0 0]\n",
      " [0 2 0 4 4]\n",
      " [0 0 0 5 5]\n",
      " [0 1 0 2 2]]\n",
      "\n",
      " SSE:  6.356969121772307e-29\n",
      "\n",
      " Comp ratio:  1.4857142857142858\n",
      "\n",
      "-------------------------------------------------\n",
      "5\n",
      "Numero de components:  5\n",
      "\n",
      " A reconstruida: \n",
      " [[ 1.  1.  1. -0. -0.]\n",
      " [ 3.  3.  3. -0. -0.]\n",
      " [ 4.  4.  4. -0. -0.]\n",
      " [ 5.  5.  5. -0. -0.]\n",
      " [-0.  2. -0.  4.  4.]\n",
      " [-0.  0. -0.  5.  5.]\n",
      " [-0.  1. -0.  2.  2.]]\n",
      "\n",
      " A: \n",
      " [[1 1 1 0 0]\n",
      " [3 3 3 0 0]\n",
      " [4 4 4 0 0]\n",
      " [5 5 5 0 0]\n",
      " [0 2 0 4 4]\n",
      " [0 0 0 5 5]\n",
      " [0 1 0 2 2]]\n",
      "\n",
      " SSE:  6.356969121772307e-29\n",
      "\n",
      " Comp ratio:  1.8571428571428572\n",
      "\n",
      "-------------------------------------------------\n"
     ]
    }
   ],
   "source": [
    "U, s, Vt = np.linalg.svd(A, full_matrices=False)\n",
    "S = np.diag(s)\n",
    "r = S.shape[0]\n",
    "\n",
    "print(\"El maximo valor de r es: \", r)\n",
    "# U - (m x r)\n",
    "for n_componentes in range(1, r+1):\n",
    "    print(n_componentes)\n",
    "    U_reducida = U[:, :n_componentes] # m x r\n",
    "    S_reducida = S[:n_componentes, :n_componentes] # r x r\n",
    "    Vt_reducida = Vt[:n_componentes, :] # r x n\n",
    "    \n",
    "    # Reconstruimos matriz\n",
    "    A_hat_reconstructed = np.dot(U_reducida, np.dot(S_reducida, Vt_reducida))\n",
    "    \n",
    "    # Error de reconstruccion\n",
    "    SSE = np.sum((A - A_hat_reconstructed)**2)\n",
    "    \n",
    "    # Ratio de compresión m × r + r + r × n\n",
    "    comp_ratio = (A.shape[1]*n_componentes + n_componentes + n_componentes*A.shape[0]) / (A.shape[1] * A.shape[0])\n",
    "    \n",
    "    print(\"Numero de components: \", n_componentes)\n",
    "    print(\"\\n A reconstruida: \\n\", np.round(A_hat_reconstructed, 2))\n",
    "    print(\"\\n A: \\n\", A)\n",
    "    print(\"\\n SSE: \", SSE)\n",
    "    print(\"\\n Comp ratio: \", comp_ratio)\n",
    "    print('\\n-------------------------------------------------')\n",
    "    "
   ]
  },
  {
   "cell_type": "code",
   "execution_count": null,
   "metadata": {},
   "outputs": [],
   "source": []
  }
 ],
 "metadata": {
  "kernelspec": {
   "display_name": "Python 3 (ipykernel)",
   "language": "python",
   "name": "python3"
  },
  "language_info": {
   "codemirror_mode": {
    "name": "ipython",
    "version": 3
   },
   "file_extension": ".py",
   "mimetype": "text/x-python",
   "name": "python",
   "nbconvert_exporter": "python",
   "pygments_lexer": "ipython3",
   "version": "3.8.8"
  }
 },
 "nbformat": 4,
 "nbformat_minor": 4
}
