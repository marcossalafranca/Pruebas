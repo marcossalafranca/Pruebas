{
 "cells": [
  {
   "cell_type": "markdown",
   "metadata": {},
   "source": [
    "# Bienvenidos al Módulo de Álgebra!!\n",
    "\n",
    "## ¿Qué vamos a ver?\n",
    "\n",
    "<img src=\"./Images/Overview.jpg\" width=70%>"
   ]
  },
  {
   "cell_type": "markdown",
   "metadata": {},
   "source": [
    "## ¿Qué es el Álgebra lineal?\n",
    "\n",
    "El **Álgebra Lineal** es una rama de las matemáticas que estudia conceptos tales como vectores, matrices, tensores, sistemas de ecuaciones lineales y, en su enfoque más formal, espacios vectoriales y sus transformaciones lineales.\n",
    "\n",
    "\n",
    "## ¿Por qué debemos estudiar Álgebra?\n",
    "\n",
    "* Algoritmos de **Machine Learning** y, especialmente, para los algoritmos de **Deep Learning**.  \n",
    "\n",
    "* Una de las herramientas más usadas en **Big Data Analytics**.\n",
    "\n",
    "## Librerías en Python para Álgebra Lineal\n",
    "\n",
    "* *math*  \n",
    "  Nos da acceso a funciones hiperbólicas, trigonométricas y logarítmicas para números reales.\n",
    "* *Sympy*  \n",
    "    Nos permite trabajar con matemática simbólica.\n",
    "* *Numpy*  \n",
    "    Nos va a permitir crear vectores, matrices y tensores con suma facilidad\n",
    "* *Matplotlib*  \n",
    "    Útil para trazar números y hacer gráficos\n",
    "* *Scipy*  \n",
    "    Añade a Python utilidades de cálculo numérico de gran capacidad\n",
    "* *Random*  \n",
    "  A veces queremos elegir un número aleatorio en un rango determinado, elegir un elemento aleatorio de una lista, elegir una carta aleatoria de un mazo, lanzar una moneda, etc. Nos apoyaremos en esta librería"
   ]
  },
  {
   "cell_type": "code",
   "execution_count": null,
   "metadata": {},
   "outputs": [],
   "source": []
  }
 ],
 "metadata": {
  "kernelspec": {
   "display_name": "Python 3 (ipykernel)",
   "language": "python",
   "name": "python3"
  },
  "language_info": {
   "codemirror_mode": {
    "name": "ipython",
    "version": 3
   },
   "file_extension": ".py",
   "mimetype": "text/x-python",
   "name": "python",
   "nbconvert_exporter": "python",
   "pygments_lexer": "ipython3",
   "version": "3.8.8"
  }
 },
 "nbformat": 4,
 "nbformat_minor": 4
}
