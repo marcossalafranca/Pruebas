{
 "cells": [
  {
   "cell_type": "markdown",
   "metadata": {},
   "source": [
    "<img src=\"images/keepcoding.png\" width=200 align=\"left\">"
   ]
  },
  {
   "cell_type": "markdown",
   "metadata": {},
   "source": [
    "<img src=\"images/me.jpg\" width=150 align=\"right\">\n",
    "\n",
    "# Análisis del error y límites computacionales\n",
    "\n",
    "Autor: Carlos Moreno Morera\n",
    "\n",
    "Contacto: carlos.moreno@ibm.com\n",
    "\n",
    "Última revisión: 11/Jul/2022"
   ]
  },
  {
   "cell_type": "markdown",
   "metadata": {},
   "source": [
    "## 1.- Introducción\n",
    "En muy pocas ocasiones la información de entrada que se suministra es exacta, pues se obtiene, en general, mediante instrumentos de medida; como, por otra parte, tanto el almacenamiento de los datos como el propio algoritmo de cálculo introducen también errores, la información de salida contendrá errores que provendrán de las tres fuentes, es decir, los errores de salida se producen debido a:\n",
    "- Los errores de entrada\n",
    "- Los errores de almacenamiento\n",
    "- Los errores algorítmicos\n",
    "\n",
    "Sobre el primer tipo de errores nada podemos decir: están relacionados con el diseño de los aparatos de medición o la precisión de la percepción a través de los órganos sensoriales. Analizaremos los otros dos tipos de errores. Antes de comenzar, recordemos cierta terminología estándar en el tratamiento de errores. El error cometido al calibrar cierta magnitud puede ser:\n",
    "- **Error absoluto**: que viene dado por la fórmula $\\lvert\\widetilde{z}-z\\rvert$ donde $\\widetilde{z}$ es la aproximación de la cantidad $z$.\n",
    "- **Error relativo**: que viene dado por la fórmula:\n",
    "$$\n",
    "\\frac{\\lvert\\widetilde{z}-z\\rvert}{\\lvert z\\rvert}\n",
    "$$\n",
    "\n",
    "Suele ser más relevante el error relativo, ya que depende de la magnitud que se está utilizando. Veamos un ejemplo:"
   ]
  },
  {
   "cell_type": "code",
   "execution_count": 1,
   "metadata": {},
   "outputs": [
    {
     "name": "stdout",
     "output_type": "stream",
     "text": [
      "El error absoluto es de 0.25\n"
     ]
    }
   ],
   "source": [
    "#Calculamos el error absoluto cuando z = 0.007 cm y su aproximación es 0.257 cm\n",
    "def error_absoluto(z_aprox, z):\n",
    "    return abs(z_aprox - z)\n",
    "\n",
    "z = .007 #También podemos escribir 7e-3\n",
    "z_aprox = .257\n",
    "\n",
    "print(f'El error absoluto es de {error_absoluto(z_aprox, z)}')"
   ]
  },
  {
   "cell_type": "code",
   "execution_count": 2,
   "metadata": {},
   "outputs": [
    {
     "name": "stdout",
     "output_type": "stream",
     "text": [
      "El error relativo es de 35.714285714285715\n"
     ]
    }
   ],
   "source": [
    "#Calculamos el error relativo del ejemplo anterior\n",
    "def error_relativo(z_aprox, z):\n",
    "    return abs(z_aprox - z)/abs(z)\n",
    "\n",
    "print(f'El error relativo es de {error_relativo(z_aprox, z)}')"
   ]
  },
  {
   "cell_type": "markdown",
   "metadata": {},
   "source": [
    "El resultado anterior nos indica que el error es 35 veces más grande que la magnitud (gigantesco). Se suele decir que el error relativo es del 3571.4% (lo cual es una cantidad inmensa). Aunque a simple vista 0.25 cm parece un error pequeño, si estamos tratando con magnitudes como 0.007 cm es un error enorme.\n",
    "\n",
    "## 2.- Números máquina\n",
    "### 2.1.- Definición e inconvenientes\n",
    "Como se ha visto en la introducción, a la hora de almacenar los datos, también se producen errores. Pero, ¿a qué se debe esto? En el tema anterior vimos algunos ejemplos de conjuntos como los números racionales y los reales. En ambos, nos encontramos con elementos, como $\\pi$ y $1/3$ cuya representación decimal es infinita. Sin embargo, la capacidad de almacenamiento de los ordenadores (la memoria) es finita (solo se puede almacenar una cantidad limitada, grande pero limitada, de números). Esto significa que no siquiera somos capaces de almacenar adecuadamente $\\pi$ o $1/3$. De hecho, la solución a este problema es que **cada número se representa con una cantidad máxima de cifras decimales**, lo que produce que solo se guarden de forma exacta los números que no excedan de ese máximo.\n",
    "\n",
    "Este hecho, a su vez, no solo produce un error inevitable a la hora de almacenar datos, sino que también implica que **hay una cantidad finita de números distintos que pueden almacenarse**. Estos números que pueden almacenarse se denominan números máquina. Expliquémoslo con un ejemplo:\n",
    "\n",
    "Supongamos que en nuestro ordenador primitivo solo podemos guardar los números con una cifra. Esto quiere decir, que no solo se tendrá que $\\pi=3$ (o sea, que $\\pi$ se guardaría como el número 3) sino que el conjunto de números que pueden almacenarse es $\\{0,1,2,3,4,5,6,7,8,9\\}$, y, el resto de números reales, se representará con alguno de ellos. Es decir, nuestro ordenador solo puede guardar diez valores distintos (el cardinal de ese conjunto).\n",
    "\n",
    "Lo mismo ocurriría si pudiéramos almacenar solo una cifra y una cifra decimal:"
   ]
  },
  {
   "cell_type": "code",
   "execution_count": 3,
   "metadata": {},
   "outputs": [
    {
     "name": "stdout",
     "output_type": "stream",
     "text": [
      "100\n",
      "{'4.4', '9.6', '1.0', '3.1', '0.8', '1.7', '4.3', '0.6', '6.8', '5.9', '4.7', '5.5', '3.4', '3.8', '9.2', '3.5', '8.2', '6.5', '9.4', '1.8', '0.9', '6.4', '9.1', '8.7', '7.0', '2.5', '4.1', '4.5', '5.4', '8.1', '3.6', '6.2', '0.5', '1.2', '1.4', '9.3', '4.0', '8.3', '7.8', '6.1', '0.4', '8.9', '1.1', '5.7', '8.8', '5.6', '7.2', '0.3', '4.9', '9.5', '0.7', '2.4', '2.2', '8.4', '2.8', '5.1', '2.0', '4.2', '1.9', '4.8', '1.6', '9.7', '3.2', '2.9', '5.0', '3.3', '5.2', '0.2', '9.0', '7.7', '8.5', '4.6', '7.3', '2.1', '2.3', '0.0', '2.6', '7.4', '6.7', '0.1', '5.8', '3.0', '6.0', '1.5', '1.3', '7.1', '7.9', '7.6', '6.6', '7.5', '3.9', '3.7', '2.7', '9.8', '6.9', '6.3', '5.3', '8.6', '9.9', '8.0'}\n"
     ]
    }
   ],
   "source": [
    "#Construimos el conjunto de los números que tienen una cifra entera y una decimal\n",
    "S = {f'{entero}.{decimal}' for entero in range(10) for decimal in range(10)}\n",
    "print(len(S))\n",
    "print(S)"
   ]
  },
  {
   "cell_type": "code",
   "execution_count": 4,
   "metadata": {},
   "outputs": [
    {
     "name": "stdout",
     "output_type": "stream",
     "text": [
      "[0.0, 0.1, 0.2, 0.3, 0.4, 0.5, 0.6, 0.7, 0.8, 0.9, 1.0, 1.1, 1.2, 1.3, 1.4, 1.5, 1.6, 1.7, 1.8, 1.9, 2.0, 2.1, 2.2, 2.3, 2.4, 2.5, 2.6, 2.7, 2.8, 2.9, 3.0, 3.1, 3.2, 3.3, 3.4, 3.5, 3.6, 3.7, 3.8, 3.9, 4.0, 4.1, 4.2, 4.3, 4.4, 4.5, 4.6, 4.7, 4.8, 4.9, 5.0, 5.1, 5.2, 5.3, 5.4, 5.5, 5.6, 5.7, 5.8, 5.9, 6.0, 6.1, 6.2, 6.3, 6.4, 6.5, 6.6, 6.7, 6.8, 6.9, 7.0, 7.1, 7.2, 7.3, 7.4, 7.5, 7.6, 7.7, 7.8, 7.9, 8.0, 8.1, 8.2, 8.3, 8.4, 8.5, 8.6, 8.7, 8.8, 8.9, 9.0, 9.1, 9.2, 9.3, 9.4, 9.5, 9.6, 9.7, 9.8, 9.9]\n"
     ]
    },
    {
     "data": {
      "image/png": "[encoded data removed]",
      "text/plain": [
       "<Figure size 1440x54 with 1 Axes>"
      ]
     },
     "metadata": {
      "needs_background": "light"
     },
     "output_type": "display_data"
    }
   ],
   "source": [
    "#Mostramos los números que se pueden almacenar\n",
    "from matplotlib import pyplot as plt\n",
    "\n",
    "numeros_maquina = [float(n) for n in S]\n",
    "numeros_maquina.sort()\n",
    "print(numeros_maquina)\n",
    "\n",
    "#Creamos la figura\n",
    "plt.figure(figsize=(20, 0.75))\n",
    "#Dibujamos la recta real\n",
    "plt.hlines(1, -0.25, 10.25, colors='black')\n",
    "#Dibujamos los números máquina\n",
    "plt.eventplot(numeros_maquina, colors='red', linelengths=0.5)\n",
    "#Ocultamos el eje y\n",
    "ax = plt.gca() #get current axis\n",
    "ax.get_yaxis().set_visible(False)\n",
    "plt.title('Números máquina con una cifra entera y una decimal')\n",
    "plt.show()"
   ]
  },
  {
   "cell_type": "markdown",
   "metadata": {},
   "source": [
    "¿Qué ocurrirá si en alguna operación obtenemos un número que no se encuentra en nuestro conjunto finito de números máquina? Una posible solución es aproximar dicho número al número máquina más cercano. Siguiendo con el ejemplo anterior que sólo podemos representar los cien números con una cifra entera y una decimal, si hiciéramos la operación $5.5 + 0.1/4$ cuyo resultado es $5.525$, tendríamos que almacenar el resultado como $5.5$. Fijémonos que aunque en la operación solo hemos utilizado números de nuestro conjunto finito el resultado está fuera del conjunto. Gráficamente el resultado se posicionaría de la siguiente forma:"
   ]
  },
  {
   "cell_type": "code",
   "execution_count": 5,
   "metadata": {},
   "outputs": [
    {
     "data": {
      "image/png": "[encoded data removed]",
      "text/plain": [
       "<Figure size 1440x54 with 1 Axes>"
      ]
     },
     "metadata": {
      "needs_background": "light"
     },
     "output_type": "display_data"
    }
   ],
   "source": [
    "#Mostramos el ejemplo anterior gráficamente\n",
    "subconjunto_num_maquina = [n for n in numeros_maquina if n > 5.2 and n < 5.9]\n",
    "\n",
    "#Creamos la figura\n",
    "plt.figure(figsize=(20, 0.75))\n",
    "#Dibujamos la recta real\n",
    "plt.hlines(1, 5.25, 5.85, colors='black')\n",
    "#Dibujamos los números máquina\n",
    "plt.eventplot(subconjunto_num_maquina, colors='red', linelengths=0.5)\n",
    "#Dibujamos el resultado de la operación\n",
    "plt.eventplot([5.525], colors='blue', linelengths=0.5)\n",
    "#Ocultamos el eje y\n",
    "ax = plt.gca() #get current axis\n",
    "ax.get_yaxis().set_visible(False)\n",
    "plt.title('Números máquina con una cifra entera y una decimal entre 5.3 y 5.8')\n",
    "plt.show()"
   ]
  },
  {
   "cell_type": "markdown",
   "metadata": {},
   "source": [
    "El gráfico anterior resulta de ampliar el espacio que hay entre 5.3 y 5.8. En rojo se marcan los números máquina que podemos representar en nuestro ordenador primitivo y en azul el resultado obtenido de la operación.\n",
    "\n",
    "En la realidad, en lugar de tener un ordenador primitivo que solo es capaz de almacenar una cifra entera y una decimal, podemos guardar muchísimas más. Sin embargo, da igual la capacidad finita que tengamos que **siempre existirán más números en la recta real que no podemos representar que los que sí podemos**. De hecho, no solo es posible encontrar huecos entre los distintos números máquina, sino también a la derecha y a la izquierda del mayor y menor número máquina respectivamente.\n",
    "\n",
    "### 2.2.- Representación binaria\n",
    "\n",
    "Al problema de la finita capacidad de nuestra memoria, debemos añadirle el inconveniente de que, internamente, nuestro ordenador almacenará los números con la representación binaria (sistema numérico en el que todos los números se representan mediante las cifras 0 y 1 exclusivamente). De hecho, podemos distinguir dos tipos de números decimales en coma flotante (float):\n",
    "- Precisión simple: utilizan 32 bits (cifras que pueden ser ceros o unos) para almacenar el valor.\n",
    "- Doble precisión: utilizan 64 bits para almacenar el valor.\n",
    "\n",
    "En Python existen otras representación (como la que utiliza 16 bits y se denomina *de media precisión*), pero las más comunes en los lenguajes de programación son las dos anteriores."
   ]
  },
  {
   "cell_type": "code",
   "execution_count": 6,
   "metadata": {},
   "outputs": [
    {
     "name": "stdout",
     "output_type": "stream",
     "text": [
      "16bit:  0.1235\n",
      "32bit:  0.12345679\n",
      "64bit:  0.12345678912121212\n"
     ]
    }
   ],
   "source": [
    "#Mostramos el mismo número (0.123456789121212121212) con distintas precisiones:\n",
    "import numpy as np\n",
    "\n",
    "a = np.array([0.123456789121212121212], dtype=np.float16)\n",
    "print(\"16bit: \", a[0])\n",
    "\n",
    "a = np.array([0.123456789121212121212], dtype=np.float32)\n",
    "print(\"32bit: \", a[0])\n",
    "\n",
    "a = np.array([0.123456789121212121212], dtype=np.float64)\n",
    "print(\"64bit: \", a[0])"
   ]
  },
  {
   "cell_type": "markdown",
   "metadata": {},
   "source": [
    "Como se puede observar, son más precisos conforme se aumenta el número de bits que se utilizan para almacenarlos. Pero, como hemos dicho, el número no se guarda como se observa en el ejemplo anterior, sino que se guarda con números binarios como vemos a continuación:"
   ]
  },
  {
   "cell_type": "code",
   "execution_count": 7,
   "metadata": {},
   "outputs": [
    {
     "name": "stdout",
     "output_type": "stream",
     "text": [
      "Requirement already satisfied: bitstring in c:\\users\\cmore\\anaconda3\\lib\\site-packages (3.1.9)\n"
     ]
    }
   ],
   "source": [
    "!pip install bitstring"
   ]
  },
  {
   "cell_type": "code",
   "execution_count": 8,
   "metadata": {},
   "outputs": [
    {
     "name": "stdout",
     "output_type": "stream",
     "text": [
      "00111101111111001101011011101010\n",
      "10111101111111001101011011101010\n",
      "0011111110111111100110101101110100110111101111101010100110001101\n",
      "1011111110111111100110101101110100110111101111101010100110001101\n"
     ]
    }
   ],
   "source": [
    "#Mostramos el mismo número (en negativo y en positivo) en binario con las distintas precisiones:\n",
    "import bitstring\n",
    "for longitud in [32, 64]:\n",
    "    f1 = bitstring.BitArray(float=0.123456789121212121212, length=longitud)\n",
    "    print(f1.bin)\n",
    "    f1 = bitstring.BitArray(float=-0.123456789121212121212, length=longitud)\n",
    "    print(f1.bin)"
   ]
  },
  {
   "cell_type": "markdown",
   "metadata": {},
   "source": [
    "Si se observan las representaciones con detenimiento, veremos que cuando cambiamos el signo la representación binaria es la misma y lo único que varía es el primer bit (0 para positivos y 1 para negativos). En efecto, **el primer bit se corresponde con el signo del número**.\n",
    "\n",
    "Tampoco se observa la coma en el número escrito en binario, ¿cómo sabe el ordenador dónde está la coma? Porque se utiliza **el formato estándar de representación** ([IEEE Storage Format](https://standards.ieee.org/ieee/754/6210/)), en el cual se representan los números como potencias: para el exponente se reservan los dígitos después del bit de signo (los 8 siguientes bits para precisión simple o los 11 siguientes para doble precisión) y los últimos para la mantisa o significado (los 23 últimos para precisión simple o los 52 últimos para doble precisión). La mantisa o significado son los dígitos significativos del número en notación científica.\n",
    "\n",
    "Sin embargo, debido a este formato, encontramos que el cero posee dos representaciones binarias posibles: el -0 y el +0"
   ]
  },
  {
   "cell_type": "code",
   "execution_count": 9,
   "metadata": {},
   "outputs": [
    {
     "name": "stdout",
     "output_type": "stream",
     "text": [
      "00000000000000000000000000000000\n",
      "10000000000000000000000000000000\n"
     ]
    }
   ],
   "source": [
    "#Vemos que hay dos representaciones binarias para 0\n",
    "f1 = bitstring.BitArray(float=0., length=32)\n",
    "print(f1.bin)\n",
    "f1 = bitstring.BitArray(float=-0., length=32)\n",
    "print(f1.bin)"
   ]
  },
  {
   "cell_type": "markdown",
   "metadata": {},
   "source": [
    "Además de la curiosidad de poseer dos representaciones distintas para el 0, la representación binaria genera un problema adicional para almacenar ciertos números: puede ocurrir que **un número con un número finito de cifras decimales posea un número infinito de cifras decimales en su representación binaria**. Por ejemplo, el número decimal 0.1 tiene como representación binaria $0.0\\overline{0011}$, lo cual significa que no se podrá almacenar internamente de manera exacta (es decir, 0.1 no es un número máquina)."
   ]
  },
  {
   "cell_type": "code",
   "execution_count": 10,
   "metadata": {},
   "outputs": [
    {
     "data": {
      "text/plain": [
       "0.1"
      ]
     },
     "execution_count": 10,
     "metadata": {},
     "output_type": "execute_result"
    }
   ],
   "source": [
    "#Vemos qué ocurre cuando introduzco 0.1 en Python\n",
    "f = 0.1\n",
    "f"
   ]
  },
  {
   "cell_type": "markdown",
   "metadata": {},
   "source": [
    "Entonces, ¿por qué si almacenamos 0.1 en una variable y lo consultamos después me devuelve el valor exacto y no una aproximación? Porque Python, a partir de la versión 3.1, incluyó ciertos [cambios](https://docs.python.org/dev/whatsnew/3.1.html#other-language-changes) entre los que se encuentran la implementación y ejecución de un procesamiento del número almacenado antes de mostrarlo por pantalla, sin embargo, si le obligamos a mostrarnos el número con muchas cifras significativas veremos lo que realmente está almacenando:"
   ]
  },
  {
   "cell_type": "code",
   "execution_count": 11,
   "metadata": {},
   "outputs": [
    {
     "data": {
      "text/plain": [
       "'0.1000000000000000055511151231257827021181583404541'"
      ]
     },
     "execution_count": 11,
     "metadata": {},
     "output_type": "execute_result"
    }
   ],
   "source": [
    "#Vemos el verdadero valor que almacena internamente Python\n",
    "#Mostramos 50 cifras significativas\n",
    "format(f, '.50g')"
   ]
  },
  {
   "cell_type": "code",
   "execution_count": 12,
   "metadata": {},
   "outputs": [
    {
     "data": {
      "text/plain": [
       "'2'"
      ]
     },
     "execution_count": 12,
     "metadata": {},
     "output_type": "execute_result"
    }
   ],
   "source": [
    "#Mostramos 50 cifras significativas de 2 (número que se puede almacenar en binario)\n",
    "format(2., '.50g')"
   ]
  },
  {
   "cell_type": "markdown",
   "metadata": {},
   "source": [
    "Este hecho produce problemas como el que ocurre si comprobamos si 0.1 + 0.2 es igual a 0.3:"
   ]
  },
  {
   "cell_type": "code",
   "execution_count": 13,
   "metadata": {},
   "outputs": [
    {
     "data": {
      "text/plain": [
       "False"
      ]
     },
     "execution_count": 13,
     "metadata": {},
     "output_type": "execute_result"
    }
   ],
   "source": [
    "# Comprobamos la suma 0.1+0.2\n",
    "0.1 + 0.2 == 0.3"
   ]
  },
  {
   "cell_type": "code",
   "execution_count": 14,
   "metadata": {},
   "outputs": [
    {
     "data": {
      "text/plain": [
       "0.30000000000000004"
      ]
     },
     "execution_count": 14,
     "metadata": {},
     "output_type": "execute_result"
    }
   ],
   "source": [
    "#Vemos el resultado\n",
    "0.1 + 0.2"
   ]
  },
  {
   "cell_type": "code",
   "execution_count": 15,
   "metadata": {},
   "outputs": [
    {
     "name": "stdout",
     "output_type": "stream",
     "text": [
      "False\n",
      "1.1 + 2.2 =  3.3000000000000003\n",
      "False\n",
      "0.2 + 0.2 + 0.2 =  0.6000000000000001\n",
      "False\n",
      "1.2 + 2.4 + 3.6 =  7.199999999999999\n",
      "False\n",
      "0.1 + 0.2 =  0.30000000000000004\n",
      "True\n",
      "10.4 + 20.8 =  31.200000000000003\n",
      "True\n",
      "0.8 - 0.1 =  0.7000000000000001\n"
     ]
    }
   ],
   "source": [
    "#Podemos encontrar muchos más ejemplos\n",
    "print(1.1 + 2.2 == 3.3)\n",
    "print('1.1 + 2.2 = ', 1.1 + 2.2)\n",
    "print(0.2 + 0.2 + 0.2 == 0.6)\n",
    "print('0.2 + 0.2 + 0.2 = ', 0.2 + 0.2 + 0.2)\n",
    "print(1.2 + 2.4 + 3.6 == 7.2)\n",
    "print('1.2 + 2.4 + 3.6 = ', 1.2 + 2.4 + 3.6)\n",
    "print(0.1 + 0.2 <= 0.3)\n",
    "print('0.1 + 0.2 = ', 0.1 + 0.2)\n",
    "print(10.4 + 20.8 > 31.2)\n",
    "print('10.4 + 20.8 = ', 10.4 + 20.8)\n",
    "print(0.8 - 0.1 > 0.7)\n",
    "print('0.8 - 0.1 = ', 0.8 - 0.1)"
   ]
  },
  {
   "cell_type": "markdown",
   "metadata": {},
   "source": [
    "Cabe recordar que el error de representación de los decimales en coma flotante no es específico de Python, es un problema que se debe conocer (por si se necesitara trabajar con cierta precisión) y saber cómo manejar en cada lenguaje de programación. Para ver que es compartido por varios lenguajes, se puede visitar la página que ha creado Erik Wiffin en la que se muestra el resultado de evaluar `0.1 + 0.2` en múltiples lenguajes y que se llama: [0.30000000000000004.com](0.30000000000000004.com).\n",
    "\n",
    "![](./images/panicoffice.gif)\n",
    "\n",
    "### 2.3.- Redondeo\n",
    "Como hemos visto, hay un número finito de números máquina y hay muchísimos \"huecos\" en la recta real de números que no podemos almacenar. Cuando se necesita trabajar con estos números no máquina que se encuentran entre dos números máquina, lo que se hace es aproximarlos por números máquina cercanos. Este proceso se denomina *redondeo*.\n",
    "\n",
    "En coma flotante estándar, para cada número real están definidos cuatro tipos de rendodeo:\n",
    "- Redondeo a la derecha (o por exceso): se toma el número máquina más cercano a la derecha (mayor) del número real.\n",
    "- Redondeo a la izquierda (o por defecto): se toma el número máquina más cercano a la izquierda (menor) del número real.\n",
    "- Redondeo a cero: se toma el número máquina más cercano a la izquierda cuando el número real es positivo y a la derecha cuando es negativo, es decir, se elige entre izquierda y derecha en función del número máquina que se encuentra entre 0 y el número real.\n",
    "- Redondeo al más próximo: se eligen entre el número máquina qu está más cerca del número real, en caso de que estén a igual distancia se toma el que tenga el bit 23 de la mantisa a 0.\n",
    "\n",
    "La opción más común es esta última, de hecho suele ser la opción por defecto en los ordenadores.\n",
    "\n",
    "### 2.4.- Épsilon de la máquina\n",
    "La primera cuestión que se nos plantea entonces es qué error se comete cuando en lugar de trabajar con un número real $x$ se trabaja, como es obligado, con su rendondeo. En términos absolutos, y manteniendo la notación, se tiene la siguiente cota del error de redonde absoluto:\n",
    "\n",
    "Sea $r(x)$ el redondeo que se lleva a cabo del número $x$, $x_d$ el número máquina a la derecha de $x$ y $x_i$ el número máquina a la izquierda de $x$. Supongamos que trabajamos con números de tamaño de la mantisa de 23 bits (precisión simple), entonces el error absoluto es:\n",
    "$$\n",
    "\\lvert r(x)-x\\rvert\\leq\\frac{x_d-x_i}{2}=\\frac{2^{-23}\\cdot2^E}{2}=2^{-24}\\cdot2^E\n",
    "$$\n",
    "Mientras que, en términos relativos, una cota del error de redondeo relativo es:\n",
    "$$\n",
    "\\left\\lvert\\frac{r(x)-x}{x}\\right\\rvert\\leq\\frac{2^{-24}\\cdot2^E}{2^E}=2^{-24}\n",
    "$$\n",
    "\n",
    "El valor de $2^{-24}$ obtenido es, exactamente, la mitad de la distancia entre 1 y el siguiente número máquina. Esta distancia se denomina **precisión o épsilon de la máquina** y se denota por *eps*. Así, pues, trabanjando en coma flotante estándar se verifica que el error de redondeo es menor que $\\text{eps}/2$ utilizando el redondeo al más próximo. En términos de representación decimal quiere decir que el redondeo de $x$ tendrá alrededor de 7 cifras significativas correctas. En doble precisión el épsilon de la máquina es $2^{-52}$ y el redondeo de un número tendrá un mínimo de 15 cifras significativas exactas. Calculemos el épsilon de la máquina en Python:"
   ]
  },
  {
   "cell_type": "code",
   "execution_count": 16,
   "metadata": {},
   "outputs": [
    {
     "data": {
      "text/plain": [
       "2.220446049250313e-16"
      ]
     },
     "execution_count": 16,
     "metadata": {},
     "output_type": "execute_result"
    }
   ],
   "source": [
    "#Podemos calcular el épsilo llevando a cabo la operación 7/3 - 4/3 -1 (ya que la primera resta obtiene\n",
    "# el siguiente número máquina al número 1 debido a las representaciones binarias de ambas fracciones)\n",
    "7./3 - 4./3 -1"
   ]
  },
  {
   "cell_type": "code",
   "execution_count": 17,
   "metadata": {},
   "outputs": [
    {
     "name": "stdout",
     "output_type": "stream",
     "text": [
      "0.1 ≈ 3602879701896397/36028797018963968 ≈ 0.1000000000000000055511151231257827021181583404541\n"
     ]
    },
    {
     "data": {
      "text/plain": [
       "True"
      ]
     },
     "execution_count": 17,
     "metadata": {},
     "output_type": "execute_result"
    }
   ],
   "source": [
    "#Para saber la aproximación de cualquier número real podemos usar la función as_integer_ratio de los float\n",
    "#Esta función sí es específica de Python\n",
    "numerador, denominador = (0.1).as_integer_ratio()\n",
    "print(f'0.1 ≈ {numerador}/{denominador} ≈ {format(numerador/denominador, \".50g\")}')\n",
    "numerador/denominador == 0.1"
   ]
  },
  {
   "cell_type": "code",
   "execution_count": 18,
   "metadata": {},
   "outputs": [
    {
     "name": "stdout",
     "output_type": "stream",
     "text": [
      "2 ≈ 2/1 ≈ 2\n"
     ]
    }
   ],
   "source": [
    "#Hagámoslo con el 2\n",
    "numerador, denominador = (2).as_integer_ratio()\n",
    "print(f'2 ≈ {numerador}/{denominador} ≈ {format(numerador/denominador, \".50g\")}')"
   ]
  },
  {
   "cell_type": "code",
   "execution_count": 19,
   "metadata": {},
   "outputs": [
    {
     "name": "stdout",
     "output_type": "stream",
     "text": [
      "El siguiente número máquina de 1 es: 1.000000000000000000000000001\n"
     ]
    }
   ],
   "source": [
    "#También podemos hallar épsilon calculando el siguiente número máquina después de uno\n",
    "#Para eso usamos la función next_plus de la biblioteca decimal\n",
    "from decimal import *\n",
    "f = Decimal(1)\n",
    "print(f'El siguiente número máquina de {f} es: {f.next_plus()}')"
   ]
  },
  {
   "cell_type": "code",
   "execution_count": 20,
   "metadata": {},
   "outputs": [
    {
     "data": {
      "text/plain": [
       "Decimal('1E-27')"
      ]
     },
     "execution_count": 20,
     "metadata": {},
     "output_type": "execute_result"
    }
   ],
   "source": [
    "#Calculamos el épsilon\n",
    "f.next_plus() - f"
   ]
  },
  {
   "cell_type": "code",
   "execution_count": 21,
   "metadata": {},
   "outputs": [
    {
     "name": "stdout",
     "output_type": "stream",
     "text": [
      "2.220446049250313e-16\n",
      "1.1920929e-07\n"
     ]
    }
   ],
   "source": [
    "#numpy también tiene su forma de informarnos del épsilo de la máquina\n",
    "print(np.finfo(float).eps)\n",
    "print(np.finfo(np.float32).eps)"
   ]
  },
  {
   "cell_type": "markdown",
   "metadata": {},
   "source": [
    "Pero, ¿cuál de todos ellos es realmente el épsilon de la máquina? Obtenemos resultados distintos debido a que utilizamos diferentes librerías que realizan los cálculos de diferentes maneras. Como vemos la librería *decimal* parece tener una precisión mucho mayor. Para conocer el épsilon de la máquina debemos consultar los parámetros del sistema:"
   ]
  },
  {
   "cell_type": "code",
   "execution_count": 22,
   "metadata": {},
   "outputs": [
    {
     "name": "stdout",
     "output_type": "stream",
     "text": [
      "sys.float_info(max=1.7976931348623157e+308\n",
      "max_exp=1024\n",
      "max_10_exp=308\n",
      "min=2.2250738585072014e-308\n",
      "min_exp=-1021\n",
      "min_10_exp=-307\n",
      "dig=15\n",
      "mant_dig=53\n",
      "epsilon=2.220446049250313e-16\n",
      "radix=2\n",
      "rounds=1)\n"
     ]
    }
   ],
   "source": [
    "#Consultamos los valores del sistema\n",
    "import sys\n",
    "print('\\n'.join(str(sys.float_info).split(', ')))"
   ]
  },
  {
   "cell_type": "markdown",
   "metadata": {},
   "source": [
    "Entre otros datos, vemos el épsilon de la máquina (utilizando float) y el número de bits de la mantisa (53).\n",
    "\n",
    "### 2.5.- Desbordamiento\n",
    "Como vimos en los ejemplos prácticos en los que solo contábamos con un ordenador capaz de representar 100 números, no solo encontrábamos elementos del conjunto de los reales no representables entre dos números, sino también a la derecha y a la izquierda del mayor y menor número máquina. Es decir, como tenemos un conjunto finito de números máquina, existirá uno que sea mayor que todos los demás y otro que sea el menor de todos, pero hay infinitos reales más grandes y más pequeños, respectivamente. A este fenómeno de tratar un número real mayor que el máximo representable o menor que el mínimo se le conoce como **desbordamiento por exceso**. La representación estándar en coma flotante trata el desbordamiento como algo excepcional asignándole el valor $\\infty$ (o $-\\infty$ para el caso de un número menor que el mínimo) siempre que tengan sentido las operaciones (por ejemplo $1/\\infty=0$)."
   ]
  },
  {
   "cell_type": "code",
   "execution_count": 23,
   "metadata": {},
   "outputs": [
    {
     "name": "stdout",
     "output_type": "stream",
     "text": [
      "sys.float_info(max=1.7976931348623157e+308\n",
      "max_exp=1024\n",
      "max_10_exp=308\n",
      "min=2.2250738585072014e-308\n",
      "min_exp=-1021\n",
      "min_10_exp=-307\n",
      "dig=15\n",
      "mant_dig=53\n",
      "epsilon=2.220446049250313e-16\n",
      "radix=2\n",
      "rounds=1)\n"
     ]
    }
   ],
   "source": [
    "#Miramos cuál es el valor máximo y mínimo del sistema\n",
    "print('\\n'.join(str(sys.float_info).split(', ')))"
   ]
  },
  {
   "cell_type": "code",
   "execution_count": 24,
   "metadata": {},
   "outputs": [
    {
     "data": {
      "text/plain": [
       "inf"
      ]
     },
     "execution_count": 24,
     "metadata": {},
     "output_type": "execute_result"
    }
   ],
   "source": [
    "#Vemos qué valor le asigna si le damos un número mayor:\n",
    "1.797694e308"
   ]
  },
  {
   "cell_type": "code",
   "execution_count": 25,
   "metadata": {},
   "outputs": [
    {
     "data": {
      "text/plain": [
       "-inf"
      ]
     },
     "execution_count": 25,
     "metadata": {},
     "output_type": "execute_result"
    }
   ],
   "source": [
    "#Probamos en negativo\n",
    "-1.797694e308"
   ]
  },
  {
   "cell_type": "code",
   "execution_count": 26,
   "metadata": {},
   "outputs": [
    {
     "data": {
      "text/plain": [
       "1.7976931348623157e+308"
      ]
     },
     "execution_count": 26,
     "metadata": {},
     "output_type": "execute_result"
    }
   ],
   "source": [
    "#Vemos que el valor máximo sí lo muestra\n",
    "1.7976931348623157e+308"
   ]
  },
  {
   "cell_type": "code",
   "execution_count": 27,
   "metadata": {},
   "outputs": [
    {
     "name": "stdout",
     "output_type": "stream",
     "text": [
      "inf\n",
      "inf\n",
      "inf\n",
      "inf\n",
      "0.0\n"
     ]
    }
   ],
   "source": [
    "#Probamos a operar con el infinito:\n",
    "print(1.8e308 + 1)\n",
    "print(1.8e308 * 2)\n",
    "print(1.8e308 / 2)\n",
    "print(1.8e308 - 1.7e308)\n",
    "print(1/1.8e308)"
   ]
  },
  {
   "cell_type": "code",
   "execution_count": 28,
   "metadata": {},
   "outputs": [
    {
     "name": "stdout",
     "output_type": "stream",
     "text": [
      "nan\n",
      "1.0\n",
      "0.0\n",
      "1.0\n",
      "nan\n",
      "nan\n",
      "nan\n"
     ]
    }
   ],
   "source": [
    "#Generamos indeterminaciones\n",
    "print(1.8e308/-1.8e308) #infinito / infinito\n",
    "print(1**1.8e308) # 1^infinito\n",
    "print(0**1.8e308) # 0^infinito\n",
    "print(1.8e308**0) # infinito^0\n",
    "print(0*1.8e308) # 0 * infinito\n",
    "print(1.8e308*0) # infinito * 0\n",
    "print(1.8e308 - 1.8e308) # infinito - infinito"
   ]
  },
  {
   "cell_type": "markdown",
   "metadata": {},
   "source": [
    "### 2.6.- Ejemplo de error de redondeo\n",
    "\n",
    "![](./images/horrible-avengers.gif)\n",
    "\n",
    "Como hemos visto, constatemente estaremos generando errores de redondeo debido a la capacidad finita de la memoria y a la representación binaria de los números. Para minimizarla lo máximo posible, conviene tratar de simplificar las expresiones matemáticas todo lo que se pueda evitando también el fenómeno de cancelación (antes observamos que, aunque $7/3 - 4/3 -1 = 0$ no se anulaba por completo). Veamos un ejemplo:\n",
    "\n",
    "Tenemos la siguiente función:\n",
    "$$\n",
    "f_1(x) = \\frac{x^4-x^3-x+1}{(x-1)^2}\n",
    "$$\n",
    "que, con valores distintos a 1, puede simplificarse (obteniendo las raíces del numerador) en la siguiente expresión:\n",
    "$$\n",
    "f_2(x) = \\frac{(x-1)^2(x^2+x+1)}{(x-1)^2}=x^2+x+1\n",
    "$$\n",
    "Veamos qué resultados obtenemos al aplicar las distintas expresiones con valores cercanos a 1 (un poco mayores que 1):"
   ]
  },
  {
   "cell_type": "code",
   "execution_count": 29,
   "metadata": {},
   "outputs": [
    {
     "name": "stdout",
     "output_type": "stream",
     "text": [
      "x = 1.0000000200000001005   | f1(x) = 3.330669040403849035     | f2(x) = 3.0000000600000005235\n",
      "x = 1.0000000190000000178   | f1(x) = 3.075410034765179379     | f2(x) = 3.0000000570000002753\n",
      "x = 1.0000000180000001571   | f1(x) = 3.4266142137365704912    | f2(x) = 3.0000000540000009153\n",
      "x = 1.0000000170000000743   | f1(x) = 3.0732817021953264813    | f2(x) = 3.000000051000000667\n",
      "x = 1.0000000159999999916   | f1(x) = 3.4694469556059415183    | f2(x) = 3.0000000480000004188\n",
      "x = 1.0000000150000001309   | f1(x) = 2.9605946806683967054    | f2(x) = 3.0000000450000006147\n",
      "x = 1.0000000140000000481   | f1(x) = 2.2657612591625513332    | f2(x) = 3.0000000420000003665\n",
      "x = 1.0000000129999999654   | f1(x) = 3.9416202267502438161    | f2(x) = 3.0000000390000001183\n",
      "x = 1.0000000120000001047   | f1(x) = 3.0839527923629135309    | f2(x) = 3.0000000360000003141\n",
      "x = 1.000000011000000022    | f1(x) = 1.835079372216853022     | f2(x) = 3.0000000330000000659\n",
      "x = 1.0000000099999999392   | f1(x) = 4.4408921524794120472    | f2(x) = 3.0000000299999998177\n",
      "x = 1.0000000090000000785   | f1(x) = 2.7412913709892561265    | f2(x) = 3.0000000270000004576\n",
      "x = 1.0000000079999999958   | f1(x) = 3.4694469556059415183    | f2(x) = 3.0000000240000002094\n",
      "x = 1.0000000070000001351   | f1(x) = 0                        | f2(x) = 3.0000000210000004053\n",
      "x = 1.0000000060000000524   | f1(x) = 6.1679055847258270617    | f2(x) = 3.0000000180000001571\n",
      "x = 1.0000000049999999696   | f1(x) = 8.8817843049588240945    | f2(x) = 3.0000000149999999088\n",
      "x = 1.0000000040000001089   | f1(x) = 0                        | f2(x) = 3.0000000120000001047\n",
      "x = 1.0000000030000000262   | f1(x) = 0                        | f2(x) = 3.0000000089999998565\n",
      "x = 1.0000000019999999434   | f1(x) = 0                        | f2(x) = 3.0000000059999996083\n",
      "x = 1.0000000010000000827   | f1(x) = 0                        | f2(x) = 3.0000000030000002482\n"
     ]
    }
   ],
   "source": [
    "#Implementamos f1\n",
    "def f1(x):\n",
    "    return (x**4-x**3-x+1)/((x-1)**2)\n",
    "\n",
    "#Implementamos f2\n",
    "def f2(x):\n",
    "    return x**2+x+1\n",
    "\n",
    "#Generamos 20 números entre (1, 1.00000002] (sin incluir el 1)\n",
    "nparray = np.linspace(1.00000002, 1., 20, endpoint=False)\n",
    "\n",
    "#Evaluamos las expresiones para cada número\n",
    "for f in nparray:\n",
    "    print(f'x = {format(f, \".20g\").ljust(23)} | f1(x) = {format(f1(f), \".20g\").ljust(23)}  | f2(x) = {format(f2(f), \".20g\")}')"
   ]
  },
  {
   "cell_type": "markdown",
   "metadata": {},
   "source": [
    "Como vemos, con la función $f_1$ para números cercanos a 1 (recordemos que estos números no producen ninguna indeterminación), no acabamos de aproximar adecuadamente el resultado. Mientras que la función $f_2$ no se encuentra con estos problemas. Esto se debe al fenómeno de cancelación comentado anteriormente que debemos tratar de evitar.\n",
    "\n",
    "### 2.7.- Propagación del error\n",
    "\n",
    "![](./images/worse-tarzan.gif)\n",
    "\n",
    "Como hemos visto, solo para almacenar un número real ya se comete un pequeño error. A continuación, al operar con ellos no solo se producen tantos errores como operandos, sino tras llevar a cabo cada una de las operaciones, se vuelve a cometer un error de redondeo. Si, por ejemplo, evaluamos $a+b+c$ siendo $a$, $b$, y $c$ tres números reales, tendremos los errores de almacenar los tres números, luego el error de redondeo de $a+b$ y, por último, el error de redondeo de $(a+b) + c$ (y no estamos teniendo en cuenta el error en la medición del dato). De esta forma si pensamos en un algoritmo que involucre una gran cantidad de operaciones elementales las perspectivas pueden parecer no muy buenas. Parece claro que debemos estudiar cuánto influye la propagación del error en el resultado final del problema. Dos son los principales conceptos ligados a este estudio:\n",
    "- **Condicionamiento**: mide la influencia que tendría en el resultado eventuales errores en los datos en el caso ideal de que se pudiese trabajar con aritmética exacta. Está ligado, por tanto, al problema en sí y no depende del algoritmo.\n",
    "- **Estabilidad**: está relacionada con la influencia que tiene en los resultados finales la acumulación de los errores que se producen en las sucesivas operaciones elementales que se llevan a cabo para resolver el problema.\n",
    "\n",
    "Ambos conceptos resultan bastante difíciles de analizar. Veamos un ejemplo de condicionamiento diseñado por el matemático R. S. Wilson:"
   ]
  },
  {
   "cell_type": "code",
   "execution_count": 30,
   "metadata": {},
   "outputs": [],
   "source": [
    "#Resolvamos un sistema lineal de la forma Ax = b (profundizaremos en esto más adelante)\n",
    "#Datos del ejemplo:\n",
    "A = [[10, 7, 8, 7],\n",
    "    [7, 5, 6, 5],\n",
    "    [8, 6, 10, 9],\n",
    "    [7, 5, 9, 10]]\n",
    "\n",
    "#La matriz con pequeños cambios la copiamos de la matriz original e introducimos los cambios\n",
    "A_aprox = [[10, 7, 8.1, 7.2],\n",
    "    [7.08, 5.04, 6, 5],\n",
    "    [8, 5.98, 9.89, 9],\n",
    "    [6.99, 4.99, 9, 9.98]]\n",
    "\n",
    "b = [32, 23, 33, 31]\n",
    "\n",
    "b_aprox = [32.1, 22.9, 33.1, 30.9]"
   ]
  },
  {
   "cell_type": "code",
   "execution_count": 31,
   "metadata": {},
   "outputs": [
    {
     "name": "stdout",
     "output_type": "stream",
     "text": [
      "10x + 7y + 8z + 7t = 32\n",
      "7x + 5y + 6z + 5t = 23\n",
      "8x + 6y + 10z + 9t = 33\n",
      "7x + 5y + 9z + 10t = 31\n",
      "\n",
      "Solución del sistema:\n",
      "x = 1, y = 1, z = 1, t = 1\n",
      "\n",
      "--------------------\n",
      "\n",
      "10x + 7y + 8.1z + 7.2t = 32\n",
      "7.08x + 5.04y + 6z + 5t = 23\n",
      "8x + 5.98y + 9.89z + 9t = 33\n",
      "6.99x + 4.99y + 9z + 9.98t = 31\n",
      "\n",
      "Solución del sistema introduciendo pequeños errores en A:\n",
      "x = -81, y = 137, z = -34, t = 22\n",
      "\n",
      "--------------------\n",
      "\n",
      "10x + 7y + 8z + 7t = 32.1\n",
      "7x + 5y + 6z + 5t = 22.9\n",
      "8x + 6y + 10z + 9t = 33.1\n",
      "7x + 5y + 9z + 10t = 30.9\n",
      "\n",
      "Solución del sistema introduciendo pequeños errores en b:\n",
      "x = 9.2, y = -12.6, z = 4.5, t = -1.1\n"
     ]
    }
   ],
   "source": [
    "#Veamos las soluciones de los sistemas\n",
    "#Mostramos el sistema:\n",
    "def print_sistema(A, b):\n",
    "    ecuaciones = ''\n",
    "    incognitas = ['x', 'y', 'z', 't']\n",
    "    for i in range(4):\n",
    "        for j in range(4):\n",
    "            ecuaciones += f'{A[i][j]}{incognitas[j]} '\n",
    "            if j != 3:\n",
    "                ecuaciones += '+ '\n",
    "            else:\n",
    "                ecuaciones += '= '\n",
    "        ecuaciones += f'{b[i]}\\n'\n",
    "    print(ecuaciones)\n",
    "\n",
    "#Mostramos la solución dada del sistema\n",
    "def print_solucion(sol):\n",
    "    solucion = ''\n",
    "    incognitas = ['x', 'y', 'z', 't']\n",
    "    for i in range(4):\n",
    "        solucion += f'{incognitas[i]} = {format(sol[i], \".7g\")}'\n",
    "        if i != 3:\n",
    "            solucion += ', '\n",
    "    print(solucion)\n",
    "\n",
    "#Ax = b\n",
    "print_sistema(A, b)\n",
    "print('Solución del sistema:')\n",
    "print_solucion(np.linalg.solve(A, b))\n",
    "#A_aprox x = b\n",
    "print('\\n--------------------\\n')\n",
    "print_sistema(A_aprox, b)\n",
    "print('Solución del sistema introduciendo pequeños errores en A:')\n",
    "print_solucion(np.linalg.solve(A_aprox, b))\n",
    "#Ax = b_aprox\n",
    "print('\\n--------------------\\n')\n",
    "print_sistema(A, b_aprox)\n",
    "print('Solución del sistema introduciendo pequeños errores en b:')\n",
    "print_solucion(np.linalg.solve(A, b_aprox))"
   ]
  },
  {
   "cell_type": "markdown",
   "metadata": {},
   "source": [
    "Ante estos resultados, podemos decir que **este problema está mal condicionado**, o lo que es lo mismo, ante pequeñas perturbaciones en los datos, obtendremos resultados radicalmente diferentes.\n",
    "\n",
    "## 3.- Soluciones\n",
    "![](./images/aleluya.gif)\n",
    "\n",
    "En esta sección veremos distintas soluciones a los diferentes problemas que hemos ido viendo. Antes de introducir las distintas formas que hay de minimizar el impacto de las limitaciones de nuestros ordenadores, **es importante pensar si realmente necesitamos una solución y la precisión con la que queremos trabajar**. En muchas ocasiones, no se requiere de tanta precisión o, simplemente, basta con llevar a cabo algún tipo de ajuste en los datos de entrada. Por ejemplo, si estamos trabajando con unidades de medida, en lugar de utilizar medidas como 0.007 m, podemos tratar de cambiar la magnitud de nuestros datos a, por ejemplo, milímetros. Por supuesto, para ello deberemos estudiar cuál es el mayor número que alcanzaremos con nuestro problema y cuál es el menor, así como las necesidades del problema. Quizás, para llevar a cabo un estudio estadístico con el fin de describir un conjunto de datos no necesitamos una gran precisión y podemos asumir el error cometido al evaluar las operaciones. Esto, dependerá del problema y sus necesidades, pero como se ha comentado, es importante valorar qué precisión realmente necesitamos y qué solución se adecúa más a nuestro problema.\n",
    "\n",
    "### 3.1.- Display\n",
    "Es muy común que podamos asumir el pequeño error que se comete en las distintas operaciones y simplemente necesitamos mostrar una solución por pantalla razonble (en lugar de visualizar el número 0.30000000000000004 que se muestra al operar 0.1 + 0.2). Para ello hemos visto diferentes formas de mostrar estos resultados (téngase en cuenta que estas soluciones **solo arreglan el problema de visualización, pero internamente se seguirán arrastrando los errores**):"
   ]
  },
  {
   "cell_type": "code",
   "execution_count": 32,
   "metadata": {},
   "outputs": [
    {
     "name": "stdout",
     "output_type": "stream",
     "text": [
      "0.3\n"
     ]
    }
   ],
   "source": [
    "#Utilizando format(float, número de cifras significativas)\n",
    "print(format(0.1 + 0.2, \".5g\"))"
   ]
  },
  {
   "cell_type": "code",
   "execution_count": 33,
   "metadata": {},
   "outputs": [
    {
     "name": "stdout",
     "output_type": "stream",
     "text": [
      " 0.30000\n"
     ]
    }
   ],
   "source": [
    "#Utilizando f-strings\n",
    "print(f'{0.1 + 0.2: .5f}')"
   ]
  },
  {
   "cell_type": "code",
   "execution_count": 34,
   "metadata": {},
   "outputs": [
    {
     "name": "stdout",
     "output_type": "stream",
     "text": [
      " 0.3\n"
     ]
    }
   ],
   "source": [
    "#Podemos elegir con las f-strings el número de decimales \n",
    "# (el .5 anterior indica el número de decimales que queremos mostrar)\n",
    "print(f'{0.1 + 0.2: .1f}')"
   ]
  },
  {
   "cell_type": "code",
   "execution_count": 35,
   "metadata": {},
   "outputs": [
    {
     "data": {
      "text/plain": [
       "4"
      ]
     },
     "execution_count": 35,
     "metadata": {},
     "output_type": "execute_result"
    }
   ],
   "source": [
    "#Para obtener la parte entera simplemente basta con transformar el float a int\n",
    "int(4.231234)"
   ]
  },
  {
   "cell_type": "code",
   "execution_count": 36,
   "metadata": {},
   "outputs": [
    {
     "data": {
      "text/plain": [
       "4"
      ]
     },
     "execution_count": 36,
     "metadata": {},
     "output_type": "execute_result"
    }
   ],
   "source": [
    "#¡Cuidado! Hacer cast de tipo float a entero hace un truncamiento, no un redondeo\n",
    "int(4.99923)"
   ]
  },
  {
   "cell_type": "code",
   "execution_count": 37,
   "metadata": {},
   "outputs": [
    {
     "data": {
      "text/plain": [
       "4.512"
      ]
     },
     "execution_count": 37,
     "metadata": {},
     "output_type": "execute_result"
    }
   ],
   "source": [
    "#Se puede utilizar la función round indicando el número de decimales\n",
    "round(4.51231, 3)"
   ]
  },
  {
   "cell_type": "markdown",
   "metadata": {},
   "source": [
    "Con la última solución hay que tener cuidado, en el sentido de que todos esperaríamos que si tenemos el número 2.675 se redondee con dos decimales a 2.68, sin embargo, recordemos que cuando un número se encuentra a la misma distancia de sus dos números máquina más cercanos, dependía del valor de un dígito binario. Esto mismo ocurre con la función `round`:"
   ]
  },
  {
   "cell_type": "code",
   "execution_count": 38,
   "metadata": {},
   "outputs": [
    {
     "name": "stdout",
     "output_type": "stream",
     "text": [
      "2\n",
      "4\n",
      "2.67\n",
      "2.67\n"
     ]
    }
   ],
   "source": [
    "print(round(2.5))\n",
    "print(round(3.5))\n",
    "print(round(2.675, 2))\n",
    "print(round(2.665, 2))"
   ]
  },
  {
   "cell_type": "markdown",
   "metadata": {},
   "source": [
    "La función `round`, aproxima como se espera excepto si se encuentra en medio camino entre ambos posibles redondeos, en cuyo caso, acudirá a su representación binaria y se redondeará al valor más cercano con un dígito menos significativo par.\n",
    "\n",
    "También existen las soluciones relacionadas con el truncamiento:"
   ]
  },
  {
   "cell_type": "code",
   "execution_count": 39,
   "metadata": {},
   "outputs": [
    {
     "data": {
      "text/plain": [
       "4"
      ]
     },
     "execution_count": 39,
     "metadata": {},
     "output_type": "execute_result"
    }
   ],
   "source": [
    "from math import trunc\n",
    "#Se elimina la parte decimal, igual que al transformarlo a entero\n",
    "trunc(4.14332)"
   ]
  },
  {
   "cell_type": "markdown",
   "metadata": {},
   "source": [
    "En caso de que queramos seleccionar el número de decimales a truncar tendríamos que implementar nuestra propia función:"
   ]
  },
  {
   "cell_type": "code",
   "execution_count": 40,
   "metadata": {},
   "outputs": [
    {
     "data": {
      "text/plain": [
       "4.99"
      ]
     },
     "execution_count": 40,
     "metadata": {},
     "output_type": "execute_result"
    }
   ],
   "source": [
    "def truncar(real, num_decimales = 0):\n",
    "    factor = 10**num_decimales\n",
    "    real *= factor\n",
    "    real = trunc(real)\n",
    "    return real/factor\n",
    "\n",
    "truncar(4.9999, 2)"
   ]
  },
  {
   "cell_type": "markdown",
   "metadata": {},
   "source": [
    "Estas dos últimas soluciones, como las demás, no arreglarían el problema de aproximación del número 0.1, pero sí probablemente resolvería muchos problemas de almacenamiento de números más complicados. Veamos que no sigue sin ayudarnos a la hora de comparar 0.1 + 0.2 con 0.3:"
   ]
  },
  {
   "cell_type": "code",
   "execution_count": 41,
   "metadata": {},
   "outputs": [
    {
     "data": {
      "text/plain": [
       "False"
      ]
     },
     "execution_count": 41,
     "metadata": {},
     "output_type": "execute_result"
    }
   ],
   "source": [
    "round(.1, 1) + round(.2, 1) == round(.3, 1)"
   ]
  },
  {
   "cell_type": "code",
   "execution_count": 42,
   "metadata": {},
   "outputs": [
    {
     "data": {
      "text/plain": [
       "True"
      ]
     },
     "execution_count": 42,
     "metadata": {},
     "output_type": "execute_result"
    }
   ],
   "source": [
    "#Sin embargo, podría servirnos si aproximamos los resultaod sd elas operacioness\n",
    "round(.1 + .2, 1) == round(.3, 1)"
   ]
  },
  {
   "cell_type": "markdown",
   "metadata": {},
   "source": [
    "### 3.2.- Comparación de números\n",
    "Quizás no nos interesa realmente ser capaces de almacenar y obtener una gran precisión en el tratamiento numérico, sino que simplemente queremos obtener resultados razonables al hacer comparaciones como `0.1 + 0.2 == 0.3` y obtener `True` como resultado. Una opción es utilizar el redondeo o truncamiento vistos en la sección anterior y aplicarlo a cada resultado de la operación. Sin embargo, esto resulta tedioso, ineficiente y hace menos legible el código. Para comparar números utilizaremos la función `isclose()` en lugar de los operadores `==`, `>=` o `<=` con los floats:"
   ]
  },
  {
   "cell_type": "code",
   "execution_count": 43,
   "metadata": {},
   "outputs": [
    {
     "data": {
      "text/plain": [
       "True"
      ]
     },
     "execution_count": 43,
     "metadata": {},
     "output_type": "execute_result"
    }
   ],
   "source": [
    "from math import isclose\n",
    "isclose(0.1 + 0.2, 0.3)"
   ]
  },
  {
   "cell_type": "markdown",
   "metadata": {},
   "source": [
    "¿Qué hace realmente la función `isclose`? Comprueba si el segundo argumento se parece, de forma aceptable, al segundo argumento. Pero, ¿qué significa exactamente \"se parece, de forma aceptable\"? La idea se basa en comprobar **la distancia** entre el primer argumento y el segundo (la distancia se calcula como el error absoluto de los valores):"
   ]
  },
  {
   "cell_type": "code",
   "execution_count": 44,
   "metadata": {},
   "outputs": [
    {
     "data": {
      "text/plain": [
       "5.551115123125783e-17"
      ]
     },
     "execution_count": 44,
     "metadata": {},
     "output_type": "execute_result"
    }
   ],
   "source": [
    "error_absoluto(0.1+0.2, 0.3)"
   ]
  },
  {
   "cell_type": "markdown",
   "metadata": {},
   "source": [
    "Si el error absoluto es más pequeño que un valor porcentual de la cantidad del primer argumento y del segundo (o lo que es lo mismo, se encuentra un error relativo bajo), entonces el primer argumento se considera lo suficientemente \"cercano\" al segundo argumento como para afirmar \"que son iguales\". Este porcentaje se denomina **tolerancia relativa** y por defecto tiene el valor de `1e-9` (o lo que es lo mismo, $10^{-9}$). En otras palabras, dos valores $a$ y $b$ se considerarán \"cercanos\" cuando:\n",
    "$$\n",
    "\\lvert a-b\\rvert<\\text{tol}\\cdot\\max\\left(\\lvert a\\rvert, \\lvert b\\rvert\\right)\n",
    "$$\n",
    "siendo $\\text{tol}$ la tolerancia relativa.\n",
    "\n",
    "Cuando la tolerancia relativa posee su valor por defecto, garantiza la igualdad en las primeras 9 cifras decimales, pero podemos cambiar la tolerancia para que sea más preciso o menos:"
   ]
  },
  {
   "cell_type": "code",
   "execution_count": 45,
   "metadata": {},
   "outputs": [
    {
     "data": {
      "text/plain": [
       "False"
      ]
     },
     "execution_count": 45,
     "metadata": {},
     "output_type": "execute_result"
    }
   ],
   "source": [
    "#Tolerancia relativa de 1e-20\n",
    "isclose(0.1 + 0.2, 0.3, rel_tol=1e-20)"
   ]
  },
  {
   "cell_type": "code",
   "execution_count": 46,
   "metadata": {},
   "outputs": [
    {
     "data": {
      "text/plain": [
       "True"
      ]
     },
     "execution_count": 46,
     "metadata": {},
     "output_type": "execute_result"
    }
   ],
   "source": [
    "#Tolerancia relativa de dos decimales\n",
    "isclose(3.253, 3.259, rel_tol=1e-2)"
   ]
  },
  {
   "cell_type": "markdown",
   "metadata": {},
   "source": [
    "Hay un problema cuando $a$ o $b$ es cero y la tolerancia relativa se corresponde con un número inferior a 1. En este caso, da igual cuán cerca esté el otro número de cero, nunca se cumplirá la condición necesaria. En este caso se debe utilizar una **tolerancia absoluta**:"
   ]
  },
  {
   "cell_type": "code",
   "execution_count": 47,
   "metadata": {},
   "outputs": [
    {
     "data": {
      "text/plain": [
       "False"
      ]
     },
     "execution_count": 47,
     "metadata": {},
     "output_type": "execute_result"
    }
   ],
   "source": [
    "a = 0\n",
    "b = 1e-10\n",
    "tol = 1e-9\n",
    "#Si usamos la tolerancia relativa fallará siempre independientemente del valor de b\n",
    "error_absoluto(a,b) < tol * max(abs(a), abs(b))"
   ]
  },
  {
   "cell_type": "code",
   "execution_count": 48,
   "metadata": {},
   "outputs": [
    {
     "data": {
      "text/plain": [
       "True"
      ]
     },
     "execution_count": 48,
     "metadata": {},
     "output_type": "execute_result"
    }
   ],
   "source": [
    "#Si usamos una tolerancia absoluta esto no ocurrirá\n",
    "error_absoluto(a,b) < tol"
   ]
  },
  {
   "cell_type": "markdown",
   "metadata": {},
   "source": [
    "Esta comprobación la realiza automáticamente el método `isclose` e incluye el parámetro de tolerancia absoluta que por defecto es 0.0:"
   ]
  },
  {
   "cell_type": "code",
   "execution_count": 49,
   "metadata": {},
   "outputs": [
    {
     "data": {
      "text/plain": [
       "False"
      ]
     },
     "execution_count": 49,
     "metadata": {},
     "output_type": "execute_result"
    }
   ],
   "source": [
    "#Probamos con el valor por defecto de tolerancia absoluta\n",
    "isclose(a, b)"
   ]
  },
  {
   "cell_type": "code",
   "execution_count": 50,
   "metadata": {},
   "outputs": [
    {
     "data": {
      "text/plain": [
       "True"
      ]
     },
     "execution_count": 50,
     "metadata": {},
     "output_type": "execute_result"
    }
   ],
   "source": [
    "#Cambiamos el valor\n",
    "isclose(a, b, abs_tol=tol)"
   ]
  },
  {
   "cell_type": "markdown",
   "metadata": {},
   "source": [
    "¿Y qué ocurre si queremos hacer comparaciones de tipo `<=`, `<`, `>=` o `>`? Entonces usaremos `isclose` y, a continuación, en función del resultado, ejecutaremos la comparación estricta:"
   ]
  },
  {
   "cell_type": "code",
   "execution_count": 51,
   "metadata": {},
   "outputs": [],
   "source": [
    "#Definimos funciones menorque y menoroigual\n",
    "def menorque(a, b):\n",
    "    return not(isclose(a,b)) and a < b\n",
    "\n",
    "def menoroigual(a, b):\n",
    "    return isclose(a, b) or a < b"
   ]
  },
  {
   "cell_type": "code",
   "execution_count": 52,
   "metadata": {},
   "outputs": [
    {
     "name": "stdout",
     "output_type": "stream",
     "text": [
      "Antes: False | Ahora True\n",
      "Antes: False | Ahora True\n",
      "Antes: False | Ahora True\n",
      "Antes: False | Ahora True\n",
      "Antes: True | Ahora False\n",
      "Antes: True | Ahora False\n"
     ]
    }
   ],
   "source": [
    "#Probemos las comparaciones que antes no conseguíamos realizar correctamente:\n",
    "comparaciones = [(1.1 + 2.2, 3.3, '=='), (0.2 + 0.2 + 0.2, 0.6, '=='), (1.2 + 2.4 + 3.6, 7.2, '=='),\n",
    "                (0.1 + 0.2, 0.3, '<='), (31.2, 10.4 + 20.8, '<'), (0.7, 0.8 - 0.1, '<')]\n",
    "#Comparamos el resultado anterior con el nuevo utilizando las nuevas funciones:\n",
    "for a, b, op in comparaciones:\n",
    "    if op == '==':\n",
    "        print(f'Antes: {a == b} | Ahora {isclose(a,b)}')\n",
    "    elif op == '<=':\n",
    "        print(f'Antes: {a <= b} | Ahora {menoroigual(a,b)}')\n",
    "    else:\n",
    "        print(f'Antes: {a < b} | Ahora {menorque(a,b)}')"
   ]
  },
  {
   "cell_type": "markdown",
   "metadata": {},
   "source": [
    "![](./images/yay-friends.gif)\n",
    "\n",
    "En `numpy` existen alternativas a la función `isclose` de la librería math:"
   ]
  },
  {
   "cell_type": "code",
   "execution_count": 53,
   "metadata": {},
   "outputs": [
    {
     "data": {
      "text/plain": [
       "False"
      ]
     },
     "execution_count": 53,
     "metadata": {},
     "output_type": "execute_result"
    }
   ],
   "source": [
    "# El valor por defecto de la tolerancia relativa es de 1e-05  y de la absoluta 1e-08\n",
    "np.allclose([0.1 + 0.2,1e-7], [0.3, 1e-8])"
   ]
  },
  {
   "cell_type": "code",
   "execution_count": 54,
   "metadata": {},
   "outputs": [
    {
     "data": {
      "text/plain": [
       "True"
      ]
     },
     "execution_count": 54,
     "metadata": {},
     "output_type": "execute_result"
    }
   ],
   "source": [
    "np.allclose([0.1 + 0.2, 1e-8], [0.3, 1e-9])"
   ]
  },
  {
   "cell_type": "code",
   "execution_count": 55,
   "metadata": {},
   "outputs": [
    {
     "data": {
      "text/plain": [
       "array([ True, False])"
      ]
     },
     "execution_count": 55,
     "metadata": {},
     "output_type": "execute_result"
    }
   ],
   "source": [
    "#También está la función is close\n",
    "np.isclose([0.1 + 0.2,1e-7], [0.3, 1e-8])"
   ]
  },
  {
   "cell_type": "markdown",
   "metadata": {},
   "source": [
    "### 3.3.- Precisión en el almacenamiento y en las operaciones\n",
    "Antes de comenzar con las soluciones que nos permiten obtener mayor precisión en el almacenamiento de los números y en sus operaciones, debemos reincidir en la necesidad de crítica de cara al problema al que nos estemos enfrentando para saber si realmente necesitamos este tipo de soluciones y si se adaptan adecuadamente a las características de nuestro programa. Hay que tener en cuenta que aumentar la precisión en el almacenamiento conlleva un aumento en el tamaño de las variables para guardar el mismo valor que antes se almacenaba de manera \"más ligera\". Por otro lado, el aumento de la precisión en las operaciones con coma flotante, conlleva un aumento en el tiempo de ejecución del algoritmo. Por ese motivo, conviene recordar que antes de implementarla, es recomendable evaluar si es necesaria una solución de este tipo. Por ejemplo, si estamos gestionando un sistema de almacenamiento Big Data y los valores que guardamos no requieren esta precisión, conviene evitar este tipo de implementaciones, ya que lo único que se conseguirá será aumentar excesivamente los costes de almacenamiento de los datos.\n",
    "\n",
    "Existen dos módulos en Python que ofrecen una precisión casi absoluta para aquellas situaciones en las que usar el tipo `float` no resulta adecuado:\n",
    "\n",
    "#### 3.3.1.- Decimal\n",
    "El tipo `Decimal` puede almacenar valores decimales con anta precisión como necesites. Por defecto, garantiza la exactitud de 28 cifras significativas, pero es completamente editable. Se suele utilizar a la hora de trabajar con dinero o tipos de interés."
   ]
  },
  {
   "cell_type": "code",
   "execution_count": 56,
   "metadata": {},
   "outputs": [
    {
     "data": {
      "text/plain": [
       "Decimal('0.3')"
      ]
     },
     "execution_count": 56,
     "metadata": {},
     "output_type": "execute_result"
    }
   ],
   "source": [
    "#Evaluamos la suma 0.1 + 0.2\n",
    "from decimal import Decimal\n",
    "\n",
    "Decimal(\"0.1\") + Decimal('0.2')"
   ]
  },
  {
   "cell_type": "code",
   "execution_count": 57,
   "metadata": {},
   "outputs": [
    {
     "data": {
      "text/plain": [
       "Decimal('0.1428571428571428571428571429')"
      ]
     },
     "execution_count": 57,
     "metadata": {},
     "output_type": "execute_result"
    }
   ],
   "source": [
    "#Calculamos 1/7 con 28 cifras significativas exactas:\n",
    "Decimal(1) / Decimal(7)"
   ]
  },
  {
   "cell_type": "code",
   "execution_count": 58,
   "metadata": {},
   "outputs": [
    {
     "data": {
      "text/plain": [
       "Decimal('0.142857')"
      ]
     },
     "execution_count": 58,
     "metadata": {},
     "output_type": "execute_result"
    }
   ],
   "source": [
    "#Cambiemos la precisión\n",
    "from decimal import getcontext\n",
    "getcontext().prec = 6  # Usa 6 cifras significativas\n",
    "Decimal(1) / Decimal(7)"
   ]
  },
  {
   "cell_type": "code",
   "execution_count": 59,
   "metadata": {},
   "outputs": [
    {
     "data": {
      "text/plain": [
       "Decimal('0.1000000000000000055511151231257827021181583404541015625')"
      ]
     },
     "execution_count": 59,
     "metadata": {},
     "output_type": "execute_result"
    }
   ],
   "source": [
    "#Es posible también obtener el valor exacto almacenado en un float\n",
    "Decimal.from_float(0.1)"
   ]
  },
  {
   "cell_type": "code",
   "execution_count": 60,
   "metadata": {},
   "outputs": [
    {
     "data": {
      "text/plain": [
       "Decimal('0.1000000000000000055511151231257827021181583404541015625')"
      ]
     },
     "execution_count": 60,
     "metadata": {},
     "output_type": "execute_result"
    }
   ],
   "source": [
    "#Lo anterior se puede simplificar como\n",
    "Decimal(0.1)"
   ]
  },
  {
   "cell_type": "code",
   "execution_count": 61,
   "metadata": {},
   "outputs": [
    {
     "data": {
      "text/plain": [
       "Decimal('9.25')"
      ]
     },
     "execution_count": 61,
     "metadata": {},
     "output_type": "execute_result"
    }
   ],
   "source": [
    "#Con el tipo Decimal se puede operar igual que con los float:\n",
    "data = list(map(Decimal, '1.34 1.87 3.45 2.35 1.00 0.03 9.25'.split()))\n",
    "max(data)"
   ]
  },
  {
   "cell_type": "code",
   "execution_count": 62,
   "metadata": {},
   "outputs": [
    {
     "data": {
      "text/plain": [
       "Decimal('0.03')"
      ]
     },
     "execution_count": 62,
     "metadata": {},
     "output_type": "execute_result"
    }
   ],
   "source": [
    "min(data)"
   ]
  },
  {
   "cell_type": "code",
   "execution_count": 63,
   "metadata": {},
   "outputs": [
    {
     "data": {
      "text/plain": [
       "[Decimal('0.03'),\n",
       " Decimal('1.00'),\n",
       " Decimal('1.34'),\n",
       " Decimal('1.87'),\n",
       " Decimal('2.35'),\n",
       " Decimal('3.45'),\n",
       " Decimal('9.25')]"
      ]
     },
     "execution_count": 63,
     "metadata": {},
     "output_type": "execute_result"
    }
   ],
   "source": [
    "sorted(data)"
   ]
  },
  {
   "cell_type": "code",
   "execution_count": 64,
   "metadata": {},
   "outputs": [
    {
     "data": {
      "text/plain": [
       "Decimal('19.29')"
      ]
     },
     "execution_count": 64,
     "metadata": {},
     "output_type": "execute_result"
    }
   ],
   "source": [
    "sum(data)"
   ]
  },
  {
   "cell_type": "code",
   "execution_count": 65,
   "metadata": {},
   "outputs": [
    {
     "data": {
      "text/plain": [
       "Decimal('6.70')"
      ]
     },
     "execution_count": 65,
     "metadata": {},
     "output_type": "execute_result"
    }
   ],
   "source": [
    "data[0] * 5"
   ]
  },
  {
   "cell_type": "code",
   "execution_count": 66,
   "metadata": {},
   "outputs": [
    {
     "data": {
      "text/plain": [
       "Decimal('1.414213562373095048801688724')"
      ]
     },
     "execution_count": 66,
     "metadata": {},
     "output_type": "execute_result"
    }
   ],
   "source": [
    "#También te permite calcular la raíz cuadrada\n",
    "Decimal(2).sqrt()"
   ]
  },
  {
   "cell_type": "code",
   "execution_count": 67,
   "metadata": {},
   "outputs": [
    {
     "data": {
      "text/plain": [
       "Decimal('2.718281828459045235360287471')"
      ]
     },
     "execution_count": 67,
     "metadata": {},
     "output_type": "execute_result"
    }
   ],
   "source": [
    "#La función exponencial\n",
    "Decimal(1).exp()"
   ]
  },
  {
   "cell_type": "code",
   "execution_count": 68,
   "metadata": {},
   "outputs": [
    {
     "data": {
      "text/plain": [
       "Decimal('2.302585092994045684017991455')"
      ]
     },
     "execution_count": 68,
     "metadata": {},
     "output_type": "execute_result"
    }
   ],
   "source": [
    "#El logaritmo neperiano\n",
    "Decimal('10').ln()"
   ]
  },
  {
   "cell_type": "code",
   "execution_count": 69,
   "metadata": {},
   "outputs": [
    {
     "data": {
      "text/plain": [
       "Decimal('1')"
      ]
     },
     "execution_count": 69,
     "metadata": {},
     "output_type": "execute_result"
    }
   ],
   "source": [
    "#El logaritmo en base 10\n",
    "Decimal('10').log10()"
   ]
  },
  {
   "cell_type": "code",
   "execution_count": 70,
   "metadata": {},
   "outputs": [
    {
     "name": "stdout",
     "output_type": "stream",
     "text": [
      "2.0000000000000004\n",
      "1.999999999999999999999999999\n"
     ]
    }
   ],
   "source": [
    "#Calculamos el cuadrado de la raíz de dos\n",
    "print((2 ** 0.5)**2)\n",
    "print((Decimal('2') ** Decimal('0.5')) ** Decimal('2'))"
   ]
  },
  {
   "cell_type": "markdown",
   "metadata": {},
   "source": [
    "Para continuar profundizando acerca de las funcionalidades y detalles del módulo `Decimal` de Python consúltese la [documentación](https://docs.python.org/3/library/decimal.html).\n",
    "\n",
    "#### 3.3.2.- Fraction\n",
    "El tipo `Fraction` permite almacenar números racionales de manera exacta y supera los problemas de error de representación que presentan los números en coma flotante."
   ]
  },
  {
   "cell_type": "code",
   "execution_count": 71,
   "metadata": {},
   "outputs": [
    {
     "data": {
      "text/plain": [
       "Fraction(1, 10)"
      ]
     },
     "execution_count": 71,
     "metadata": {},
     "output_type": "execute_result"
    }
   ],
   "source": [
    "#Resolvemos el problema de 0.1 + 0.2 con Fraction\n",
    "from fractions import Fraction\n",
    "Fraction(1, 10)"
   ]
  },
  {
   "cell_type": "code",
   "execution_count": 72,
   "metadata": {},
   "outputs": [
    {
     "data": {
      "text/plain": [
       "True"
      ]
     },
     "execution_count": 72,
     "metadata": {},
     "output_type": "execute_result"
    }
   ],
   "source": [
    "Fraction(1,10) + Fraction(2,10) == Fraction(3, 10)"
   ]
  },
  {
   "cell_type": "code",
   "execution_count": 73,
   "metadata": {},
   "outputs": [
    {
     "data": {
      "text/plain": [
       "Fraction(-8, 5)"
      ]
     },
     "execution_count": 73,
     "metadata": {},
     "output_type": "execute_result"
    }
   ],
   "source": [
    "#Simplifica automáticamente las fracciones\n",
    "Fraction(16, -10)"
   ]
  },
  {
   "cell_type": "code",
   "execution_count": 74,
   "metadata": {},
   "outputs": [
    {
     "data": {
      "text/plain": [
       "Fraction(-3, 7)"
      ]
     },
     "execution_count": 74,
     "metadata": {},
     "output_type": "execute_result"
    }
   ],
   "source": [
    "#Interpreta correctamente las cadenas de caracteres\n",
    "Fraction(' -3/7 ')"
   ]
  },
  {
   "cell_type": "code",
   "execution_count": 75,
   "metadata": {},
   "outputs": [
    {
     "data": {
      "text/plain": [
       "Fraction(-1, 8)"
      ]
     },
     "execution_count": 75,
     "metadata": {},
     "output_type": "execute_result"
    }
   ],
   "source": [
    "#Incluso transforma números decimales\n",
    "Fraction('-.125')"
   ]
  },
  {
   "cell_type": "code",
   "execution_count": 76,
   "metadata": {},
   "outputs": [
    {
     "data": {
      "text/plain": [
       "Fraction(3602879701896397, 36028797018963968)"
      ]
     },
     "execution_count": 76,
     "metadata": {},
     "output_type": "execute_result"
    }
   ],
   "source": [
    "#Al igual que Decimal, también te da el valor exacto de float\n",
    "Fraction(0.1)"
   ]
  },
  {
   "cell_type": "code",
   "execution_count": 77,
   "metadata": {},
   "outputs": [
    {
     "data": {
      "text/plain": [
       "Fraction(55, 63)"
      ]
     },
     "execution_count": 77,
     "metadata": {},
     "output_type": "execute_result"
    }
   ],
   "source": [
    "#Opera correctamente con las fracciones\n",
    "Fraction(3,7) + Fraction(4, 9)"
   ]
  },
  {
   "cell_type": "code",
   "execution_count": 78,
   "metadata": {},
   "outputs": [
    {
     "data": {
      "text/plain": [
       "Fraction(15, 28)"
      ]
     },
     "execution_count": 78,
     "metadata": {},
     "output_type": "execute_result"
    }
   ],
   "source": [
    "Fraction(3,7) * Fraction(5, 4)"
   ]
  },
  {
   "cell_type": "code",
   "execution_count": 79,
   "metadata": {},
   "outputs": [
    {
     "data": {
      "text/plain": [
       "0.6546536707079771"
      ]
     },
     "execution_count": 79,
     "metadata": {},
     "output_type": "execute_result"
    }
   ],
   "source": [
    "Fraction(3, 7)**Fraction(1,2)"
   ]
  },
  {
   "cell_type": "markdown",
   "metadata": {},
   "source": [
    "Si se quieren conocer más detalles del módulo `Fraction` de Python se puede consultar la [documentación](https://docs.python.org/3/library/fractions.html#module-fractions)"
   ]
  }
 ],
 "metadata": {
  "kernelspec": {
   "display_name": "Python 3 (ipykernel)",
   "language": "python",
   "name": "python3"
  },
  "language_info": {
   "codemirror_mode": {
    "name": "ipython",
    "version": 3
   },
   "file_extension": ".py",
   "mimetype": "text/x-python",
   "name": "python",
   "nbconvert_exporter": "python",
   "pygments_lexer": "ipython3",
   "version": "3.8.8"
  }
 },
 "nbformat": 4,
 "nbformat_minor": 4
}
