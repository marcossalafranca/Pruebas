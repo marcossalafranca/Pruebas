{
 "cells": [
  {
   "cell_type": "markdown",
   "metadata": {},
   "source": [
    "# Matrices\n",
    "\n",
    "## 5.1-  ¿Qué es una matriz?\n",
    "\n",
    "Si A es una matriz $m × n$, esto es, una matriz con $m$ filas y $n$ columnas, entonces la entrada escalar en la i-ésima y la j-ésima columna de $A$ se denota mediante $a_{ij}$ y se llama entrada $(i, j)$ de A.<br><br>\n",
    "\n",
    "<center>$\n",
    "  M=\n",
    "  \\left[ {\\begin{array}{cc}\n",
    "   a_{11} & a_{12}  & ... & a_{1j}  \\\\\n",
    "   a_{21} & a_{22}  & ... & a_{2j}  \\\\\n",
    "   ... & ...  & ... & ...  \\\\\n",
    "   a_{i1} & a_{i2}  & ... & a_{ij}  \\\\\n",
    "  \\end{array} } \\right]\n",
    "$</center><br><br>  \n",
    "\n",
    "### Matriz diagonal\n",
    "Una **matriz diagonal** es una matriz cuadrada que tiene todos los elementos $0$ excepto los elementos de su diagonal. Los elementos de la diagonal de una matriz cuadrada $A$ vienen definidos por: son $a_{11}, a_{22}, a_{33}...a_{nn}$\n",
    " \n",
    "#### Matrices Identidad\n",
    "Un ejemplo de **matrices diagonales** son las **matrices identidad**, las cuales son matrices cuadradas donde todos sus elementos son $0$ menos los elementos de la diagonal que son $1$.\n",
    "\n",
    "Un ejemplo es la matriz identidad $I_{n}$ de dimensiones $n × n$ es:<br><br>\n",
    "\n",
    "<center>$\n",
    "  I_n=\n",
    "  \\left[ {\\begin{array}{cc}\n",
    "   1 & 0  & ... & 0  \\\\\n",
    "   0 & 1  & ... & 0  \\\\\n",
    "   ... & ...  & ... & ...  \\\\\n",
    "   0 & 0  & ... & 1  \\\\\n",
    "  \\end{array} } \\right]\n",
    "$</center><br><br>\n",
    "\n",
    "<div class=\"alert alert-success\">\n",
    "    <b>No debemos temer a la matriz identidad, la matriz identidad es nuestra amiga ✌️. Debemos pensar en la matriz identidad como si fuera el número 1. Por ejemplo:</b>\n",
    "</div>\n",
    "\n",
    "- Cuando multiplicamos el número $1$ por otro número $x$ obtenemos el mismo número $x$ - **NEUTRALIDAD**:<br><br>\n",
    "<center>$1\\cdot4 = 4$</center><br>\n",
    "\n",
    "- Si calculamos el inverso de $1$, obtenemos $1$ de nuevo - **INVERSIBLE**:<br><br>\n",
    "<center>$1^{-1}= 1$</center><br>\n",
    "\n",
    "- Al elevar $1$ a otro número $X$, siempre nos quedará $1$ - **IDEMPOTENCIA**:<br><br>\n",
    "<center>$1^{5}= 1$</center><br>\n",
    "\n",
    "Si en vez de usar el número $1$ usamos una **matriz identidad** $I_{n}$, ¿qué sucede?:\n",
    "\n",
    "- Cuando multiplicamos una matriz identidad $I_{n}$ por otra matriz $A$ obtendremos la misma matriz $A$ - **NEUTRALIDAD - PRODUCTO NEUTRO**:<br><br>\n",
    "<center>$A\\cdot I_{n} = A$</center><br>\n",
    "\n",
    "- El inverso de la matriz identidad $I_{n}$ es la matriz identidad $I_{n}$ de nuevo - **INVERSIBLE**:<br><br>\n",
    "<center>$I_{n}^{-1}= I_{n}$</center><br>\n",
    "\n",
    "- La matriz identidad $I_{n}$ elevada a otra valor $X$, siempre nos quedará la matriz identidad $I_{n}$ - **IDEMPOTENCIA**:<br><br>\n",
    "<center>$I_{n}^{5}= I_{n}$</center><br>\n",
    "\n",
    "\n",
    "### Matriz triangular\n",
    "\n",
    "Una **matriz triangular** es una matriz cuadrada la cual tiene triángulos de ceros por encima o por debajo de la diagonal. En caso de que los valores ceros estén por encima de la diagonal se denomina **matriz triangular superior** y si es por debajo de la diagonal se denomina como **matriz triangular inferior**.<br><br>\n",
    "\n",
    "**Matriz triangular inferior**:\n",
    "\n",
    "<center>$\n",
    "  U_{nxm}=\n",
    "  \\left[ {\\begin{array}{cc}\n",
    "   1 & 4  & 6  \\\\\n",
    "   0 & 2  & 2  \\\\\n",
    "   0 & 0  & 1  \\\\\n",
    "  \\end{array} } \\right]\n",
    "$</center><br><br>\n",
    "\n",
    "**Matriz triangular superior**:\n",
    "\n",
    "<center>$\n",
    "  U_{nxm}=\n",
    "  \\left[ {\\begin{array}{cc}\n",
    "   1 & 0 & 0 \\\\\n",
    "   4 & 2  & 0\\\\\n",
    "   7 & 3  & 1  \\\\\n",
    "  \\end{array} } \\right]\n",
    "$</center><br><br>"
   ]
  },
  {
   "cell_type": "markdown",
   "metadata": {},
   "source": [
    "## 5.2-  Matrices en Python\n",
    "\n",
    "### 5.2.1- Usando Listas\n",
    "Python no tiene incorporado internamente matrices __'per se'__. Sin embargo, podemos tratar a una lista como una matriz. Por ejemplo:"
   ]
  },
  {
   "cell_type": "code",
   "execution_count": null,
   "metadata": {},
   "outputs": [],
   "source": []
  },
  {
   "cell_type": "markdown",
   "metadata": {},
   "source": [
    "Al ser una lista no podemos imprimir su tamaño, pero sí su longitud:"
   ]
  },
  {
   "cell_type": "code",
   "execution_count": null,
   "metadata": {},
   "outputs": [],
   "source": []
  },
  {
   "cell_type": "markdown",
   "metadata": {},
   "source": [
    "Al ser una lista, podemos acceder a sus elementos como ya vimos:"
   ]
  },
  {
   "cell_type": "markdown",
   "metadata": {},
   "source": [
    "<div class=\"alert alert-block alert-danger\">\n",
    "    <b>⚠️ ATENCIÓN ⚠️</b> Los índices empiezan en 0!!\n",
    "</div>"
   ]
  },
  {
   "cell_type": "code",
   "execution_count": null,
   "metadata": {},
   "outputs": [],
   "source": []
  },
  {
   "cell_type": "markdown",
   "metadata": {},
   "source": [
    "Si quisieramos obtener la 3 columna, deberíamos hacer:"
   ]
  },
  {
   "cell_type": "code",
   "execution_count": null,
   "metadata": {},
   "outputs": [],
   "source": []
  },
  {
   "cell_type": "markdown",
   "metadata": {},
   "source": [
    "Podemos utilizar las listas para operaciones con matrices cuando sea algo sencillo y que no requiera operaciones muy complejas. Pero para el resto lo mejor es usar **Numpy**."
   ]
  },
  {
   "cell_type": "markdown",
   "metadata": {},
   "source": [
    "### 5.2.2- Usando Numpy"
   ]
  },
  {
   "cell_type": "markdown",
   "metadata": {},
   "source": [
    "En **Numpy** podemos crear una matriz tanto usando la funcion `np.matrix()` como `np.array()`. Sin embargo, es totalmente desaconsejable usar `np.matrix()` ya que en la propia documentación de **Numpy** nos advierten de que dicha clase puede ser eliminada en cualquier momento.\n",
    "\n",
    "<div class=\"alert alert-block alert-danger\">\n",
    "    <b>⚠️ NOTE ⚠️</b> It is no longer recommended to use this class, even for linear algebra. Instead use regular arrays. The class may be removed in the future. Check it <a href=https://numpy.org/devdocs/reference/generated/numpy.matrix.html?highlight=matrix#numpy.matrix>Here.</a>\n",
    "</div>"
   ]
  },
  {
   "cell_type": "markdown",
   "metadata": {},
   "source": [
    "Por tanto, nosotros vamos a usar `np.array()`. Para crear una matriz simplemento debemos definir:"
   ]
  },
  {
   "cell_type": "code",
   "execution_count": null,
   "metadata": {},
   "outputs": [],
   "source": []
  },
  {
   "cell_type": "markdown",
   "metadata": {},
   "source": [
    "Podemos generar la **matriz identidad** usando `np.identity()`"
   ]
  },
  {
   "cell_type": "code",
   "execution_count": null,
   "metadata": {},
   "outputs": [],
   "source": []
  },
  {
   "cell_type": "markdown",
   "metadata": {},
   "source": [
    "Para crear una matriz donde todos sus elementos sean 0 excepto la diagonal podemos usar `np.eye`"
   ]
  },
  {
   "cell_type": "code",
   "execution_count": null,
   "metadata": {},
   "outputs": [],
   "source": []
  },
  {
   "cell_type": "markdown",
   "metadata": {},
   "source": [
    "También podemos controlar que diagonal se rellena"
   ]
  },
  {
   "cell_type": "code",
   "execution_count": null,
   "metadata": {},
   "outputs": [],
   "source": []
  },
  {
   "cell_type": "markdown",
   "metadata": {},
   "source": [
    "Para generar una matriz llena de ceros"
   ]
  },
  {
   "cell_type": "code",
   "execution_count": null,
   "metadata": {},
   "outputs": [],
   "source": []
  },
  {
   "cell_type": "markdown",
   "metadata": {},
   "source": [
    "## 5.3- Suma de matrices\n",
    "\n",
    "* Se dice que dos **matrices** son **iguales** si tienen el mismo tamaño, es decir, el mismo número de filas y de columnas, y sus columnas correspondientes son iguales.  \n",
    "* Si A y B son matrices m × n, entonces la suma A + B es la matriz m × n cuyas columnas son las sumas de las columnas correspondientes de A y B.\n",
    "* La suma A + B está definida sólo cuando A y B son del mismo tamaño.  \n",
    "\n",
    "<div class=\"alert alert-success\">\n",
    "    <b>Queremos sumar estas dos matrices:</b>\n",
    "\n",
    "<center>$m_1=\n",
    "  \\left[ {\\begin{array}{cc}\n",
    "   1 & 4 \\\\\n",
    "   2 & 0\\\\\n",
    "  \\end{array} } \\right]\n",
    "$</center><br>\n",
    "\n",
    "<center>$\n",
    "  m_2=\n",
    "  \\left[ {\\begin{array}{cc}\n",
    "   -1 & 2 \\\\\n",
    "   1 & -2\\\\\n",
    "  \\end{array} } \\right]\n",
    "$</center>\n",
    "</div>"
   ]
  },
  {
   "cell_type": "code",
   "execution_count": null,
   "metadata": {},
   "outputs": [],
   "source": []
  },
  {
   "cell_type": "markdown",
   "metadata": {},
   "source": [
    "En caso de que tuvieran distinto tamaño:"
   ]
  },
  {
   "cell_type": "code",
   "execution_count": null,
   "metadata": {},
   "outputs": [],
   "source": []
  },
  {
   "cell_type": "markdown",
   "metadata": {},
   "source": [
    "## 5.4- Multiplicación de una matriz por un escalar\n",
    "\n",
    "* Si r es un escalar y A es una matriz, entonces el múltiplo escalar rA es la matriz cuyas columnas son r veces las columnas correspondientes de A. \n",
    "* Al igual que con los vectores, se define −A como (−1)A y se escribe A − B en lugar de A + (−1)B."
   ]
  },
  {
   "cell_type": "markdown",
   "metadata": {},
   "source": [
    "<div class=\"alert alert-success\">\n",
    "    <b>Multiplicar por 2 la siguiente matriz:</b>\n",
    "\n",
    "<center>$\n",
    "A_{1}=\n",
    "  \\left[ {\\begin{array}{cc}\n",
    "   1 & 4 \\\\\n",
    "   2 & 0\\\\\n",
    "  \\end{array} } \\right]\n",
    "$</center>\n",
    "</div>"
   ]
  },
  {
   "cell_type": "code",
   "execution_count": null,
   "metadata": {},
   "outputs": [],
   "source": []
  },
  {
   "cell_type": "markdown",
   "metadata": {},
   "source": [
    "## 5.5- Multiplicación matricial\n",
    "\n",
    "Si $A$ es una matriz $m × n$, y si $B$ es una matriz $n × p$ con columnas $b_1, b_2,... b_p$, entonces el **producto AB** es la matriz $m × p$ cuyas columnas son:<br><br>\n",
    "\n",
    "<center>A*B= $\n",
    "  \\left[ {\\begin{array}{cc}\n",
    "   a_{11} & a_{12}  & ... & a_{1n}  \\\\\n",
    "   a_{21} & a_{22}  & ... & a_{2n}  \\\\\n",
    "   ... & ...  & ... & ...  \\\\\n",
    "   a_{m1} & a_{m2}  & ... & a_{mn}  \\\\\n",
    "  \\end{array} } \\right]\n",
    "$ * $\n",
    "  \\left[ {\\begin{array}{cc}\n",
    "   b_{11} & b_{12}  & ... & b_{1p}  \\\\\n",
    "   b_{21} & b_{22}  & ... & b_{2p}  \\\\\n",
    "   ... & ...  & ... & ...  \\\\\n",
    "   b_{n1} & b_{n2}  & ... & b_{np}  \\\\\n",
    "  \\end{array} } \\right]\n",
    "$ =<br><br> $\n",
    "  \\left[ {\\begin{array}{cc}\n",
    "   a_{11}\\cdot b_{11}+ a_{12}\\cdot b_{21} + ... + a_{1n}\\cdot b_{n1}& a_{11}\\cdot b_{12}+ a_{12}\\cdot b_{22} + ... + a_{1n}\\cdot b_{n2}  & ... & a_{11}\\cdot b_{1p}+ a_{12}\\cdot b_{2p} + ... + a_{1n}\\cdot b_{np}  \\\\\n",
    "   a_{21}\\cdot b_{11}+ a_{22}\\cdot b_{21} + ... + a_{2n}\\cdot b_{n1}& a_{21}\\cdot b_{12}+ a_{22}\\cdot b_{22} + ... + a_{2n}\\cdot b_{n2}  & ... & a_{21}\\cdot b_{1p}+ a_{22}\\cdot b_{2p} + ... + a_{2n}\\cdot b_{np}  \\\\\n",
    "   ... & ...  & ... & ...  \\\\\n",
    "      a_{m1}\\cdot b_{11}+ a_{m2}\\cdot b_{21} + ... + a_{mn}\\cdot b_{n1}& a_{m1}\\cdot b_{12}+ a_{m2}\\cdot b_{22} + ... + a_{mn}\\cdot b_{n2}  & ... & a_{m1}\\cdot b_{1p}+ a_{m2}\\cdot b_{2p} + ... + a_{mn}\\cdot b_{np}  \\\\\n",
    "  \\end{array} } \\right]\n",
    "$  \n",
    "</center>"
   ]
  },
  {
   "cell_type": "markdown",
   "metadata": {},
   "source": [
    "<div class=\"alert alert-success\">\n",
    "    <b>Multiplicar las siguientes matrices:</b>\n",
    "\n",
    "<center>\n",
    "$A_{1}=\n",
    "  \\left[ {\\begin{array}{cc}\n",
    "   1 & 4 \\\\\n",
    "   2 & 0\\\\\n",
    "  \\end{array} } \\right]\n",
    "$</center><br>\n",
    "<center>$\n",
    "  A_{2}=\n",
    "  \\left[ {\\begin{array}{cc}\n",
    "   -1 & 2 \\\\\n",
    "   1 & -2\\\\\n",
    "  \\end{array} } \\right]\n",
    "$</center>"
   ]
  },
  {
   "cell_type": "code",
   "execution_count": null,
   "metadata": {},
   "outputs": [],
   "source": []
  },
  {
   "cell_type": "markdown",
   "metadata": {},
   "source": [
    "¿Es raro, no? No es el resultado que esperamos al hacer la multiplicación matricial de estas matrices...¿no? El resultado debería ser algo así:<br><br>\n",
    "\n",
    "<center>$result =\\left[ {\\begin{array}{cc}\n",
    "   3 & -6 \\\\\n",
    "   -2 & 4\\\\\n",
    "  \\end{array} } \\right]\n",
    "$</center><br>\n",
    "\n",
    "**¿Por qué?...**\n",
    "\n",
    "<img src=\"./Images/matriz.jpg\" align=\"left\" width=60%><img src=\"./Images/strange.gif\" width=20% align=\"left\">"
   ]
  },
  {
   "cell_type": "markdown",
   "metadata": {},
   "source": [
    "Esto se debe a que **Numpy** está multiplicando elemento por elemento, si queremos realizar la **multiplicación matricial** tenemos que usar `np.dot()`"
   ]
  },
  {
   "cell_type": "code",
   "execution_count": null,
   "metadata": {},
   "outputs": [],
   "source": []
  },
  {
   "cell_type": "markdown",
   "metadata": {},
   "source": [
    "<div class=\"alert alert-block alert-danger\">\n",
    "    <b>⚠️ ATENCIÓN ⚠️</b>  En general, AB ≠ BA. \n",
    "</div>\n",
    "\n",
    "<div class=\"alert alert-success\">\n",
    "    <b>Realiza la multiplicación de AB y BA de las siguientes matrices:</b>\n",
    "\n",
    "<center>\n",
    "$A=\n",
    "  \\left[ {\\begin{array}{cc}\n",
    "   5 & 1 \\\\\n",
    "   3 & -2\\\\\n",
    "  \\end{array} } \\right]\n",
    "$</center><br>\n",
    "<center>$\n",
    "  B=\n",
    "  \\left[ {\\begin{array}{cc}\n",
    "   2 & 0 \\\\\n",
    "   4 & 3\\\\\n",
    "  \\end{array} } \\right]\n",
    "$</center>\n",
    "</div>"
   ]
  },
  {
   "cell_type": "code",
   "execution_count": null,
   "metadata": {},
   "outputs": [],
   "source": []
  },
  {
   "cell_type": "markdown",
   "metadata": {},
   "source": [
    "<div class=\"alert alert-success\">\n",
    "    <b>Dada las siguientes matrices A,B y C, comprueba si AB es igual a AC.</b>\n",
    "\n",
    "<center>\n",
    "$\n",
    "  A=\n",
    "  \\left[ {\\begin{array}{cc}\n",
    "   2 & -3 \\\\\n",
    "   -4 & 6\\\\\n",
    "  \\end{array} } \\right]\n",
    "$</center><br>\n",
    "<center>$\n",
    "  B=\n",
    "  \\left[ {\\begin{array}{cc}\n",
    "   8 & 4 \\\\\n",
    "   5 & 5\\\\\n",
    "  \\end{array} } \\right]\n",
    "$</center><br>\n",
    "<center>$\n",
    "  C=\n",
    "  \\left[ {\\begin{array}{cc}\n",
    "   5 & -2 \\\\\n",
    "   3 & 1\\\\\n",
    "  \\end{array} } \\right]\n",
    "$</center>"
   ]
  },
  {
   "cell_type": "code",
   "execution_count": null,
   "metadata": {},
   "outputs": [],
   "source": []
  },
  {
   "cell_type": "markdown",
   "metadata": {},
   "source": [
    "Podemos usar `np.array_equal()` para comprobar si dos arrays son iguales"
   ]
  },
  {
   "cell_type": "code",
   "execution_count": null,
   "metadata": {},
   "outputs": [],
   "source": []
  },
  {
   "cell_type": "markdown",
   "metadata": {},
   "source": [
    "## 5.6- Matriz transpuesta / traspuesta\n",
    "\n",
    "Dada una matriz $A$ de $m × n$, la transpuesta de $A$ es la matriz $n × m$, denotada mediante $A^T$, cuyas columnas se forman a partir de las filas correspondientes de $A$. En resumen, la **matriz transpuesta** es aquella que se obtiene al transformar las filas en columnas y las columnas en filas, del siguiente modo:\n",
    "\n",
    "\n",
    "<center>$A=\n",
    "  \\left[ {\\begin{array}{cc}\n",
    "   5 & 1 & 7\\\\\n",
    "   3 & -2 & 5\\\\\n",
    "  \\end{array} } \\right]\n",
    "$ , su matriz traspuesta es $\n",
    "  A^T=\n",
    "  \\left[ {\\begin{array}{cc}\n",
    "   5 & 3 \\\\\n",
    "   1 & -2\\\\\n",
    "   7 & 5\\\\\n",
    "  \\end{array} } \\right]\n",
    "$.</center>"
   ]
  },
  {
   "cell_type": "markdown",
   "metadata": {},
   "source": [
    "Usamos `np.transpose()` para calcular la transpuesta de una matriz $A$: "
   ]
  },
  {
   "cell_type": "code",
   "execution_count": null,
   "metadata": {},
   "outputs": [],
   "source": []
  },
  {
   "cell_type": "markdown",
   "metadata": {},
   "source": [
    "¿Qué sucede si volvemos a realizar la transpuesta?"
   ]
  },
  {
   "cell_type": "code",
   "execution_count": null,
   "metadata": {},
   "outputs": [],
   "source": []
  },
  {
   "cell_type": "markdown",
   "metadata": {},
   "source": [
    "Obtenemos de nuevo la matriz $A$\n",
    "\n",
    "#### Matriz Cuadrada\n",
    "\n",
    "Una **matriz cuadrada** va a ser simétrica si $A^T=A$, es decir si $A$ es igual a su propia matriz transpuesta. Por ejemplo:"
   ]
  },
  {
   "cell_type": "code",
   "execution_count": null,
   "metadata": {},
   "outputs": [],
   "source": []
  },
  {
   "cell_type": "markdown",
   "metadata": {},
   "source": [
    "## 5.7- Matriz inversa (usando Gauss)\n",
    "\n",
    "Al igual que el inverso de 5 es $\\frac{1}{5} = 5^{-1}$, dada la matriz $A$, no puedo calcular $\\frac{1}{A}$, pero sí $A^{-1}$.\n",
    "\n",
    "La manera usual de calcular la **matriz inversa**, sobre todo si no es demasiado grande, es mediante determinantes (lo veremos posteriormente), pero hay otro modo general de calcular la matriz inversa, que es con el método de Gauss:  \n",
    "* Dada una matriz $A$, considero la matriz $(A|I)$\n",
    "* Mediante una serie de transformaciones tengo que conseguir transformarla en $(I|B)$\n",
    "* $B = A^{-1}$  \n",
    "\n",
    "<div class=\"alert alert-success\">\n",
    "    <b>Vamos a calcular la inversa de la siguiente matriz $A$ usando el método de Gauss:</b><br><br>\n",
    "\n",
    "<center>$\n",
    "   A= \\left[ {\\begin{array}{cc}\n",
    "   0 & 1 & 2\\\\\n",
    "   1 & 0 & 3\\\\\n",
    "   4 & -3 & 8\\\\\n",
    "  \\end{array} } \\right]\n",
    "$</center>\n",
    "</div>\n",
    "\n",
    "Lo primero que vamos a hacer es añadir a la derecha de la matriz $A$ una matriz identidad y obtendremos $(A|I)$:<br><br>\n",
    "    \n",
    "<center>$\n",
    "  (A|I)=\n",
    "  \\left[ {\\begin{array}{cc}\n",
    "   0 & 1 & 2 & 1 & 0 & 0\\\\\n",
    "   1 & 0 & 3 & 0 & 1 & 0\\\\\n",
    "   4 & -3 & 8 & 0 & 0 & 1\\\\\n",
    "  \\end{array} } \\right]\n",
    "$</center>"
   ]
  },
  {
   "cell_type": "code",
   "execution_count": null,
   "metadata": {},
   "outputs": [],
   "source": []
  },
  {
   "cell_type": "markdown",
   "metadata": {},
   "source": [
    "Buscamos hacer transformaciones de modo que obtengamos una matriz con la forma $(I|B)$, donde $B$ será la inversa de $A$. Lo primero que hacemos es intercambiar la segunda fila con la primera fila.\n",
    "\n",
    "<center>\n",
    "$\n",
    "  (A|I)=\n",
    "  \\left[ {\\begin{array}{cc}\n",
    "   1 & 0 & 3 & 0 & 1 & 0\\\\\n",
    "   0 & 1 & 2 & 1 & 0 & 0\\\\\n",
    "   4 & -3 & 8 & 0 & 0 & 1\\\\\n",
    "  \\end{array} } \\right]$\n",
    "</center>"
   ]
  },
  {
   "cell_type": "code",
   "execution_count": null,
   "metadata": {},
   "outputs": [],
   "source": []
  },
  {
   "cell_type": "markdown",
   "metadata": {},
   "source": [
    "Queremos hacer $0$ el primer elemento de la 3ª fila. Para ello, la tercera fila se convertirá en el resultado de multiplicar -4 por la primera fila y sumarle la 3ª fila.\n",
    "\n",
    "<center>3ª fila = -4 * (1ª fila) + (3ª fila)</center><br><br>\n",
    "\n",
    "<center>$\n",
    "  (A|I)=\n",
    "  \\left[ {\\begin{array}{cc}\n",
    "   1 & 0 & 3 & 0 & 1 & 0\\\\\n",
    "   0 & 1 & 2 & 1 & 0 & 0\\\\\n",
    "   0 & -3 & -4 & 0 & -4 & 1\\\\\n",
    "  \\end{array} } \\right]\n",
    "$ </center> "
   ]
  },
  {
   "cell_type": "code",
   "execution_count": null,
   "metadata": {},
   "outputs": [],
   "source": []
  },
  {
   "cell_type": "markdown",
   "metadata": {},
   "source": [
    "Seguidamente, queremos hacer $0$ el segundo elemento de la tercera fila, para ello haremos:<br><br>\n",
    "\n",
    "<center>3ª fila = 3 * (2ª fila) + (3ª fila)</center><br>\n",
    "\n",
    "<center>$\n",
    "  (A|I)=\n",
    "  \\left[ {\\begin{array}{cc}\n",
    "   1 & 0 & 3 & 0 & 1 & 0\\\\\n",
    "   0 & 1 & 2 & 1 & 0 & 0\\\\\n",
    "   0 & 0 & 2 & 3 & -4 & 1\\\\\n",
    "  \\end{array} } \\right]\n",
    "$</center> "
   ]
  },
  {
   "cell_type": "code",
   "execution_count": null,
   "metadata": {},
   "outputs": [],
   "source": []
  },
  {
   "cell_type": "markdown",
   "metadata": {},
   "source": [
    "El siguiente paso es hacer 0 el 3º elemento de la primera fila, para ello haremos:<br><br>\n",
    "\n",
    "<center>1ª fila = (1ª fila) - 3/2 * (3ª fila)</center><br>\n",
    "\n",
    "<center>$\n",
    "  (A|I)=\n",
    "  \\left[ {\\begin{array}{cc}\n",
    "   1 & 0 & 0 & -9/2 & 7 & -3/2\\\\\n",
    "   0 & 1 & 2 & 1 & 0 & 0\\\\\n",
    "   0 & 0 & 2 & 3 & -4 & 1\\\\\n",
    "  \\end{array} } \\right]\n",
    "$</center> "
   ]
  },
  {
   "cell_type": "code",
   "execution_count": null,
   "metadata": {},
   "outputs": [],
   "source": []
  },
  {
   "cell_type": "markdown",
   "metadata": {},
   "source": [
    "Ya queda menos! El siguiente paso es hacer 0 el tercer elemento de la segunda fila, para ello haremos:<br><br>\n",
    "\n",
    "<center>2ª fila = (2ª fila) - (3ª fila)</center><br>\n",
    "\n",
    "<center>$\n",
    "  (A|I)=\n",
    "  \\left[ {\\begin{array}{cc}\n",
    "   1 & 0 & 0 & -9/2 & 7 & -3/2\\\\\n",
    "   0 & 1 & 0 & -2 & 4 & -1\\\\\n",
    "   0 & 0 & 2 & 3 & -4 & 1\\\\\n",
    "  \\end{array} } \\right]\n",
    "$</center> "
   ]
  },
  {
   "cell_type": "code",
   "execution_count": null,
   "metadata": {},
   "outputs": [],
   "source": []
  },
  {
   "cell_type": "markdown",
   "metadata": {},
   "source": [
    "Debemos hacer 1 el 3º elemento de la última fila. Para ello:<br><br>\n",
    "\n",
    "<center>(3ª fila) = (1/2) * (3ª fila)</center><br>\n",
    "\n",
    "<center>$\n",
    "  (A|I)=\n",
    "  \\left[ {\\begin{array}{cc}\n",
    "   1 & 0 & 0 & -9/2 & 7 & -3/2\\\\\n",
    "   0 & 1 & 0 & -2 & 4 & -1\\\\\n",
    "   0 & 0 & 1 & 3/2 & -2 & 1/2\\\\\n",
    "  \\end{array} } \\right]\n",
    "$</center> "
   ]
  },
  {
   "cell_type": "code",
   "execution_count": null,
   "metadata": {},
   "outputs": [],
   "source": []
  },
  {
   "cell_type": "markdown",
   "metadata": {},
   "source": [
    "Por tanto, después de todo este proceso, la matriz inversa queda:</style> \n",
    "\n",
    "<center>$\n",
    "  (A|I)=\n",
    "  \\left[ {\\begin{array}{cc}\n",
    "   1 & 0 & 0 & -9/2 & 7 & -3/2\\\\\n",
    "   0 & 1 & 0 & -2 & 4 & -1\\\\\n",
    "   0 & 0 & 1 & 3/2 & -2 & 1/2\\\\\n",
    "  \\end{array} } \\right]\n",
    "$</center> \n",
    "\n",
    "Es decir $A^{-1}$:\n",
    "\n",
    "<center>$\n",
    "  A^{-1}=\n",
    "  \\left[ {\\begin{array}{cc}\n",
    "   -9/2 & 7 & -3/2\\\\\n",
    "   -2 & 4 & -1\\\\\n",
    "   3/2 & -2 & 1/2\\\\\n",
    "  \\end{array} } \\right]\n",
    "$</center>\n",
    "\n",
    "<img src=\"./Images/tired.gif\" width=20%>\n",
    "\n",
    "Menos mal que existe **Python** y **Numpy** para poder hacer todo esto de una manera mucho más rápida. Aunque las bases siempre hay que entenderlas porque es lo que nos va a diferenciar del resto! ✌️"
   ]
  },
  {
   "cell_type": "code",
   "execution_count": null,
   "metadata": {},
   "outputs": [],
   "source": []
  },
  {
   "cell_type": "markdown",
   "metadata": {},
   "source": [
    "## 5.8- Rango de una matriz\n",
    "\n",
    "Los números de columnas $m$ y filas $n$ pueden darnos el tamaño de una matriz, pero esto no necesariamente representa el verdadero tamaño del sistema lineal, ya que por ejemplo si existen **dos filas iguales** en una matriz $A$, la segunda fila desaparecía en el proceso de eliminación.\n",
    "\n",
    "Por tanto, el verdadero tamaño de la matriz $A$ va a estar definido por su **rango**. El **rango** de una matriz es el número máximo de columnas y filas que son linealmente independientes. Por ejemplo:\n",
    "\n",
    "<center>$\n",
    "  A = \n",
    "  \\left[ {\\begin{array}{cc}\n",
    "   1 & 1 & 2 & 4\\\\\n",
    "   1 & 2 & 2 & 5\\\\\n",
    "   1 & 3 & 2 & 6\\\\\n",
    "  \\end{array} } \\right]\n",
    "$</center><br><br>\n",
    "\n",
    "Podemos ver que la tercer columna $[2, 2, 2]$ es múltiplo de la primera y que la cuarta columna $[4, 5, 6]$ es la suma de las primeras 3 columnas. Por tanto **el rango de A va a ser igual a 2**; ya que la tercer y cuarta columna pueden ser eliminadas."
   ]
  },
  {
   "cell_type": "code",
   "execution_count": null,
   "metadata": {},
   "outputs": [],
   "source": []
  },
  {
   "cell_type": "markdown",
   "metadata": {},
   "source": [
    "## 5.9- Factorización LU (Lower-Upper)\n",
    "\n",
    "Sea $A$ una matriz tenemos:  \n",
    " \n",
    "<center>$A = LU$</center>\n",
    "\n",
    "donde $L$ y $U$ son matrices inferiores y superiores triangulares respectivamente.  \n",
    "\n",
    "Si pensamos en una matriz cuadrada:<br><br>\n",
    "$\n",
    "  \\left[ {\\begin{array}{cc}\n",
    "   a_{11} & a_{12}  & ... & a_{1n}  \\\\\n",
    "   a_{21} & a_{22}  & ... & a_{2n}  \\\\\n",
    "   ... & ...  & ... & ...  \\\\\n",
    "   a_{n1} & a_{n2}  & ... & a_{nn}  \\\\\n",
    "  \\end{array} } \\right]\n",
    "$ =\n",
    "$\n",
    "  \\left[ {\\begin{array}{cc}\n",
    "   1      & 0       & 0    & ... & 0  \\\\\n",
    "   l_{21} & 1       & 0    & ... & 0  \\\\\n",
    "   ...    & ...     & ...  & ... & ... \\\\\n",
    "   l_{n1} & l_{n2}  & ...  & ... & 1  \\\\\n",
    "  \\end{array} } \\right]\n",
    "$* $\n",
    "  \\left[ {\\begin{array}{cc}\n",
    "   u_{11} & u_{12} & u_{13} & ... & u_{1n}  \\\\\n",
    "   0      & u_{22} & u_{23} & ... & b_{2n}  \\\\\n",
    "   ...    & ...    & ...    & ... & ...     \\\\\n",
    "   0      & 0      & ...    & ... & u_{nn}  \\\\\n",
    "  \\end{array} } \\right]\n",
    "$\n",
    "  \n",
    "Si la matriz A es invertible, es decir, tiene inversa, las matrices L y U son únicas.  \n",
    "\n",
    "¿Qué utilidad tiene?   \n",
    "* Resolución de sistemas de ecuaciones  \n",
    "* Cálculo de la matriz inversa: A<sup>-1</sup>=U<sup>-1</sup> L<sup>-1</sup>  \n",
    "\n"
   ]
  },
  {
   "cell_type": "markdown",
   "metadata": {},
   "source": [
    "<div class=\"alert alert-success\">\n",
    "    <b>Considerando la siguiente matriz $C$, realiza la factorización LU</b><br><br>\n",
    "\n",
    "<center>$C = \\left[ {\\begin{array}{cc}\n",
    "   2 & 1 & 1\\\\\n",
    "   1 & 2 & 1\\\\\n",
    "   1 & 1 & 2\\\\\n",
    "  \\end{array} } \\right]$</center>"
   ]
  },
  {
   "cell_type": "code",
   "execution_count": null,
   "metadata": {},
   "outputs": [],
   "source": []
  },
  {
   "cell_type": "markdown",
   "metadata": {},
   "source": [
    "Podemos comprobarlo realizando el producto matricial de $L$ y $U$:"
   ]
  },
  {
   "cell_type": "code",
   "execution_count": null,
   "metadata": {},
   "outputs": [],
   "source": []
  },
  {
   "cell_type": "markdown",
   "metadata": {},
   "source": [
    "### 5.9.1- Pasos para descomponer un sistema de ecuaciones utilizando la factorización LU\n",
    "\n",
    "1. Obtener la matriz triangular inferior $L$ y la matriz triangular superior $U$.  \n",
    "2. Resolver $Ly = B$ (para encontrar y).  \n",
    "3. El resultado del paso anterior se guarda en una matriz nueva de nombre \"y\".  \n",
    "4. Realizar $Ux = y$ (para encontrar x).  \n",
    "5. El resultado del paso anterior se almacena en una matriz nueva llamada \"x\", la cual da los valores correspondientes a las incógnitas de la ecuación.  \n",
    "\n",
    "<div class=\"alert alert-success\">\n",
    "    <b>Vamos a encontrar las soluciones del sistema (usando la factorización LU):</b><br><br>\n",
    "    \n",
    "<center>$\\left\\{\n",
    "       \\begin{array}{ll}\n",
    "           4x-2y-z=9  \\\\\n",
    "           5x+y-z=7   \\\\\n",
    "           x+2y-4z=12\n",
    "       \\end{array}\n",
    "     \\right.$</center>\n",
    "</div><br><br>\n",
    "\n",
    "Este sistema puede ser escrito como: \n",
    "<center>$\\left(\n",
    "\\begin{array}{ccc|c}\n",
    "4 & -2 & -1 & 9 \\\\\n",
    "5 & 1  & -1 & 7 \\\\\n",
    "1 & 2  & -4 & 12\\\\\n",
    "\\end{array}\n",
    "\\right)$</center><br>\n",
    "\n",
    "donde: </style>    \n",
    "<center>A= $\\left(\n",
    "\\begin{array}{ll}\n",
    "4 & -2 & -1 \\\\\n",
    "5 & 1  & -1 \\\\\n",
    "1 & 2  & -4 \\\\\n",
    "\\end{array}\n",
    "\\right)$</center><br>\n",
    "\n",
    "y B es igual a:\n",
    "<center>B= $\\left(\n",
    "\\begin{array}{ll}\n",
    "9 \\\\\n",
    "7 \\\\\n",
    "12\\\\\n",
    "\\end{array}\n",
    "\\right)$</center>"
   ]
  },
  {
   "cell_type": "markdown",
   "metadata": {},
   "source": [
    "Primero calculamos las matrices $L$ y $U$"
   ]
  },
  {
   "cell_type": "code",
   "execution_count": null,
   "metadata": {},
   "outputs": [],
   "source": []
  },
  {
   "cell_type": "markdown",
   "metadata": {},
   "source": [
    "El siguiente paso es resolver $Ly=B$ y guardarlo en la variable $y$:"
   ]
  },
  {
   "cell_type": "code",
   "execution_count": null,
   "metadata": {},
   "outputs": [],
   "source": []
  },
  {
   "cell_type": "markdown",
   "metadata": {},
   "source": [
    "Ahora resolvemos este sistema lineal:"
   ]
  },
  {
   "cell_type": "code",
   "execution_count": null,
   "metadata": {},
   "outputs": [],
   "source": []
  },
  {
   "cell_type": "markdown",
   "metadata": {},
   "source": [
    "Ahora resolvemos $Ux=y$ y lo guardamos en la variable $x$:"
   ]
  },
  {
   "cell_type": "code",
   "execution_count": null,
   "metadata": {},
   "outputs": [],
   "source": []
  },
  {
   "cell_type": "markdown",
   "metadata": {},
   "source": [
    "Por último, resolvemos dicho sistema:"
   ]
  },
  {
   "cell_type": "code",
   "execution_count": null,
   "metadata": {},
   "outputs": [],
   "source": []
  }
 ],
 "metadata": {
  "kernelspec": {
   "display_name": "Python 3",
   "language": "python",
   "name": "python3"
  },
  "language_info": {
   "codemirror_mode": {
    "name": "ipython",
    "version": 3
   },
   "file_extension": ".py",
   "mimetype": "text/x-python",
   "name": "python",
   "nbconvert_exporter": "python",
   "pygments_lexer": "ipython3",
   "version": "3.8.8"
  }
 },
 "nbformat": 4,
 "nbformat_minor": 4
}
