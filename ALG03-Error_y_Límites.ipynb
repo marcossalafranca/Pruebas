{
 "cells": [
  {
   "cell_type": "markdown",
   "metadata": {},
   "source": [
    "<img src=\"images/keepcoding.png\" width=200 align=\"left\">"
   ]
  },
  {
   "cell_type": "markdown",
   "metadata": {},
   "source": [
    "<img src=\"images/me.jpg\" width=150 align=\"right\">\n",
    "\n",
    "# Análisis del error y límites computacionales\n",
    "\n",
    "Autor: Carlos Moreno Morera\n",
    "\n",
    "Contacto: carlos.moreno@ibm.com\n",
    "\n",
    "Última revisión: 11/Jul/2022"
   ]
  },
  {
   "cell_type": "markdown",
   "metadata": {},
   "source": [
    "## 1.- Introducción\n",
    "En muy pocas ocasiones la información de entrada que se suministra es exacta, pues se obtiene, en general, mediante instrumentos de medida; como, por otra parte, tanto el almacenamiento de los datos como el propio algoritmo de cálculo introducen también errores, la información de salida contendrá errores que provendrán de las tres fuentes, es decir, los errores de salida se producen debido a:\n",
    "- Los errores de entrada\n",
    "- Los errores de almacenamiento\n",
    "- Los errores algorítmicos\n",
    "\n",
    "Sobre el primer tipo de errores nada podemos decir: están relacionados con el diseño de los aparatos de medición o la precisión de la percepción a través de los órganos sensoriales. Analizaremos los otros dos tipos de errores. Antes de comenzar, recordemos cierta terminología estándar en el tratamiento de errores. El error cometido al calibrar cierta magnitud puede ser:\n",
    "- **Error absoluto**: que viene dado por la fórmula $\\lvert\\widetilde{z}-z\\rvert$ donde $\\widetilde{z}$ es la aproximación de la cantidad $z$.\n",
    "- **Error relativo**: que viene dado por la fórmula:\n",
    "$$\n",
    "\\frac{\\lvert\\widetilde{z}-z\\rvert}{\\lvert z\\rvert}\n",
    "$$\n",
    "\n",
    "Suele ser más relevante el error relativo, ya que depende de la magnitud que se está utilizando. Veamos un ejemplo:"
   ]
  },
  {
   "cell_type": "code",
   "execution_count": 1,
   "metadata": {},
   "outputs": [],
   "source": [
    "#Calculamos el error absoluto cuando z = 0.007 cm y su aproximación es 0.257 cm\n"
   ]
  },
  {
   "cell_type": "code",
   "execution_count": 2,
   "metadata": {},
   "outputs": [],
   "source": [
    "#Calculamos el error relativo del ejemplo anterior\n"
   ]
  },
  {
   "cell_type": "markdown",
   "metadata": {},
   "source": [
    "El resultado anterior nos indica que el error es 35 veces más grande que la magnitud (gigantesco). Se suele decir que el error relativo es del 3571.4% (lo cual es una cantidad inmensa). Aunque a simple vista 0.25 cm parece un error pequeño, si estamos tratando con magnitudes como 0.007 cm es un error enorme.\n",
    "\n",
    "## 2.- Números máquina\n",
    "### 2.1.- Definición e inconvenientes\n",
    "Como se ha visto en la introducción, a la hora de almacenar los datos, también se producen errores. Pero, ¿a qué se debe esto? En el tema anterior vimos algunos ejemplos de conjuntos como los números racionales y los reales. En ambos, nos encontramos con elementos, como $\\pi$ y $1/3$ cuya representación decimal es infinita. Sin embargo, la capacidad de almacenamiento de los ordenadores (la memoria) es finita (solo se puede almacenar una cantidad limitada, grande pero limitada, de números). Esto significa que no siquiera somos capaces de almacenar adecuadamente $\\pi$ o $1/3$. De hecho, la solución a este problema es que **cada número se representa con una cantidad máxima de cifras decimales**, lo que produce que solo se guarden de forma exacta los números que no excedan de ese máximo.\n",
    "\n",
    "Este hecho, a su vez, no solo produce un error inevitable a la hora de almacenar datos, sino que también implica que **hay una cantidad finita de números distintos que pueden almacenarse**. Estos números que pueden almacenarse se denominan números máquina. Expliquémoslo con un ejemplo:\n",
    "\n",
    "Supongamos que en nuestro ordenador primitivo solo podemos guardar los números con una cifra. Esto quiere decir, que no solo se tendrá que $\\pi=3$ (o sea, que $\\pi$ se guardaría como el número 3) sino que el conjunto de números que pueden almacenarse es $\\{0,1,2,3,4,5,6,7,8,9\\}$, y, el resto de números reales, se representará con alguno de ellos. Es decir, nuestro ordenador solo puede guardar diez valores distintos (el cardinal de ese conjunto).\n",
    "\n",
    "Lo mismo ocurriría si pudiéramos almacenar solo una cifra y una cifra decimal:"
   ]
  },
  {
   "cell_type": "code",
   "execution_count": 3,
   "metadata": {},
   "outputs": [],
   "source": [
    "#Construimos el conjunto de los números que tienen una cifra entera y una decimal\n"
   ]
  },
  {
   "cell_type": "code",
   "execution_count": 4,
   "metadata": {},
   "outputs": [],
   "source": [
    "#Mostramos los números que se pueden almacenar\n"
   ]
  },
  {
   "cell_type": "markdown",
   "metadata": {},
   "source": [
    "¿Qué ocurrirá si en alguna operación obtenemos un número que no se encuentra en nuestro conjunto finito de números máquina? Una posible solución es aproximar dicho número al número máquina más cercano. Siguiendo con el ejemplo anterior que sólo podemos representar los cien números con una cifra entera y una decimal, si hiciéramos la operación $5.5 + 0.1/4$ cuyo resultado es $5.525$, tendríamos que almacenar el resultado como $5.5$. Fijémonos que aunque en la operación solo hemos utilizado números de nuestro conjunto finito el resultado está fuera del conjunto. Gráficamente el resultado se posicionaría de la siguiente forma:"
   ]
  },
  {
   "cell_type": "code",
   "execution_count": 5,
   "metadata": {},
   "outputs": [],
   "source": [
    "#Mostramos el ejemplo anterior gráficamente\n"
   ]
  },
  {
   "cell_type": "markdown",
   "metadata": {},
   "source": [
    "El gráfico anterior resulta de ampliar el espacio que hay entre 5.3 y 5.8. En rojo se marcan los números máquina que podemos representar en nuestro ordenador primitivo y en azul el resultado obtenido de la operación.\n",
    "\n",
    "En la realidad, en lugar de tener un ordenador primitivo que solo es capaz de almacenar una cifra entera y una decimal, podemos guardar muchísimas más. Sin embargo, da igual la capacidad finita que tengamos que **siempre existirán más números en la recta real que no podemos representar que los que sí podemos**. De hecho, no solo es posible encontrar huecos entre los distintos números máquina, sino también a la derecha y a la izquierda del mayor y menor número máquina respectivamente.\n",
    "\n",
    "### 2.2.- Representación binaria\n",
    "\n",
    "Al problema de la finita capacidad de nuestra memoria, debemos añadirle el inconveniente de que, internamente, nuestro ordenador almacenará los números con la representación binaria (sistema numérico en el que todos los números se representan mediante las cifras 0 y 1 exclusivamente). De hecho, podemos distinguir dos tipos de números decimales en coma flotante (float):\n",
    "- Precisión simple: utilizan 32 bits (cifras que pueden ser ceros o unos) para almacenar el valor.\n",
    "- Doble precisión: utilizan 64 bits para almacenar el valor.\n",
    "\n",
    "En Python existen otras representación (como la que utiliza 16 bits y se denomina *de media precisión*), pero las más comunes en los lenguajes de programación son las dos anteriores."
   ]
  },
  {
   "cell_type": "code",
   "execution_count": 6,
   "metadata": {},
   "outputs": [],
   "source": [
    "#Mostramos el mismo número (0.123456789121212121212) con distintas precisiones:\n"
   ]
  },
  {
   "cell_type": "markdown",
   "metadata": {},
   "source": [
    "Como se puede observar, son más precisos conforme se aumenta el número de bits que se utilizan para almacenarlos. Pero, como hemos dicho, el número no se guarda como se observa en el ejemplo anterior, sino que se guarda con números binarios como vemos a continuación:"
   ]
  },
  {
   "cell_type": "code",
   "execution_count": 7,
   "metadata": {},
   "outputs": [
    {
     "name": "stdout",
     "output_type": "stream",
     "text": [
      "Requirement already satisfied: bitstring in c:\\users\\cmore\\anaconda3\\lib\\site-packages (3.1.9)\n"
     ]
    }
   ],
   "source": [
    "!pip install bitstring"
   ]
  },
  {
   "cell_type": "code",
   "execution_count": 7,
   "metadata": {},
   "outputs": [],
   "source": [
    "#Mostramos el mismo número (en negativo y en positivo) en binario con las distintas precisiones:\n"
   ]
  },
  {
   "cell_type": "markdown",
   "metadata": {},
   "source": [
    "Si se observan las representaciones con detenimiento, veremos que cuando cambiamos el signo la representación binaria es la misma y lo único que varía es el primer bit (0 para positivos y 1 para negativos). En efecto, **el primer bit se corresponde con el signo del número**.\n",
    "\n",
    "Tampoco se observa la coma en el número escrito en binario, ¿cómo sabe el ordenador dónde está la coma? Porque se utiliza **el formato estándar de representación** ([IEEE Storage Format](https://standards.ieee.org/ieee/754/6210/)), en el cual se representan los números como potencias: para el exponente se reservan los dígitos después del bit de signo (los 8 siguientes bits para precisión simple o los 11 siguientes para doble precisión) y los últimos para la mantisa o significado (los 23 últimos para precisión simple o los 52 últimos para doble precisión). La mantisa o significado son los dígitos significativos del número en notación científica.\n",
    "\n",
    "Sin embargo, debido a este formato, encontramos que el cero posee dos representaciones binarias posibles: el -0 y el +0"
   ]
  },
  {
   "cell_type": "code",
   "execution_count": 8,
   "metadata": {},
   "outputs": [],
   "source": [
    "#Vemos que hay dos representaciones binarias para 0\n"
   ]
  },
  {
   "cell_type": "markdown",
   "metadata": {},
   "source": [
    "Además de la curiosidad de poseer dos representaciones distintas para el 0, la representación binaria genera un problema adicional para almacenar ciertos números: puede ocurrir que **un número con un número finito de cifras decimales posea un número infinito de cifras decimales en su representación binaria**. Por ejemplo, el número decimal 0.1 tiene como representación binaria $0.0\\overline{0011}$, lo cual significa que no se podrá almacenar internamente de manera exacta (es decir, 0.1 no es un número máquina)."
   ]
  },
  {
   "cell_type": "code",
   "execution_count": 9,
   "metadata": {},
   "outputs": [],
   "source": [
    "#Vemos qué ocurre cuando introduzco 0.1 en Python\n"
   ]
  },
  {
   "cell_type": "markdown",
   "metadata": {},
   "source": [
    "Entonces, ¿por qué si almacenamos 0.1 en una variable y lo consultamos después me devuelve el valor exacto y no una aproximación? Porque Python, a partir de la versión 3.1, incluyó ciertos [cambios](https://docs.python.org/dev/whatsnew/3.1.html#other-language-changes) entre los que se encuentran la implementación y ejecución de un procesamiento del número almacenado antes de mostrarlo por pantalla, sin embargo, si le obligamos a mostrarnos el número con muchas cifras significativas veremos lo que realmente está almacenando:"
   ]
  },
  {
   "cell_type": "code",
   "execution_count": 10,
   "metadata": {},
   "outputs": [],
   "source": [
    "#Vemos el verdadero valor que almacena internamente Python\n",
    "#Mostramos 50 cifras significativas\n"
   ]
  },
  {
   "cell_type": "code",
   "execution_count": 11,
   "metadata": {},
   "outputs": [],
   "source": [
    "#Mostramos 50 cifras significativas de 2 (número que se puede almacenar en binario)\n"
   ]
  },
  {
   "cell_type": "markdown",
   "metadata": {},
   "source": [
    "Este hecho produce problemas como el que ocurre si comprobamos si 0.1 + 0.2 es igual a 0.3:"
   ]
  },
  {
   "cell_type": "code",
   "execution_count": 12,
   "metadata": {},
   "outputs": [],
   "source": [
    "# Comprobamos la suma 0.1+0.2\n"
   ]
  },
  {
   "cell_type": "code",
   "execution_count": 13,
   "metadata": {},
   "outputs": [],
   "source": [
    "#Vemos el resultado\n"
   ]
  },
  {
   "cell_type": "code",
   "execution_count": 14,
   "metadata": {},
   "outputs": [],
   "source": [
    "#Podemos encontrar muchos más ejemplos\n"
   ]
  },
  {
   "cell_type": "markdown",
   "metadata": {},
   "source": [
    "Cabe recordar que el error de representación de los decimales en coma flotante no es específico de Python, es un problema que se debe conocer (por si se necesitara trabajar con cierta precisión) y saber cómo manejar en cada lenguaje de programación. Para ver que es compartido por varios lenguajes, se puede visitar la página que ha creado Erik Wiffin en la que se muestra el resultado de evaluar `0.1 + 0.2` en múltiples lenguajes y que se llama: [0.30000000000000004.com](0.30000000000000004.com).\n",
    "\n",
    "![](./images/panicoffice.gif)\n",
    "\n",
    "### 2.3.- Redondeo\n",
    "Como hemos visto, hay un número finito de números máquina y hay muchísimos \"huecos\" en la recta real de números que no podemos almacenar. Cuando se necesita trabajar con estos números no máquina que se encuentran entre dos números máquina, lo que se hace es aproximarlos por números máquina cercanos. Este proceso se denomina *redondeo*.\n",
    "\n",
    "En coma flotante estándar, para cada número real están definidos cuatro tipos de rendodeo:\n",
    "- Redondeo a la derecha (o por exceso): se toma el número máquina más cercano a la derecha (mayor) del número real.\n",
    "- Redondeo a la izquierda (o por defecto): se toma el número máquina más cercano a la izquierda (menor) del número real.\n",
    "- Redondeo a cero: se toma el número máquina más cercano a la izquierda cuando el número real es positivo y a la derecha cuando es negativo, es decir, se elige entre izquierda y derecha en función del número máquina que se encuentra entre 0 y el número real.\n",
    "- Redondeo al más próximo: se eligen entre el número máquina qu está más cerca del número real, en caso de que estén a igual distancia se toma el que tenga el bit 23 de la mantisa a 0.\n",
    "\n",
    "La opción más común es esta última, de hecho suele ser la opción por defecto en los ordenadores.\n",
    "\n",
    "### 2.4.- Épsilon de la máquina\n",
    "La primera cuestión que se nos plantea entonces es qué error se comte cuando en lugar de trabajar con un número real $x$ se trabaja, como es obligado, con su rendonde. En términos absolutos, y manteniendo la notación, se tiene la siguiente cota del error de redonde absoluto:\n",
    "\n",
    "Sea $r(x)$ el redondeo que se lleva a cabo del número $x$, $x_d$ el número máquina a la derecha de $x$ y $x_i$ el número máquina a la izquierda de $x$. Supongamos que trabajamos con números de tamaño de la mantisa de 23 bits (precisión simple), entonces el error absoluto es:\n",
    "$$\n",
    "\\lvert r(x)-x\\rvert\\leq\\frac{x_d-x_i}{2}=\\frac{2^{-23}\\cdot2^E}{2}=2^{-24}\\cdot2^E\n",
    "$$\n",
    "Mientras que, en términos relativos, una cota del error de redondeo relativo es:\n",
    "$$\n",
    "\\left\\lvert\\frac{r(x)-x}{x}\\right\\rvert\\leq\\frac{2^{-24}\\cdot2^E}{2^E}=2^{-24}\n",
    "$$\n",
    "\n",
    "El valor de $2^{-24}$ obtenido es, exactamente, la mitad de la distancia entre 1 y el siguiente número máquina. Esta distancia se denomina **precisión o épsilon de la máquina** y se denota por *eps*. Así, pues, trabanjando en coma flotante estándar se verifica que el error de redondeo es menor que $\\text{eps}/2$ utilizando el redondeo al más próximo. En términos de representación decimal quiere decir que el redondeo de $x$ tendrá alrededor de 7 cifras significativas correctas. En doble precisión el épsilon de la máquina es $2^{-52}$ y el redondeo de un número tendrá un mínimo de 15 cifras significativas exactas. Calculemos el épsilon de la máquina en Python:"
   ]
  },
  {
   "cell_type": "code",
   "execution_count": 15,
   "metadata": {},
   "outputs": [],
   "source": [
    "#Podemos calcular el épsilo llevando a cabo la operación 7/3 - 4/3 -1 (ya que la primera resta obtiene\n",
    "# el siguiente número máquina al número 1 debido a las representaciones binarias de ambas fracciones)\n"
   ]
  },
  {
   "cell_type": "code",
   "execution_count": 16,
   "metadata": {},
   "outputs": [],
   "source": [
    "#Para saber la aproximación de cualquier número real podemos usar la función as_integer_ratio de los float\n",
    "#Esta función sí es específica de Python\n"
   ]
  },
  {
   "cell_type": "code",
   "execution_count": 17,
   "metadata": {},
   "outputs": [],
   "source": [
    "#Hagámoslo con el 2\n"
   ]
  },
  {
   "cell_type": "code",
   "execution_count": 18,
   "metadata": {},
   "outputs": [],
   "source": [
    "#También podemos hallar épsilo calculando el siguiente número máquina después de uno\n",
    "#Para eso usamos la función next_plus de la biblioteca decimal\n"
   ]
  },
  {
   "cell_type": "code",
   "execution_count": 19,
   "metadata": {},
   "outputs": [],
   "source": [
    "#Calculamos el épsilon\n"
   ]
  },
  {
   "cell_type": "code",
   "execution_count": 20,
   "metadata": {},
   "outputs": [],
   "source": [
    "#numpy también tiene su forma de informarnos del épsilo de la máquina\n"
   ]
  },
  {
   "cell_type": "markdown",
   "metadata": {},
   "source": [
    "Pero, ¿cuál de todos ellos es realmente el épsilon de la máquina? Obtenemos resultados distintos debido a que utilizamos diferentes librerías que realizan los cálculos de diferentes maneras. Como vemos la librería *decimal* parece tener una precisión mucho mayor. Para conocer el épsilon de la máquina debemos consultar los parámetros del sistema:"
   ]
  },
  {
   "cell_type": "code",
   "execution_count": 21,
   "metadata": {},
   "outputs": [],
   "source": [
    "#Consultamos los valores del sistema\n"
   ]
  },
  {
   "cell_type": "markdown",
   "metadata": {},
   "source": [
    "Entre otros datos, vemos el épsilon de la máquina (utilizando float) y el número de bits de la mantisa (53).\n",
    "\n",
    "### 2.5.- Desbordamiento\n",
    "Como vimos en los ejemplos prácticos en los que solo contábamos con un ordenador capaz de representar 100 números, no solo encontrábamos elementos del conjunto de los reales no representables entre dos números, sino también a la derecha y a la izquierda del mayor y menor número máquina. Es decir, como tenemos un conjunto finito de números máquina, existirá uno que sea mayor que todos los demás y otro que sea el menor de todos, pero hay infinitos reales más grandes y más pequeños, respectivamente. A este fenómeno de tratar un número real mayor que el máximo representable o menor que el mínimo se le conoce como **desbordamiento por exceso**. La representación estándar en coma flotante trata el desbordamiento como algo excepcional asignándole el valor $\\infty$ (o $-\\infty$ para el caso de un número menor que el mínimo) siempre que tengan sentido las operaciones (por ejemplo $1/\\infty=0$)."
   ]
  },
  {
   "cell_type": "code",
   "execution_count": 22,
   "metadata": {},
   "outputs": [],
   "source": [
    "#Miramos cuál es el valor máximo y mínimo del sistema\n"
   ]
  },
  {
   "cell_type": "code",
   "execution_count": 23,
   "metadata": {},
   "outputs": [],
   "source": [
    "#Vemos qué valor le asigna si le damos un número mayor:\n"
   ]
  },
  {
   "cell_type": "code",
   "execution_count": 24,
   "metadata": {},
   "outputs": [],
   "source": [
    "#Probamos en negativo\n"
   ]
  },
  {
   "cell_type": "code",
   "execution_count": 25,
   "metadata": {},
   "outputs": [],
   "source": [
    "#Vemos que el valor máximo sí lo muestra\n"
   ]
  },
  {
   "cell_type": "code",
   "execution_count": 26,
   "metadata": {},
   "outputs": [],
   "source": [
    "#Probamos a operar con el infinito:\n"
   ]
  },
  {
   "cell_type": "code",
   "execution_count": 27,
   "metadata": {},
   "outputs": [],
   "source": [
    "#Generamos indeterminaciones\n"
   ]
  },
  {
   "cell_type": "markdown",
   "metadata": {},
   "source": [
    "### 2.6.- Ejemplo de error de redondeo\n",
    "\n",
    "![](./images/horrible-avengers.gif)\n",
    "\n",
    "Como hemos visto, constatemente estaremos generando errores de redondeo debido a la capacidad finita de la memoria y a la representación binaria de los números. Para minimizarla lo máximo posible, conviene tratar de simplificar las expresiones matemáticas todo lo que se pueda evitando también el fenómeno de cancelación (antes observamos que, aunque $7/3 - 4/3 -1 = 0$ no se anulaba por completo). Veamos un ejemplo:\n",
    "\n",
    "Tenemos la siguiente función:\n",
    "$$\n",
    "f_1(x) = \\frac{x^4-x^3-x+1}{(x-1)^2}\n",
    "$$\n",
    "que, con valores distintos a 1, puede simplificarse (obteniendo las raíces del numerador) en la siguiente expresión:\n",
    "$$\n",
    "f_2(x) = \\frac{(x-1)^2(x^2+x+1)}{(x-1)^2}=x^2+x+1\n",
    "$$\n",
    "Veamos qué resultados obtenemos al aplicar las distintas expresiones con valores cercanos a 1 (un poco mayores que 1):"
   ]
  },
  {
   "cell_type": "code",
   "execution_count": null,
   "metadata": {},
   "outputs": [],
   "source": []
  },
  {
   "cell_type": "markdown",
   "metadata": {},
   "source": [
    "Como vemos, con la función $f_1$ para números cercanos a 1 (recordemos que estos números no producen ninguna indeterminación), no acabamos de aproximar adecuadamente el resultado. Mientras que la función $f_2$ no se encuentra con estos problemas. Esto se debe al fenómeno de cancelación comentado anteriormente que debemos tratar de evitar.\n",
    "\n",
    "### 2.7.- Propagación del error\n",
    "\n",
    "![](./images/worse-tarzan.gif)\n",
    "\n",
    "Como hemos visto, solo para almacenar un número real ya se comete un pequeño error. A continuación, al operar con ellos no solo se producen tantos errores como operandos, sino tras llevar a cabo cada una de las operaciones, se vuelve a cometer un error de redondeo. Si, por ejemplo, evaluamos $a+b+c$ siendo $a$, $b$, y $c$ tres números reales, tendremos los errores de almacenar los tres números, luego el error de redondeo de $a+b$ y, por último, el error de redondeo de $(a+b) + c$ (y no estamos teniendo en cuenta el error en la medición del dato). De esta forma si pensamos en un algoritmo que involucre una gran cantidad de operaciones elementales las perspectivas pueden parecer no muy buenas. Parece claro que debemos estudiar cuánto influye la propagación del error en el resultado final del problema. Dos son los principales conceptos ligados a este estudio:\n",
    "- **Condicionamiento**: mide la influencia que tendría en el resultado eventuales errores en los datos en el caso ideal de que se pudiese trabajar con aritmética exacta. Está ligado, por tanto, al problema en sí y no depende del algoritmo.\n",
    "- **Estabilidad**: está relacionada con la influencia que tiene en los resultados finales la acumulación de los errores que se producen en las sucesivas operaciones elementales que se llevan a cabo para resolver el problema.\n",
    "\n",
    "Ambos conceptos resultan bastante difíciles de analizar. Veamos un ejemplo de condicionamiento diseñado por el matemático R. S. Wilson:"
   ]
  },
  {
   "cell_type": "code",
   "execution_count": 30,
   "metadata": {},
   "outputs": [],
   "source": [
    "#Resolvamos un sistema lineal de la forma Ax = b (profundizaremos en esto más adelante)\n",
    "#Datos del ejemplo:\n",
    "A = [[10, 7, 8, 7],\n",
    "    [7, 5, 6, 5],\n",
    "    [8, 6, 10, 9],\n",
    "    [7, 5, 9, 10]]\n",
    "\n",
    "#La matriz con pequeños cambios la copiamos de la matriz original e introducimos los cambios\n",
    "A_aprox = [[10, 7, 8.1, 7.2],\n",
    "    [7.08, 5.04, 6, 5],\n",
    "    [8, 5.98, 9.89, 9],\n",
    "    [6.99, 4.99, 9, 9.98]]\n",
    "\n",
    "b = [32, 23, 33, 31]\n",
    "\n",
    "b_aprox = [32.1, 22.9, 33.1, 30.9]"
   ]
  },
  {
   "cell_type": "code",
   "execution_count": 28,
   "metadata": {},
   "outputs": [],
   "source": [
    "#Veamos las soluciones de los sistemas\n",
    "#Mostramos el sistema:\n",
    "def print_sistema(A, b):\n",
    "    ecuaciones = ''\n",
    "    incognitas = ['x', 'y', 'z', 't']\n",
    "    for i in range(4):\n",
    "        for j in range(4):\n",
    "            ecuaciones += f'{A[i][j]}{incognitas[j]} '\n",
    "            if j != 3:\n",
    "                ecuaciones += '+ '\n",
    "            else:\n",
    "                ecuaciones += '= '\n",
    "        ecuaciones += f'{b[i]}\\n'\n",
    "    print(ecuaciones)\n",
    "\n",
    "#Mostramos la solución dada del sistema\n",
    "def print_solucion(sol):\n",
    "    solucion = ''\n",
    "    incognitas = ['x', 'y', 'z', 't']\n",
    "    for i in range(4):\n",
    "        solucion += f'{incognitas[i]} = {format(sol[i], \".7g\")}'\n",
    "        if i != 3:\n",
    "            solucion += ', '\n",
    "    print(solucion)\n",
    "\n"
   ]
  },
  {
   "cell_type": "markdown",
   "metadata": {},
   "source": [
    "Ante estos resultados, podemos decir que **este problema está mal condicionado**, o lo que es lo mismo, ante pequeñas perturbaciones en los datos, obtendremos resultados radicalmente diferentes.\n",
    "\n",
    "## 3.- Soluciones\n",
    "![](./images/aleluya.gif)\n",
    "\n",
    "En esta sección veremos distintas soluciones a los diferentes problemas que hemos ido viendo. Antes de introducir las distintas formas que hay de minimizar el impacto de las limitaciones de nuestros ordenadores, **es importante pensar si realmente necesitamos una solución y la precisión con la que queremos trabajar**. En muchas ocasiones, no se requiere de tanta precisión o, simplemente, basta con llevar a cabo algún tipo de ajuste en los datos de entrada. Por ejemplo, si estamos trabajando con unidades de medida, en lugar de utilizar medidas como 0.007 m, podemos tratar de cambiar la magnitud de nuestros datos a, por ejemplo, milímetros. Por supuesto, para ello deberemos estudiar cuál es el mayor número que alcanzaremos con nuestro problema y cuál es el menor, así como las necesidades del problema. Quizás, para llevar a cabo un estudio estadístico con el fin de describir un conjunto de datos no necesitamos una gran precisión y podemos asumir el error cometido al evaluar las operaciones. Esto, dependerá del problema y sus necesidades, pero como se ha comentado, es importante valorar qué precisión realmente necesitamos y qué solución se adecúa más a nuestro problema.\n",
    "\n",
    "### 3.1.- Display\n",
    "Es muy común que podamos asumir el pequeño error que se comete en las distintas operaciones y simplemente necesitamos mostrar una solución por pantalla razonble (en lugar de visualizar el número 0.30000000000000004 que se muestra al operar 0.1 + 0.2). Para ello hemos visto diferentes formas de mostrar estos resultados (téngase en cuenta que estas soluciones **solo arreglan el problema de visualización, pero internamente se seguirán arrastrando los errores**):"
   ]
  },
  {
   "cell_type": "code",
   "execution_count": 29,
   "metadata": {},
   "outputs": [],
   "source": [
    "#Utilizando format(float, número de cifras significativas)\n"
   ]
  },
  {
   "cell_type": "code",
   "execution_count": 30,
   "metadata": {},
   "outputs": [],
   "source": [
    "#Utilizando f-strings\n"
   ]
  },
  {
   "cell_type": "code",
   "execution_count": 31,
   "metadata": {},
   "outputs": [],
   "source": [
    "#Podemos elegir con las f-strings el número de decimales \n",
    "# (el .5 anterior indica el número de decimales que queremos mostrar)\n"
   ]
  },
  {
   "cell_type": "code",
   "execution_count": 32,
   "metadata": {},
   "outputs": [],
   "source": [
    "#Para obtener la parte entera simplemente basta con transformar el float a int\n"
   ]
  },
  {
   "cell_type": "code",
   "execution_count": 33,
   "metadata": {},
   "outputs": [],
   "source": [
    "#¡Cuidado! Hacer cast de tipo float a entero hace un truncamiento, no un redondeo\n"
   ]
  },
  {
   "cell_type": "code",
   "execution_count": 34,
   "metadata": {},
   "outputs": [],
   "source": [
    "#Se puede utilizar la función round indicando el número de decimales\n"
   ]
  },
  {
   "cell_type": "markdown",
   "metadata": {},
   "source": [
    "Con la última solución hay que tener cuidado, en el sentido de que todos esperaríamos que si tenemos el número 2.675 se redondee con dos decimales a 2.68, sin embargo, recordemos que cuando un número se encuentra a la misma distancia de sus dos números máquina más cercanos, dependía del valor de un dígito binario. Esto mismo ocurre con la función `round`:"
   ]
  },
  {
   "cell_type": "code",
   "execution_count": null,
   "metadata": {},
   "outputs": [],
   "source": []
  },
  {
   "cell_type": "markdown",
   "metadata": {},
   "source": [
    "La función `round`, aproxima como se espera excepto si se encuentra en medio camino entre ambos posibles redondeos, en cuyo caso, acudirá a su representación binaria y se redondeará al valor más cercano con un dígito menos significativo par.\n",
    "\n",
    "También existen las soluciones relacionadas con el truncamiento:"
   ]
  },
  {
   "cell_type": "code",
   "execution_count": 35,
   "metadata": {},
   "outputs": [],
   "source": [
    "#Se elimina la parte decimal, igual que al transformarlo a entero\n"
   ]
  },
  {
   "cell_type": "markdown",
   "metadata": {},
   "source": [
    "En caso de que queramos seleccionar el número de decimales a truncar tendríamos que implementar nuestra propia función:"
   ]
  },
  {
   "cell_type": "code",
   "execution_count": null,
   "metadata": {},
   "outputs": [],
   "source": []
  },
  {
   "cell_type": "markdown",
   "metadata": {},
   "source": [
    "Estas dos últimas soluciones, como las demás, no arreglarían el problema de aproximación del número 0.1, pero sí probablemente resolvería muchos problemas de almacenamiento de números más complicados. Veamos que no sigue sin ayudarnos a la hora de comparar 0.1 + 0.2 con 0.3:"
   ]
  },
  {
   "cell_type": "code",
   "execution_count": null,
   "metadata": {},
   "outputs": [],
   "source": []
  },
  {
   "cell_type": "code",
   "execution_count": 36,
   "metadata": {},
   "outputs": [],
   "source": [
    "#Sin embargo, podría servirnos si aproximamos los resultados de las operacioness\n"
   ]
  },
  {
   "cell_type": "markdown",
   "metadata": {},
   "source": [
    "### 3.2.- Comparación de números\n",
    "Quizás no nos interesa realmente ser capaces de almacenar y obtener una gran precisión en el tratamiento numérico, sino que simplemente queremos obtener resultados razonables al hacer comparaciones como `0.1 + 0.2 == 0.3` y obtener `True` como resultado. Una opción es utilizar el redondeo o truncamiento vistos en la sección anterior y aplicarlo a cada resultado de la operación. Sin embargo, esto resulta tedioso, ineficiente y hace menos legible el código. Para comparar números utilizaremos la función `isclose()` en lugar de los operadores `==`, `>=` o `<=` con los floats:"
   ]
  },
  {
   "cell_type": "code",
   "execution_count": null,
   "metadata": {},
   "outputs": [],
   "source": []
  },
  {
   "cell_type": "markdown",
   "metadata": {},
   "source": [
    "¿Qué hace realmente la función `isclose`? Comprueba si el segundo argumento se parece, de forma aceptable, al segundo argumento. Pero, ¿qué significa exactamente \"se parece, de forma aceptable\"? La idea se basa en comprobar **la distancia** entre el primer argumento y el segundo (la distancia se calcula como el error absoluto de los valores):"
   ]
  },
  {
   "cell_type": "code",
   "execution_count": null,
   "metadata": {},
   "outputs": [],
   "source": []
  },
  {
   "cell_type": "markdown",
   "metadata": {},
   "source": [
    "Si el error absoluto es más pequeño que un valor porcentual de la cantidad del primer argumento y del segundo (o lo que es lo mismo, se encuentra un error relativo bajo), entonces el primer argumento se considera lo suficientemente \"cercano\" al segundo argumento como para afirmar \"que son iguales\". Este porcentaje se denomina **tolerancia relativa** y por defecto tiene el valor de `1e-9` (o lo que es lo mismo, $10^{-9}$). En otras palabras, dos valores $a$ y $b$ se considerarán \"cercanos\" cuando:\n",
    "$$\n",
    "\\lvert a-b\\rvert<\\text{tol}\\cdot\\max\\left(\\lvert a\\rvert, \\lvert b\\rvert\\right)\n",
    "$$\n",
    "siendo $\\text{tol}$ la tolerancia relativa.\n",
    "\n",
    "Cuando la tolerancia relativa posee su valor por defecto, garantiza la igualdad en las primeras 9 cifras decimales, pero podemos cambiar la tolerancia para que sea más preciso o menos:"
   ]
  },
  {
   "cell_type": "code",
   "execution_count": 37,
   "metadata": {},
   "outputs": [],
   "source": [
    "#Tolerancia relativa de 1e-20\n"
   ]
  },
  {
   "cell_type": "code",
   "execution_count": 38,
   "metadata": {},
   "outputs": [],
   "source": [
    "#Tolerancia relativa de dos decimales\n"
   ]
  },
  {
   "cell_type": "markdown",
   "metadata": {},
   "source": [
    "Hay un problema cuando $a$ o $b$ es cero y la tolerancia relativa se corresponde con un número inferior a 1. En este caso, da igual cuán cerca esté el otro número de cero, nunca se cumplirá la condición necesaria. En este caso se debe utilizar una **tolerancia absoluta**:"
   ]
  },
  {
   "cell_type": "code",
   "execution_count": 39,
   "metadata": {},
   "outputs": [],
   "source": [
    "a = 0\n",
    "b = 1e-10\n",
    "tol = 1e-9\n",
    "#Si usamos la tolerancia relativa fallará siempre independientemente del valor de b\n"
   ]
  },
  {
   "cell_type": "code",
   "execution_count": 40,
   "metadata": {},
   "outputs": [],
   "source": [
    "#Si usamos una tolerancia absoluta esto no ocurrirá\n"
   ]
  },
  {
   "cell_type": "markdown",
   "metadata": {},
   "source": [
    "Esta comprobación la realiza automáticamente el método `isclose` e incluye el parámetro de tolerancia absoluta que por defecto es 0.0:"
   ]
  },
  {
   "cell_type": "code",
   "execution_count": 41,
   "metadata": {},
   "outputs": [],
   "source": [
    "#Probamos con el valor por defecto de tolerancia absoluta\n"
   ]
  },
  {
   "cell_type": "code",
   "execution_count": 42,
   "metadata": {},
   "outputs": [],
   "source": [
    "#Cambiamos el valor\n"
   ]
  },
  {
   "cell_type": "markdown",
   "metadata": {},
   "source": [
    "¿Y qué ocurre si queremos hacer comparaciones de tipo `<=`, `<`, `>=` o `>`? Entonces usaremos `isclose` y, a continuación, en función del resultado, ejecutaremos la comparación estricta:"
   ]
  },
  {
   "cell_type": "code",
   "execution_count": 43,
   "metadata": {},
   "outputs": [],
   "source": [
    "#Definimos funciones menorque y menoroigual\n"
   ]
  },
  {
   "cell_type": "code",
   "execution_count": 44,
   "metadata": {},
   "outputs": [],
   "source": [
    "#Probemos las comparaciones que antes no conseguíamos realizar correctamente:\n",
    "comparaciones = [(1.1 + 2.2, 3.3, '=='), (0.2 + 0.2 + 0.2, 0.6, '=='), (1.2 + 2.4 + 3.6, 7.2, '=='),\n",
    "                (0.1 + 0.2, 0.3, '<='), (31.2, 10.4 + 20.8, '<'), (0.7, 0.8 - 0.1, '<')]\n",
    "#Comparamos el resultado anterior con el nuevo utilizando las nuevas funciones:\n"
   ]
  },
  {
   "cell_type": "markdown",
   "metadata": {},
   "source": [
    "![](./images/yay-friends.gif)\n",
    "\n",
    "En `numpy` existen alternativas a la función `isclose` de la librería math:"
   ]
  },
  {
   "cell_type": "code",
   "execution_count": 45,
   "metadata": {},
   "outputs": [],
   "source": [
    "# El valor por defecto de la tolerancia relativa es de 1e-05  y de la absoluta 1e-08\n"
   ]
  },
  {
   "cell_type": "code",
   "execution_count": null,
   "metadata": {},
   "outputs": [],
   "source": []
  },
  {
   "cell_type": "code",
   "execution_count": 46,
   "metadata": {},
   "outputs": [],
   "source": [
    "#También está la función is close\n"
   ]
  },
  {
   "cell_type": "markdown",
   "metadata": {},
   "source": [
    "### 3.3.- Precisión en el almacenamiento y en las operaciones\n",
    "Antes de comenzar con las soluciones que nos permiten obtener mayor precisión en el almacenamiento de los números y en sus operaciones, debemos reincidir en la necesidad de crítica de cara al problema al que nos estemos enfrentando para saber si realmente necesitamos este tipo de soluciones y si se adaptan adecuadamente a las características de nuestro programa. Hay que tener en cuenta que aumentar la precisión en el almacenamiento conlleva un aumento en el tamaño de las variables para guardar el mismo valor que antes se almacenaba de manera \"más ligera\". Por otro lado, el aumento de la precisión en las operaciones con coma flotante, conlleva un aumento en el tiempo de ejecución del algoritmo. Por ese motivo, conviene recordar que antes de implementarla, es recomendable evaluar si es necesaria una solución de este tipo. Por ejemplo, si estamos gestionando un sistema de almacenamiento Big Data y los valores que guardamos no requieren esta precisión, conviene evitar este tipo de implementaciones, ya que lo único que se conseguirá será aumentar excesivamente los costes de almacenamiento de los datos.\n",
    "\n",
    "Existen dos módulos en Python que ofrecen una precisión casi absoluta para aquellas situaciones en las que usar el tipo `float` no resulta adecuado:\n",
    "\n",
    "#### 3.3.1.- Decimal\n",
    "El tipo `Decimal` puede almacenar valores decimales con anta precisión como necesites. Por defecto, garantiza la exactitud de 28 cifras significativas, pero es completamente editable. Se suele utilizar a la hora de trabajar con dinero o tipos de interés."
   ]
  },
  {
   "cell_type": "code",
   "execution_count": 47,
   "metadata": {},
   "outputs": [],
   "source": [
    "#Evaluamos la suma 0.1 + 0.2\n"
   ]
  },
  {
   "cell_type": "code",
   "execution_count": 48,
   "metadata": {},
   "outputs": [],
   "source": [
    "#Calculamos 1/7 con 28 cifras significativas exactas:\n"
   ]
  },
  {
   "cell_type": "code",
   "execution_count": 49,
   "metadata": {},
   "outputs": [],
   "source": [
    "#Cambiemos la precisión\n"
   ]
  },
  {
   "cell_type": "code",
   "execution_count": 50,
   "metadata": {},
   "outputs": [],
   "source": [
    "#Es posible también obtener el valor exacto almacenado en un float\n"
   ]
  },
  {
   "cell_type": "code",
   "execution_count": 51,
   "metadata": {},
   "outputs": [],
   "source": [
    "#Lo anterior se puede simplificar como\n"
   ]
  },
  {
   "cell_type": "code",
   "execution_count": 52,
   "metadata": {},
   "outputs": [],
   "source": [
    "#Con el tipo Decimal se puede operar igual que con los float:\n"
   ]
  },
  {
   "cell_type": "code",
   "execution_count": null,
   "metadata": {},
   "outputs": [],
   "source": []
  },
  {
   "cell_type": "code",
   "execution_count": null,
   "metadata": {},
   "outputs": [],
   "source": []
  },
  {
   "cell_type": "code",
   "execution_count": null,
   "metadata": {},
   "outputs": [],
   "source": []
  },
  {
   "cell_type": "code",
   "execution_count": null,
   "metadata": {},
   "outputs": [],
   "source": []
  },
  {
   "cell_type": "code",
   "execution_count": 53,
   "metadata": {},
   "outputs": [],
   "source": [
    "#También te permite calcular la raíz cuadrada\n"
   ]
  },
  {
   "cell_type": "code",
   "execution_count": 54,
   "metadata": {},
   "outputs": [],
   "source": [
    "#La función exponencial\n"
   ]
  },
  {
   "cell_type": "code",
   "execution_count": 55,
   "metadata": {},
   "outputs": [],
   "source": [
    "#El logaritmo neperiano\n"
   ]
  },
  {
   "cell_type": "code",
   "execution_count": 56,
   "metadata": {},
   "outputs": [],
   "source": [
    "#El logaritmo en base 10\n"
   ]
  },
  {
   "cell_type": "code",
   "execution_count": 57,
   "metadata": {},
   "outputs": [],
   "source": [
    "#Calculamos el cuadrado de la raíz de dos\n"
   ]
  },
  {
   "cell_type": "markdown",
   "metadata": {},
   "source": [
    "Para continuar profundizando acerca de las funcionalidades y detalles del módulo `Decimal` de Python consúltese la [documentación](https://docs.python.org/3/library/decimal.html).\n",
    "\n",
    "#### 3.3.2.- Fraction\n",
    "El tipo `Fraction` permite almacenar números racionales de manera exacta y supera los problemas de error de representación que presentan los números en coma flotante."
   ]
  },
  {
   "cell_type": "code",
   "execution_count": 58,
   "metadata": {},
   "outputs": [],
   "source": [
    "#Resolvemos el problema de 0.1 + 0.2 con Fraction\n"
   ]
  },
  {
   "cell_type": "code",
   "execution_count": null,
   "metadata": {},
   "outputs": [],
   "source": []
  },
  {
   "cell_type": "code",
   "execution_count": 59,
   "metadata": {},
   "outputs": [],
   "source": [
    "#Simplifica automáticamente las fracciones\n"
   ]
  },
  {
   "cell_type": "code",
   "execution_count": 60,
   "metadata": {},
   "outputs": [],
   "source": [
    "#Interpreta correctamente las cadenas de caracteres\n"
   ]
  },
  {
   "cell_type": "code",
   "execution_count": 61,
   "metadata": {},
   "outputs": [],
   "source": [
    "#Incluso transforma números decimales\n"
   ]
  },
  {
   "cell_type": "code",
   "execution_count": 62,
   "metadata": {},
   "outputs": [],
   "source": [
    "#Al igual que Decimal, también te da el valor exacto de flota\n"
   ]
  },
  {
   "cell_type": "code",
   "execution_count": 63,
   "metadata": {},
   "outputs": [],
   "source": [
    "#Opera correctamente con las fracciones\n"
   ]
  },
  {
   "cell_type": "code",
   "execution_count": null,
   "metadata": {},
   "outputs": [],
   "source": []
  },
  {
   "cell_type": "code",
   "execution_count": null,
   "metadata": {},
   "outputs": [],
   "source": []
  },
  {
   "cell_type": "markdown",
   "metadata": {},
   "source": [
    "Si se quieren conocer más detalles del módulo `Fraction` de Python se puede consultar la [documentación](https://docs.python.org/3/library/fractions.html#module-fractions)"
   ]
  }
 ],
 "metadata": {
  "kernelspec": {
   "display_name": "Python 3",
   "language": "python",
   "name": "python3"
  },
  "language_info": {
   "codemirror_mode": {
    "name": "ipython",
    "version": 3
   },
   "file_extension": ".py",
   "mimetype": "text/x-python",
   "name": "python",
   "nbconvert_exporter": "python",
   "pygments_lexer": "ipython3",
   "version": "3.8.8"
  }
 },
 "nbformat": 4,
 "nbformat_minor": 4
}
