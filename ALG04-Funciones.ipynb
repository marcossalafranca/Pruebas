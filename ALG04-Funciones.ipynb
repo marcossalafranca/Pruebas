{
 "cells": [
  {
   "cell_type": "markdown",
   "metadata": {},
   "source": [
    "<img src=\"images/keepcoding.png\" width=200 align=\"left\">"
   ]
  },
  {
   "cell_type": "markdown",
   "metadata": {},
   "source": [
    "<img src=\"images/me.jpg\" width=150 align=\"right\">\n",
    "\n",
    "# Funciones\n",
    "\n",
    "Autor: Carlos Moreno Morera\n",
    "\n",
    "Contacto: carlos.moreno@ibm.com\n",
    "\n",
    "Última revisión: 13/Jul/2022"
   ]
  },
  {
   "cell_type": "markdown",
   "metadata": {},
   "source": [
    "## 1.- Definición de función\n",
    "\n",
    "<img src=\"images/funciondef.png\" align=\"right\">\n",
    "\n",
    "Una función matemática es una relación que se establece entre dos conjuntos, a través de la cual a cada elemento del primer conjunto se le asigna un único elemento del segundo conjunto (la definición formal no la estudiaremos). De esta forma, la función $f$ que asigna valores del conjunto $B$ a los elementos del conjunto $A$ suele denotarse por:\n",
    "$$\n",
    "\\begin{equation}\n",
    "\\begin{split}\n",
    "f: & A & \\rightarrow & B\\\\\n",
    " & a & \\rightarrow & f(a)\n",
    "\\end{split}\n",
    "\\end{equation}\n",
    "$$\n",
    "\n",
    "Al conjunto $A$ de partida se le conoce como **dominio** ($\\text{Dom}(f)=A$) y al conjunto se le llama **codominio**. Sin embargo, no todos los valores del codominio tienen que estar relacionados con algún elemento del dominio, por ejemplo, si tenemos la función que a cada número entero le asigna su cuadrado tendríamos:\n",
    "\n",
    "$$\n",
    "\\begin{equation}\n",
    "\\begin{split}\n",
    "f: & \\mathbb{Z} & \\rightarrow & \\mathbb{N}\\\\\n",
    " & z & \\rightarrow & z^2\n",
    "\\end{split}\n",
    "\\end{equation}\n",
    "$$\n",
    "\n",
    "En esta función, cualquier número de $\\mathbb{Z}$ está relacionado con un número de $\\mathbb{N}$ (por ejemplo $f(-3) = (-3)^2=9$), pero no se tiene por qué \"llegar\" a todos los números de $\\mathbb{N}$ (de hecho, no se alcanzan todos). Por ejemplo, al número natural 2 no se puede \"llegar\" desde ningún número entero. Por ese motivo, tenemos el concepto de **imagen**, que, informalmente, es el conjunto de elementos del codominio que se pueden alcanzar con la función. Más formalmente, la imagen es el subconjunto de elementos del codominio que están relacionados mediante la función con algún elemento del dominio. Si lo expresamos en términos matemáticos, sería:\n",
    "\n",
    "Sea $f:A\\rightarrow B$ una función, entonces se define la imagen como el subconjunto de B tal que:\n",
    "\n",
    "$$\n",
    "\\text{Im}(f) = \\{f(x):x\\in A\\}\\subset B\n",
    "$$\n",
    "\n",
    "Esto significa que la imagen depende del dominio definido. En el ejemplo de la función cuadrado anterior, su imagen sería:\n",
    "\n",
    "$$\n",
    "\\{z^2:z\\in\\mathbb{Z}\\}\n",
    "$$\n",
    "\n",
    "Veamos un ejemplo en Python:"
   ]
  },
  {
   "cell_type": "markdown",
   "metadata": {},
   "source": [
    "<div class=\"alert alert-success\">\n",
    "    <b>Ejercicio:</b> Sea $g:\\{\\text{a},\\text{b},\\text{c},\\dots,\\text{y},\\text{z}\\}\\rightarrow\\mathbb{N}$ la función que a cada letra minúscula le asigna su posición en el alfabeto (comenzando por el 0). Por ejemplo: $g(a)=0$ y $g(c)=2$. Halla su imagen.\n",
    "    <p><i>Pista: la función ord() de Python dado un caracter devuelve su número natural correspondiente en Unicode; y la función chr() devuelve un caracter dado un número natural.</i></p>\n",
    "</div>"
   ]
  },
  {
   "cell_type": "code",
   "execution_count": 1,
   "metadata": {},
   "outputs": [],
   "source": [
    "#Primero definimos la función g:\n"
   ]
  },
  {
   "cell_type": "markdown",
   "metadata": {},
   "source": [
    "<hr style=\"height: 2px; background-color: #858585;\">"
   ]
  },
  {
   "cell_type": "markdown",
   "metadata": {},
   "source": [
    "Aunque matemáticamente sí se puedan definir dominios infinitos, computacionalmente solo podremos trabajar con conjuntos finitos, por lo que solo podremos calcular (computacionalmente hablando) imágenes de dominios finitos. Realmente, gracias a que se define un dominio, matemáticamente no debemos preocuparnos por qué ocurre en la función en otros casos. Podemos concebir el concepto de función como una \"máquina\" que diseñamos para recibir una entrada y que nos devuelva una salida.\n",
    "\n",
    "<img src=\"./images/fmaquina.png\">\n",
    "\n",
    "El dominio será lo que podemos darle como entrada a esa máquina (para lo que está preparada), por lo que si introducimos en dicha función un valor que no pertenece al dominio, no garantizaremos su correcto funcionamiento (podría dar un error o devolver un valor fuera de la imagen, incluso fuera del codominio):"
   ]
  },
  {
   "cell_type": "code",
   "execution_count": 2,
   "metadata": {},
   "outputs": [],
   "source": [
    "#Probemos a darle a la función g valores que no pertenecen a D como caracteres que no sean letras minúsculas\n"
   ]
  },
  {
   "cell_type": "markdown",
   "metadata": {},
   "source": [
    "Como se observa, si se introducen valores que no pertenecen al dominio, no podemos garantizar que el resultado pertenezca a la imagen (como ocurre en todos los casos). De hecho, en algunos casos ni siquiera podemos afirmar que pertenezca al codominio $\\mathbb{N}$ (como en el primer y tercer ejemplos). Puede ocurrir, incluso, que la función no esté bien definida o genere un error:"
   ]
  },
  {
   "cell_type": "code",
   "execution_count": 3,
   "metadata": {},
   "outputs": [],
   "source": [
    "#Probamos a darle a la función f valores que no pertenece a D como números\n"
   ]
  },
  {
   "cell_type": "markdown",
   "metadata": {},
   "source": [
    "Esto no debe preocuparnos. En la gran mayoría de ocasiones nuestras funciones no funcionarán para cualquier valor de entrada y eso no resulta un inconveniente, ya que la hemos definido para un dominio concreto. Pretender que funcione para cualquier entrada, sería como diseñar cualquier máquina como una cafetera y esperar que si introduces una manzana en lugar del café, siga produciendo un buen café.\n",
    "\n",
    "En ocasiones, es necesario calcular (matemáticamente) el dominio, porque no viene dado. Por ejemplo:\n",
    "\n",
    "Sea $D\\subset\\mathbb{R}$ y $f$ la función dada por:\n",
    "\n",
    "$$\n",
    "\\begin{equation}\n",
    "\\begin{split}\n",
    "f: & D & \\rightarrow\\mathbb{R}\\\\\n",
    " & x & \\rightarrow \\frac{1}{x}\n",
    "\\end{split}\n",
    "\\end{equation}\n",
    "$$\n",
    "\n",
    "En este caso no nos especifican qué conjunto es $D$, simplemente sabemos que es un subconjunto de $\\mathbb{R}$. Cuando esto ocurre, tendremos que suponer que $D$ es \"tan grande como sea posible\", es decir, que incluirá a todos los elementos que nos permita añadir la definición de $f$. Por ejemplo, en la función definida anteriormente, $f(x)=\\frac{1}{x}$, podremos sustituir $x$ por cualquier número real (como $f(\\pi)=1/\\pi$ o $f(\\sqrt{2})=1/\\sqrt{2}$), excepto por el 0 (no se puede dividir por 0). Entonces diremos que $D=\\mathbb{R}\\setminus\\{0\\}$.\n",
    "\n",
    "La entrada de una función no necesariamente ha de ser un elemento, puede ser una tupla o, incluso, un conjunto. Por ejemplo la función $\\text{card}:C\\rightarrow \\lvert C\\rvert$ cardinal recibe un conjunto como $C$ como entrada y devuelve un elemento de $\\mathbb{N}$ como salida (que se corresponde con el número de elementos de $C$)."
   ]
  },
  {
   "cell_type": "markdown",
   "metadata": {},
   "source": [
    "<div class=\"alert alert-success\">\n",
    "    <b>Ejercicio:</b> Implementar en Python la función $f:\\mathbb{R}\\times\\mathbb{Z}\\rightarrow\\mathbb{R}$ tal que $f(x, n) = x^n$.\n",
    "</div>"
   ]
  },
  {
   "cell_type": "code",
   "execution_count": null,
   "metadata": {},
   "outputs": [],
   "source": []
  },
  {
   "cell_type": "markdown",
   "metadata": {},
   "source": [
    "<hr style=\"height: 2px; background-color: #858585;\">"
   ]
  },
  {
   "cell_type": "markdown",
   "metadata": {},
   "source": [
    "## 2.- Comparación de funciones\n",
    "Como es lógico, es posible comparar funciones entre sí. Veamos cómo definimos la comparación de funciones:\n",
    "\n",
    "### 2.1.- Igualdad\n",
    "\n",
    "Diremos que dos funciones cualesquiera $f:A\\rightarrow B$ y $g:C\\rightarrow D$ son iguales si se cumple que:\n",
    "- Tienen el mismo dominio: $A=C$\n",
    "- Asignan las mismas imágenes: $\\forall x\\in A=C$ se tiene que $f(x)=g(x)$ (el símbolo $\\forall$ significa \"para todo\")\n",
    "\n",
    "Lamentablemente, en Python, dadas dos funciones no es posible utilizar el operador `==` para ver si dos funciones se comportan de la misma forma para cualquier entrada. Esto se debe a que sería necesario evaluar todas las entradas posibles (infinitas) y comprobar si son iguales. Sin embargo, si lo restringimos a un dominio finito podemos implementar la igualdad de funciones:"
   ]
  },
  {
   "cell_type": "code",
   "execution_count": 4,
   "metadata": {},
   "outputs": [],
   "source": [
    "#Implementamos la igualdad de funciones\n",
    "#En python, las funciones son objetos, por lo que pueden almacenarse en variables o pasarse como parámetros\n"
   ]
  },
  {
   "cell_type": "markdown",
   "metadata": {},
   "source": [
    "### 2.2.- Operadores de orden\n",
    "Para poder utilizar los operadores de orden ($<$, $>$, $\\leq$ o $\\geq$) entre dos funciones cualesquiera $f:A\\rightarrow B$ y $g:C\\rightarrow D$, será necesario que estos operadores se puedan utilizar entre los elementos de $B\\cup D$ (en matemáticas se expresa como que es necesario que exista un orden en el conjunto $B\\cup D$). Si esto se cumple, diremos que $f < g$ o que $f\\leq g$ si se cumple que:\n",
    "- Tienen el mismo dominio: $A = C$.\n",
    "- Las imágenes de $f$ son menores que las de $g$: $\\forall x\\in A=C$ $f(x) < g(x)$ (o $f(x)\\leq g(x)$)\n",
    "\n",
    "De nuevo, como ocurría con la igualdad, entre dos funciones no es posible utilizar los operadores `<`, `>`, `<=` ni `>=`. Sería posible implementarlo si nos restringimos a dominios finitos.\n",
    "\n",
    "## 3.- Funciones inyectivas, sobreyectivas y biyectivas\n",
    "Una función puede caracterizarse de distintas maneras. Una de ellas es por si es inyectiva, sobreyectiva o biyectiva. En esta sección veremos cada uno de estos conceptos.\n",
    "\n",
    "### 3.1.- Función inyectiva\n",
    "Una función $f:A\\rightarrow B$ es inyectiva si se cumple que:\n",
    "$$\n",
    "\\forall a_1, a_2\\in A\\quad f(a_1)=f(a_2)\\Rightarrow a_1=a_2\n",
    "$$\n",
    "\n",
    "Es decir, si del hecho de que dos imágenes sean iguales, podemos deducir que los elementos del dominio que generan esas imágenes son iguales. La idea es que en el dominio no puede haber dos o más elementos que produzcan la misma imagen.\n",
    "\n",
    "<img src=\"images/inyectivo.png\">\n",
    "\n",
    "Con conjuntos finitos, podemos comprobar que la función es inyectiva:"
   ]
  },
  {
   "cell_type": "code",
   "execution_count": 5,
   "metadata": {},
   "outputs": [],
   "source": [
    "#Implementamos la función esinyectiva\n"
   ]
  },
  {
   "cell_type": "markdown",
   "metadata": {},
   "source": [
    "Como puede observarse, la inyectividad no solo depende de la función, sino también del dominio.\n",
    "\n",
    "### 3.2.- Función sobreyectiva\n",
    "Una función $f:A\\rightarrow B$ es sobreyectiva (también llamado epiyectiva, suprayectiva, suryectiva, exhaustiva o subyectiva) si la imagen abarca todo el codominio. Formalmente, si se cumple:\n",
    "$$\n",
    "\\forall b\\in B\\quad\\exists a\\in A\\quad f(a)=b\n",
    "$$\n",
    "\n",
    "La idea, como se ha comentado, es que para todos los elementos del codominio existea un elemento del dominio que los genere.\n",
    "\n",
    "<img src=\"images/inyectivo.png\">\n",
    "\n",
    "### 3.3.- Función biyectiva\n",
    "Una función $f:A\\rightarrow B$ es biyectiva si es al mismo tiempo inyectiva y sobreyectiva, es decir, si todos los elementos del dominio tienen una imagen distinta en el codominio, y a cada elemento del codominio le correspondo un elemento del dominio.\n",
    "\n",
    "<img src=\"images/biyectiva.png\">\n",
    "\n",
    "Matemáticamente se puede condensar en una sola condición:\n",
    "$$\n",
    "\\forall b\\in B\\quad\\exists!a\\in A\\quad f(a) = b\n",
    "$$\n",
    "\n",
    "Las funciones biyectivas se utilizan en muchas ocasiones para demostrar que dos conjuntos tienen el mismo número de elementos.\n",
    "\n",
    "## 4.- Imagen inversa\n",
    "Sea $f:A\\rightarrow B$ una función, la imagen inversa (anti-imagen o preimagen) de un elemento $b\\in B$ es el conjunto de elementos del dominio $A$ que tienen a $b$ por imagen. Se denota por $f^{-1}(b)$. La definición matemática es la siguiente:\n",
    "$$\n",
    "f^{-1}(b) = \\{a:a\\in A\\land f(a)=b\\}\n",
    "$$\n",
    "\n",
    "Se puede razonar que, si $f$ es inyectiva la imagen inversa de cualquier elemento del codominio estará formada por un único elemento o será el conjunto vacío. Si $f$ es sobreyectiva, la preimagen de cualquier elemento del codominio no podrá ser el conjunto vacío.\n",
    "\n",
    "<img src=\"images/preimagen.png\">\n",
    "\n",
    "Calcular la imagen inversa en conjuntos infinitos puede ser un problema realmente complicado. No obstante, podemos calcular la imagen inversa de cualquier elemento del codominio cuando se trata de conjuntos finitos:"
   ]
  },
  {
   "cell_type": "code",
   "execution_count": 6,
   "metadata": {},
   "outputs": [],
   "source": [
    "#Implementamos la función iminversa\n"
   ]
  },
  {
   "cell_type": "markdown",
   "metadata": {},
   "source": [
    "## 5.- Composición de funciones\n",
    "\n",
    "<img src=\"images/composicion.png\" align = \"right\" width = 150>\n",
    "\n",
    "Dadas dos funciones, bajo ciertas condiciones podemos usar los valores de salida de una de ellas como valores de entrada para la otra, creando una nueva función.\n",
    "\n",
    "Sean dos funciones $f:A\\rightarrow B$ y $g:C\\rightarrow D$ tales que $\\text{Im}(f)\\subset C$, entonces la composición de g con f, denotada por $g\\circ f$, es la función $g\\circ f:A\\rightarrow D$ tal que a cada $a\\in A$ le asocia un elemento de $D$ obtenido a partir de $(g\\circ f)(a)=g(f(a))$.\n",
    "\n",
    "Es decir, la composición $g\\circ f$ hace actuar en primera instancia a la función $f$ sobre un elemento del dominio $A$. Esta, producirá una imagen $f(a)$ perteneciente al codominio $B$. Como la imagen de $f$ es un subconjunto de $C$ (por hipótesis inicial), $f(a)$ también será un elemento del dominio $C$ de la función $g$. Por lo tanto, esto garantiza que podemos utiliar $g$ sobre $f(a)$ para producir una imagen en el codominio final $D$. Los pasos serían:\n",
    "\n",
    "$$\n",
    "a\\in A \\rightarrow f(a)\\in B\\rightarrow g(f(a))\\in D\n",
    "$$\n",
    "\n",
    "En Python es sencillo componer funciones y sus resultados, pero podemos generar funciones compuestas utilizando la propiedad del lenguaje de estar absolutamente orientado a objetos y que, hasta las funciones, son objetos:"
   ]
  },
  {
   "cell_type": "code",
   "execution_count": 7,
   "metadata": {},
   "outputs": [],
   "source": [
    "#Definimos la función que eleva al cuadrado un número\n"
   ]
  },
  {
   "cell_type": "code",
   "execution_count": 8,
   "metadata": {},
   "outputs": [],
   "source": [
    "#Podemos definir una función composición\n"
   ]
  },
  {
   "cell_type": "markdown",
   "metadata": {},
   "source": [
    "En ocasiones, es posible obtener la ecuación de la nueva función composición. Por ejemplo si $f:\\mathbb{R}\\rightarrow\\mathbb{R}$ tal que $f(x)=1/x$  y $g:\\mathbb{R}\\rightarrow\\mathbb(R)$ tal que $g(y) = y^3 + y - 1$, es posible hacer la composición de $g$ con $f$ ya que la imagen de $f$ es un subconjunto de $\\mathbb{R}$ que es el dominio de $g$. Por lo tanto se tendrá que:\n",
    "\n",
    "$$\n",
    "(g\\circ f)(x) = g(f(x)) = g\\left(\\frac{1}{x}\\right)=\\left(\\frac{1}{x}\\right)^3+\\frac{1}{x}-1\n",
    "$$\n",
    "\n",
    "Téngase en cuenta que no siempre se podrá obtener una expresión que defina la composición.\n",
    "\n",
    "## 6.- Función identidad\n",
    "Sobre cualquier conjunto puede definirse una función identidad. La función identidad de un conjunto $A$ es aquella $id_A:A\\rightarrow A$ cuyo dominio y codominio son iguales y la imagen de un elemento es él mismo, en otras palabras, asocia cada elemento consigo mismo. Matemáticamente la función identidad de $A$ es aquella que cumple que:\n",
    "$$\n",
    "\\forall a\\in A\\quad id_A(a) = a\n",
    "$$\n",
    "En Python es muy sencillo implementarla:"
   ]
  },
  {
   "cell_type": "code",
   "execution_count": null,
   "metadata": {},
   "outputs": [],
   "source": []
  },
  {
   "cell_type": "markdown",
   "metadata": {},
   "source": [
    "Esta función es el elemento neutro con respecto a la composición de funciones, es decir, que para cualquier $f:A\\rightarrow B$ se cumple que:\n",
    "\n",
    "$$\n",
    "f\\circ id_A = f = id_B\\circ f\n",
    "$$\n",
    "\n",
    "## 7.- Función inversa\n",
    "Una función puede tener inversa (o recíproca), es decir, otra función que al componerla con ella resulte en la identidad, del mismo modo que un número multiplicado por su inverso da 1. Dada una función $f:A\\rightarrow B$ se dice que $g:B\\rightarrow A$ es la inversa o recíproca de $f$ si se cumple que:\n",
    "\n",
    "$$\n",
    "\\begin{equation}\n",
    "\\begin{split}\n",
    "f\\circ g & = & id_B\\\\\n",
    "g\\circ f & = & id_A\n",
    "\\end{split}\n",
    "\\end{equation}\n",
    "$$\n",
    "\n",
    "La inversa se denota por $g=f^{-1}$ y tanto $f$ como $f^{-1}$ se dice que son invertibles.\n",
    "\n",
    "No todas las funciones son invertibles, sino que solo aquellas que sean biyectivas poseen inversa.\n",
    "\n",
    "## 8.- Función hash\n",
    "\n",
    "### 8.1.- Definición\n",
    "Una *función hash* (o función resumen) es una función $h:U\\rightarrow M$ donde $U$ suele poseer un elevado número de elementos, mientras que $M$ es un conjunto de cadenas con un número acotado de símbolos (puede ser un conjunto definido de enteros). La idea básica de un valor *hash* es que sirva como una representación compacta del elemento de entrada. Por esta razón, se dice que estas funciones permiten resumir datos del conjunto dominio.\n",
    "\n",
    "No necesariamente ha de ser una función inyectiva (aunque si lo es se dice que es *perfecta*). De hecho, se dice que se produce una colisión cuando dos entradas disintas de la función producen la misma salida. Téngase en cuenta que el dominio de la función puede ser infinito. Sin embargo, el codominio, al ser cadenas con número de símbolos acotados es un conjunto finito.\n",
    "\n",
    "Una función hash debe tener un bajo coste computacional y de memoria, uniforme (para un elemento del dominio elegido aleatoriamente la probabilidad de tener un valor resumen u otro es la misma), determinista y resistente a colisiones.\n",
    "\n",
    "Además de su utilidad en criptografía, en los lenguajes de programación se utiliza para generar las *tablas hash* que nos permiten construir los conjuntos y los diccionarios."
   ]
  },
  {
   "cell_type": "code",
   "execution_count": 9,
   "metadata": {},
   "outputs": [],
   "source": [
    "#En Python existe la función hash que puede usarse con cualquier objeto inmutable:\n"
   ]
  },
  {
   "cell_type": "markdown",
   "metadata": {},
   "source": [
    "### 8.2.- Implementación de set()\n",
    "\n",
    "Como se vio en el ejercicio 8 del tema de conjuntos, si no dispusiéramos del operador `in` de Python, para saber si un elemento está en un conjunto de tamaño $n$, en el peor de los casos tendría que recorrer los $n$ elementos del conjunto. Esto es precisamente lo que ocurre con las listas. Cuando en Python se utiliza la expresión `elemento in lista` lo que se hace internamente es recorrer cada una de las posiciones de *lista* buscando *elemento*. Es decir, si la lista tiene un tamaño de 1.000.000, en el peor de los casos tendríamos que verificar 1.000.000 de elementos, lo cual tardaría considerablemente. En computación, se dice que esta operación tiene un coste $O(n)$ o lineal (o lo que es lo mismo, hay que recorrer todos los elementos en el peor de los casos.\n",
    "\n",
    "Sin embargo, esto no ocurre cuando usamos un `set`, veámoslo:"
   ]
  },
  {
   "cell_type": "code",
   "execution_count": 10,
   "metadata": {},
   "outputs": [],
   "source": [
    "#Calculemos el tiempo que se tarda en buscar un elemento en una lista muy grande\n"
   ]
  },
  {
   "cell_type": "code",
   "execution_count": 11,
   "metadata": {},
   "outputs": [],
   "source": [
    "#Calculemos el tiempo que se tarda en buscar un elemento en un conjunto igual de grande\n"
   ]
  },
  {
   "cell_type": "code",
   "execution_count": 12,
   "metadata": {},
   "outputs": [],
   "source": [
    "#Probamos con un conjunto el doble de grande\n"
   ]
  },
  {
   "cell_type": "markdown",
   "metadata": {},
   "source": [
    "¿Por qué ocurre esto? ¿Cómo se comprueba si un elemento está en un conjunto si no es verificando cada elemento? Pues para lograr que la búsqueda de un elemento sea tan rápida se utilizan las funciones hash. En una lista, como el orden de los elementos importa (y pueden estar desordenados), no se puede utilizar una función hash, pero en un conjunto sí (recordemos que es una colección desordenada de elementos únicos).\n",
    "\n",
    "El conjunto, internamente, se implementa \"como una lista\" (tiene ciertas modificaciones pero la idea es esa). Cuando se quiere insertar un elemento, para determinar la posición de la lista, se utilizará una función hash (por eso solo se pueden insertar elementos inmutables) que transformará el valor a guardar en un número. A continuación se usará este número como posición en la que se inserta el elemento. De esta forma, cuando se quiere comprobar si el elemento está en el conjunto, simplemente hace falta calcular la función hash de dicho elemento (que, como se ha dicho, una propiedad de la función hash es que se calcule rápidamente) y verificar en la posición correspondiente que nos devuelve la función resumen si está el elemento.\n",
    "\n",
    "<img src=\"images/hashtable.png\" width = 500>\n",
    "\n",
    "En caso de que haya colisiones (a dos elementos distintos les corresponda la misma posición), hay distintas estrategias como rellenar el primer hueco libre a partir de esa posición o que en lugar de una lista sea \"una lista de listas\" y en cada posición se puedan insertar más de un elemento. La estrategia que utilicemos determinará cómo luego buscaremos un elemento en el conjunto. Implementemos la clase `set` de manera sencilla (nuestro conjunto tendrá algunos problemas que para resolverlos requeriría una solución más compleja):"
   ]
  },
  {
   "cell_type": "code",
   "execution_count": 13,
   "metadata": {},
   "outputs": [],
   "source": [
    "#Implementaremos el conjunto como una lista de lista\n"
   ]
  },
  {
   "cell_type": "code",
   "execution_count": 14,
   "metadata": {},
   "outputs": [],
   "source": [
    "#Implementemos la función añadir un elemento (primero necesitaremos una función hash)\n",
    "#La función hash a utilizar será h(e) = hash(e) % 2096\n"
   ]
  },
  {
   "cell_type": "code",
   "execution_count": null,
   "metadata": {},
   "outputs": [],
   "source": []
  },
  {
   "cell_type": "code",
   "execution_count": 15,
   "metadata": {},
   "outputs": [],
   "source": [
    "#Implementamos el método para ver si un elemento pertenece al conjunto\n"
   ]
  },
  {
   "cell_type": "code",
   "execution_count": 16,
   "metadata": {},
   "outputs": [],
   "source": [
    "#Insertamos dos elementos que produzcan colisión\n"
   ]
  },
  {
   "cell_type": "code",
   "execution_count": null,
   "metadata": {},
   "outputs": [],
   "source": []
  },
  {
   "cell_type": "markdown",
   "metadata": {},
   "source": [
    "Como se observa, a cambio de ocupar un poco más de espacio en memoria, la clase `set` resulta mucho más eficiente que las listas cuando necesitamos una estructura de datos en la que poder insertar, eliminar y comprobar su pertenencia rápidamente. También hay que tener en cuenta que, entonces, renunciaríamos a establecer un orden entre los elementos (ya que el orden vendrá dado por la función hash."
   ]
  }
 ],
 "metadata": {
  "kernelspec": {
   "display_name": "Python 3",
   "language": "python",
   "name": "python3"
  },
  "language_info": {
   "codemirror_mode": {
    "name": "ipython",
    "version": 3
   },
   "file_extension": ".py",
   "mimetype": "text/x-python",
   "name": "python",
   "nbconvert_exporter": "python",
   "pygments_lexer": "ipython3",
   "version": "3.8.8"
  }
 },
 "nbformat": 4,
 "nbformat_minor": 4
}
