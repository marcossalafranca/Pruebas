{
 "cells": [
  {
   "cell_type": "markdown",
   "metadata": {},
   "source": [
    "# Tensores"
   ]
  },
  {
   "cell_type": "markdown",
   "metadata": {},
   "source": [
    "## 10.1 - ¿Qué son los tensores?\n",
    "\n",
    "\n",
    "Un **tensor** es una generalización de vectores y matrices y se entiende fácilmente como una matriz multidimensional. A partir de esta definición podemos extrapolar que: \n",
    "\n",
    "- Un vector es un tensor unidimensional o de primer orden\n",
    "- Una matriz es un tensor bidimensional o de segundo orden.  \n",
    "\n",
    "<img src=\"Images/tensores.png\" width=40%/>\n",
    "\n",
    "La notación tensorial es muy parecida a la notación matricial con una letra mayúscula que representa un tensor y letras minúsculas con enteros subíndices que representan valores escalares dentro del tensor.  \n",
    "\n",
    "$\n",
    " T =\n",
    "  \\left( {\\begin{array}{cc}\n",
    "   t111, t121, t131 \\\\  \n",
    "   t211, t221, t231 \\\\  \n",
    "   t311, t321, t331 \\\\  \n",
    "  \\end{array} } \\right) ,\n",
    "  \\left( {\\begin{array}{cc}\n",
    "   t112, t122, t132 \\\\  \n",
    "   t212, t222, t232 \\\\  \n",
    "   t312, t322, t332 \\\\  \n",
    "  \\end{array} } \\right) ,\n",
    "  \\left( {\\begin{array}{cc}\n",
    "   t113, t123, t133 \\\\  \n",
    "   t213, t223, t233 \\\\  \n",
    "   t313, t323, t333 \\\\  \n",
    "  \\end{array} } \\right) \n",
    "$  \n",
    "\n",
    "Muchas de las operaciones que se pueden realizar con escalares, vectores y matrices se pueden reformular para que se realicen con tensores.  \n",
    "\n",
    "Como herramienta, los tensores y el álgebra tensorial se usan ampliamente en los campos de la física y la ingeniería. Al igual que los vectores y matrices, los tensores se pueden representar en Python usando la matriz N-dimensional (ndarray).  \n",
    "\n",
    "Un tensor se puede definir como una lista de listas.\n",
    "\n",
    "<div class=\"alert alert-success\">\n",
    "    Un tensor de 3x3x3 en Python<br>\n",
    "    Primero definimos filas, luego una lista de filas apiladas como columnas, luego una lista de columnas apiladas como niveles en un cubo.\n",
    "</div> \n",
    "\n",
    "         "
   ]
  },
  {
   "cell_type": "code",
   "execution_count": null,
   "metadata": {},
   "outputs": [],
   "source": [
    "import numpy as np\n",
    "\n",
    "T = np.array([[[1,2,3], [4,5,6], [7,8,9]], \n",
    "              [[11,12,13], [14,15,16], [17,18,19]],\n",
    "              [[21,22,23], [24,25,26], [27,28,29]]])\n",
    "\n",
    "print(T.shape)\n",
    "print(T)"
   ]
  },
  {
   "cell_type": "markdown",
   "metadata": {},
   "source": [
    "Podemos acceder a sus valores:"
   ]
  },
  {
   "cell_type": "code",
   "execution_count": null,
   "metadata": {},
   "outputs": [],
   "source": []
  },
  {
   "cell_type": "markdown",
   "metadata": {},
   "source": [
    "## 10.2 - Suma de tensores\n",
    "\n",
    "La adición de dos tensores con las mismas dimensiones produce un nuevo tensor con las mismas dimensiones donde cada valor escalar es la adición de los escalares en los tensores padres.  \n",
    "\n",
    "\n",
    "$\n",
    "  A =\n",
    "  \\left( {\\begin{array}{cc}\n",
    "   a111, a121, a131 \\\\  \n",
    "   a211, a221, a231 \\\\  \n",
    "  \\end{array} } \\right) ,\n",
    "  \\left( {\\begin{array}{cc}\n",
    "   a112, a122, a132 \\\\  \n",
    "   a112, a122, a132 \\\\  \n",
    "  \\end{array} } \\right)\n",
    "$   \n",
    "\n",
    "$\n",
    "  B =\n",
    "  \\left( {\\begin{array}{cc}\n",
    "   b111, b121, t131 \\\\  \n",
    "   b211, t221, t231 \\\\  \n",
    "  \\end{array} } \\right) ,\n",
    "  \\left( {\\begin{array}{cc}\n",
    "   b112, b122, b132 \\\\  \n",
    "   b112, b122, b132 \\\\  \n",
    "  \\end{array} } \\right)\n",
    "$  \n",
    "\n",
    "$\n",
    "  A + B =\n",
    "  \\left( {\\begin{array}{cc}\n",
    "   a111 + b111, a121 + b121, a131 + b131 \\\\  \n",
    "   a211 + b211, a221 + b221, a231 + b231 \\\\  \n",
    "  \\end{array} } \\right) ,\n",
    "  \\left( {\\begin{array}{cc}\n",
    "   a112 + b112, a122 + b122, a132 + b132 \\\\  \n",
    "   a112 + b112, a122 + b122, a132 + b132 \\\\  \n",
    "  \\end{array} } \\right) , \n",
    "$   \n",
    "\n",
    "En `numpy`, podemos agregar tensores directamente agregando matrices."
   ]
  },
  {
   "cell_type": "code",
   "execution_count": null,
   "metadata": {},
   "outputs": [],
   "source": [
    "A = np.array([[[1,2,3],    [4,5,6],    [7,8,9]],\n",
    "              [[11,12,13], [14,15,16], [17,18,19]],\n",
    "              [[21,22,23], [24,25,26], [27,28,29]]\n",
    "             ])\n",
    "\n",
    "B = np.array([[[1,2,3],    [4,5,6],    [7,8,9]],\n",
    "              [[11,12,13], [14,15,16], [17,18,19]],\n",
    "              [[21,22,23], [24,25,26], [27,28,29]]])"
   ]
  },
  {
   "cell_type": "code",
   "execution_count": null,
   "metadata": {},
   "outputs": [],
   "source": [
    "A = np.array([[[1,2,3],    [4,5,6],    [7,8,9]],\n",
    "              [[11,12,13], [14,15,16], [17,18,19]],\n",
    "              [[21,22,23], [24,25,26], [27,28,29]]\n",
    "             ])\n",
    "\n",
    "B = np.array([[[1,2,3],    [4,5,6],    [7,8,9]],\n",
    "              [[11,12,13], [14,15,16], [17,18,19]],\n",
    "              [[21,22,23], [24,25,26], [27,28,29]]])"
   ]
  },
  {
   "cell_type": "markdown",
   "metadata": {},
   "source": [
    "## 10.3 - Producto de tensores Hadamard\n",
    "\n",
    "La multiplicación por elementos de un tensor con otro tensor con las mismas dimensiones da como resultado un nuevo tensor con las mismas dimensiones donde cada valor escalar es la multiplicación por elementos de los escalares en los tensores padres.  \n",
    "\n",
    "La operación se conoce como Producto Hadamard para diferenciarla de la multiplicación tensorial. Aquí, utilizaremos el operador \"o\" para indicar el funcionamiento del producto Hadamard entre tensores.  \n",
    "\n",
    "$\n",
    "  A =\n",
    "  \\left( {\\begin{array}{cc}\n",
    "   a111, a121, a131 \\\\  \n",
    "   a211, a221, a231 \\\\  \n",
    "  \\end{array} } \\right) ,\n",
    "  \\left( {\\begin{array}{cc}\n",
    "   a112, a122, a132 \\\\  \n",
    "   a112, a122, a132 \\\\  \n",
    "  \\end{array} } \\right) \n",
    "$   \n",
    "\n",
    "$\n",
    "  B =\n",
    "  \\left( {\\begin{array}{cc}\n",
    "   b111, b121, t131 \\\\  \n",
    "   b211, t221, t231 \\\\  \n",
    "  \\end{array} } \\right) ,\n",
    "  \\left( {\\begin{array}{cc}\n",
    "   b112, b122, b132 \\\\  \n",
    "   b112, b122, b132 \\\\  \n",
    "  \\end{array} } \\right)\n",
    "$  \n",
    "\n",
    "$\n",
    "  A o B =\n",
    "  \\left( {\\begin{array}{cc}\n",
    "   a111 * b111, a121 * b121, a131 * b131 \\\\  \n",
    "   a211 * b211, a221 * b221, a231 * b231 \\\\  \n",
    "  \\end{array} } \\right) ,\n",
    "  \\left( {\\begin{array}{cc}\n",
    "   a112 * b112, a122 * b122, a132 * b132 \\\\  \n",
    "   a112 * b112, a122 * b122, a132 * b132 \\\\  \n",
    "  \\end{array} } \\right) , \n",
    "$  "
   ]
  },
  {
   "cell_type": "code",
   "execution_count": null,
   "metadata": {},
   "outputs": [],
   "source": [
    "A = np.array([[[1,2,3],    [4,5,6],    [7,8,9]],\n",
    "              [[11,12,13], [14,15,16], [17,18,19]],\n",
    "              [[21,22,23], [24,25,26], [27,28,29]]\n",
    "             ])\n",
    "\n",
    "B = np.array([[[1,2,3],    [4,5,6],    [7,8,9]],\n",
    "              [[11,12,13], [14,15,16], [17,18,19]],\n",
    "              [[21,22,23], [24,25,26], [27,28,29]]])"
   ]
  },
  {
   "cell_type": "markdown",
   "metadata": {},
   "source": [
    "Si cambiamos las dimensiones de uno de los tensores"
   ]
  },
  {
   "cell_type": "code",
   "execution_count": null,
   "metadata": {},
   "outputs": [],
   "source": [
    "A = np.array([[[1,2,3],    [4,5,6]],\n",
    "              [[11,12,13], [14,15,16]],\n",
    "              [[21,22,23], [24,25,26]]\n",
    "             ])\n",
    "\n",
    "B = np.array([[[1,2,3],    [4,5,6],    [7,8,9]],\n",
    "              [[11,12,13], [14,15,16], [17,18,19]],\n",
    "              [[21,22,23], [24,25,26], [27,28,29]]])"
   ]
  },
  {
   "cell_type": "markdown",
   "metadata": {},
   "source": [
    "## 10.4 - División de tensores\n",
    "\n",
    "$\n",
    "  A =\n",
    "  \\left( {\\begin{array}{cc}\n",
    "   a111, a121, a131 \\\\  \n",
    "   a211, a221, a231 \\\\  \n",
    "  \\end{array} } \\right) ,\n",
    "  \\left( {\\begin{array}{cc}\n",
    "   a112, a122, a132 \\\\  \n",
    "   a112, a122, a132 \\\\  \n",
    "  \\end{array} } \\right) \n",
    "$   \n",
    "\n",
    "$\n",
    "  B =\n",
    "  \\left( {\\begin{array}{cc}\n",
    "   b111, b121, t131 \\\\  \n",
    "   b211, t221, t231 \\\\  \n",
    "  \\end{array} } \\right) ,\n",
    "  \\left( {\\begin{array}{cc}\n",
    "   b112, b122, b132 \\\\  \n",
    "   b112, b122, b132 \\\\  \n",
    "  \\end{array} } \\right) \n",
    "$  \n",
    "\n",
    "$\n",
    "  A / B =\n",
    "  \\left( {\\begin{array}{cc}\n",
    "   \\frac{a111}{b111}, \\frac{a121}{b121}, \\frac{a131}{b131} \\\\  \n",
    "   \\frac{a211}{b211}, \\frac{a221}{b221}, \\frac{a231}{b231} \\\\  \n",
    "  \\end{array} } \\right) ,\n",
    "  \\left( {\\begin{array}{cc}\n",
    "   \\frac{a112}{b112}, \\frac{a122}{b122}, \\frac{a132}{b132} \\\\  \n",
    "   \\frac{a112}{b112}, \\frac{a122}{b122}, \\frac{a132}{b132} \\\\  \n",
    "  \\end{array} } \\right) , \n",
    "$"
   ]
  },
  {
   "cell_type": "code",
   "execution_count": null,
   "metadata": {},
   "outputs": [],
   "source": [
    "A = np.array([[[1,2,3],    [4,5,6],    [7,8,9]],\n",
    "              [[11,12,13], [14,15,16], [17,18,19]],\n",
    "              [[21,22,23], [24,25,26], [27,28,29]]\n",
    "             ])\n",
    "\n",
    "B = np.array([[[1,2,3],    [4,5,6],    [7,8,9]],\n",
    "              [[11,12,13], [14,15,16], [17,18,19]],\n",
    "              [[21,22,23], [24,25,26], [27,28,29]]])"
   ]
  },
  {
   "cell_type": "markdown",
   "metadata": {},
   "source": [
    "## 10.5 - Producto tensor\n",
    "\n",
    "El operador del producto tensor a menudo se denota como un círculo con una pequeña x en el centro $\\otimes$.\n",
    "\n",
    "Dado un tensor $A$ con $q$ dimensiones y tensor $B$ con $r$ dimensiones, el producto de estos tensores será un nuevo tensor con $q + r$ dimensiones.\n",
    "\n",
    "El producto tensor no se limita a tensores, sino que también se puede realizar en matrices y vectores, que pueden ser un buen lugar para practicar con el fin de desarrollar la intuición para dimensiones superiores.\n",
    "\n",
    "### Producto tensor para vectores\n",
    "\n",
    "$a = (a1, a2)$<br>\n",
    "$b = (b1, b2)$<br>\n",
    "$c = a \\otimes b$<br>\n",
    "\n",
    "$\n",
    "  c =\n",
    "  \\left( {\\begin{array}{cc}\n",
    "   a1 * [b1, b2] \\\\  \n",
    "   a2 * [b1, b2] \\\\  \n",
    "  \\end{array} } \\right) =\n",
    "  \\left( {\\begin{array}{cc}\n",
    "   a1 * b1, a1 * b2 \\\\  \n",
    "   a2 * b1, a2 * b2 \\\\  \n",
    "  \\end{array} } \\right)  \n",
    "$   \n",
    "\n",
    "### Producto tensor para matrices\n",
    "\n",
    "$ A =\n",
    "  \\left( {\\begin{array}{cc}\n",
    "   a11, a12 \\\\  \n",
    "   a21, a22 \\\\  \n",
    "  \\end{array} } \\right)\n",
    "$  \n",
    "\n",
    "$ B =\n",
    "  \\left( {\\begin{array}{cc}\n",
    "   b11, b12 \\\\  \n",
    "   b21, b22 \\\\  \n",
    "  \\end{array} } \\right)\n",
    "$  \n",
    "\n",
    "$C = A \\otimes B$<br>\n",
    " \n",
    "$ C =\n",
    "  \\left( {\\begin{array}{cc}\n",
    "   a11*\\left( {\\begin{array}{cc}\n",
    "           b11, b12 \\\\  \n",
    "           b21, b22 \\\\  \n",
    "          \\end{array} } \\right), a12 *\\left( {\\begin{array}{cc}\n",
    "           b11, b12 \\\\  \n",
    "           b21, b22 \\\\  \n",
    "          \\end{array} } \\right) \\\\  \n",
    "   a21*\\left( {\\begin{array}{cc}\n",
    "           b11, b12 \\\\  \n",
    "           b21, b22 \\\\  \n",
    "          \\end{array} } \\right), a22 *\\left( {\\begin{array}{cc}\n",
    "           b11, b12 \\\\  \n",
    "           b21, b22 \\\\  \n",
    "          \\end{array} } \\right) \\\\ \n",
    "  \\end{array} } \\right) =\n",
    "  \\left( {\\begin{array}{cc}\n",
    "   a11 * b11, a11 * b12, a12 * b11, a12 * b12 \\\\  \n",
    "   a11 * b21, a11 * b22, a12 * b21, a12 * b22 \\\\ \n",
    "   a21 * b11, a21 * b12, a22 * b11, a22 * b12 \\\\ \n",
    "   a21 * b21, a21 * b22, a22 * b21, a22 * b22 \\\\ \n",
    "  \\end{array} } \\right) \n",
    "$   \n",
    "\n",
    "`Numpy` puede realizar el producto tensor usando la función `tensordot`. La función toma como argumentos **los dos tensores a multiplicar** y **el eje sobre el que se suman los productos**, llamada `sum reduction`. Para calcular el producto tensor, también llamado producto de punto tensor en `numpy`, el eje debe establecerse en 0."
   ]
  },
  {
   "cell_type": "code",
   "execution_count": null,
   "metadata": {},
   "outputs": [],
   "source": []
  },
  {
   "cell_type": "markdown",
   "metadata": {},
   "source": [
    "## 10.6 - Tensores con TensorFlow\n",
    "\n",
    "Vamos a ver algunos pequeños ejemplos sobre tensores usando `tensorflow`"
   ]
  },
  {
   "cell_type": "code",
   "execution_count": null,
   "metadata": {},
   "outputs": [],
   "source": [
    "import tensorflow as tf\n",
    "import numpy as np"
   ]
  },
  {
   "cell_type": "markdown",
   "metadata": {},
   "source": [
    "Con `tf.constant()` generamos un escalar de tipo `int32`"
   ]
  },
  {
   "cell_type": "code",
   "execution_count": null,
   "metadata": {},
   "outputs": [],
   "source": []
  },
  {
   "cell_type": "markdown",
   "metadata": {},
   "source": [
    "Podemos crear un vector (1 axis):"
   ]
  },
  {
   "cell_type": "code",
   "execution_count": null,
   "metadata": {},
   "outputs": [],
   "source": []
  },
  {
   "cell_type": "markdown",
   "metadata": {},
   "source": [
    "Con 2 axis:"
   ]
  },
  {
   "cell_type": "code",
   "execution_count": null,
   "metadata": {},
   "outputs": [],
   "source": []
  },
  {
   "cell_type": "markdown",
   "metadata": {},
   "source": [
    "<img src=\"Images/tensors.png\" width=80%/>\n",
    "\n",
    "Con más axis:"
   ]
  },
  {
   "cell_type": "code",
   "execution_count": null,
   "metadata": {},
   "outputs": [],
   "source": []
  },
  {
   "cell_type": "markdown",
   "metadata": {},
   "source": [
    "Hay muchas formas de visualizar un tensor con 3 axis:\n",
    "\n",
    "<img src=\"Images/tensors_3axis.png\" width=80%/>\n",
    "\n",
    "Con `np.array()` podemos convertir un `tensor` a una variable de `numpy`"
   ]
  },
  {
   "cell_type": "code",
   "execution_count": null,
   "metadata": {},
   "outputs": [],
   "source": []
  },
  {
   "cell_type": "code",
   "execution_count": null,
   "metadata": {},
   "outputs": [],
   "source": []
  },
  {
   "cell_type": "markdown",
   "metadata": {},
   "source": [
    "Podemos realizar operaciones básicas:"
   ]
  },
  {
   "cell_type": "code",
   "execution_count": null,
   "metadata": {},
   "outputs": [],
   "source": []
  },
  {
   "cell_type": "code",
   "execution_count": null,
   "metadata": {},
   "outputs": [],
   "source": [
    "# Suma\n"
   ]
  },
  {
   "cell_type": "code",
   "execution_count": null,
   "metadata": {},
   "outputs": [],
   "source": [
    "# Multiplicación - elemento a elemento\n"
   ]
  },
  {
   "cell_type": "code",
   "execution_count": null,
   "metadata": {},
   "outputs": [],
   "source": [
    "# Multiplicación matricial\n"
   ]
  },
  {
   "cell_type": "markdown",
   "metadata": {},
   "source": [
    "O usando los siguientes operadores:"
   ]
  },
  {
   "cell_type": "code",
   "execution_count": null,
   "metadata": {},
   "outputs": [],
   "source": [
    "# Suma\n"
   ]
  },
  {
   "cell_type": "code",
   "execution_count": null,
   "metadata": {},
   "outputs": [],
   "source": [
    "# Multiplicación - elemento a elemento\n"
   ]
  },
  {
   "cell_type": "code",
   "execution_count": null,
   "metadata": {},
   "outputs": [],
   "source": [
    "# Multiplicación matricial\n"
   ]
  },
  {
   "cell_type": "markdown",
   "metadata": {},
   "source": [
    "Otro tipo de operaciones muy usadas son:\n",
    "\n",
    "- `tf.reduce_max()` para encontrar el valor más grande\n",
    "- `tf.argmax()` para encontrar el índice del valor más grande"
   ]
  },
  {
   "cell_type": "code",
   "execution_count": null,
   "metadata": {},
   "outputs": [],
   "source": []
  }
 ],
 "metadata": {
  "kernelspec": {
   "display_name": "Python 3",
   "language": "python",
   "name": "python3"
  },
  "language_info": {
   "codemirror_mode": {
    "name": "ipython",
    "version": 3
   },
   "file_extension": ".py",
   "mimetype": "text/x-python",
   "name": "python",
   "nbconvert_exporter": "python",
   "pygments_lexer": "ipython3",
   "version": "3.8.8"
  }
 },
 "nbformat": 4,
 "nbformat_minor": 2
}
